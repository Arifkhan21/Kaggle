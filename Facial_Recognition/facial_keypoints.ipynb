{
 "cells": [
  {
   "cell_type": "markdown",
   "metadata": {},
   "source": [
    "# Facial Keypoints Recognition\n",
    "## Using Sequential Neural Network"
   ]
  },
  {
   "cell_type": "code",
   "execution_count": 116,
   "metadata": {
    "collapsed": false
   },
   "outputs": [],
   "source": [
    "import pandas as pd\n",
    "import numpy as np\n",
    "from keras.models import Sequential\n",
    "from keras.layers import Dense, Activation,Dropout\n",
    "import csv as csv"
   ]
  },
  {
   "cell_type": "code",
   "execution_count": 78,
   "metadata": {
    "collapsed": false
   },
   "outputs": [],
   "source": [
    "## Bringing in the data and cleaning it up\n",
    "test = '/home/najeeb/Desktop/Dataset/Facial_Keypoints_Recog/training.csv'\n",
    "train = '/home/najeeb/Desktop/Dataset/Facial_Keypoints_Recog/test.csv'\n",
    "df = pd.read_csv(test)"
   ]
  },
  {
   "cell_type": "code",
   "execution_count": 79,
   "metadata": {
    "collapsed": false
   },
   "outputs": [
    {
     "data": {
      "text/plain": [
       "1687   NaN\n",
       "1834   NaN\n",
       "1866   NaN\n",
       "1938   NaN\n",
       "2100   NaN\n",
       "2137   NaN\n",
       "2153   NaN\n",
       "2175   NaN\n",
       "2186   NaN\n",
       "2239   NaN\n",
       "Name: left_eye_center_x, dtype: float64"
      ]
     },
     "execution_count": 79,
     "metadata": {},
     "output_type": "execute_result"
    }
   ],
   "source": [
    "df.loc[df['left_eye_center_x'].isnull(),'left_eye_center_x']\n",
    "## A total of 10 are null in case of the left_eye_center_x"
   ]
  },
  {
   "cell_type": "code",
   "execution_count": 80,
   "metadata": {
    "collapsed": false
   },
   "outputs": [
    {
     "name": "stdout",
     "output_type": "stream",
     "text": [
      "<class 'pandas.core.frame.DataFrame'>\n",
      "Int64Index: 2140 entries, 0 to 2283\n",
      "Data columns (total 31 columns):\n",
      "left_eye_center_x            2140 non-null float64\n",
      "left_eye_center_y            2140 non-null float64\n",
      "right_eye_center_x           2140 non-null float64\n",
      "right_eye_center_y           2140 non-null float64\n",
      "left_eye_inner_corner_x      2140 non-null float64\n",
      "left_eye_inner_corner_y      2140 non-null float64\n",
      "left_eye_outer_corner_x      2140 non-null float64\n",
      "left_eye_outer_corner_y      2140 non-null float64\n",
      "right_eye_inner_corner_x     2140 non-null float64\n",
      "right_eye_inner_corner_y     2140 non-null float64\n",
      "right_eye_outer_corner_x     2140 non-null float64\n",
      "right_eye_outer_corner_y     2140 non-null float64\n",
      "left_eyebrow_inner_end_x     2140 non-null float64\n",
      "left_eyebrow_inner_end_y     2140 non-null float64\n",
      "left_eyebrow_outer_end_x     2140 non-null float64\n",
      "left_eyebrow_outer_end_y     2140 non-null float64\n",
      "right_eyebrow_inner_end_x    2140 non-null float64\n",
      "right_eyebrow_inner_end_y    2140 non-null float64\n",
      "right_eyebrow_outer_end_x    2140 non-null float64\n",
      "right_eyebrow_outer_end_y    2140 non-null float64\n",
      "nose_tip_x                   2140 non-null float64\n",
      "nose_tip_y                   2140 non-null float64\n",
      "mouth_left_corner_x          2140 non-null float64\n",
      "mouth_left_corner_y          2140 non-null float64\n",
      "mouth_right_corner_x         2140 non-null float64\n",
      "mouth_right_corner_y         2140 non-null float64\n",
      "mouth_center_top_lip_x       2140 non-null float64\n",
      "mouth_center_top_lip_y       2140 non-null float64\n",
      "mouth_center_bottom_lip_x    2140 non-null float64\n",
      "mouth_center_bottom_lip_y    2140 non-null float64\n",
      "Image                        2140 non-null object\n",
      "dtypes: float64(30), object(1)\n",
      "memory usage: 535.0+ KB\n"
     ]
    }
   ],
   "source": [
    "df = df.dropna()\n",
    "df.info()"
   ]
  },
  {
   "cell_type": "code",
   "execution_count": 81,
   "metadata": {
    "collapsed": false
   },
   "outputs": [
    {
     "data": {
      "text/plain": [
       "0    238 236 237 238 240 240 239 241 241 243 240 23...\n",
       "1    219 215 204 196 204 211 212 200 180 168 178 19...\n",
       "2    144 142 159 180 188 188 184 180 167 132 84 59 ...\n",
       "3    193 192 193 194 194 194 193 192 168 111 50 12 ...\n",
       "4    147 148 160 196 215 214 216 217 219 220 206 18...\n",
       "Name: Image, dtype: object"
      ]
     },
     "execution_count": 81,
     "metadata": {},
     "output_type": "execute_result"
    }
   ],
   "source": [
    "df['Image'].head()"
   ]
  },
  {
   "cell_type": "code",
   "execution_count": 82,
   "metadata": {
    "collapsed": false
   },
   "outputs": [],
   "source": [
    "df['Image'] = df['Image'].apply(lambda im: np.fromstring(im, sep=' '))"
   ]
  },
  {
   "cell_type": "code",
   "execution_count": 83,
   "metadata": {
    "collapsed": false
   },
   "outputs": [
    {
     "name": "stdout",
     "output_type": "stream",
     "text": [
      "[[ 0.93333334  0.9254902   0.92941177 ...,  0.27450982  0.29411766\n",
      "   0.35294119]\n",
      " [ 0.85882354  0.84313726  0.80000001 ...,  0.00392157  0.00392157\n",
      "   0.00392157]\n",
      " [ 0.56470591  0.55686277  0.62352943 ...,  0.30588236  0.30588236\n",
      "   0.3019608 ]\n",
      " ..., \n",
      " [ 0.12156863  0.15686275  0.18431373 ...,  0.15294118  0.2         0.29411766]\n",
      " [ 0.02745098  0.00392157  0.01960784 ...,  0.7019608   0.69411767\n",
      "   0.22352941]\n",
      " [ 0.26666668  0.07450981  0.07450981 ...,  0.49019608  0.48627451\n",
      "   0.46666667]]\n",
      "(2140, 9216)\n"
     ]
    }
   ],
   "source": [
    "df['Image'].head()\n",
    "X = np.vstack(df['Image'].values)/255\n",
    "X = X.astype(np.float32)\n",
    "print X\n",
    "print np.shape(X)"
   ]
  },
  {
   "cell_type": "code",
   "execution_count": 84,
   "metadata": {
    "collapsed": false
   },
   "outputs": [
    {
     "name": "stdout",
     "output_type": "stream",
     "text": [
      "(2140, 30)\n"
     ]
    }
   ],
   "source": [
    "y = df[df.columns[:-1]].values\n",
    "y = y.astype(np.float32)\n",
    "print np.shape(y)"
   ]
  },
  {
   "cell_type": "code",
   "execution_count": 87,
   "metadata": {
    "collapsed": false
   },
   "outputs": [],
   "source": [
    "model = Sequential([\n",
    "        Dense(32,input_dim = 9216),\n",
    "        Activation('relu'),\n",
    "        Dense(32),\n",
    "        Activation('relu'),\n",
    "        Dense(30),\n",
    "        Activation('relu'),\n",
    "    ])"
   ]
  },
  {
   "cell_type": "code",
   "execution_count": 89,
   "metadata": {
    "collapsed": false
   },
   "outputs": [],
   "source": [
    "model.compile(optimizer='adadelta',loss='categorical_crossentropy',metrics=['accuracy'])"
   ]
  },
  {
   "cell_type": "code",
   "execution_count": 92,
   "metadata": {
    "collapsed": false
   },
   "outputs": [
    {
     "data": {
      "text/plain": [
       "<keras.callbacks.History at 0x7f990aa3f190>"
      ]
     },
     "execution_count": 92,
     "metadata": {},
     "output_type": "execute_result"
    }
   ],
   "source": [
    "model.fit(X,y,nb_epoch=300,batch_size=32,verbose=0)"
   ]
  },
  {
   "cell_type": "code",
   "execution_count": 94,
   "metadata": {
    "collapsed": false
   },
   "outputs": [],
   "source": [
    "model.save_weights('/home/najeeb/Desktop/Dataset/Facial_Keypoints_Recog/Weights.hdf5')"
   ]
  },
  {
   "cell_type": "code",
   "execution_count": 95,
   "metadata": {
    "collapsed": false
   },
   "outputs": [
    {
     "name": "stdout",
     "output_type": "stream",
     "text": [
      "____________________________________________________________________________________________________\n",
      "Layer (type)                       Output Shape        Param #     Connected to                     \n",
      "====================================================================================================\n",
      "dense_2 (Dense)                    (None, 32)          294944      dense_input_1[0][0]              \n",
      "____________________________________________________________________________________________________\n",
      "activation_1 (Activation)          (None, 32)          0           dense_2[0][0]                    \n",
      "____________________________________________________________________________________________________\n",
      "dense_3 (Dense)                    (None, 32)          1056        activation_1[0][0]               \n",
      "____________________________________________________________________________________________________\n",
      "activation_2 (Activation)          (None, 32)          0           dense_3[0][0]                    \n",
      "____________________________________________________________________________________________________\n",
      "dense_4 (Dense)                    (None, 30)          990         activation_2[0][0]               \n",
      "____________________________________________________________________________________________________\n",
      "activation_3 (Activation)          (None, 30)          0           dense_4[0][0]                    \n",
      "====================================================================================================\n",
      "Total params: 296990\n",
      "____________________________________________________________________________________________________\n"
     ]
    }
   ],
   "source": [
    "model.summary()"
   ]
  },
  {
   "cell_type": "code",
   "execution_count": 104,
   "metadata": {
    "collapsed": false
   },
   "outputs": [
    {
     "name": "stdout",
     "output_type": "stream",
     "text": [
      "<class 'pandas.core.frame.DataFrame'>\n",
      "RangeIndex: 7049 entries, 0 to 7048\n",
      "Data columns (total 31 columns):\n",
      "left_eye_center_x            7039 non-null float64\n",
      "left_eye_center_y            7039 non-null float64\n",
      "right_eye_center_x           7036 non-null float64\n",
      "right_eye_center_y           7036 non-null float64\n",
      "left_eye_inner_corner_x      2271 non-null float64\n",
      "left_eye_inner_corner_y      2271 non-null float64\n",
      "left_eye_outer_corner_x      2267 non-null float64\n",
      "left_eye_outer_corner_y      2267 non-null float64\n",
      "right_eye_inner_corner_x     2268 non-null float64\n",
      "right_eye_inner_corner_y     2268 non-null float64\n",
      "right_eye_outer_corner_x     2268 non-null float64\n",
      "right_eye_outer_corner_y     2268 non-null float64\n",
      "left_eyebrow_inner_end_x     2270 non-null float64\n",
      "left_eyebrow_inner_end_y     2270 non-null float64\n",
      "left_eyebrow_outer_end_x     2225 non-null float64\n",
      "left_eyebrow_outer_end_y     2225 non-null float64\n",
      "right_eyebrow_inner_end_x    2270 non-null float64\n",
      "right_eyebrow_inner_end_y    2270 non-null float64\n",
      "right_eyebrow_outer_end_x    2236 non-null float64\n",
      "right_eyebrow_outer_end_y    2236 non-null float64\n",
      "nose_tip_x                   7049 non-null float64\n",
      "nose_tip_y                   7049 non-null float64\n",
      "mouth_left_corner_x          2269 non-null float64\n",
      "mouth_left_corner_y          2269 non-null float64\n",
      "mouth_right_corner_x         2270 non-null float64\n",
      "mouth_right_corner_y         2270 non-null float64\n",
      "mouth_center_top_lip_x       2275 non-null float64\n",
      "mouth_center_top_lip_y       2275 non-null float64\n",
      "mouth_center_bottom_lip_x    7016 non-null float64\n",
      "mouth_center_bottom_lip_y    7016 non-null float64\n",
      "Image                        7049 non-null object\n",
      "dtypes: float64(30), object(1)\n",
      "memory usage: 1.7+ MB\n"
     ]
    }
   ],
   "source": [
    "## Bringing in the test set\n",
    "df_test = pd.read_csv(test)\n",
    "df_test.info()"
   ]
  },
  {
   "cell_type": "code",
   "execution_count": 105,
   "metadata": {
    "collapsed": true
   },
   "outputs": [],
   "source": [
    "df_test = df_test.dropna()"
   ]
  },
  {
   "cell_type": "code",
   "execution_count": 106,
   "metadata": {
    "collapsed": false
   },
   "outputs": [
    {
     "name": "stdout",
     "output_type": "stream",
     "text": [
      "<class 'pandas.core.frame.DataFrame'>\n",
      "Int64Index: 2140 entries, 0 to 2283\n",
      "Data columns (total 31 columns):\n",
      "left_eye_center_x            2140 non-null float64\n",
      "left_eye_center_y            2140 non-null float64\n",
      "right_eye_center_x           2140 non-null float64\n",
      "right_eye_center_y           2140 non-null float64\n",
      "left_eye_inner_corner_x      2140 non-null float64\n",
      "left_eye_inner_corner_y      2140 non-null float64\n",
      "left_eye_outer_corner_x      2140 non-null float64\n",
      "left_eye_outer_corner_y      2140 non-null float64\n",
      "right_eye_inner_corner_x     2140 non-null float64\n",
      "right_eye_inner_corner_y     2140 non-null float64\n",
      "right_eye_outer_corner_x     2140 non-null float64\n",
      "right_eye_outer_corner_y     2140 non-null float64\n",
      "left_eyebrow_inner_end_x     2140 non-null float64\n",
      "left_eyebrow_inner_end_y     2140 non-null float64\n",
      "left_eyebrow_outer_end_x     2140 non-null float64\n",
      "left_eyebrow_outer_end_y     2140 non-null float64\n",
      "right_eyebrow_inner_end_x    2140 non-null float64\n",
      "right_eyebrow_inner_end_y    2140 non-null float64\n",
      "right_eyebrow_outer_end_x    2140 non-null float64\n",
      "right_eyebrow_outer_end_y    2140 non-null float64\n",
      "nose_tip_x                   2140 non-null float64\n",
      "nose_tip_y                   2140 non-null float64\n",
      "mouth_left_corner_x          2140 non-null float64\n",
      "mouth_left_corner_y          2140 non-null float64\n",
      "mouth_right_corner_x         2140 non-null float64\n",
      "mouth_right_corner_y         2140 non-null float64\n",
      "mouth_center_top_lip_x       2140 non-null float64\n",
      "mouth_center_top_lip_y       2140 non-null float64\n",
      "mouth_center_bottom_lip_x    2140 non-null float64\n",
      "mouth_center_bottom_lip_y    2140 non-null float64\n",
      "Image                        2140 non-null object\n",
      "dtypes: float64(30), object(1)\n",
      "memory usage: 535.0+ KB\n"
     ]
    }
   ],
   "source": [
    "df_test.info()"
   ]
  },
  {
   "cell_type": "code",
   "execution_count": 191,
   "metadata": {
    "collapsed": false
   },
   "outputs": [
    {
     "data": {
      "text/html": [
       "<div>\n",
       "<table border=\"1\" class=\"dataframe\">\n",
       "  <thead>\n",
       "    <tr style=\"text-align: right;\">\n",
       "      <th></th>\n",
       "      <th>left_eye_center_x</th>\n",
       "      <th>left_eye_center_y</th>\n",
       "      <th>right_eye_center_x</th>\n",
       "      <th>right_eye_center_y</th>\n",
       "      <th>left_eye_inner_corner_x</th>\n",
       "      <th>left_eye_inner_corner_y</th>\n",
       "      <th>left_eye_outer_corner_x</th>\n",
       "      <th>left_eye_outer_corner_y</th>\n",
       "      <th>right_eye_inner_corner_x</th>\n",
       "      <th>right_eye_inner_corner_y</th>\n",
       "      <th>...</th>\n",
       "      <th>nose_tip_y</th>\n",
       "      <th>mouth_left_corner_x</th>\n",
       "      <th>mouth_left_corner_y</th>\n",
       "      <th>mouth_right_corner_x</th>\n",
       "      <th>mouth_right_corner_y</th>\n",
       "      <th>mouth_center_top_lip_x</th>\n",
       "      <th>mouth_center_top_lip_y</th>\n",
       "      <th>mouth_center_bottom_lip_x</th>\n",
       "      <th>mouth_center_bottom_lip_y</th>\n",
       "      <th>Image</th>\n",
       "    </tr>\n",
       "  </thead>\n",
       "  <tbody>\n",
       "    <tr>\n",
       "      <th>0</th>\n",
       "      <td>66.033564</td>\n",
       "      <td>39.002274</td>\n",
       "      <td>30.227008</td>\n",
       "      <td>36.421678</td>\n",
       "      <td>59.582075</td>\n",
       "      <td>39.647423</td>\n",
       "      <td>73.130346</td>\n",
       "      <td>39.969997</td>\n",
       "      <td>36.356571</td>\n",
       "      <td>37.389402</td>\n",
       "      <td>...</td>\n",
       "      <td>57.066803</td>\n",
       "      <td>61.195308</td>\n",
       "      <td>79.970165</td>\n",
       "      <td>28.614496</td>\n",
       "      <td>77.388992</td>\n",
       "      <td>43.312602</td>\n",
       "      <td>72.935459</td>\n",
       "      <td>43.130707</td>\n",
       "      <td>84.485774</td>\n",
       "      <td>[238.0, 236.0, 237.0, 238.0, 240.0, 240.0, 239...</td>\n",
       "    </tr>\n",
       "    <tr>\n",
       "      <th>1</th>\n",
       "      <td>64.332936</td>\n",
       "      <td>34.970077</td>\n",
       "      <td>29.949277</td>\n",
       "      <td>33.448715</td>\n",
       "      <td>58.856170</td>\n",
       "      <td>35.274349</td>\n",
       "      <td>70.722723</td>\n",
       "      <td>36.187166</td>\n",
       "      <td>36.034723</td>\n",
       "      <td>34.361532</td>\n",
       "      <td>...</td>\n",
       "      <td>55.660936</td>\n",
       "      <td>56.421447</td>\n",
       "      <td>76.352000</td>\n",
       "      <td>35.122383</td>\n",
       "      <td>76.047660</td>\n",
       "      <td>46.684596</td>\n",
       "      <td>70.266553</td>\n",
       "      <td>45.467915</td>\n",
       "      <td>85.480170</td>\n",
       "      <td>[219.0, 215.0, 204.0, 196.0, 204.0, 211.0, 212...</td>\n",
       "    </tr>\n",
       "    <tr>\n",
       "      <th>2</th>\n",
       "      <td>65.057053</td>\n",
       "      <td>34.909642</td>\n",
       "      <td>30.903789</td>\n",
       "      <td>34.909642</td>\n",
       "      <td>59.412000</td>\n",
       "      <td>36.320968</td>\n",
       "      <td>70.984421</td>\n",
       "      <td>36.320968</td>\n",
       "      <td>37.678105</td>\n",
       "      <td>36.320968</td>\n",
       "      <td>...</td>\n",
       "      <td>53.538947</td>\n",
       "      <td>60.822947</td>\n",
       "      <td>73.014316</td>\n",
       "      <td>33.726316</td>\n",
       "      <td>72.732000</td>\n",
       "      <td>47.274947</td>\n",
       "      <td>70.191789</td>\n",
       "      <td>47.274947</td>\n",
       "      <td>78.659368</td>\n",
       "      <td>[144.0, 142.0, 159.0, 180.0, 188.0, 188.0, 184...</td>\n",
       "    </tr>\n",
       "    <tr>\n",
       "      <th>3</th>\n",
       "      <td>65.225739</td>\n",
       "      <td>37.261774</td>\n",
       "      <td>32.023096</td>\n",
       "      <td>37.261774</td>\n",
       "      <td>60.003339</td>\n",
       "      <td>39.127179</td>\n",
       "      <td>72.314713</td>\n",
       "      <td>38.380967</td>\n",
       "      <td>37.618643</td>\n",
       "      <td>38.754115</td>\n",
       "      <td>...</td>\n",
       "      <td>54.166539</td>\n",
       "      <td>65.598887</td>\n",
       "      <td>72.703722</td>\n",
       "      <td>37.245496</td>\n",
       "      <td>74.195478</td>\n",
       "      <td>50.303165</td>\n",
       "      <td>70.091687</td>\n",
       "      <td>51.561183</td>\n",
       "      <td>78.268383</td>\n",
       "      <td>[193.0, 192.0, 193.0, 194.0, 194.0, 194.0, 193...</td>\n",
       "    </tr>\n",
       "    <tr>\n",
       "      <th>4</th>\n",
       "      <td>66.725301</td>\n",
       "      <td>39.621261</td>\n",
       "      <td>32.244810</td>\n",
       "      <td>38.042032</td>\n",
       "      <td>58.565890</td>\n",
       "      <td>39.621261</td>\n",
       "      <td>72.515926</td>\n",
       "      <td>39.884466</td>\n",
       "      <td>36.982380</td>\n",
       "      <td>39.094852</td>\n",
       "      <td>...</td>\n",
       "      <td>64.889521</td>\n",
       "      <td>60.671411</td>\n",
       "      <td>77.523239</td>\n",
       "      <td>31.191755</td>\n",
       "      <td>76.997301</td>\n",
       "      <td>44.962748</td>\n",
       "      <td>73.707387</td>\n",
       "      <td>44.227141</td>\n",
       "      <td>86.871166</td>\n",
       "      <td>[147.0, 148.0, 160.0, 196.0, 215.0, 214.0, 216...</td>\n",
       "    </tr>\n",
       "  </tbody>\n",
       "</table>\n",
       "<p>5 rows × 31 columns</p>\n",
       "</div>"
      ],
      "text/plain": [
       "   left_eye_center_x  left_eye_center_y  right_eye_center_x  \\\n",
       "0          66.033564          39.002274           30.227008   \n",
       "1          64.332936          34.970077           29.949277   \n",
       "2          65.057053          34.909642           30.903789   \n",
       "3          65.225739          37.261774           32.023096   \n",
       "4          66.725301          39.621261           32.244810   \n",
       "\n",
       "   right_eye_center_y  left_eye_inner_corner_x  left_eye_inner_corner_y  \\\n",
       "0           36.421678                59.582075                39.647423   \n",
       "1           33.448715                58.856170                35.274349   \n",
       "2           34.909642                59.412000                36.320968   \n",
       "3           37.261774                60.003339                39.127179   \n",
       "4           38.042032                58.565890                39.621261   \n",
       "\n",
       "   left_eye_outer_corner_x  left_eye_outer_corner_y  right_eye_inner_corner_x  \\\n",
       "0                73.130346                39.969997                 36.356571   \n",
       "1                70.722723                36.187166                 36.034723   \n",
       "2                70.984421                36.320968                 37.678105   \n",
       "3                72.314713                38.380967                 37.618643   \n",
       "4                72.515926                39.884466                 36.982380   \n",
       "\n",
       "   right_eye_inner_corner_y  \\\n",
       "0                 37.389402   \n",
       "1                 34.361532   \n",
       "2                 36.320968   \n",
       "3                 38.754115   \n",
       "4                 39.094852   \n",
       "\n",
       "                         ...                          nose_tip_y  \\\n",
       "0                        ...                           57.066803   \n",
       "1                        ...                           55.660936   \n",
       "2                        ...                           53.538947   \n",
       "3                        ...                           54.166539   \n",
       "4                        ...                           64.889521   \n",
       "\n",
       "   mouth_left_corner_x  mouth_left_corner_y  mouth_right_corner_x  \\\n",
       "0            61.195308            79.970165             28.614496   \n",
       "1            56.421447            76.352000             35.122383   \n",
       "2            60.822947            73.014316             33.726316   \n",
       "3            65.598887            72.703722             37.245496   \n",
       "4            60.671411            77.523239             31.191755   \n",
       "\n",
       "   mouth_right_corner_y  mouth_center_top_lip_x  mouth_center_top_lip_y  \\\n",
       "0             77.388992               43.312602               72.935459   \n",
       "1             76.047660               46.684596               70.266553   \n",
       "2             72.732000               47.274947               70.191789   \n",
       "3             74.195478               50.303165               70.091687   \n",
       "4             76.997301               44.962748               73.707387   \n",
       "\n",
       "   mouth_center_bottom_lip_x  mouth_center_bottom_lip_y  \\\n",
       "0                  43.130707                  84.485774   \n",
       "1                  45.467915                  85.480170   \n",
       "2                  47.274947                  78.659368   \n",
       "3                  51.561183                  78.268383   \n",
       "4                  44.227141                  86.871166   \n",
       "\n",
       "                                               Image  \n",
       "0  [238.0, 236.0, 237.0, 238.0, 240.0, 240.0, 239...  \n",
       "1  [219.0, 215.0, 204.0, 196.0, 204.0, 211.0, 212...  \n",
       "2  [144.0, 142.0, 159.0, 180.0, 188.0, 188.0, 184...  \n",
       "3  [193.0, 192.0, 193.0, 194.0, 194.0, 194.0, 193...  \n",
       "4  [147.0, 148.0, 160.0, 196.0, 215.0, 214.0, 216...  \n",
       "\n",
       "[5 rows x 31 columns]"
      ]
     },
     "execution_count": 191,
     "metadata": {},
     "output_type": "execute_result"
    }
   ],
   "source": [
    "df_test.head()"
   ]
  },
  {
   "cell_type": "code",
   "execution_count": 108,
   "metadata": {
    "collapsed": false
   },
   "outputs": [
    {
     "data": {
      "text/plain": [
       "0       [238.0, 236.0, 237.0, 238.0, 240.0, 240.0, 239...\n",
       "1       [219.0, 215.0, 204.0, 196.0, 204.0, 211.0, 212...\n",
       "2       [144.0, 142.0, 159.0, 180.0, 188.0, 188.0, 184...\n",
       "3       [193.0, 192.0, 193.0, 194.0, 194.0, 194.0, 193...\n",
       "4       [147.0, 148.0, 160.0, 196.0, 215.0, 214.0, 216...\n",
       "5       [167.0, 169.0, 170.0, 167.0, 156.0, 145.0, 106...\n",
       "6       [109.0, 109.0, 125.0, 141.0, 145.0, 139.0, 120...\n",
       "7       [178.0, 177.0, 178.0, 179.0, 179.0, 179.0, 181...\n",
       "8       [164.0, 158.0, 118.0, 76.0, 66.0, 69.0, 59.0, ...\n",
       "9       [226.0, 227.0, 225.0, 224.0, 221.0, 220.0, 215...\n",
       "10      [52.0, 51.0, 54.0, 57.0, 57.0, 56.0, 55.0, 55....\n",
       "11      [142.0, 124.0, 123.0, 133.0, 140.0, 147.0, 151...\n",
       "12      [86.0, 93.0, 106.0, 114.0, 112.0, 110.0, 111.0...\n",
       "13      [75.0, 65.0, 63.0, 75.0, 70.0, 78.0, 84.0, 97....\n",
       "14      [119.0, 106.0, 101.0, 106.0, 89.0, 66.0, 67.0,...\n",
       "15      [52.0, 54.0, 74.0, 76.0, 55.0, 48.0, 47.0, 41....\n",
       "16      [201.0, 200.0, 202.0, 193.0, 124.0, 59.0, 53.0...\n",
       "17      [202.0, 201.0, 201.0, 202.0, 201.0, 200.0, 200...\n",
       "18      [181.0, 182.0, 182.0, 181.0, 182.0, 184.0, 186...\n",
       "19      [64.0, 56.0, 53.0, 51.0, 57.0, 74.0, 85.0, 86....\n",
       "20      [240.0, 240.0, 240.0, 239.0, 235.0, 233.0, 231...\n",
       "21      [245.0, 245.0, 245.0, 252.0, 210.0, 95.0, 46.0...\n",
       "22      [185.0, 185.0, 187.0, 185.0, 184.0, 184.0, 184...\n",
       "23      [241.0, 241.0, 241.0, 240.0, 241.0, 239.0, 235...\n",
       "24      [109.0, 106.0, 57.0, 10.0, 11.0, 18.0, 17.0, 1...\n",
       "25      [254.0, 254.0, 254.0, 254.0, 254.0, 254.0, 254...\n",
       "26      [5.0, 2.0, 5.0, 9.0, 10.0, 5.0, 6.0, 8.0, 4.0,...\n",
       "27      [196.0, 195.0, 192.0, 192.0, 191.0, 191.0, 189...\n",
       "28      [177.0, 175.0, 176.0, 175.0, 177.0, 177.0, 176...\n",
       "29      [160.0, 157.0, 159.0, 152.0, 143.0, 160.0, 176...\n",
       "                              ...                        \n",
       "2251    [90.0, 89.0, 88.0, 86.0, 84.0, 89.0, 86.0, 85....\n",
       "2252    [14.0, 15.0, 18.0, 6.0, 5.0, 13.0, 10.0, 14.0,...\n",
       "2253    [36.0, 35.0, 45.0, 45.0, 35.0, 56.0, 31.0, 36....\n",
       "2254    [183.0, 188.0, 137.0, 49.0, 37.0, 40.0, 35.0, ...\n",
       "2255    [177.0, 192.0, 201.0, 214.0, 164.0, 78.0, 82.0...\n",
       "2256    [50.0, 43.0, 32.0, 29.0, 32.0, 27.0, 28.0, 39....\n",
       "2257    [14.0, 8.0, 6.0, 10.0, 14.0, 13.0, 5.0, 4.0, 6...\n",
       "2258    [6.0, 8.0, 2.0, 5.0, 3.0, 3.0, 11.0, 17.0, 15....\n",
       "2259    [21.0, 24.0, 15.0, 10.0, 23.0, 17.0, 21.0, 21....\n",
       "2260    [209.0, 201.0, 193.0, 193.0, 190.0, 177.0, 178...\n",
       "2261    [5.0, 6.0, 7.0, 8.0, 7.0, 11.0, 10.0, 10.0, 13...\n",
       "2262    [38.0, 37.0, 42.0, 41.0, 37.0, 33.0, 26.0, 30....\n",
       "2263    [8.0, 8.0, 8.0, 7.0, 7.0, 10.0, 11.0, 11.0, 11...\n",
       "2264    [159.0, 154.0, 155.0, 150.0, 155.0, 169.0, 140...\n",
       "2266    [26.0, 13.0, 13.0, 13.0, 12.0, 13.0, 13.0, 13....\n",
       "2267    [129.0, 70.0, 27.0, 31.0, 24.0, 21.0, 16.0, 20...\n",
       "2268    [8.0, 9.0, 11.0, 15.0, 13.0, 11.0, 11.0, 11.0,...\n",
       "2269    [7.0, 8.0, 12.0, 11.0, 12.0, 26.0, 31.0, 27.0,...\n",
       "2270    [42.0, 25.0, 27.0, 26.0, 29.0, 30.0, 23.0, 22....\n",
       "2271    [64.0, 74.0, 83.0, 76.0, 70.0, 64.0, 80.0, 70....\n",
       "2272    [8.0, 8.0, 9.0, 9.0, 8.0, 8.0, 7.0, 7.0, 7.0, ...\n",
       "2273    [1.0, 3.0, 2.0, 2.0, 2.0, 1.0, 3.0, 2.0, 4.0, ...\n",
       "2274    [0.0, 0.0, 0.0, 0.0, 0.0, 0.0, 0.0, 1.0, 1.0, ...\n",
       "2275    [34.0, 52.0, 54.0, 52.0, 44.0, 35.0, 37.0, 33....\n",
       "2276    [31.0, 30.0, 24.0, 21.0, 24.0, 22.0, 17.0, 18....\n",
       "2277    [191.0, 191.0, 191.0, 190.0, 189.0, 185.0, 184...\n",
       "2278    [19.0, 19.0, 19.0, 18.0, 13.0, 7.0, 3.0, 4.0, ...\n",
       "2281    [31.0, 40.0, 47.0, 31.0, 54.0, 58.0, 63.0, 100...\n",
       "2282    [7.0, 1.0, 5.0, 1.0, 3.0, 20.0, 12.0, 0.0, 5.0...\n",
       "2283    [68.0, 19.0, 19.0, 23.0, 19.0, 26.0, 23.0, 16....\n",
       "Name: Image, dtype: object"
      ]
     },
     "execution_count": 108,
     "metadata": {},
     "output_type": "execute_result"
    }
   ],
   "source": [
    "df_test['Image'] = df_test['Image'].apply(lambda im: np.fromstring(im,sep=' '))\n",
    "df_test['Image']"
   ]
  },
  {
   "cell_type": "code",
   "execution_count": 109,
   "metadata": {
    "collapsed": true
   },
   "outputs": [],
   "source": [
    "X_test = np.vstack(df_test['Image'].values)/255"
   ]
  },
  {
   "cell_type": "code",
   "execution_count": 110,
   "metadata": {
    "collapsed": false
   },
   "outputs": [
    {
     "name": "stdout",
     "output_type": "stream",
     "text": [
      "[[ 0.93333333  0.9254902   0.92941176 ...,  0.2745098   0.29411765\n",
      "   0.35294118]\n",
      " [ 0.85882353  0.84313725  0.8        ...,  0.00392157  0.00392157\n",
      "   0.00392157]\n",
      " [ 0.56470588  0.55686275  0.62352941 ...,  0.30588235  0.30588235\n",
      "   0.30196078]\n",
      " ..., \n",
      " [ 0.12156863  0.15686275  0.18431373 ...,  0.15294118  0.2         0.29411765]\n",
      " [ 0.02745098  0.00392157  0.01960784 ...,  0.70196078  0.69411765\n",
      "   0.22352941]\n",
      " [ 0.26666667  0.0745098   0.0745098  ...,  0.49019608  0.48627451\n",
      "   0.46666667]]\n"
     ]
    }
   ],
   "source": [
    "print X_test"
   ]
  },
  {
   "cell_type": "code",
   "execution_count": 113,
   "metadata": {
    "collapsed": false
   },
   "outputs": [],
   "source": [
    "yPred = model.predict(X_test,batch_size=32,verbose = 0)"
   ]
  },
  {
   "cell_type": "code",
   "execution_count": 115,
   "metadata": {
    "collapsed": false
   },
   "outputs": [
    {
     "name": "stdout",
     "output_type": "stream",
     "text": [
      "[[  3.34259949e+01   1.97897434e+01   1.51078339e+01 ...,   3.67100372e+01\n",
      "    4.46991180e-07   4.39787560e+01]\n",
      " [  3.00902672e+01   1.66357117e+01   1.38675346e+01 ...,   3.27805176e+01\n",
      "    4.46991180e-07   3.89620285e+01]\n",
      " [  2.46143112e+01   1.36378517e+01   1.18450251e+01 ...,   2.51203461e+01\n",
      "    4.46991180e-07   2.84663925e+01]\n",
      " ..., \n",
      " [  2.80107460e+01   1.55158195e+01   1.22009945e+01 ...,   2.95710869e+01\n",
      "    4.46991180e-07   3.30432625e+01]\n",
      " [  2.97198906e+01   1.42825623e+01   1.26685743e+01 ...,   3.47833824e+01\n",
      "    4.46991180e-07   3.78018494e+01]\n",
      " [  2.64405022e+01   1.40586891e+01   1.20079231e+01 ...,   3.01630783e+01\n",
      "    4.46991180e-07   3.22979050e+01]]\n",
      "(2140, 30)\n"
     ]
    }
   ],
   "source": [
    "print yPred\n",
    "print np.shape(yPred)"
   ]
  },
  {
   "cell_type": "code",
   "execution_count": 215,
   "metadata": {
    "collapsed": true
   },
   "outputs": [],
   "source": [
    "for i in range(np.shape(yPred)[0]):\n",
    "    for j in range(np.shape(yPred)[1]):\n",
    "        if yPred[i][j] < 0:\n",
    "            yPred[i][j] = 0.0"
   ]
  },
  {
   "cell_type": "code",
   "execution_count": 216,
   "metadata": {
    "collapsed": true
   },
   "outputs": [],
   "source": [
    "## Writing the data into a csv file\n",
    "fp = open('submission.csv',\"w\")\n",
    "p = csv.writer(fp)\n",
    "fp_lookup = open('/home/najeeb/Desktop/Dataset/Facial_Keypoints_Recog/IdLookupTable.csv',\"r\")\n",
    "lookup = csv.reader(fp_lookup)\n",
    "header = lookup.next()"
   ]
  },
  {
   "cell_type": "code",
   "execution_count": 217,
   "metadata": {
    "collapsed": false
   },
   "outputs": [
    {
     "name": "stdout",
     "output_type": "stream",
     "text": [
      "30\n"
     ]
    }
   ],
   "source": [
    "features = []\n",
    "for feature in df_test.columns[:]:\n",
    "    features.append(feature)\n",
    "features.pop(-1)\n",
    "print len(features)"
   ]
  },
  {
   "cell_type": "code",
   "execution_count": 218,
   "metadata": {
    "collapsed": true
   },
   "outputs": [],
   "source": [
    "## Creating a dictionary of features\n",
    "h = dict((w,i) for i,w in enumerate(features))"
   ]
  },
  {
   "cell_type": "code",
   "execution_count": 219,
   "metadata": {
    "collapsed": false
   },
   "outputs": [],
   "source": [
    "p.writerow(['RowId','Location'])\n",
    "for row in lookup:\n",
    "    p.writerow([row[0],yPred[int(row[1])][h[row[2]]]])\n",
    "fp.close()\n",
    "fp_lookup.close()"
   ]
  },
  {
   "cell_type": "code",
   "execution_count": null,
   "metadata": {
    "collapsed": false
   },
   "outputs": [],
   "source": []
  },
  {
   "cell_type": "code",
   "execution_count": null,
   "metadata": {
    "collapsed": true
   },
   "outputs": [],
   "source": []
  }
 ],
 "metadata": {
  "kernelspec": {
   "display_name": "Python 2",
   "language": "python",
   "name": "python2"
  },
  "language_info": {
   "codemirror_mode": {
    "name": "ipython",
    "version": 2
   },
   "file_extension": ".py",
   "mimetype": "text/x-python",
   "name": "python",
   "nbconvert_exporter": "python",
   "pygments_lexer": "ipython2",
   "version": "2.7.11"
  }
 },
 "nbformat": 4,
 "nbformat_minor": 0
}
