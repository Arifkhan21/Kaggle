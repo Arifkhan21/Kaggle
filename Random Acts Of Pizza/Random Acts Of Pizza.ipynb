{
 "cells": [
  {
   "cell_type": "markdown",
   "metadata": {},
   "source": [
    "## Random Acts of Pizza"
   ]
  },
  {
   "cell_type": "code",
   "execution_count": 1,
   "metadata": {
    "collapsed": false
   },
   "outputs": [
    {
     "name": "stdout",
     "output_type": "stream",
     "text": [
      "Populating the interactive namespace from numpy and matplotlib\n"
     ]
    }
   ],
   "source": [
    "import pandas as pd\n",
    "import numpy as np\n",
    "import matplotlib.pyplot as plt\n",
    "import seaborn as sns\n",
    "%pylab inline"
   ]
  },
  {
   "cell_type": "code",
   "execution_count": 2,
   "metadata": {
    "collapsed": true
   },
   "outputs": [],
   "source": [
    "from pylab import rcParams\n",
    "rcParams['figure.figsize'] = 20,10"
   ]
  },
  {
   "cell_type": "code",
   "execution_count": 3,
   "metadata": {
    "collapsed": true
   },
   "outputs": [],
   "source": [
    "data = pd.read_json('../../Dataset/Random Acts Of Pizza/train.json')"
   ]
  },
  {
   "cell_type": "code",
   "execution_count": 4,
   "metadata": {
    "collapsed": false
   },
   "outputs": [
    {
     "data": {
      "text/html": [
       "<div>\n",
       "<table border=\"1\" class=\"dataframe\">\n",
       "  <thead>\n",
       "    <tr style=\"text-align: right;\">\n",
       "      <th></th>\n",
       "      <th>giver_username_if_known</th>\n",
       "      <th>number_of_downvotes_of_request_at_retrieval</th>\n",
       "      <th>number_of_upvotes_of_request_at_retrieval</th>\n",
       "      <th>post_was_edited</th>\n",
       "      <th>request_id</th>\n",
       "      <th>request_number_of_comments_at_retrieval</th>\n",
       "      <th>request_text</th>\n",
       "      <th>request_text_edit_aware</th>\n",
       "      <th>request_title</th>\n",
       "      <th>requester_account_age_in_days_at_request</th>\n",
       "      <th>...</th>\n",
       "      <th>requester_received_pizza</th>\n",
       "      <th>requester_subreddits_at_request</th>\n",
       "      <th>requester_upvotes_minus_downvotes_at_request</th>\n",
       "      <th>requester_upvotes_minus_downvotes_at_retrieval</th>\n",
       "      <th>requester_upvotes_plus_downvotes_at_request</th>\n",
       "      <th>requester_upvotes_plus_downvotes_at_retrieval</th>\n",
       "      <th>requester_user_flair</th>\n",
       "      <th>requester_username</th>\n",
       "      <th>unix_timestamp_of_request</th>\n",
       "      <th>unix_timestamp_of_request_utc</th>\n",
       "    </tr>\n",
       "  </thead>\n",
       "  <tbody>\n",
       "    <tr>\n",
       "      <th>0</th>\n",
       "      <td>N/A</td>\n",
       "      <td>0</td>\n",
       "      <td>1</td>\n",
       "      <td>0</td>\n",
       "      <td>t3_l25d7</td>\n",
       "      <td>0</td>\n",
       "      <td>Hi I am in need of food for my 4 children we a...</td>\n",
       "      <td>Hi I am in need of food for my 4 children we a...</td>\n",
       "      <td>Request Colorado Springs Help Us Please</td>\n",
       "      <td>0.000000</td>\n",
       "      <td>...</td>\n",
       "      <td>False</td>\n",
       "      <td>[]</td>\n",
       "      <td>0</td>\n",
       "      <td>1</td>\n",
       "      <td>0</td>\n",
       "      <td>1</td>\n",
       "      <td>None</td>\n",
       "      <td>nickylvst</td>\n",
       "      <td>1317852607</td>\n",
       "      <td>1317849007</td>\n",
       "    </tr>\n",
       "    <tr>\n",
       "      <th>1</th>\n",
       "      <td>N/A</td>\n",
       "      <td>2</td>\n",
       "      <td>5</td>\n",
       "      <td>0</td>\n",
       "      <td>t3_rcb83</td>\n",
       "      <td>0</td>\n",
       "      <td>I spent the last money I had on gas today. Im ...</td>\n",
       "      <td>I spent the last money I had on gas today. Im ...</td>\n",
       "      <td>[Request] California, No cash and I could use ...</td>\n",
       "      <td>501.111100</td>\n",
       "      <td>...</td>\n",
       "      <td>False</td>\n",
       "      <td>[AskReddit, Eve, IAmA, MontereyBay, RandomKind...</td>\n",
       "      <td>34</td>\n",
       "      <td>4258</td>\n",
       "      <td>116</td>\n",
       "      <td>11168</td>\n",
       "      <td>None</td>\n",
       "      <td>fohacidal</td>\n",
       "      <td>1332652424</td>\n",
       "      <td>1332648824</td>\n",
       "    </tr>\n",
       "    <tr>\n",
       "      <th>2</th>\n",
       "      <td>N/A</td>\n",
       "      <td>0</td>\n",
       "      <td>3</td>\n",
       "      <td>0</td>\n",
       "      <td>t3_lpu5j</td>\n",
       "      <td>0</td>\n",
       "      <td>My girlfriend decided it would be a good idea ...</td>\n",
       "      <td>My girlfriend decided it would be a good idea ...</td>\n",
       "      <td>[Request] Hungry couple in Dundee, Scotland wo...</td>\n",
       "      <td>0.000000</td>\n",
       "      <td>...</td>\n",
       "      <td>False</td>\n",
       "      <td>[]</td>\n",
       "      <td>0</td>\n",
       "      <td>3</td>\n",
       "      <td>0</td>\n",
       "      <td>3</td>\n",
       "      <td>None</td>\n",
       "      <td>jacquibatman7</td>\n",
       "      <td>1319650094</td>\n",
       "      <td>1319646494</td>\n",
       "    </tr>\n",
       "    <tr>\n",
       "      <th>3</th>\n",
       "      <td>N/A</td>\n",
       "      <td>0</td>\n",
       "      <td>1</td>\n",
       "      <td>1</td>\n",
       "      <td>t3_mxvj3</td>\n",
       "      <td>4</td>\n",
       "      <td>It's cold, I'n hungry, and to be completely ho...</td>\n",
       "      <td>It's cold, I'n hungry, and to be completely ho...</td>\n",
       "      <td>[Request] In Canada (Ontario), just got home f...</td>\n",
       "      <td>6.518438</td>\n",
       "      <td>...</td>\n",
       "      <td>False</td>\n",
       "      <td>[AskReddit, DJs, IAmA, Random_Acts_Of_Pizza]</td>\n",
       "      <td>54</td>\n",
       "      <td>59</td>\n",
       "      <td>76</td>\n",
       "      <td>81</td>\n",
       "      <td>None</td>\n",
       "      <td>4on_the_floor</td>\n",
       "      <td>1322855434</td>\n",
       "      <td>1322855434</td>\n",
       "    </tr>\n",
       "    <tr>\n",
       "      <th>4</th>\n",
       "      <td>N/A</td>\n",
       "      <td>6</td>\n",
       "      <td>6</td>\n",
       "      <td>0</td>\n",
       "      <td>t3_1i6486</td>\n",
       "      <td>5</td>\n",
       "      <td>hey guys:\\n I love this sub. I think it's grea...</td>\n",
       "      <td>hey guys:\\n I love this sub. I think it's grea...</td>\n",
       "      <td>[Request] Old friend coming to visit. Would LO...</td>\n",
       "      <td>162.063252</td>\n",
       "      <td>...</td>\n",
       "      <td>False</td>\n",
       "      <td>[GayBrosWeightLoss, RandomActsOfCookies, Rando...</td>\n",
       "      <td>1121</td>\n",
       "      <td>1225</td>\n",
       "      <td>1733</td>\n",
       "      <td>1887</td>\n",
       "      <td>None</td>\n",
       "      <td>Futuredogwalker</td>\n",
       "      <td>1373657691</td>\n",
       "      <td>1373654091</td>\n",
       "    </tr>\n",
       "  </tbody>\n",
       "</table>\n",
       "<p>5 rows × 32 columns</p>\n",
       "</div>"
      ],
      "text/plain": [
       "  giver_username_if_known  number_of_downvotes_of_request_at_retrieval  \\\n",
       "0                     N/A                                            0   \n",
       "1                     N/A                                            2   \n",
       "2                     N/A                                            0   \n",
       "3                     N/A                                            0   \n",
       "4                     N/A                                            6   \n",
       "\n",
       "   number_of_upvotes_of_request_at_retrieval  post_was_edited request_id  \\\n",
       "0                                          1                0   t3_l25d7   \n",
       "1                                          5                0   t3_rcb83   \n",
       "2                                          3                0   t3_lpu5j   \n",
       "3                                          1                1   t3_mxvj3   \n",
       "4                                          6                0  t3_1i6486   \n",
       "\n",
       "   request_number_of_comments_at_retrieval  \\\n",
       "0                                        0   \n",
       "1                                        0   \n",
       "2                                        0   \n",
       "3                                        4   \n",
       "4                                        5   \n",
       "\n",
       "                                        request_text  \\\n",
       "0  Hi I am in need of food for my 4 children we a...   \n",
       "1  I spent the last money I had on gas today. Im ...   \n",
       "2  My girlfriend decided it would be a good idea ...   \n",
       "3  It's cold, I'n hungry, and to be completely ho...   \n",
       "4  hey guys:\\n I love this sub. I think it's grea...   \n",
       "\n",
       "                             request_text_edit_aware  \\\n",
       "0  Hi I am in need of food for my 4 children we a...   \n",
       "1  I spent the last money I had on gas today. Im ...   \n",
       "2  My girlfriend decided it would be a good idea ...   \n",
       "3  It's cold, I'n hungry, and to be completely ho...   \n",
       "4  hey guys:\\n I love this sub. I think it's grea...   \n",
       "\n",
       "                                       request_title  \\\n",
       "0            Request Colorado Springs Help Us Please   \n",
       "1  [Request] California, No cash and I could use ...   \n",
       "2  [Request] Hungry couple in Dundee, Scotland wo...   \n",
       "3  [Request] In Canada (Ontario), just got home f...   \n",
       "4  [Request] Old friend coming to visit. Would LO...   \n",
       "\n",
       "   requester_account_age_in_days_at_request              ...                \\\n",
       "0                                  0.000000              ...                 \n",
       "1                                501.111100              ...                 \n",
       "2                                  0.000000              ...                 \n",
       "3                                  6.518438              ...                 \n",
       "4                                162.063252              ...                 \n",
       "\n",
       "   requester_received_pizza  \\\n",
       "0                     False   \n",
       "1                     False   \n",
       "2                     False   \n",
       "3                     False   \n",
       "4                     False   \n",
       "\n",
       "                     requester_subreddits_at_request  \\\n",
       "0                                                 []   \n",
       "1  [AskReddit, Eve, IAmA, MontereyBay, RandomKind...   \n",
       "2                                                 []   \n",
       "3       [AskReddit, DJs, IAmA, Random_Acts_Of_Pizza]   \n",
       "4  [GayBrosWeightLoss, RandomActsOfCookies, Rando...   \n",
       "\n",
       "   requester_upvotes_minus_downvotes_at_request  \\\n",
       "0                                             0   \n",
       "1                                            34   \n",
       "2                                             0   \n",
       "3                                            54   \n",
       "4                                          1121   \n",
       "\n",
       "   requester_upvotes_minus_downvotes_at_retrieval  \\\n",
       "0                                               1   \n",
       "1                                            4258   \n",
       "2                                               3   \n",
       "3                                              59   \n",
       "4                                            1225   \n",
       "\n",
       "   requester_upvotes_plus_downvotes_at_request  \\\n",
       "0                                            0   \n",
       "1                                          116   \n",
       "2                                            0   \n",
       "3                                           76   \n",
       "4                                         1733   \n",
       "\n",
       "   requester_upvotes_plus_downvotes_at_retrieval  requester_user_flair  \\\n",
       "0                                              1                  None   \n",
       "1                                          11168                  None   \n",
       "2                                              3                  None   \n",
       "3                                             81                  None   \n",
       "4                                           1887                  None   \n",
       "\n",
       "   requester_username  unix_timestamp_of_request  \\\n",
       "0           nickylvst                 1317852607   \n",
       "1           fohacidal                 1332652424   \n",
       "2       jacquibatman7                 1319650094   \n",
       "3       4on_the_floor                 1322855434   \n",
       "4     Futuredogwalker                 1373657691   \n",
       "\n",
       "   unix_timestamp_of_request_utc  \n",
       "0                     1317849007  \n",
       "1                     1332648824  \n",
       "2                     1319646494  \n",
       "3                     1322855434  \n",
       "4                     1373654091  \n",
       "\n",
       "[5 rows x 32 columns]"
      ]
     },
     "execution_count": 4,
     "metadata": {},
     "output_type": "execute_result"
    }
   ],
   "source": [
    "data.head()"
   ]
  },
  {
   "cell_type": "code",
   "execution_count": 5,
   "metadata": {
    "collapsed": false
   },
   "outputs": [
    {
     "name": "stdout",
     "output_type": "stream",
     "text": [
      "<class 'pandas.core.frame.DataFrame'>\n",
      "Int64Index: 4040 entries, 0 to 4039\n",
      "Data columns (total 32 columns):\n",
      "giver_username_if_known                                 4040 non-null object\n",
      "number_of_downvotes_of_request_at_retrieval             4040 non-null int64\n",
      "number_of_upvotes_of_request_at_retrieval               4040 non-null int64\n",
      "post_was_edited                                         4040 non-null int64\n",
      "request_id                                              4040 non-null object\n",
      "request_number_of_comments_at_retrieval                 4040 non-null int64\n",
      "request_text                                            4040 non-null object\n",
      "request_text_edit_aware                                 4040 non-null object\n",
      "request_title                                           4040 non-null object\n",
      "requester_account_age_in_days_at_request                4040 non-null float64\n",
      "requester_account_age_in_days_at_retrieval              4040 non-null float64\n",
      "requester_days_since_first_post_on_raop_at_request      4040 non-null float64\n",
      "requester_days_since_first_post_on_raop_at_retrieval    4040 non-null float64\n",
      "requester_number_of_comments_at_request                 4040 non-null int64\n",
      "requester_number_of_comments_at_retrieval               4040 non-null int64\n",
      "requester_number_of_comments_in_raop_at_request         4040 non-null int64\n",
      "requester_number_of_comments_in_raop_at_retrieval       4040 non-null int64\n",
      "requester_number_of_posts_at_request                    4040 non-null int64\n",
      "requester_number_of_posts_at_retrieval                  4040 non-null int64\n",
      "requester_number_of_posts_on_raop_at_request            4040 non-null int64\n",
      "requester_number_of_posts_on_raop_at_retrieval          4040 non-null int64\n",
      "requester_number_of_subreddits_at_request               4040 non-null int64\n",
      "requester_received_pizza                                4040 non-null bool\n",
      "requester_subreddits_at_request                         4040 non-null object\n",
      "requester_upvotes_minus_downvotes_at_request            4040 non-null int64\n",
      "requester_upvotes_minus_downvotes_at_retrieval          4040 non-null int64\n",
      "requester_upvotes_plus_downvotes_at_request             4040 non-null int64\n",
      "requester_upvotes_plus_downvotes_at_retrieval           4040 non-null int64\n",
      "requester_user_flair                                    994 non-null object\n",
      "requester_username                                      4040 non-null object\n",
      "unix_timestamp_of_request                               4040 non-null int64\n",
      "unix_timestamp_of_request_utc                           4040 non-null int64\n",
      "dtypes: bool(1), float64(4), int64(19), object(8)\n",
      "memory usage: 1013.9+ KB\n"
     ]
    }
   ],
   "source": [
    "data.info()"
   ]
  },
  {
   "cell_type": "code",
   "execution_count": 6,
   "metadata": {
    "collapsed": false
   },
   "outputs": [],
   "source": [
    "test = pd.read_json('../../Dataset/Random Acts Of Pizza/test.json')"
   ]
  },
  {
   "cell_type": "code",
   "execution_count": 7,
   "metadata": {
    "collapsed": false
   },
   "outputs": [
    {
     "name": "stdout",
     "output_type": "stream",
     "text": [
      "<class 'pandas.core.frame.DataFrame'>\n",
      "Int64Index: 1631 entries, 0 to 1630\n",
      "Data columns (total 17 columns):\n",
      "giver_username_if_known                               1631 non-null object\n",
      "request_id                                            1631 non-null object\n",
      "request_text_edit_aware                               1631 non-null object\n",
      "request_title                                         1631 non-null object\n",
      "requester_account_age_in_days_at_request              1631 non-null float64\n",
      "requester_days_since_first_post_on_raop_at_request    1631 non-null float64\n",
      "requester_number_of_comments_at_request               1631 non-null int64\n",
      "requester_number_of_comments_in_raop_at_request       1631 non-null int64\n",
      "requester_number_of_posts_at_request                  1631 non-null int64\n",
      "requester_number_of_posts_on_raop_at_request          1631 non-null int64\n",
      "requester_number_of_subreddits_at_request             1631 non-null int64\n",
      "requester_subreddits_at_request                       1631 non-null object\n",
      "requester_upvotes_minus_downvotes_at_request          1631 non-null int64\n",
      "requester_upvotes_plus_downvotes_at_request           1631 non-null int64\n",
      "requester_username                                    1631 non-null object\n",
      "unix_timestamp_of_request                             1631 non-null int64\n",
      "unix_timestamp_of_request_utc                         1631 non-null int64\n",
      "dtypes: float64(2), int64(9), object(6)\n",
      "memory usage: 229.4+ KB\n"
     ]
    }
   ],
   "source": [
    "test.info()"
   ]
  },
  {
   "cell_type": "code",
   "execution_count": 8,
   "metadata": {
    "collapsed": false
   },
   "outputs": [],
   "source": [
    "not_present = []\n",
    "for i in data.columns:\n",
    "    if i not in test.columns:\n",
    "        not_present.append(i)\n",
    "not_present.remove('requester_received_pizza')\n",
    "data.drop(labels=not_present,axis=1,inplace=True)"
   ]
  },
  {
   "cell_type": "code",
   "execution_count": 9,
   "metadata": {
    "collapsed": false
   },
   "outputs": [
    {
     "data": {
      "text/html": [
       "<div>\n",
       "<table border=\"1\" class=\"dataframe\">\n",
       "  <thead>\n",
       "    <tr style=\"text-align: right;\">\n",
       "      <th></th>\n",
       "      <th>giver_username_if_known</th>\n",
       "      <th>request_id</th>\n",
       "      <th>request_text_edit_aware</th>\n",
       "      <th>request_title</th>\n",
       "      <th>requester_account_age_in_days_at_request</th>\n",
       "      <th>requester_days_since_first_post_on_raop_at_request</th>\n",
       "      <th>requester_number_of_comments_at_request</th>\n",
       "      <th>requester_number_of_comments_in_raop_at_request</th>\n",
       "      <th>requester_number_of_posts_at_request</th>\n",
       "      <th>requester_number_of_posts_on_raop_at_request</th>\n",
       "      <th>requester_number_of_subreddits_at_request</th>\n",
       "      <th>requester_received_pizza</th>\n",
       "      <th>requester_subreddits_at_request</th>\n",
       "      <th>requester_upvotes_minus_downvotes_at_request</th>\n",
       "      <th>requester_upvotes_plus_downvotes_at_request</th>\n",
       "      <th>requester_username</th>\n",
       "      <th>unix_timestamp_of_request</th>\n",
       "      <th>unix_timestamp_of_request_utc</th>\n",
       "    </tr>\n",
       "  </thead>\n",
       "  <tbody>\n",
       "    <tr>\n",
       "      <th>0</th>\n",
       "      <td>N/A</td>\n",
       "      <td>t3_l25d7</td>\n",
       "      <td>Hi I am in need of food for my 4 children we a...</td>\n",
       "      <td>Request Colorado Springs Help Us Please</td>\n",
       "      <td>0.000000</td>\n",
       "      <td>0.000000</td>\n",
       "      <td>0</td>\n",
       "      <td>0</td>\n",
       "      <td>0</td>\n",
       "      <td>0</td>\n",
       "      <td>0</td>\n",
       "      <td>False</td>\n",
       "      <td>[]</td>\n",
       "      <td>0</td>\n",
       "      <td>0</td>\n",
       "      <td>nickylvst</td>\n",
       "      <td>1317852607</td>\n",
       "      <td>1317849007</td>\n",
       "    </tr>\n",
       "    <tr>\n",
       "      <th>1</th>\n",
       "      <td>N/A</td>\n",
       "      <td>t3_rcb83</td>\n",
       "      <td>I spent the last money I had on gas today. Im ...</td>\n",
       "      <td>[Request] California, No cash and I could use ...</td>\n",
       "      <td>501.111100</td>\n",
       "      <td>0.000000</td>\n",
       "      <td>0</td>\n",
       "      <td>0</td>\n",
       "      <td>15</td>\n",
       "      <td>0</td>\n",
       "      <td>12</td>\n",
       "      <td>False</td>\n",
       "      <td>[AskReddit, Eve, IAmA, MontereyBay, RandomKind...</td>\n",
       "      <td>34</td>\n",
       "      <td>116</td>\n",
       "      <td>fohacidal</td>\n",
       "      <td>1332652424</td>\n",
       "      <td>1332648824</td>\n",
       "    </tr>\n",
       "    <tr>\n",
       "      <th>2</th>\n",
       "      <td>N/A</td>\n",
       "      <td>t3_lpu5j</td>\n",
       "      <td>My girlfriend decided it would be a good idea ...</td>\n",
       "      <td>[Request] Hungry couple in Dundee, Scotland wo...</td>\n",
       "      <td>0.000000</td>\n",
       "      <td>0.000000</td>\n",
       "      <td>0</td>\n",
       "      <td>0</td>\n",
       "      <td>0</td>\n",
       "      <td>0</td>\n",
       "      <td>0</td>\n",
       "      <td>False</td>\n",
       "      <td>[]</td>\n",
       "      <td>0</td>\n",
       "      <td>0</td>\n",
       "      <td>jacquibatman7</td>\n",
       "      <td>1319650094</td>\n",
       "      <td>1319646494</td>\n",
       "    </tr>\n",
       "    <tr>\n",
       "      <th>3</th>\n",
       "      <td>N/A</td>\n",
       "      <td>t3_mxvj3</td>\n",
       "      <td>It's cold, I'n hungry, and to be completely ho...</td>\n",
       "      <td>[Request] In Canada (Ontario), just got home f...</td>\n",
       "      <td>6.518438</td>\n",
       "      <td>0.000000</td>\n",
       "      <td>36</td>\n",
       "      <td>0</td>\n",
       "      <td>1</td>\n",
       "      <td>0</td>\n",
       "      <td>4</td>\n",
       "      <td>False</td>\n",
       "      <td>[AskReddit, DJs, IAmA, Random_Acts_Of_Pizza]</td>\n",
       "      <td>54</td>\n",
       "      <td>76</td>\n",
       "      <td>4on_the_floor</td>\n",
       "      <td>1322855434</td>\n",
       "      <td>1322855434</td>\n",
       "    </tr>\n",
       "    <tr>\n",
       "      <th>4</th>\n",
       "      <td>N/A</td>\n",
       "      <td>t3_1i6486</td>\n",
       "      <td>hey guys:\\n I love this sub. I think it's grea...</td>\n",
       "      <td>[Request] Old friend coming to visit. Would LO...</td>\n",
       "      <td>162.063252</td>\n",
       "      <td>101.606505</td>\n",
       "      <td>140</td>\n",
       "      <td>2</td>\n",
       "      <td>14</td>\n",
       "      <td>0</td>\n",
       "      <td>11</td>\n",
       "      <td>False</td>\n",
       "      <td>[GayBrosWeightLoss, RandomActsOfCookies, Rando...</td>\n",
       "      <td>1121</td>\n",
       "      <td>1733</td>\n",
       "      <td>Futuredogwalker</td>\n",
       "      <td>1373657691</td>\n",
       "      <td>1373654091</td>\n",
       "    </tr>\n",
       "  </tbody>\n",
       "</table>\n",
       "</div>"
      ],
      "text/plain": [
       "  giver_username_if_known request_id  \\\n",
       "0                     N/A   t3_l25d7   \n",
       "1                     N/A   t3_rcb83   \n",
       "2                     N/A   t3_lpu5j   \n",
       "3                     N/A   t3_mxvj3   \n",
       "4                     N/A  t3_1i6486   \n",
       "\n",
       "                             request_text_edit_aware  \\\n",
       "0  Hi I am in need of food for my 4 children we a...   \n",
       "1  I spent the last money I had on gas today. Im ...   \n",
       "2  My girlfriend decided it would be a good idea ...   \n",
       "3  It's cold, I'n hungry, and to be completely ho...   \n",
       "4  hey guys:\\n I love this sub. I think it's grea...   \n",
       "\n",
       "                                       request_title  \\\n",
       "0            Request Colorado Springs Help Us Please   \n",
       "1  [Request] California, No cash and I could use ...   \n",
       "2  [Request] Hungry couple in Dundee, Scotland wo...   \n",
       "3  [Request] In Canada (Ontario), just got home f...   \n",
       "4  [Request] Old friend coming to visit. Would LO...   \n",
       "\n",
       "   requester_account_age_in_days_at_request  \\\n",
       "0                                  0.000000   \n",
       "1                                501.111100   \n",
       "2                                  0.000000   \n",
       "3                                  6.518438   \n",
       "4                                162.063252   \n",
       "\n",
       "   requester_days_since_first_post_on_raop_at_request  \\\n",
       "0                                           0.000000    \n",
       "1                                           0.000000    \n",
       "2                                           0.000000    \n",
       "3                                           0.000000    \n",
       "4                                         101.606505    \n",
       "\n",
       "   requester_number_of_comments_at_request  \\\n",
       "0                                        0   \n",
       "1                                        0   \n",
       "2                                        0   \n",
       "3                                       36   \n",
       "4                                      140   \n",
       "\n",
       "   requester_number_of_comments_in_raop_at_request  \\\n",
       "0                                                0   \n",
       "1                                                0   \n",
       "2                                                0   \n",
       "3                                                0   \n",
       "4                                                2   \n",
       "\n",
       "   requester_number_of_posts_at_request  \\\n",
       "0                                     0   \n",
       "1                                    15   \n",
       "2                                     0   \n",
       "3                                     1   \n",
       "4                                    14   \n",
       "\n",
       "   requester_number_of_posts_on_raop_at_request  \\\n",
       "0                                             0   \n",
       "1                                             0   \n",
       "2                                             0   \n",
       "3                                             0   \n",
       "4                                             0   \n",
       "\n",
       "   requester_number_of_subreddits_at_request requester_received_pizza  \\\n",
       "0                                          0                    False   \n",
       "1                                         12                    False   \n",
       "2                                          0                    False   \n",
       "3                                          4                    False   \n",
       "4                                         11                    False   \n",
       "\n",
       "                     requester_subreddits_at_request  \\\n",
       "0                                                 []   \n",
       "1  [AskReddit, Eve, IAmA, MontereyBay, RandomKind...   \n",
       "2                                                 []   \n",
       "3       [AskReddit, DJs, IAmA, Random_Acts_Of_Pizza]   \n",
       "4  [GayBrosWeightLoss, RandomActsOfCookies, Rando...   \n",
       "\n",
       "   requester_upvotes_minus_downvotes_at_request  \\\n",
       "0                                             0   \n",
       "1                                            34   \n",
       "2                                             0   \n",
       "3                                            54   \n",
       "4                                          1121   \n",
       "\n",
       "   requester_upvotes_plus_downvotes_at_request requester_username  \\\n",
       "0                                            0          nickylvst   \n",
       "1                                          116          fohacidal   \n",
       "2                                            0      jacquibatman7   \n",
       "3                                           76      4on_the_floor   \n",
       "4                                         1733    Futuredogwalker   \n",
       "\n",
       "   unix_timestamp_of_request  unix_timestamp_of_request_utc  \n",
       "0                 1317852607                     1317849007  \n",
       "1                 1332652424                     1332648824  \n",
       "2                 1319650094                     1319646494  \n",
       "3                 1322855434                     1322855434  \n",
       "4                 1373657691                     1373654091  "
      ]
     },
     "execution_count": 9,
     "metadata": {},
     "output_type": "execute_result"
    }
   ],
   "source": [
    "data.head()"
   ]
  },
  {
   "cell_type": "markdown",
   "metadata": {},
   "source": [
    "## Deleting the outliers and plotting the desired quantities"
   ]
  },
  {
   "cell_type": "code",
   "execution_count": 10,
   "metadata": {
    "collapsed": false
   },
   "outputs": [],
   "source": [
    "data_new = data[data['requester_upvotes_minus_downvotes_at_request'] < 40000]"
   ]
  },
  {
   "cell_type": "code",
   "execution_count": 11,
   "metadata": {
    "collapsed": false
   },
   "outputs": [
    {
     "data": {
      "text/plain": [
       "<matplotlib.legend.Legend at 0x11a52c750>"
      ]
     },
     "execution_count": 11,
     "metadata": {},
     "output_type": "execute_result"
    },
    {
     "data": {
      "image/png": "[encoded data removed]",
      "text/plain": [
       "<matplotlib.figure.Figure at 0x11a4cdb10>"
      ]
     },
     "metadata": {},
     "output_type": "display_data"
    }
   ],
   "source": [
    "ax = data_new[data_new['requester_received_pizza'] == True].plot(kind='scatter',x='requester_upvotes_minus_downvotes_at_request',y='requester_upvotes_plus_downvotes_at_request',c='b',label='Received')\n",
    "data_new[data_new['requester_received_pizza'] == False].plot(kind='scatter',x='requester_upvotes_minus_downvotes_at_request',y='requester_upvotes_plus_downvotes_at_request',c='r',ax=ax,marker='x',label='Not Received')\n",
    "plt.legend()"
   ]
  },
  {
   "cell_type": "code",
   "execution_count": 12,
   "metadata": {
    "collapsed": false
   },
   "outputs": [
    {
     "data": {
      "text/plain": [
       "<matplotlib.axes._subplots.AxesSubplot at 0x10409ac90>"
      ]
     },
     "execution_count": 12,
     "metadata": {},
     "output_type": "execute_result"
    },
    {
     "data": {
      "image/png": "[encoded data removed]",
      "text/plain": [
       "<matplotlib.figure.Figure at 0x1115c3090>"
      ]
     },
     "metadata": {},
     "output_type": "display_data"
    }
   ],
   "source": [
    "ax = data_new[data_new['requester_received_pizza'] == True].plot(kind='scatter',x='requester_number_of_posts_at_request',y='requester_number_of_posts_on_raop_at_request',label='Received',c='b')\n",
    "data_new[data_new['requester_received_pizza'] == False].plot(kind='scatter',x='requester_number_of_posts_at_request',y='requester_number_of_posts_on_raop_at_request',label='Not Received',c='r',ax=ax)"
   ]
  },
  {
   "cell_type": "markdown",
   "metadata": {
    "collapsed": false
   },
   "source": [
    "This implies that both the distributions i.e for the pizza received and the pizza not received are almost identical in nature. Thus we cannot apply different models on pizza received and not received labels and ensemble the model"
   ]
  },
  {
   "cell_type": "markdown",
   "metadata": {
    "collapsed": true
   },
   "source": [
    "## Applying a Benchmark Model"
   ]
  },
  {
   "cell_type": "code",
   "execution_count": 13,
   "metadata": {
    "collapsed": true
   },
   "outputs": [],
   "source": [
    "from sklearn.ensemble import RandomForestClassifier\n",
    "rfr = RandomForestClassifier(n_estimators=50)"
   ]
  },
  {
   "cell_type": "code",
   "execution_count": 14,
   "metadata": {
    "collapsed": false
   },
   "outputs": [
    {
     "data": {
      "text/html": [
       "<div>\n",
       "<table border=\"1\" class=\"dataframe\">\n",
       "  <thead>\n",
       "    <tr style=\"text-align: right;\">\n",
       "      <th></th>\n",
       "      <th>giver_username_if_known</th>\n",
       "      <th>request_id</th>\n",
       "      <th>request_text_edit_aware</th>\n",
       "      <th>request_title</th>\n",
       "      <th>requester_account_age_in_days_at_request</th>\n",
       "      <th>requester_days_since_first_post_on_raop_at_request</th>\n",
       "      <th>requester_number_of_comments_at_request</th>\n",
       "      <th>requester_number_of_comments_in_raop_at_request</th>\n",
       "      <th>requester_number_of_posts_at_request</th>\n",
       "      <th>requester_number_of_posts_on_raop_at_request</th>\n",
       "      <th>requester_number_of_subreddits_at_request</th>\n",
       "      <th>requester_received_pizza</th>\n",
       "      <th>requester_subreddits_at_request</th>\n",
       "      <th>requester_upvotes_minus_downvotes_at_request</th>\n",
       "      <th>requester_upvotes_plus_downvotes_at_request</th>\n",
       "      <th>requester_username</th>\n",
       "      <th>unix_timestamp_of_request</th>\n",
       "      <th>unix_timestamp_of_request_utc</th>\n",
       "    </tr>\n",
       "  </thead>\n",
       "  <tbody>\n",
       "    <tr>\n",
       "      <th>0</th>\n",
       "      <td>N/A</td>\n",
       "      <td>t3_l25d7</td>\n",
       "      <td>Hi I am in need of food for my 4 children we a...</td>\n",
       "      <td>Request Colorado Springs Help Us Please</td>\n",
       "      <td>0.000000</td>\n",
       "      <td>0.000000</td>\n",
       "      <td>0</td>\n",
       "      <td>0</td>\n",
       "      <td>0</td>\n",
       "      <td>0</td>\n",
       "      <td>0</td>\n",
       "      <td>False</td>\n",
       "      <td>[]</td>\n",
       "      <td>0</td>\n",
       "      <td>0</td>\n",
       "      <td>nickylvst</td>\n",
       "      <td>1317852607</td>\n",
       "      <td>1317849007</td>\n",
       "    </tr>\n",
       "    <tr>\n",
       "      <th>1</th>\n",
       "      <td>N/A</td>\n",
       "      <td>t3_rcb83</td>\n",
       "      <td>I spent the last money I had on gas today. Im ...</td>\n",
       "      <td>[Request] California, No cash and I could use ...</td>\n",
       "      <td>501.111100</td>\n",
       "      <td>0.000000</td>\n",
       "      <td>0</td>\n",
       "      <td>0</td>\n",
       "      <td>15</td>\n",
       "      <td>0</td>\n",
       "      <td>12</td>\n",
       "      <td>False</td>\n",
       "      <td>[AskReddit, Eve, IAmA, MontereyBay, RandomKind...</td>\n",
       "      <td>34</td>\n",
       "      <td>116</td>\n",
       "      <td>fohacidal</td>\n",
       "      <td>1332652424</td>\n",
       "      <td>1332648824</td>\n",
       "    </tr>\n",
       "    <tr>\n",
       "      <th>2</th>\n",
       "      <td>N/A</td>\n",
       "      <td>t3_lpu5j</td>\n",
       "      <td>My girlfriend decided it would be a good idea ...</td>\n",
       "      <td>[Request] Hungry couple in Dundee, Scotland wo...</td>\n",
       "      <td>0.000000</td>\n",
       "      <td>0.000000</td>\n",
       "      <td>0</td>\n",
       "      <td>0</td>\n",
       "      <td>0</td>\n",
       "      <td>0</td>\n",
       "      <td>0</td>\n",
       "      <td>False</td>\n",
       "      <td>[]</td>\n",
       "      <td>0</td>\n",
       "      <td>0</td>\n",
       "      <td>jacquibatman7</td>\n",
       "      <td>1319650094</td>\n",
       "      <td>1319646494</td>\n",
       "    </tr>\n",
       "    <tr>\n",
       "      <th>3</th>\n",
       "      <td>N/A</td>\n",
       "      <td>t3_mxvj3</td>\n",
       "      <td>It's cold, I'n hungry, and to be completely ho...</td>\n",
       "      <td>[Request] In Canada (Ontario), just got home f...</td>\n",
       "      <td>6.518438</td>\n",
       "      <td>0.000000</td>\n",
       "      <td>36</td>\n",
       "      <td>0</td>\n",
       "      <td>1</td>\n",
       "      <td>0</td>\n",
       "      <td>4</td>\n",
       "      <td>False</td>\n",
       "      <td>[AskReddit, DJs, IAmA, Random_Acts_Of_Pizza]</td>\n",
       "      <td>54</td>\n",
       "      <td>76</td>\n",
       "      <td>4on_the_floor</td>\n",
       "      <td>1322855434</td>\n",
       "      <td>1322855434</td>\n",
       "    </tr>\n",
       "    <tr>\n",
       "      <th>4</th>\n",
       "      <td>N/A</td>\n",
       "      <td>t3_1i6486</td>\n",
       "      <td>hey guys:\\n I love this sub. I think it's grea...</td>\n",
       "      <td>[Request] Old friend coming to visit. Would LO...</td>\n",
       "      <td>162.063252</td>\n",
       "      <td>101.606505</td>\n",
       "      <td>140</td>\n",
       "      <td>2</td>\n",
       "      <td>14</td>\n",
       "      <td>0</td>\n",
       "      <td>11</td>\n",
       "      <td>False</td>\n",
       "      <td>[GayBrosWeightLoss, RandomActsOfCookies, Rando...</td>\n",
       "      <td>1121</td>\n",
       "      <td>1733</td>\n",
       "      <td>Futuredogwalker</td>\n",
       "      <td>1373657691</td>\n",
       "      <td>1373654091</td>\n",
       "    </tr>\n",
       "  </tbody>\n",
       "</table>\n",
       "</div>"
      ],
      "text/plain": [
       "  giver_username_if_known request_id  \\\n",
       "0                     N/A   t3_l25d7   \n",
       "1                     N/A   t3_rcb83   \n",
       "2                     N/A   t3_lpu5j   \n",
       "3                     N/A   t3_mxvj3   \n",
       "4                     N/A  t3_1i6486   \n",
       "\n",
       "                             request_text_edit_aware  \\\n",
       "0  Hi I am in need of food for my 4 children we a...   \n",
       "1  I spent the last money I had on gas today. Im ...   \n",
       "2  My girlfriend decided it would be a good idea ...   \n",
       "3  It's cold, I'n hungry, and to be completely ho...   \n",
       "4  hey guys:\\n I love this sub. I think it's grea...   \n",
       "\n",
       "                                       request_title  \\\n",
       "0            Request Colorado Springs Help Us Please   \n",
       "1  [Request] California, No cash and I could use ...   \n",
       "2  [Request] Hungry couple in Dundee, Scotland wo...   \n",
       "3  [Request] In Canada (Ontario), just got home f...   \n",
       "4  [Request] Old friend coming to visit. Would LO...   \n",
       "\n",
       "   requester_account_age_in_days_at_request  \\\n",
       "0                                  0.000000   \n",
       "1                                501.111100   \n",
       "2                                  0.000000   \n",
       "3                                  6.518438   \n",
       "4                                162.063252   \n",
       "\n",
       "   requester_days_since_first_post_on_raop_at_request  \\\n",
       "0                                           0.000000    \n",
       "1                                           0.000000    \n",
       "2                                           0.000000    \n",
       "3                                           0.000000    \n",
       "4                                         101.606505    \n",
       "\n",
       "   requester_number_of_comments_at_request  \\\n",
       "0                                        0   \n",
       "1                                        0   \n",
       "2                                        0   \n",
       "3                                       36   \n",
       "4                                      140   \n",
       "\n",
       "   requester_number_of_comments_in_raop_at_request  \\\n",
       "0                                                0   \n",
       "1                                                0   \n",
       "2                                                0   \n",
       "3                                                0   \n",
       "4                                                2   \n",
       "\n",
       "   requester_number_of_posts_at_request  \\\n",
       "0                                     0   \n",
       "1                                    15   \n",
       "2                                     0   \n",
       "3                                     1   \n",
       "4                                    14   \n",
       "\n",
       "   requester_number_of_posts_on_raop_at_request  \\\n",
       "0                                             0   \n",
       "1                                             0   \n",
       "2                                             0   \n",
       "3                                             0   \n",
       "4                                             0   \n",
       "\n",
       "   requester_number_of_subreddits_at_request requester_received_pizza  \\\n",
       "0                                          0                    False   \n",
       "1                                         12                    False   \n",
       "2                                          0                    False   \n",
       "3                                          4                    False   \n",
       "4                                         11                    False   \n",
       "\n",
       "                     requester_subreddits_at_request  \\\n",
       "0                                                 []   \n",
       "1  [AskReddit, Eve, IAmA, MontereyBay, RandomKind...   \n",
       "2                                                 []   \n",
       "3       [AskReddit, DJs, IAmA, Random_Acts_Of_Pizza]   \n",
       "4  [GayBrosWeightLoss, RandomActsOfCookies, Rando...   \n",
       "\n",
       "   requester_upvotes_minus_downvotes_at_request  \\\n",
       "0                                             0   \n",
       "1                                            34   \n",
       "2                                             0   \n",
       "3                                            54   \n",
       "4                                          1121   \n",
       "\n",
       "   requester_upvotes_plus_downvotes_at_request requester_username  \\\n",
       "0                                            0          nickylvst   \n",
       "1                                          116          fohacidal   \n",
       "2                                            0      jacquibatman7   \n",
       "3                                           76      4on_the_floor   \n",
       "4                                         1733    Futuredogwalker   \n",
       "\n",
       "   unix_timestamp_of_request  unix_timestamp_of_request_utc  \n",
       "0                 1317852607                     1317849007  \n",
       "1                 1332652424                     1332648824  \n",
       "2                 1319650094                     1319646494  \n",
       "3                 1322855434                     1322855434  \n",
       "4                 1373657691                     1373654091  "
      ]
     },
     "execution_count": 14,
     "metadata": {},
     "output_type": "execute_result"
    }
   ],
   "source": [
    "data.head()"
   ]
  },
  {
   "cell_type": "code",
   "execution_count": 15,
   "metadata": {
    "collapsed": true
   },
   "outputs": [],
   "source": [
    "data_new = data.drop(labels=['giver_username_if_known','request_id','request_text_edit_aware','requester_subreddits_at_request',\\\n",
    "                            'requester_username'],axis=1)"
   ]
  },
  {
   "cell_type": "code",
   "execution_count": 16,
   "metadata": {
    "collapsed": false
   },
   "outputs": [
    {
     "name": "stdout",
     "output_type": "stream",
     "text": [
      "<class 'pandas.core.frame.DataFrame'>\n",
      "Int64Index: 4040 entries, 0 to 4039\n",
      "Data columns (total 13 columns):\n",
      "request_title                                         4040 non-null object\n",
      "requester_account_age_in_days_at_request              4040 non-null float64\n",
      "requester_days_since_first_post_on_raop_at_request    4040 non-null float64\n",
      "requester_number_of_comments_at_request               4040 non-null int64\n",
      "requester_number_of_comments_in_raop_at_request       4040 non-null int64\n",
      "requester_number_of_posts_at_request                  4040 non-null int64\n",
      "requester_number_of_posts_on_raop_at_request          4040 non-null int64\n",
      "requester_number_of_subreddits_at_request             4040 non-null int64\n",
      "requester_received_pizza                              4040 non-null bool\n",
      "requester_upvotes_minus_downvotes_at_request          4040 non-null int64\n",
      "requester_upvotes_plus_downvotes_at_request           4040 non-null int64\n",
      "unix_timestamp_of_request                             4040 non-null int64\n",
      "unix_timestamp_of_request_utc                         4040 non-null int64\n",
      "dtypes: bool(1), float64(2), int64(9), object(1)\n",
      "memory usage: 414.3+ KB\n"
     ]
    }
   ],
   "source": [
    "data_new.info()"
   ]
  },
  {
   "cell_type": "code",
   "execution_count": 17,
   "metadata": {
    "collapsed": false
   },
   "outputs": [],
   "source": [
    "data_new['account_age'] = pd.to_numeric(data_new.requester_account_age_in_days_at_request,errors='coerce')\n",
    "data_new.drop(labels=['requester_account_age_in_days_at_request','request_title'],axis=1,inplace=True)"
   ]
  },
  {
   "cell_type": "code",
   "execution_count": 18,
   "metadata": {
    "collapsed": false
   },
   "outputs": [
    {
     "name": "stdout",
     "output_type": "stream",
     "text": [
      "<class 'pandas.core.frame.DataFrame'>\n",
      "Int64Index: 4040 entries, 0 to 4039\n",
      "Data columns (total 12 columns):\n",
      "requester_days_since_first_post_on_raop_at_request    4040 non-null float64\n",
      "requester_number_of_comments_at_request               4040 non-null int64\n",
      "requester_number_of_comments_in_raop_at_request       4040 non-null int64\n",
      "requester_number_of_posts_at_request                  4040 non-null int64\n",
      "requester_number_of_posts_on_raop_at_request          4040 non-null int64\n",
      "requester_number_of_subreddits_at_request             4040 non-null int64\n",
      "requester_received_pizza                              4040 non-null bool\n",
      "requester_upvotes_minus_downvotes_at_request          4040 non-null int64\n",
      "requester_upvotes_plus_downvotes_at_request           4040 non-null int64\n",
      "unix_timestamp_of_request                             4040 non-null int64\n",
      "unix_timestamp_of_request_utc                         4040 non-null int64\n",
      "account_age                                           4040 non-null float64\n",
      "dtypes: bool(1), float64(2), int64(9)\n",
      "memory usage: 382.7 KB\n"
     ]
    }
   ],
   "source": [
    "data_new.info()"
   ]
  },
  {
   "cell_type": "code",
   "execution_count": 19,
   "metadata": {
    "collapsed": false
   },
   "outputs": [
    {
     "data": {
      "text/plain": [
       "0    0\n",
       "1    0\n",
       "2    0\n",
       "3    0\n",
       "4    0\n",
       "Name: requester_received_pizza, dtype: int64"
      ]
     },
     "execution_count": 19,
     "metadata": {},
     "output_type": "execute_result"
    }
   ],
   "source": [
    "y = data_new.pop('requester_received_pizza')\n",
    "y = y.map({False:0,True:1})\n",
    "y.head()"
   ]
  },
  {
   "cell_type": "code",
   "execution_count": 20,
   "metadata": {
    "collapsed": false
   },
   "outputs": [
    {
     "name": "stdout",
     "output_type": "stream",
     "text": [
      "(3636, 11) (3636,)\n"
     ]
    }
   ],
   "source": [
    "from sklearn.cross_validation import train_test_split\n",
    "X_train,X_test,y_train,y_test = train_test_split(data_new,y,test_size=0.1,random_state=7)\n",
    "print X_train.shape,y_train.shape"
   ]
  },
  {
   "cell_type": "code",
   "execution_count": 21,
   "metadata": {
    "collapsed": false
   },
   "outputs": [
    {
     "data": {
      "text/plain": [
       "RandomForestClassifier(bootstrap=True, class_weight=None, criterion='gini',\n",
       "            max_depth=None, max_features='auto', max_leaf_nodes=None,\n",
       "            min_samples_leaf=1, min_samples_split=2,\n",
       "            min_weight_fraction_leaf=0.0, n_estimators=50, n_jobs=1,\n",
       "            oob_score=False, random_state=None, verbose=0,\n",
       "            warm_start=False)"
      ]
     },
     "execution_count": 21,
     "metadata": {},
     "output_type": "execute_result"
    }
   ],
   "source": [
    "rfr.fit(X_train,y_train)"
   ]
  },
  {
   "cell_type": "code",
   "execution_count": 22,
   "metadata": {
    "collapsed": false
   },
   "outputs": [
    {
     "name": "stdout",
     "output_type": "stream",
     "text": [
      "ROC AUC Score: 0.548282265552\n",
      "Accuracy Score: 0.715346534653\n"
     ]
    }
   ],
   "source": [
    "from sklearn.metrics import roc_auc_score,accuracy_score\n",
    "print 'ROC AUC Score: {}'.format(roc_auc_score(rfr.predict(X_test),y_test))\n",
    "print 'Accuracy Score: {}'.format(accuracy_score(rfr.predict(X_test),y_test))"
   ]
  },
  {
   "cell_type": "markdown",
   "metadata": {},
   "source": [
    "The benchmark score is too low to be of any importance. So we consider the textual columns too."
   ]
  },
  {
   "cell_type": "markdown",
   "metadata": {},
   "source": [
    "## Bag Of Words Approach"
   ]
  },
  {
   "cell_type": "markdown",
   "metadata": {},
   "source": [
    "### Count Vectorizer"
   ]
  },
  {
   "cell_type": "code",
   "execution_count": 23,
   "metadata": {
    "collapsed": true
   },
   "outputs": [],
   "source": [
    "from sklearn.feature_extraction.text import CountVectorizer\n",
    "from sklearn.feature_extraction.text import TfidfVectorizer"
   ]
  },
  {
   "cell_type": "code",
   "execution_count": 24,
   "metadata": {
    "collapsed": true
   },
   "outputs": [],
   "source": [
    "vectorizer = CountVectorizer(min_df=1)"
   ]
  },
  {
   "cell_type": "code",
   "execution_count": 25,
   "metadata": {
    "collapsed": false
   },
   "outputs": [
    {
     "data": {
      "text/plain": [
       "CountVectorizer(analyzer=u'word', binary=False, decode_error=u'strict',\n",
       "        dtype=<type 'numpy.int64'>, encoding=u'utf-8', input=u'content',\n",
       "        lowercase=True, max_df=1.0, max_features=None, min_df=1,\n",
       "        ngram_range=(1, 1), preprocessor=None, stop_words=None,\n",
       "        strip_accents=None, token_pattern=u'(?u)\\\\b\\\\w\\\\w+\\\\b',\n",
       "        tokenizer=None, vocabulary=None)"
      ]
     },
     "execution_count": 25,
     "metadata": {},
     "output_type": "execute_result"
    }
   ],
   "source": [
    "vectorizer"
   ]
  },
  {
   "cell_type": "code",
   "execution_count": 26,
   "metadata": {
    "collapsed": true
   },
   "outputs": [],
   "source": [
    "from nltk.corpus import genesis"
   ]
  },
  {
   "cell_type": "code",
   "execution_count": 27,
   "metadata": {
    "collapsed": false
   },
   "outputs": [
    {
     "data": {
      "text/plain": [
       "[u'english-kjv.txt',\n",
       " u'english-web.txt',\n",
       " u'finnish.txt',\n",
       " u'french.txt',\n",
       " u'german.txt',\n",
       " u'lolcat.txt',\n",
       " u'portuguese.txt',\n",
       " u'swedish.txt']"
      ]
     },
     "execution_count": 27,
     "metadata": {},
     "output_type": "execute_result"
    }
   ],
   "source": [
    "genesis.fileids()"
   ]
  },
  {
   "cell_type": "code",
   "execution_count": 28,
   "metadata": {
    "collapsed": false
   },
   "outputs": [],
   "source": [
    "doc = genesis.words('english-kjv.txt')"
   ]
  },
  {
   "cell_type": "code",
   "execution_count": 29,
   "metadata": {
    "collapsed": false
   },
   "outputs": [],
   "source": [
    "text = ' '.join(doc)"
   ]
  },
  {
   "cell_type": "code",
   "execution_count": 30,
   "metadata": {
    "collapsed": false
   },
   "outputs": [],
   "source": [
    "from nltk.tokenize import sent_tokenize"
   ]
  },
  {
   "cell_type": "code",
   "execution_count": 31,
   "metadata": {
    "collapsed": false
   },
   "outputs": [],
   "source": [
    "document = sent_tokenize(text)"
   ]
  },
  {
   "cell_type": "code",
   "execution_count": 32,
   "metadata": {
    "collapsed": false
   },
   "outputs": [],
   "source": [
    "X = vectorizer.fit_transform(document)"
   ]
  },
  {
   "cell_type": "code",
   "execution_count": 33,
   "metadata": {
    "collapsed": false
   },
   "outputs": [
    {
     "data": {
      "text/plain": [
       "array([[0, 0, 0, ..., 0, 0, 0],\n",
       "       [0, 0, 0, ..., 0, 0, 0],\n",
       "       [0, 0, 0, ..., 0, 0, 0],\n",
       "       ..., \n",
       "       [0, 0, 0, ..., 0, 0, 0],\n",
       "       [0, 0, 0, ..., 0, 0, 0],\n",
       "       [0, 0, 0, ..., 0, 0, 0]])"
      ]
     },
     "execution_count": 33,
     "metadata": {},
     "output_type": "execute_result"
    }
   ],
   "source": [
    "X.toarray()"
   ]
  },
  {
   "cell_type": "code",
   "execution_count": 34,
   "metadata": {
    "collapsed": false
   },
   "outputs": [
    {
     "name": "stdout",
     "output_type": "stream",
     "text": [
      "(1467, 2603)\n"
     ]
    }
   ],
   "source": [
    "print X.shape"
   ]
  },
  {
   "cell_type": "code",
   "execution_count": 35,
   "metadata": {
    "collapsed": true
   },
   "outputs": [],
   "source": [
    "transformer = TfidfVectorizer()"
   ]
  },
  {
   "cell_type": "code",
   "execution_count": 36,
   "metadata": {
    "collapsed": false
   },
   "outputs": [
    {
     "data": {
      "text/plain": [
       "TfidfVectorizer(analyzer=u'word', binary=False, decode_error=u'strict',\n",
       "        dtype=<type 'numpy.int64'>, encoding=u'utf-8', input=u'content',\n",
       "        lowercase=True, max_df=1.0, max_features=None, min_df=1,\n",
       "        ngram_range=(1, 1), norm=u'l2', preprocessor=None, smooth_idf=True,\n",
       "        stop_words=None, strip_accents=None, sublinear_tf=False,\n",
       "        token_pattern=u'(?u)\\\\b\\\\w\\\\w+\\\\b', tokenizer=None, use_idf=True,\n",
       "        vocabulary=None)"
      ]
     },
     "execution_count": 36,
     "metadata": {},
     "output_type": "execute_result"
    }
   ],
   "source": [
    "transformer"
   ]
  },
  {
   "cell_type": "code",
   "execution_count": 37,
   "metadata": {
    "collapsed": false
   },
   "outputs": [],
   "source": [
    "tfidf = transformer.fit_transform(document)"
   ]
  },
  {
   "cell_type": "code",
   "execution_count": 38,
   "metadata": {
    "collapsed": false
   },
   "outputs": [
    {
     "data": {
      "text/plain": [
       "<1467x2603 sparse matrix of type '<type 'numpy.float64'>'\n",
       "\twith 28503 stored elements in Compressed Sparse Row format>"
      ]
     },
     "execution_count": 38,
     "metadata": {},
     "output_type": "execute_result"
    }
   ],
   "source": [
    "tfidf"
   ]
  },
  {
   "cell_type": "code",
   "execution_count": 39,
   "metadata": {
    "collapsed": false
   },
   "outputs": [
    {
     "data": {
      "text/plain": [
       "array([[ 0.,  0.,  0., ...,  0.,  0.,  0.],\n",
       "       [ 0.,  0.,  0., ...,  0.,  0.,  0.],\n",
       "       [ 0.,  0.,  0., ...,  0.,  0.,  0.],\n",
       "       ..., \n",
       "       [ 0.,  0.,  0., ...,  0.,  0.,  0.],\n",
       "       [ 0.,  0.,  0., ...,  0.,  0.,  0.],\n",
       "       [ 0.,  0.,  0., ...,  0.,  0.,  0.]])"
      ]
     },
     "execution_count": 39,
     "metadata": {},
     "output_type": "execute_result"
    }
   ],
   "source": [
    "tfidf.toarray()"
   ]
  },
  {
   "cell_type": "code",
   "execution_count": 40,
   "metadata": {
    "collapsed": false
   },
   "outputs": [
    {
     "data": {
      "text/plain": [
       "(1467, 2603)"
      ]
     },
     "execution_count": 40,
     "metadata": {},
     "output_type": "execute_result"
    }
   ],
   "source": [
    "tfidf.shape"
   ]
  },
  {
   "cell_type": "markdown",
   "metadata": {},
   "source": [
    "## Non negative Matrix Factorisation and Latend Dirichlet Allocation"
   ]
  },
  {
   "cell_type": "code",
   "execution_count": 41,
   "metadata": {
    "collapsed": false
   },
   "outputs": [],
   "source": [
    "# Author: Olivier Grisel <olivier.grisel@ensta.org>\n",
    "#         Lars Buitinck <L.J.Buitinck@uva.nl>\n",
    "#         Chyi-Kwei Yau <chyikwei.yau@gmail.com>\n",
    "# License: BSD 3 clause\n",
    "\n",
    "from time import time\n",
    "\n",
    "from sklearn.feature_extraction.text import TfidfVectorizer, CountVectorizer\n",
    "from sklearn.decomposition import NMF, LatentDirichletAllocation\n",
    "\n",
    "n_samples = 2000\n",
    "n_features = 1000\n",
    "n_topics = 10\n",
    "n_top_words = 20\n",
    "\n",
    "\n",
    "def applyLDA(data_samples):\n",
    "    \n",
    "    # Use tf-idf features for NMF.\n",
    "    print(\"Extracting tf features for LDA...\")\n",
    "    tf_vectorizer = CountVectorizer(max_df=0.95, min_df=2, max_features=n_features,\n",
    "                                stop_words='english')\n",
    "    tf = tf_vectorizer.fit_transform(data_samples)\n",
    "    \n",
    "    # Fit the NMF model\n",
    "    print(\"Fitting LDA models with tf features, n_samples=%d and n_features=%d...\"\n",
    "      % (n_samples, n_features))\n",
    "    lda = LatentDirichletAllocation(n_topics=n_topics, max_iter=5,\n",
    "                                learning_method='online', learning_offset=50.,\n",
    "                                random_state=0)\n",
    "    lda.fit(tf)\n",
    "    return lda.transform(tf)\n"
   ]
  },
  {
   "cell_type": "code",
   "execution_count": 42,
   "metadata": {
    "collapsed": true
   },
   "outputs": [],
   "source": [
    "def applyNMF(data_samples):\n",
    "    print(\"Extracting tf-idf features for NMF...\")\n",
    "    tfidf_vectorizer = TfidfVectorizer(stop_words='english')\n",
    "    tfidf = tfidf_vectorizer.fit_transform(data_samples)\n",
    "    print(\"Fitting the NMF model with tf-idf features,\"\n",
    "      \"n_samples=%d and n_features=%d...\"\n",
    "      % (n_samples, n_features))\n",
    "    nmf = NMF(n_components=n_topics, random_state=1, alpha=.1, l1_ratio=.5).fit(tfidf)\n",
    "    return nmf.transform(tfidf)"
   ]
  },
  {
   "cell_type": "markdown",
   "metadata": {},
   "source": [
    "### Using LDA"
   ]
  },
  {
   "cell_type": "code",
   "execution_count": 43,
   "metadata": {
    "collapsed": false
   },
   "outputs": [],
   "source": [
    "parent_data = data.copy()"
   ]
  },
  {
   "cell_type": "code",
   "execution_count": 44,
   "metadata": {
    "collapsed": false
   },
   "outputs": [
    {
     "name": "stdout",
     "output_type": "stream",
     "text": [
      "Extracting tf features for LDA...\n",
      "Fitting LDA models with tf features, n_samples=2000 and n_features=1000...\n",
      "(4040, 10)\n"
     ]
    }
   ],
   "source": [
    "topics = applyLDA(data['request_text_edit_aware'])\n",
    "print(topics.shape)"
   ]
  },
  {
   "cell_type": "code",
   "execution_count": 45,
   "metadata": {
    "collapsed": false
   },
   "outputs": [],
   "source": [
    "t = np.asarray([np.argmax(row) for row in topics])"
   ]
  },
  {
   "cell_type": "code",
   "execution_count": 46,
   "metadata": {
    "collapsed": false
   },
   "outputs": [],
   "source": [
    "data['topics'] = t"
   ]
  },
  {
   "cell_type": "code",
   "execution_count": 47,
   "metadata": {
    "collapsed": false
   },
   "outputs": [],
   "source": [
    "for i in data.columns:\n",
    "    if data[i].dtype == 'object':\n",
    "        data.pop(i)"
   ]
  },
  {
   "cell_type": "code",
   "execution_count": 48,
   "metadata": {
    "collapsed": false
   },
   "outputs": [
    {
     "data": {
      "text/html": [
       "<div>\n",
       "<table border=\"1\" class=\"dataframe\">\n",
       "  <thead>\n",
       "    <tr style=\"text-align: right;\">\n",
       "      <th></th>\n",
       "      <th>requester_account_age_in_days_at_request</th>\n",
       "      <th>requester_days_since_first_post_on_raop_at_request</th>\n",
       "      <th>requester_number_of_comments_at_request</th>\n",
       "      <th>requester_number_of_comments_in_raop_at_request</th>\n",
       "      <th>requester_number_of_posts_at_request</th>\n",
       "      <th>requester_number_of_posts_on_raop_at_request</th>\n",
       "      <th>requester_number_of_subreddits_at_request</th>\n",
       "      <th>requester_received_pizza</th>\n",
       "      <th>requester_upvotes_minus_downvotes_at_request</th>\n",
       "      <th>requester_upvotes_plus_downvotes_at_request</th>\n",
       "      <th>unix_timestamp_of_request</th>\n",
       "      <th>unix_timestamp_of_request_utc</th>\n",
       "      <th>topics</th>\n",
       "    </tr>\n",
       "  </thead>\n",
       "  <tbody>\n",
       "    <tr>\n",
       "      <th>0</th>\n",
       "      <td>0.000000</td>\n",
       "      <td>0.000000</td>\n",
       "      <td>0</td>\n",
       "      <td>0</td>\n",
       "      <td>0</td>\n",
       "      <td>0</td>\n",
       "      <td>0</td>\n",
       "      <td>False</td>\n",
       "      <td>0</td>\n",
       "      <td>0</td>\n",
       "      <td>1317852607</td>\n",
       "      <td>1317849007</td>\n",
       "      <td>8</td>\n",
       "    </tr>\n",
       "    <tr>\n",
       "      <th>1</th>\n",
       "      <td>501.111100</td>\n",
       "      <td>0.000000</td>\n",
       "      <td>0</td>\n",
       "      <td>0</td>\n",
       "      <td>15</td>\n",
       "      <td>0</td>\n",
       "      <td>12</td>\n",
       "      <td>False</td>\n",
       "      <td>34</td>\n",
       "      <td>116</td>\n",
       "      <td>1332652424</td>\n",
       "      <td>1332648824</td>\n",
       "      <td>5</td>\n",
       "    </tr>\n",
       "    <tr>\n",
       "      <th>2</th>\n",
       "      <td>0.000000</td>\n",
       "      <td>0.000000</td>\n",
       "      <td>0</td>\n",
       "      <td>0</td>\n",
       "      <td>0</td>\n",
       "      <td>0</td>\n",
       "      <td>0</td>\n",
       "      <td>False</td>\n",
       "      <td>0</td>\n",
       "      <td>0</td>\n",
       "      <td>1319650094</td>\n",
       "      <td>1319646494</td>\n",
       "      <td>1</td>\n",
       "    </tr>\n",
       "    <tr>\n",
       "      <th>3</th>\n",
       "      <td>6.518438</td>\n",
       "      <td>0.000000</td>\n",
       "      <td>36</td>\n",
       "      <td>0</td>\n",
       "      <td>1</td>\n",
       "      <td>0</td>\n",
       "      <td>4</td>\n",
       "      <td>False</td>\n",
       "      <td>54</td>\n",
       "      <td>76</td>\n",
       "      <td>1322855434</td>\n",
       "      <td>1322855434</td>\n",
       "      <td>8</td>\n",
       "    </tr>\n",
       "    <tr>\n",
       "      <th>4</th>\n",
       "      <td>162.063252</td>\n",
       "      <td>101.606505</td>\n",
       "      <td>140</td>\n",
       "      <td>2</td>\n",
       "      <td>14</td>\n",
       "      <td>0</td>\n",
       "      <td>11</td>\n",
       "      <td>False</td>\n",
       "      <td>1121</td>\n",
       "      <td>1733</td>\n",
       "      <td>1373657691</td>\n",
       "      <td>1373654091</td>\n",
       "      <td>1</td>\n",
       "    </tr>\n",
       "  </tbody>\n",
       "</table>\n",
       "</div>"
      ],
      "text/plain": [
       "   requester_account_age_in_days_at_request  \\\n",
       "0                                  0.000000   \n",
       "1                                501.111100   \n",
       "2                                  0.000000   \n",
       "3                                  6.518438   \n",
       "4                                162.063252   \n",
       "\n",
       "   requester_days_since_first_post_on_raop_at_request  \\\n",
       "0                                           0.000000    \n",
       "1                                           0.000000    \n",
       "2                                           0.000000    \n",
       "3                                           0.000000    \n",
       "4                                         101.606505    \n",
       "\n",
       "   requester_number_of_comments_at_request  \\\n",
       "0                                        0   \n",
       "1                                        0   \n",
       "2                                        0   \n",
       "3                                       36   \n",
       "4                                      140   \n",
       "\n",
       "   requester_number_of_comments_in_raop_at_request  \\\n",
       "0                                                0   \n",
       "1                                                0   \n",
       "2                                                0   \n",
       "3                                                0   \n",
       "4                                                2   \n",
       "\n",
       "   requester_number_of_posts_at_request  \\\n",
       "0                                     0   \n",
       "1                                    15   \n",
       "2                                     0   \n",
       "3                                     1   \n",
       "4                                    14   \n",
       "\n",
       "   requester_number_of_posts_on_raop_at_request  \\\n",
       "0                                             0   \n",
       "1                                             0   \n",
       "2                                             0   \n",
       "3                                             0   \n",
       "4                                             0   \n",
       "\n",
       "   requester_number_of_subreddits_at_request requester_received_pizza  \\\n",
       "0                                          0                    False   \n",
       "1                                         12                    False   \n",
       "2                                          0                    False   \n",
       "3                                          4                    False   \n",
       "4                                         11                    False   \n",
       "\n",
       "   requester_upvotes_minus_downvotes_at_request  \\\n",
       "0                                             0   \n",
       "1                                            34   \n",
       "2                                             0   \n",
       "3                                            54   \n",
       "4                                          1121   \n",
       "\n",
       "   requester_upvotes_plus_downvotes_at_request  unix_timestamp_of_request  \\\n",
       "0                                            0                 1317852607   \n",
       "1                                          116                 1332652424   \n",
       "2                                            0                 1319650094   \n",
       "3                                           76                 1322855434   \n",
       "4                                         1733                 1373657691   \n",
       "\n",
       "   unix_timestamp_of_request_utc  topics  \n",
       "0                     1317849007       8  \n",
       "1                     1332648824       5  \n",
       "2                     1319646494       1  \n",
       "3                     1322855434       8  \n",
       "4                     1373654091       1  "
      ]
     },
     "execution_count": 48,
     "metadata": {},
     "output_type": "execute_result"
    }
   ],
   "source": [
    "data.head()"
   ]
  },
  {
   "cell_type": "code",
   "execution_count": 49,
   "metadata": {
    "collapsed": false
   },
   "outputs": [],
   "source": [
    "y = data.pop('requester_received_pizza')"
   ]
  },
  {
   "cell_type": "code",
   "execution_count": 50,
   "metadata": {
    "collapsed": false
   },
   "outputs": [],
   "source": [
    "from sklearn.ensemble import RandomForestRegressor\n",
    "rfr = RandomForestClassifier(n_estimators=100)"
   ]
  },
  {
   "cell_type": "code",
   "execution_count": 51,
   "metadata": {
    "collapsed": false
   },
   "outputs": [],
   "source": [
    "X_train,X_test,y_train,y_test = train_test_split(data,y,test_size=0.3,random_state=7)"
   ]
  },
  {
   "cell_type": "code",
   "execution_count": 52,
   "metadata": {
    "collapsed": false
   },
   "outputs": [
    {
     "data": {
      "text/plain": [
       "RandomForestClassifier(bootstrap=True, class_weight=None, criterion='gini',\n",
       "            max_depth=None, max_features='auto', max_leaf_nodes=None,\n",
       "            min_samples_leaf=1, min_samples_split=2,\n",
       "            min_weight_fraction_leaf=0.0, n_estimators=100, n_jobs=1,\n",
       "            oob_score=False, random_state=None, verbose=0,\n",
       "            warm_start=False)"
      ]
     },
     "execution_count": 52,
     "metadata": {},
     "output_type": "execute_result"
    }
   ],
   "source": [
    "rfr.fit(X_train,y_train)"
   ]
  },
  {
   "cell_type": "code",
   "execution_count": 53,
   "metadata": {
    "collapsed": false
   },
   "outputs": [
    {
     "name": "stdout",
     "output_type": "stream",
     "text": [
      "ROC AUC Score: 0.619724049923\n"
     ]
    }
   ],
   "source": [
    "print('ROC AUC Score: {}'.format(roc_auc_score(y_test,rfr.predict_proba(X_test)[:,1])))"
   ]
  },
  {
   "cell_type": "markdown",
   "metadata": {
    "collapsed": false
   },
   "source": [
    "The LDA Model increases the AUC Score. We can also use the giver username column by mapping all the N/A usernames to 0 and other to 1"
   ]
  },
  {
   "cell_type": "markdown",
   "metadata": {},
   "source": [
    "### Using NMF"
   ]
  },
  {
   "cell_type": "code",
   "execution_count": 54,
   "metadata": {
    "collapsed": false
   },
   "outputs": [
    {
     "data": {
      "text/html": [
       "<div>\n",
       "<table border=\"1\" class=\"dataframe\">\n",
       "  <thead>\n",
       "    <tr style=\"text-align: right;\">\n",
       "      <th></th>\n",
       "      <th>requester_account_age_in_days_at_request</th>\n",
       "      <th>requester_days_since_first_post_on_raop_at_request</th>\n",
       "      <th>requester_number_of_comments_at_request</th>\n",
       "      <th>requester_number_of_comments_in_raop_at_request</th>\n",
       "      <th>requester_number_of_posts_at_request</th>\n",
       "      <th>requester_number_of_posts_on_raop_at_request</th>\n",
       "      <th>requester_number_of_subreddits_at_request</th>\n",
       "      <th>requester_upvotes_minus_downvotes_at_request</th>\n",
       "      <th>requester_upvotes_plus_downvotes_at_request</th>\n",
       "      <th>unix_timestamp_of_request</th>\n",
       "      <th>unix_timestamp_of_request_utc</th>\n",
       "      <th>topics</th>\n",
       "    </tr>\n",
       "  </thead>\n",
       "  <tbody>\n",
       "    <tr>\n",
       "      <th>0</th>\n",
       "      <td>0.000000</td>\n",
       "      <td>0.000000</td>\n",
       "      <td>0</td>\n",
       "      <td>0</td>\n",
       "      <td>0</td>\n",
       "      <td>0</td>\n",
       "      <td>0</td>\n",
       "      <td>0</td>\n",
       "      <td>0</td>\n",
       "      <td>1317852607</td>\n",
       "      <td>1317849007</td>\n",
       "      <td>8</td>\n",
       "    </tr>\n",
       "    <tr>\n",
       "      <th>1</th>\n",
       "      <td>501.111100</td>\n",
       "      <td>0.000000</td>\n",
       "      <td>0</td>\n",
       "      <td>0</td>\n",
       "      <td>15</td>\n",
       "      <td>0</td>\n",
       "      <td>12</td>\n",
       "      <td>34</td>\n",
       "      <td>116</td>\n",
       "      <td>1332652424</td>\n",
       "      <td>1332648824</td>\n",
       "      <td>5</td>\n",
       "    </tr>\n",
       "    <tr>\n",
       "      <th>2</th>\n",
       "      <td>0.000000</td>\n",
       "      <td>0.000000</td>\n",
       "      <td>0</td>\n",
       "      <td>0</td>\n",
       "      <td>0</td>\n",
       "      <td>0</td>\n",
       "      <td>0</td>\n",
       "      <td>0</td>\n",
       "      <td>0</td>\n",
       "      <td>1319650094</td>\n",
       "      <td>1319646494</td>\n",
       "      <td>1</td>\n",
       "    </tr>\n",
       "    <tr>\n",
       "      <th>3</th>\n",
       "      <td>6.518438</td>\n",
       "      <td>0.000000</td>\n",
       "      <td>36</td>\n",
       "      <td>0</td>\n",
       "      <td>1</td>\n",
       "      <td>0</td>\n",
       "      <td>4</td>\n",
       "      <td>54</td>\n",
       "      <td>76</td>\n",
       "      <td>1322855434</td>\n",
       "      <td>1322855434</td>\n",
       "      <td>8</td>\n",
       "    </tr>\n",
       "    <tr>\n",
       "      <th>4</th>\n",
       "      <td>162.063252</td>\n",
       "      <td>101.606505</td>\n",
       "      <td>140</td>\n",
       "      <td>2</td>\n",
       "      <td>14</td>\n",
       "      <td>0</td>\n",
       "      <td>11</td>\n",
       "      <td>1121</td>\n",
       "      <td>1733</td>\n",
       "      <td>1373657691</td>\n",
       "      <td>1373654091</td>\n",
       "      <td>1</td>\n",
       "    </tr>\n",
       "  </tbody>\n",
       "</table>\n",
       "</div>"
      ],
      "text/plain": [
       "   requester_account_age_in_days_at_request  \\\n",
       "0                                  0.000000   \n",
       "1                                501.111100   \n",
       "2                                  0.000000   \n",
       "3                                  6.518438   \n",
       "4                                162.063252   \n",
       "\n",
       "   requester_days_since_first_post_on_raop_at_request  \\\n",
       "0                                           0.000000    \n",
       "1                                           0.000000    \n",
       "2                                           0.000000    \n",
       "3                                           0.000000    \n",
       "4                                         101.606505    \n",
       "\n",
       "   requester_number_of_comments_at_request  \\\n",
       "0                                        0   \n",
       "1                                        0   \n",
       "2                                        0   \n",
       "3                                       36   \n",
       "4                                      140   \n",
       "\n",
       "   requester_number_of_comments_in_raop_at_request  \\\n",
       "0                                                0   \n",
       "1                                                0   \n",
       "2                                                0   \n",
       "3                                                0   \n",
       "4                                                2   \n",
       "\n",
       "   requester_number_of_posts_at_request  \\\n",
       "0                                     0   \n",
       "1                                    15   \n",
       "2                                     0   \n",
       "3                                     1   \n",
       "4                                    14   \n",
       "\n",
       "   requester_number_of_posts_on_raop_at_request  \\\n",
       "0                                             0   \n",
       "1                                             0   \n",
       "2                                             0   \n",
       "3                                             0   \n",
       "4                                             0   \n",
       "\n",
       "   requester_number_of_subreddits_at_request  \\\n",
       "0                                          0   \n",
       "1                                         12   \n",
       "2                                          0   \n",
       "3                                          4   \n",
       "4                                         11   \n",
       "\n",
       "   requester_upvotes_minus_downvotes_at_request  \\\n",
       "0                                             0   \n",
       "1                                            34   \n",
       "2                                             0   \n",
       "3                                            54   \n",
       "4                                          1121   \n",
       "\n",
       "   requester_upvotes_plus_downvotes_at_request  unix_timestamp_of_request  \\\n",
       "0                                            0                 1317852607   \n",
       "1                                          116                 1332652424   \n",
       "2                                            0                 1319650094   \n",
       "3                                           76                 1322855434   \n",
       "4                                         1733                 1373657691   \n",
       "\n",
       "   unix_timestamp_of_request_utc  topics  \n",
       "0                     1317849007       8  \n",
       "1                     1332648824       5  \n",
       "2                     1319646494       1  \n",
       "3                     1322855434       8  \n",
       "4                     1373654091       1  "
      ]
     },
     "execution_count": 54,
     "metadata": {},
     "output_type": "execute_result"
    }
   ],
   "source": [
    "data.head()"
   ]
  },
  {
   "cell_type": "code",
   "execution_count": 55,
   "metadata": {
    "collapsed": false
   },
   "outputs": [
    {
     "name": "stdout",
     "output_type": "stream",
     "text": [
      "Extracting tf-idf features for NMF...\n",
      "Fitting the NMF model with tf-idf features,n_samples=2000 and n_features=1000...\n",
      "(4040, 10)\n"
     ]
    }
   ],
   "source": [
    "topics = applyNMF(parent_data['request_text_edit_aware'])\n",
    "print topics.shape"
   ]
  },
  {
   "cell_type": "code",
   "execution_count": 56,
   "metadata": {
    "collapsed": true
   },
   "outputs": [],
   "source": [
    "t = np.asarray([np.argmax(row) for row in topics])"
   ]
  },
  {
   "cell_type": "code",
   "execution_count": 57,
   "metadata": {
    "collapsed": true
   },
   "outputs": [],
   "source": [
    "data['topics'] = t"
   ]
  },
  {
   "cell_type": "code",
   "execution_count": 58,
   "metadata": {
    "collapsed": false
   },
   "outputs": [],
   "source": [
    "rfr = RandomForestClassifier(n_estimators=100)"
   ]
  },
  {
   "cell_type": "code",
   "execution_count": 59,
   "metadata": {
    "collapsed": true
   },
   "outputs": [],
   "source": [
    "X_train,X_test,y_train,y_test = train_test_split(data,y,test_size=0.3,random_state=7)"
   ]
  },
  {
   "cell_type": "code",
   "execution_count": 60,
   "metadata": {
    "collapsed": false
   },
   "outputs": [
    {
     "data": {
      "text/plain": [
       "RandomForestClassifier(bootstrap=True, class_weight=None, criterion='gini',\n",
       "            max_depth=None, max_features='auto', max_leaf_nodes=None,\n",
       "            min_samples_leaf=1, min_samples_split=2,\n",
       "            min_weight_fraction_leaf=0.0, n_estimators=100, n_jobs=1,\n",
       "            oob_score=False, random_state=None, verbose=0,\n",
       "            warm_start=False)"
      ]
     },
     "execution_count": 60,
     "metadata": {},
     "output_type": "execute_result"
    }
   ],
   "source": [
    "rfr.fit(X_train,y_train)"
   ]
  },
  {
   "cell_type": "code",
   "execution_count": 61,
   "metadata": {
    "collapsed": false
   },
   "outputs": [
    {
     "name": "stdout",
     "output_type": "stream",
     "text": [
      "ROC AUC Score: 0.618700578308\n"
     ]
    }
   ],
   "source": [
    "print('ROC AUC Score: {}'.format(roc_auc_score(y_test,rfr.predict_proba(X_test)[:,1])))"
   ]
  },
  {
   "cell_type": "markdown",
   "metadata": {
    "collapsed": false
   },
   "source": [
    "## Converting \"giver_username....\" column to 0 and 1"
   ]
  },
  {
   "cell_type": "code",
   "execution_count": 62,
   "metadata": {
    "collapsed": false
   },
   "outputs": [
    {
     "data": {
      "text/html": [
       "<div>\n",
       "<table border=\"1\" class=\"dataframe\">\n",
       "  <thead>\n",
       "    <tr style=\"text-align: right;\">\n",
       "      <th></th>\n",
       "      <th>giver_username_if_known</th>\n",
       "      <th>request_id</th>\n",
       "      <th>request_text_edit_aware</th>\n",
       "      <th>request_title</th>\n",
       "      <th>requester_account_age_in_days_at_request</th>\n",
       "      <th>requester_days_since_first_post_on_raop_at_request</th>\n",
       "      <th>requester_number_of_comments_at_request</th>\n",
       "      <th>requester_number_of_comments_in_raop_at_request</th>\n",
       "      <th>requester_number_of_posts_at_request</th>\n",
       "      <th>requester_number_of_posts_on_raop_at_request</th>\n",
       "      <th>requester_number_of_subreddits_at_request</th>\n",
       "      <th>requester_received_pizza</th>\n",
       "      <th>requester_subreddits_at_request</th>\n",
       "      <th>requester_upvotes_minus_downvotes_at_request</th>\n",
       "      <th>requester_upvotes_plus_downvotes_at_request</th>\n",
       "      <th>requester_username</th>\n",
       "      <th>unix_timestamp_of_request</th>\n",
       "      <th>unix_timestamp_of_request_utc</th>\n",
       "    </tr>\n",
       "  </thead>\n",
       "  <tbody>\n",
       "    <tr>\n",
       "      <th>0</th>\n",
       "      <td>N/A</td>\n",
       "      <td>t3_l25d7</td>\n",
       "      <td>Hi I am in need of food for my 4 children we a...</td>\n",
       "      <td>Request Colorado Springs Help Us Please</td>\n",
       "      <td>0.000000</td>\n",
       "      <td>0.000000</td>\n",
       "      <td>0</td>\n",
       "      <td>0</td>\n",
       "      <td>0</td>\n",
       "      <td>0</td>\n",
       "      <td>0</td>\n",
       "      <td>False</td>\n",
       "      <td>[]</td>\n",
       "      <td>0</td>\n",
       "      <td>0</td>\n",
       "      <td>nickylvst</td>\n",
       "      <td>1317852607</td>\n",
       "      <td>1317849007</td>\n",
       "    </tr>\n",
       "    <tr>\n",
       "      <th>1</th>\n",
       "      <td>N/A</td>\n",
       "      <td>t3_rcb83</td>\n",
       "      <td>I spent the last money I had on gas today. Im ...</td>\n",
       "      <td>[Request] California, No cash and I could use ...</td>\n",
       "      <td>501.111100</td>\n",
       "      <td>0.000000</td>\n",
       "      <td>0</td>\n",
       "      <td>0</td>\n",
       "      <td>15</td>\n",
       "      <td>0</td>\n",
       "      <td>12</td>\n",
       "      <td>False</td>\n",
       "      <td>[AskReddit, Eve, IAmA, MontereyBay, RandomKind...</td>\n",
       "      <td>34</td>\n",
       "      <td>116</td>\n",
       "      <td>fohacidal</td>\n",
       "      <td>1332652424</td>\n",
       "      <td>1332648824</td>\n",
       "    </tr>\n",
       "    <tr>\n",
       "      <th>2</th>\n",
       "      <td>N/A</td>\n",
       "      <td>t3_lpu5j</td>\n",
       "      <td>My girlfriend decided it would be a good idea ...</td>\n",
       "      <td>[Request] Hungry couple in Dundee, Scotland wo...</td>\n",
       "      <td>0.000000</td>\n",
       "      <td>0.000000</td>\n",
       "      <td>0</td>\n",
       "      <td>0</td>\n",
       "      <td>0</td>\n",
       "      <td>0</td>\n",
       "      <td>0</td>\n",
       "      <td>False</td>\n",
       "      <td>[]</td>\n",
       "      <td>0</td>\n",
       "      <td>0</td>\n",
       "      <td>jacquibatman7</td>\n",
       "      <td>1319650094</td>\n",
       "      <td>1319646494</td>\n",
       "    </tr>\n",
       "    <tr>\n",
       "      <th>3</th>\n",
       "      <td>N/A</td>\n",
       "      <td>t3_mxvj3</td>\n",
       "      <td>It's cold, I'n hungry, and to be completely ho...</td>\n",
       "      <td>[Request] In Canada (Ontario), just got home f...</td>\n",
       "      <td>6.518438</td>\n",
       "      <td>0.000000</td>\n",
       "      <td>36</td>\n",
       "      <td>0</td>\n",
       "      <td>1</td>\n",
       "      <td>0</td>\n",
       "      <td>4</td>\n",
       "      <td>False</td>\n",
       "      <td>[AskReddit, DJs, IAmA, Random_Acts_Of_Pizza]</td>\n",
       "      <td>54</td>\n",
       "      <td>76</td>\n",
       "      <td>4on_the_floor</td>\n",
       "      <td>1322855434</td>\n",
       "      <td>1322855434</td>\n",
       "    </tr>\n",
       "    <tr>\n",
       "      <th>4</th>\n",
       "      <td>N/A</td>\n",
       "      <td>t3_1i6486</td>\n",
       "      <td>hey guys:\\n I love this sub. I think it's grea...</td>\n",
       "      <td>[Request] Old friend coming to visit. Would LO...</td>\n",
       "      <td>162.063252</td>\n",
       "      <td>101.606505</td>\n",
       "      <td>140</td>\n",
       "      <td>2</td>\n",
       "      <td>14</td>\n",
       "      <td>0</td>\n",
       "      <td>11</td>\n",
       "      <td>False</td>\n",
       "      <td>[GayBrosWeightLoss, RandomActsOfCookies, Rando...</td>\n",
       "      <td>1121</td>\n",
       "      <td>1733</td>\n",
       "      <td>Futuredogwalker</td>\n",
       "      <td>1373657691</td>\n",
       "      <td>1373654091</td>\n",
       "    </tr>\n",
       "  </tbody>\n",
       "</table>\n",
       "</div>"
      ],
      "text/plain": [
       "  giver_username_if_known request_id  \\\n",
       "0                     N/A   t3_l25d7   \n",
       "1                     N/A   t3_rcb83   \n",
       "2                     N/A   t3_lpu5j   \n",
       "3                     N/A   t3_mxvj3   \n",
       "4                     N/A  t3_1i6486   \n",
       "\n",
       "                             request_text_edit_aware  \\\n",
       "0  Hi I am in need of food for my 4 children we a...   \n",
       "1  I spent the last money I had on gas today. Im ...   \n",
       "2  My girlfriend decided it would be a good idea ...   \n",
       "3  It's cold, I'n hungry, and to be completely ho...   \n",
       "4  hey guys:\\n I love this sub. I think it's grea...   \n",
       "\n",
       "                                       request_title  \\\n",
       "0            Request Colorado Springs Help Us Please   \n",
       "1  [Request] California, No cash and I could use ...   \n",
       "2  [Request] Hungry couple in Dundee, Scotland wo...   \n",
       "3  [Request] In Canada (Ontario), just got home f...   \n",
       "4  [Request] Old friend coming to visit. Would LO...   \n",
       "\n",
       "   requester_account_age_in_days_at_request  \\\n",
       "0                                  0.000000   \n",
       "1                                501.111100   \n",
       "2                                  0.000000   \n",
       "3                                  6.518438   \n",
       "4                                162.063252   \n",
       "\n",
       "   requester_days_since_first_post_on_raop_at_request  \\\n",
       "0                                           0.000000    \n",
       "1                                           0.000000    \n",
       "2                                           0.000000    \n",
       "3                                           0.000000    \n",
       "4                                         101.606505    \n",
       "\n",
       "   requester_number_of_comments_at_request  \\\n",
       "0                                        0   \n",
       "1                                        0   \n",
       "2                                        0   \n",
       "3                                       36   \n",
       "4                                      140   \n",
       "\n",
       "   requester_number_of_comments_in_raop_at_request  \\\n",
       "0                                                0   \n",
       "1                                                0   \n",
       "2                                                0   \n",
       "3                                                0   \n",
       "4                                                2   \n",
       "\n",
       "   requester_number_of_posts_at_request  \\\n",
       "0                                     0   \n",
       "1                                    15   \n",
       "2                                     0   \n",
       "3                                     1   \n",
       "4                                    14   \n",
       "\n",
       "   requester_number_of_posts_on_raop_at_request  \\\n",
       "0                                             0   \n",
       "1                                             0   \n",
       "2                                             0   \n",
       "3                                             0   \n",
       "4                                             0   \n",
       "\n",
       "   requester_number_of_subreddits_at_request requester_received_pizza  \\\n",
       "0                                          0                    False   \n",
       "1                                         12                    False   \n",
       "2                                          0                    False   \n",
       "3                                          4                    False   \n",
       "4                                         11                    False   \n",
       "\n",
       "                     requester_subreddits_at_request  \\\n",
       "0                                                 []   \n",
       "1  [AskReddit, Eve, IAmA, MontereyBay, RandomKind...   \n",
       "2                                                 []   \n",
       "3       [AskReddit, DJs, IAmA, Random_Acts_Of_Pizza]   \n",
       "4  [GayBrosWeightLoss, RandomActsOfCookies, Rando...   \n",
       "\n",
       "   requester_upvotes_minus_downvotes_at_request  \\\n",
       "0                                             0   \n",
       "1                                            34   \n",
       "2                                             0   \n",
       "3                                            54   \n",
       "4                                          1121   \n",
       "\n",
       "   requester_upvotes_plus_downvotes_at_request requester_username  \\\n",
       "0                                            0          nickylvst   \n",
       "1                                          116          fohacidal   \n",
       "2                                            0      jacquibatman7   \n",
       "3                                           76      4on_the_floor   \n",
       "4                                         1733    Futuredogwalker   \n",
       "\n",
       "   unix_timestamp_of_request  unix_timestamp_of_request_utc  \n",
       "0                 1317852607                     1317849007  \n",
       "1                 1332652424                     1332648824  \n",
       "2                 1319650094                     1319646494  \n",
       "3                 1322855434                     1322855434  \n",
       "4                 1373657691                     1373654091  "
      ]
     },
     "execution_count": 62,
     "metadata": {},
     "output_type": "execute_result"
    }
   ],
   "source": [
    "parent_data.head()"
   ]
  },
  {
   "cell_type": "code",
   "execution_count": 63,
   "metadata": {
    "collapsed": true
   },
   "outputs": [],
   "source": [
    "data = parent_data.copy()"
   ]
  },
  {
   "cell_type": "code",
   "execution_count": 64,
   "metadata": {
    "collapsed": false
   },
   "outputs": [],
   "source": [
    "data.giver_username_if_known = data.giver_username_if_known.map({'N/A':0})\n",
    "data.giver_username_if_known.fillna(1,inplace=True)"
   ]
  },
  {
   "cell_type": "code",
   "execution_count": 65,
   "metadata": {
    "collapsed": false
   },
   "outputs": [
    {
     "data": {
      "text/plain": [
       "array([ 0.,  1.])"
      ]
     },
     "execution_count": 65,
     "metadata": {},
     "output_type": "execute_result"
    }
   ],
   "source": [
    "data.giver_username_if_known.unique()"
   ]
  },
  {
   "cell_type": "code",
   "execution_count": 66,
   "metadata": {
    "collapsed": false
   },
   "outputs": [],
   "source": [
    "data['topics'] = t"
   ]
  },
  {
   "cell_type": "code",
   "execution_count": 67,
   "metadata": {
    "collapsed": false
   },
   "outputs": [
    {
     "name": "stdout",
     "output_type": "stream",
     "text": [
      "<class 'pandas.core.frame.DataFrame'>\n",
      "Int64Index: 4040 entries, 0 to 4039\n",
      "Data columns (total 19 columns):\n",
      "giver_username_if_known                               4040 non-null float64\n",
      "request_id                                            4040 non-null object\n",
      "request_text_edit_aware                               4040 non-null object\n",
      "request_title                                         4040 non-null object\n",
      "requester_account_age_in_days_at_request              4040 non-null float64\n",
      "requester_days_since_first_post_on_raop_at_request    4040 non-null float64\n",
      "requester_number_of_comments_at_request               4040 non-null int64\n",
      "requester_number_of_comments_in_raop_at_request       4040 non-null int64\n",
      "requester_number_of_posts_at_request                  4040 non-null int64\n",
      "requester_number_of_posts_on_raop_at_request          4040 non-null int64\n",
      "requester_number_of_subreddits_at_request             4040 non-null int64\n",
      "requester_received_pizza                              4040 non-null bool\n",
      "requester_subreddits_at_request                       4040 non-null object\n",
      "requester_upvotes_minus_downvotes_at_request          4040 non-null int64\n",
      "requester_upvotes_plus_downvotes_at_request           4040 non-null int64\n",
      "requester_username                                    4040 non-null object\n",
      "unix_timestamp_of_request                             4040 non-null int64\n",
      "unix_timestamp_of_request_utc                         4040 non-null int64\n",
      "topics                                                4040 non-null int64\n",
      "dtypes: bool(1), float64(3), int64(10), object(5)\n",
      "memory usage: 603.6+ KB\n"
     ]
    }
   ],
   "source": [
    "data.info()"
   ]
  },
  {
   "cell_type": "code",
   "execution_count": 68,
   "metadata": {
    "collapsed": false
   },
   "outputs": [
    {
     "name": "stdout",
     "output_type": "stream",
     "text": [
      "<class 'pandas.core.frame.DataFrame'>\n",
      "Int64Index: 4040 entries, 0 to 4039\n",
      "Data columns (total 13 columns):\n",
      "giver_username_if_known                               4040 non-null float64\n",
      "requester_account_age_in_days_at_request              4040 non-null float64\n",
      "requester_days_since_first_post_on_raop_at_request    4040 non-null float64\n",
      "requester_number_of_comments_at_request               4040 non-null int64\n",
      "requester_number_of_comments_in_raop_at_request       4040 non-null int64\n",
      "requester_number_of_posts_at_request                  4040 non-null int64\n",
      "requester_number_of_posts_on_raop_at_request          4040 non-null int64\n",
      "requester_number_of_subreddits_at_request             4040 non-null int64\n",
      "requester_upvotes_minus_downvotes_at_request          4040 non-null int64\n",
      "requester_upvotes_plus_downvotes_at_request           4040 non-null int64\n",
      "unix_timestamp_of_request                             4040 non-null int64\n",
      "unix_timestamp_of_request_utc                         4040 non-null int64\n",
      "topics                                                4040 non-null int64\n",
      "dtypes: float64(3), int64(10)\n",
      "memory usage: 441.9 KB\n"
     ]
    }
   ],
   "source": [
    "data.drop(labels=[i for i in data.columns if data[i].dtype == 'object'],axis=1,inplace=True)\n",
    "y = data.pop('requester_received_pizza')\n",
    "data.info()"
   ]
  },
  {
   "cell_type": "code",
   "execution_count": 69,
   "metadata": {
    "collapsed": true
   },
   "outputs": [],
   "source": [
    "rfc = RandomForestClassifier(n_estimators=100)"
   ]
  },
  {
   "cell_type": "code",
   "execution_count": 70,
   "metadata": {
    "collapsed": false
   },
   "outputs": [
    {
     "name": "stdout",
     "output_type": "stream",
     "text": [
      "(2828, 13) (2828,)\n"
     ]
    }
   ],
   "source": [
    "X_train,X_test,y_train,y_test = train_test_split(data,y,test_size=0.3,random_state=7)\n",
    "print X_train.shape,y_train.shape"
   ]
  },
  {
   "cell_type": "code",
   "execution_count": 71,
   "metadata": {
    "collapsed": false
   },
   "outputs": [
    {
     "name": "stdout",
     "output_type": "stream",
     "text": [
      "AUC Score: 0.729371975687\n",
      "Accuracy Score: 0.807755775578\n"
     ]
    }
   ],
   "source": [
    "rfc.fit(X_train,y_train)\n",
    "print 'AUC Score: {}'.format(roc_auc_score(y_test,rfc.predict_proba(X_test)[:,1]))\n",
    "print 'Accuracy Score: {}'.format(accuracy_score(y_test,rfc.predict(X_test)))"
   ]
  },
  {
   "cell_type": "markdown",
   "metadata": {
    "collapsed": false
   },
   "source": [
    "## Applying LDA to \"request_title\""
   ]
  },
  {
   "cell_type": "code",
   "execution_count": 72,
   "metadata": {
    "collapsed": false
   },
   "outputs": [
    {
     "data": {
      "text/html": [
       "<div>\n",
       "<table border=\"1\" class=\"dataframe\">\n",
       "  <thead>\n",
       "    <tr style=\"text-align: right;\">\n",
       "      <th></th>\n",
       "      <th>giver_username_if_known</th>\n",
       "      <th>requester_account_age_in_days_at_request</th>\n",
       "      <th>requester_days_since_first_post_on_raop_at_request</th>\n",
       "      <th>requester_number_of_comments_at_request</th>\n",
       "      <th>requester_number_of_comments_in_raop_at_request</th>\n",
       "      <th>requester_number_of_posts_at_request</th>\n",
       "      <th>requester_number_of_posts_on_raop_at_request</th>\n",
       "      <th>requester_number_of_subreddits_at_request</th>\n",
       "      <th>requester_upvotes_minus_downvotes_at_request</th>\n",
       "      <th>requester_upvotes_plus_downvotes_at_request</th>\n",
       "      <th>unix_timestamp_of_request</th>\n",
       "      <th>unix_timestamp_of_request_utc</th>\n",
       "      <th>topics</th>\n",
       "    </tr>\n",
       "  </thead>\n",
       "  <tbody>\n",
       "    <tr>\n",
       "      <th>0</th>\n",
       "      <td>0.0</td>\n",
       "      <td>0.000000</td>\n",
       "      <td>0.000000</td>\n",
       "      <td>0</td>\n",
       "      <td>0</td>\n",
       "      <td>0</td>\n",
       "      <td>0</td>\n",
       "      <td>0</td>\n",
       "      <td>0</td>\n",
       "      <td>0</td>\n",
       "      <td>1317852607</td>\n",
       "      <td>1317849007</td>\n",
       "      <td>5</td>\n",
       "    </tr>\n",
       "    <tr>\n",
       "      <th>1</th>\n",
       "      <td>0.0</td>\n",
       "      <td>501.111100</td>\n",
       "      <td>0.000000</td>\n",
       "      <td>0</td>\n",
       "      <td>0</td>\n",
       "      <td>15</td>\n",
       "      <td>0</td>\n",
       "      <td>12</td>\n",
       "      <td>34</td>\n",
       "      <td>116</td>\n",
       "      <td>1332652424</td>\n",
       "      <td>1332648824</td>\n",
       "      <td>8</td>\n",
       "    </tr>\n",
       "    <tr>\n",
       "      <th>2</th>\n",
       "      <td>0.0</td>\n",
       "      <td>0.000000</td>\n",
       "      <td>0.000000</td>\n",
       "      <td>0</td>\n",
       "      <td>0</td>\n",
       "      <td>0</td>\n",
       "      <td>0</td>\n",
       "      <td>0</td>\n",
       "      <td>0</td>\n",
       "      <td>0</td>\n",
       "      <td>1319650094</td>\n",
       "      <td>1319646494</td>\n",
       "      <td>0</td>\n",
       "    </tr>\n",
       "    <tr>\n",
       "      <th>3</th>\n",
       "      <td>0.0</td>\n",
       "      <td>6.518438</td>\n",
       "      <td>0.000000</td>\n",
       "      <td>36</td>\n",
       "      <td>0</td>\n",
       "      <td>1</td>\n",
       "      <td>0</td>\n",
       "      <td>4</td>\n",
       "      <td>54</td>\n",
       "      <td>76</td>\n",
       "      <td>1322855434</td>\n",
       "      <td>1322855434</td>\n",
       "      <td>6</td>\n",
       "    </tr>\n",
       "    <tr>\n",
       "      <th>4</th>\n",
       "      <td>0.0</td>\n",
       "      <td>162.063252</td>\n",
       "      <td>101.606505</td>\n",
       "      <td>140</td>\n",
       "      <td>2</td>\n",
       "      <td>14</td>\n",
       "      <td>0</td>\n",
       "      <td>11</td>\n",
       "      <td>1121</td>\n",
       "      <td>1733</td>\n",
       "      <td>1373657691</td>\n",
       "      <td>1373654091</td>\n",
       "      <td>9</td>\n",
       "    </tr>\n",
       "  </tbody>\n",
       "</table>\n",
       "</div>"
      ],
      "text/plain": [
       "   giver_username_if_known  requester_account_age_in_days_at_request  \\\n",
       "0                      0.0                                  0.000000   \n",
       "1                      0.0                                501.111100   \n",
       "2                      0.0                                  0.000000   \n",
       "3                      0.0                                  6.518438   \n",
       "4                      0.0                                162.063252   \n",
       "\n",
       "   requester_days_since_first_post_on_raop_at_request  \\\n",
       "0                                           0.000000    \n",
       "1                                           0.000000    \n",
       "2                                           0.000000    \n",
       "3                                           0.000000    \n",
       "4                                         101.606505    \n",
       "\n",
       "   requester_number_of_comments_at_request  \\\n",
       "0                                        0   \n",
       "1                                        0   \n",
       "2                                        0   \n",
       "3                                       36   \n",
       "4                                      140   \n",
       "\n",
       "   requester_number_of_comments_in_raop_at_request  \\\n",
       "0                                                0   \n",
       "1                                                0   \n",
       "2                                                0   \n",
       "3                                                0   \n",
       "4                                                2   \n",
       "\n",
       "   requester_number_of_posts_at_request  \\\n",
       "0                                     0   \n",
       "1                                    15   \n",
       "2                                     0   \n",
       "3                                     1   \n",
       "4                                    14   \n",
       "\n",
       "   requester_number_of_posts_on_raop_at_request  \\\n",
       "0                                             0   \n",
       "1                                             0   \n",
       "2                                             0   \n",
       "3                                             0   \n",
       "4                                             0   \n",
       "\n",
       "   requester_number_of_subreddits_at_request  \\\n",
       "0                                          0   \n",
       "1                                         12   \n",
       "2                                          0   \n",
       "3                                          4   \n",
       "4                                         11   \n",
       "\n",
       "   requester_upvotes_minus_downvotes_at_request  \\\n",
       "0                                             0   \n",
       "1                                            34   \n",
       "2                                             0   \n",
       "3                                            54   \n",
       "4                                          1121   \n",
       "\n",
       "   requester_upvotes_plus_downvotes_at_request  unix_timestamp_of_request  \\\n",
       "0                                            0                 1317852607   \n",
       "1                                          116                 1332652424   \n",
       "2                                            0                 1319650094   \n",
       "3                                           76                 1322855434   \n",
       "4                                         1733                 1373657691   \n",
       "\n",
       "   unix_timestamp_of_request_utc  topics  \n",
       "0                     1317849007       5  \n",
       "1                     1332648824       8  \n",
       "2                     1319646494       0  \n",
       "3                     1322855434       6  \n",
       "4                     1373654091       9  "
      ]
     },
     "execution_count": 72,
     "metadata": {},
     "output_type": "execute_result"
    }
   ],
   "source": [
    "data.head()"
   ]
  },
  {
   "cell_type": "code",
   "execution_count": 73,
   "metadata": {
    "collapsed": false
   },
   "outputs": [
    {
     "name": "stdout",
     "output_type": "stream",
     "text": [
      "Extracting tf-idf features for NMF...\n",
      "Fitting the NMF model with tf-idf features,n_samples=2000 and n_features=1000...\n"
     ]
    }
   ],
   "source": [
    "title_topics = applyNMF(parent_data['request_title'])"
   ]
  },
  {
   "cell_type": "code",
   "execution_count": 74,
   "metadata": {
    "collapsed": false
   },
   "outputs": [
    {
     "name": "stdout",
     "output_type": "stream",
     "text": [
      "(4040, 10)\n"
     ]
    }
   ],
   "source": [
    "print title_topics.shape"
   ]
  },
  {
   "cell_type": "code",
   "execution_count": 75,
   "metadata": {
    "collapsed": true
   },
   "outputs": [],
   "source": [
    "title_topics_max = np.asarray([np.argmax(i) for i in title_topics])"
   ]
  },
  {
   "cell_type": "code",
   "execution_count": 76,
   "metadata": {
    "collapsed": false
   },
   "outputs": [
    {
     "data": {
      "text/plain": [
       "array([2, 4, 5, ..., 5, 3, 5])"
      ]
     },
     "execution_count": 76,
     "metadata": {},
     "output_type": "execute_result"
    }
   ],
   "source": [
    "title_topics_max"
   ]
  },
  {
   "cell_type": "code",
   "execution_count": 77,
   "metadata": {
    "collapsed": false
   },
   "outputs": [],
   "source": [
    "data['request_title'] = title_topics_max"
   ]
  },
  {
   "cell_type": "code",
   "execution_count": 78,
   "metadata": {
    "collapsed": false
   },
   "outputs": [
    {
     "data": {
      "text/html": [
       "<div>\n",
       "<table border=\"1\" class=\"dataframe\">\n",
       "  <thead>\n",
       "    <tr style=\"text-align: right;\">\n",
       "      <th></th>\n",
       "      <th>giver_username_if_known</th>\n",
       "      <th>requester_account_age_in_days_at_request</th>\n",
       "      <th>requester_days_since_first_post_on_raop_at_request</th>\n",
       "      <th>requester_number_of_comments_at_request</th>\n",
       "      <th>requester_number_of_comments_in_raop_at_request</th>\n",
       "      <th>requester_number_of_posts_at_request</th>\n",
       "      <th>requester_number_of_posts_on_raop_at_request</th>\n",
       "      <th>requester_number_of_subreddits_at_request</th>\n",
       "      <th>requester_upvotes_minus_downvotes_at_request</th>\n",
       "      <th>requester_upvotes_plus_downvotes_at_request</th>\n",
       "      <th>unix_timestamp_of_request</th>\n",
       "      <th>unix_timestamp_of_request_utc</th>\n",
       "      <th>topics</th>\n",
       "      <th>request_title</th>\n",
       "    </tr>\n",
       "  </thead>\n",
       "  <tbody>\n",
       "    <tr>\n",
       "      <th>0</th>\n",
       "      <td>0.0</td>\n",
       "      <td>0.000000</td>\n",
       "      <td>0.000000</td>\n",
       "      <td>0</td>\n",
       "      <td>0</td>\n",
       "      <td>0</td>\n",
       "      <td>0</td>\n",
       "      <td>0</td>\n",
       "      <td>0</td>\n",
       "      <td>0</td>\n",
       "      <td>1317852607</td>\n",
       "      <td>1317849007</td>\n",
       "      <td>5</td>\n",
       "      <td>2</td>\n",
       "    </tr>\n",
       "    <tr>\n",
       "      <th>1</th>\n",
       "      <td>0.0</td>\n",
       "      <td>501.111100</td>\n",
       "      <td>0.000000</td>\n",
       "      <td>0</td>\n",
       "      <td>0</td>\n",
       "      <td>15</td>\n",
       "      <td>0</td>\n",
       "      <td>12</td>\n",
       "      <td>34</td>\n",
       "      <td>116</td>\n",
       "      <td>1332652424</td>\n",
       "      <td>1332648824</td>\n",
       "      <td>8</td>\n",
       "      <td>4</td>\n",
       "    </tr>\n",
       "    <tr>\n",
       "      <th>2</th>\n",
       "      <td>0.0</td>\n",
       "      <td>0.000000</td>\n",
       "      <td>0.000000</td>\n",
       "      <td>0</td>\n",
       "      <td>0</td>\n",
       "      <td>0</td>\n",
       "      <td>0</td>\n",
       "      <td>0</td>\n",
       "      <td>0</td>\n",
       "      <td>0</td>\n",
       "      <td>1319650094</td>\n",
       "      <td>1319646494</td>\n",
       "      <td>0</td>\n",
       "      <td>5</td>\n",
       "    </tr>\n",
       "    <tr>\n",
       "      <th>3</th>\n",
       "      <td>0.0</td>\n",
       "      <td>6.518438</td>\n",
       "      <td>0.000000</td>\n",
       "      <td>36</td>\n",
       "      <td>0</td>\n",
       "      <td>1</td>\n",
       "      <td>0</td>\n",
       "      <td>4</td>\n",
       "      <td>54</td>\n",
       "      <td>76</td>\n",
       "      <td>1322855434</td>\n",
       "      <td>1322855434</td>\n",
       "      <td>6</td>\n",
       "      <td>9</td>\n",
       "    </tr>\n",
       "    <tr>\n",
       "      <th>4</th>\n",
       "      <td>0.0</td>\n",
       "      <td>162.063252</td>\n",
       "      <td>101.606505</td>\n",
       "      <td>140</td>\n",
       "      <td>2</td>\n",
       "      <td>14</td>\n",
       "      <td>0</td>\n",
       "      <td>11</td>\n",
       "      <td>1121</td>\n",
       "      <td>1733</td>\n",
       "      <td>1373657691</td>\n",
       "      <td>1373654091</td>\n",
       "      <td>9</td>\n",
       "      <td>5</td>\n",
       "    </tr>\n",
       "  </tbody>\n",
       "</table>\n",
       "</div>"
      ],
      "text/plain": [
       "   giver_username_if_known  requester_account_age_in_days_at_request  \\\n",
       "0                      0.0                                  0.000000   \n",
       "1                      0.0                                501.111100   \n",
       "2                      0.0                                  0.000000   \n",
       "3                      0.0                                  6.518438   \n",
       "4                      0.0                                162.063252   \n",
       "\n",
       "   requester_days_since_first_post_on_raop_at_request  \\\n",
       "0                                           0.000000    \n",
       "1                                           0.000000    \n",
       "2                                           0.000000    \n",
       "3                                           0.000000    \n",
       "4                                         101.606505    \n",
       "\n",
       "   requester_number_of_comments_at_request  \\\n",
       "0                                        0   \n",
       "1                                        0   \n",
       "2                                        0   \n",
       "3                                       36   \n",
       "4                                      140   \n",
       "\n",
       "   requester_number_of_comments_in_raop_at_request  \\\n",
       "0                                                0   \n",
       "1                                                0   \n",
       "2                                                0   \n",
       "3                                                0   \n",
       "4                                                2   \n",
       "\n",
       "   requester_number_of_posts_at_request  \\\n",
       "0                                     0   \n",
       "1                                    15   \n",
       "2                                     0   \n",
       "3                                     1   \n",
       "4                                    14   \n",
       "\n",
       "   requester_number_of_posts_on_raop_at_request  \\\n",
       "0                                             0   \n",
       "1                                             0   \n",
       "2                                             0   \n",
       "3                                             0   \n",
       "4                                             0   \n",
       "\n",
       "   requester_number_of_subreddits_at_request  \\\n",
       "0                                          0   \n",
       "1                                         12   \n",
       "2                                          0   \n",
       "3                                          4   \n",
       "4                                         11   \n",
       "\n",
       "   requester_upvotes_minus_downvotes_at_request  \\\n",
       "0                                             0   \n",
       "1                                            34   \n",
       "2                                             0   \n",
       "3                                            54   \n",
       "4                                          1121   \n",
       "\n",
       "   requester_upvotes_plus_downvotes_at_request  unix_timestamp_of_request  \\\n",
       "0                                            0                 1317852607   \n",
       "1                                          116                 1332652424   \n",
       "2                                            0                 1319650094   \n",
       "3                                           76                 1322855434   \n",
       "4                                         1733                 1373657691   \n",
       "\n",
       "   unix_timestamp_of_request_utc  topics  request_title  \n",
       "0                     1317849007       5              2  \n",
       "1                     1332648824       8              4  \n",
       "2                     1319646494       0              5  \n",
       "3                     1322855434       6              9  \n",
       "4                     1373654091       9              5  "
      ]
     },
     "execution_count": 78,
     "metadata": {},
     "output_type": "execute_result"
    }
   ],
   "source": [
    "data.head()"
   ]
  },
  {
   "cell_type": "code",
   "execution_count": 79,
   "metadata": {
    "collapsed": true
   },
   "outputs": [],
   "source": [
    "rfc = RandomForestClassifier(n_estimators=50)"
   ]
  },
  {
   "cell_type": "code",
   "execution_count": 80,
   "metadata": {
    "collapsed": false
   },
   "outputs": [
    {
     "name": "stdout",
     "output_type": "stream",
     "text": [
      "(2828, 14) (2828,)\n"
     ]
    }
   ],
   "source": [
    "X_train,X_test,y_train,y_test = train_test_split(data,y,test_size=0.3,random_state=7)\n",
    "print X_train.shape,y_train.shape"
   ]
  },
  {
   "cell_type": "code",
   "execution_count": 81,
   "metadata": {
    "collapsed": false
   },
   "outputs": [
    {
     "data": {
      "text/plain": [
       "RandomForestClassifier(bootstrap=True, class_weight=None, criterion='gini',\n",
       "            max_depth=None, max_features='auto', max_leaf_nodes=None,\n",
       "            min_samples_leaf=1, min_samples_split=2,\n",
       "            min_weight_fraction_leaf=0.0, n_estimators=50, n_jobs=1,\n",
       "            oob_score=False, random_state=None, verbose=0,\n",
       "            warm_start=False)"
      ]
     },
     "execution_count": 81,
     "metadata": {},
     "output_type": "execute_result"
    }
   ],
   "source": [
    "rfc.fit(X_train,y_train)"
   ]
  },
  {
   "cell_type": "code",
   "execution_count": 82,
   "metadata": {
    "collapsed": false
   },
   "outputs": [
    {
     "name": "stdout",
     "output_type": "stream",
     "text": [
      "AUC Score: 0.738822952319\n",
      "Accuracy Score: 0.815181518152\n"
     ]
    }
   ],
   "source": [
    "print 'AUC Score: {}'.format(roc_auc_score(y_test,rfc.predict_proba(X_test)[:,1]))\n",
    "print 'Accuracy Score: {}'.format(accuracy_score(y_test,rfc.predict(X_test)))"
   ]
  },
  {
   "cell_type": "code",
   "execution_count": 83,
   "metadata": {
    "collapsed": false
   },
   "outputs": [
    {
     "data": {
      "text/plain": [
       "array([ 0.21883985,  0.07408281,  0.02970501,  0.05255616,  0.02905614,\n",
       "        0.05433486,  0.01216549,  0.05364782,  0.0665323 ,  0.07063305,\n",
       "        0.12720418,  0.12248875,  0.03524526,  0.05350832])"
      ]
     },
     "execution_count": 83,
     "metadata": {},
     "output_type": "execute_result"
    }
   ],
   "source": [
    "rfc.feature_importances_"
   ]
  },
  {
   "cell_type": "code",
   "execution_count": 84,
   "metadata": {
    "collapsed": false
   },
   "outputs": [
    {
     "data": {
      "text/plain": [
       "<matplotlib.axes._subplots.AxesSubplot at 0x12238db50>"
      ]
     },
     "execution_count": 84,
     "metadata": {},
     "output_type": "execute_result"
    },
    {
     "data": {
      "image/png": "[encoded data removed]",
      "text/plain": [
       "<matplotlib.figure.Figure at 0x11fbed250>"
      ]
     },
     "metadata": {},
     "output_type": "display_data"
    }
   ],
   "source": [
    "feature_importance = pd.Series(rfc.feature_importances_,index=data.columns)\n",
    "feature_importance.plot(kind='bar')"
   ]
  },
  {
   "cell_type": "markdown",
   "metadata": {
    "collapsed": true
   },
   "source": [
    "## Applying XGBoost as a Classifier"
   ]
  },
  {
   "cell_type": "code",
   "execution_count": 85,
   "metadata": {
    "collapsed": false
   },
   "outputs": [
    {
     "data": {
      "text/html": [
       "<div>\n",
       "<table border=\"1\" class=\"dataframe\">\n",
       "  <thead>\n",
       "    <tr style=\"text-align: right;\">\n",
       "      <th></th>\n",
       "      <th>giver_username_if_known</th>\n",
       "      <th>requester_account_age_in_days_at_request</th>\n",
       "      <th>requester_days_since_first_post_on_raop_at_request</th>\n",
       "      <th>requester_number_of_comments_at_request</th>\n",
       "      <th>requester_number_of_comments_in_raop_at_request</th>\n",
       "      <th>requester_number_of_posts_at_request</th>\n",
       "      <th>requester_number_of_posts_on_raop_at_request</th>\n",
       "      <th>requester_number_of_subreddits_at_request</th>\n",
       "      <th>requester_upvotes_minus_downvotes_at_request</th>\n",
       "      <th>requester_upvotes_plus_downvotes_at_request</th>\n",
       "      <th>unix_timestamp_of_request</th>\n",
       "      <th>unix_timestamp_of_request_utc</th>\n",
       "      <th>topics</th>\n",
       "      <th>request_title</th>\n",
       "    </tr>\n",
       "  </thead>\n",
       "  <tbody>\n",
       "    <tr>\n",
       "      <th>0</th>\n",
       "      <td>0.0</td>\n",
       "      <td>0.000000</td>\n",
       "      <td>0.000000</td>\n",
       "      <td>0</td>\n",
       "      <td>0</td>\n",
       "      <td>0</td>\n",
       "      <td>0</td>\n",
       "      <td>0</td>\n",
       "      <td>0</td>\n",
       "      <td>0</td>\n",
       "      <td>1317852607</td>\n",
       "      <td>1317849007</td>\n",
       "      <td>5</td>\n",
       "      <td>2</td>\n",
       "    </tr>\n",
       "    <tr>\n",
       "      <th>1</th>\n",
       "      <td>0.0</td>\n",
       "      <td>501.111100</td>\n",
       "      <td>0.000000</td>\n",
       "      <td>0</td>\n",
       "      <td>0</td>\n",
       "      <td>15</td>\n",
       "      <td>0</td>\n",
       "      <td>12</td>\n",
       "      <td>34</td>\n",
       "      <td>116</td>\n",
       "      <td>1332652424</td>\n",
       "      <td>1332648824</td>\n",
       "      <td>8</td>\n",
       "      <td>4</td>\n",
       "    </tr>\n",
       "    <tr>\n",
       "      <th>2</th>\n",
       "      <td>0.0</td>\n",
       "      <td>0.000000</td>\n",
       "      <td>0.000000</td>\n",
       "      <td>0</td>\n",
       "      <td>0</td>\n",
       "      <td>0</td>\n",
       "      <td>0</td>\n",
       "      <td>0</td>\n",
       "      <td>0</td>\n",
       "      <td>0</td>\n",
       "      <td>1319650094</td>\n",
       "      <td>1319646494</td>\n",
       "      <td>0</td>\n",
       "      <td>5</td>\n",
       "    </tr>\n",
       "    <tr>\n",
       "      <th>3</th>\n",
       "      <td>0.0</td>\n",
       "      <td>6.518438</td>\n",
       "      <td>0.000000</td>\n",
       "      <td>36</td>\n",
       "      <td>0</td>\n",
       "      <td>1</td>\n",
       "      <td>0</td>\n",
       "      <td>4</td>\n",
       "      <td>54</td>\n",
       "      <td>76</td>\n",
       "      <td>1322855434</td>\n",
       "      <td>1322855434</td>\n",
       "      <td>6</td>\n",
       "      <td>9</td>\n",
       "    </tr>\n",
       "    <tr>\n",
       "      <th>4</th>\n",
       "      <td>0.0</td>\n",
       "      <td>162.063252</td>\n",
       "      <td>101.606505</td>\n",
       "      <td>140</td>\n",
       "      <td>2</td>\n",
       "      <td>14</td>\n",
       "      <td>0</td>\n",
       "      <td>11</td>\n",
       "      <td>1121</td>\n",
       "      <td>1733</td>\n",
       "      <td>1373657691</td>\n",
       "      <td>1373654091</td>\n",
       "      <td>9</td>\n",
       "      <td>5</td>\n",
       "    </tr>\n",
       "  </tbody>\n",
       "</table>\n",
       "</div>"
      ],
      "text/plain": [
       "   giver_username_if_known  requester_account_age_in_days_at_request  \\\n",
       "0                      0.0                                  0.000000   \n",
       "1                      0.0                                501.111100   \n",
       "2                      0.0                                  0.000000   \n",
       "3                      0.0                                  6.518438   \n",
       "4                      0.0                                162.063252   \n",
       "\n",
       "   requester_days_since_first_post_on_raop_at_request  \\\n",
       "0                                           0.000000    \n",
       "1                                           0.000000    \n",
       "2                                           0.000000    \n",
       "3                                           0.000000    \n",
       "4                                         101.606505    \n",
       "\n",
       "   requester_number_of_comments_at_request  \\\n",
       "0                                        0   \n",
       "1                                        0   \n",
       "2                                        0   \n",
       "3                                       36   \n",
       "4                                      140   \n",
       "\n",
       "   requester_number_of_comments_in_raop_at_request  \\\n",
       "0                                                0   \n",
       "1                                                0   \n",
       "2                                                0   \n",
       "3                                                0   \n",
       "4                                                2   \n",
       "\n",
       "   requester_number_of_posts_at_request  \\\n",
       "0                                     0   \n",
       "1                                    15   \n",
       "2                                     0   \n",
       "3                                     1   \n",
       "4                                    14   \n",
       "\n",
       "   requester_number_of_posts_on_raop_at_request  \\\n",
       "0                                             0   \n",
       "1                                             0   \n",
       "2                                             0   \n",
       "3                                             0   \n",
       "4                                             0   \n",
       "\n",
       "   requester_number_of_subreddits_at_request  \\\n",
       "0                                          0   \n",
       "1                                         12   \n",
       "2                                          0   \n",
       "3                                          4   \n",
       "4                                         11   \n",
       "\n",
       "   requester_upvotes_minus_downvotes_at_request  \\\n",
       "0                                             0   \n",
       "1                                            34   \n",
       "2                                             0   \n",
       "3                                            54   \n",
       "4                                          1121   \n",
       "\n",
       "   requester_upvotes_plus_downvotes_at_request  unix_timestamp_of_request  \\\n",
       "0                                            0                 1317852607   \n",
       "1                                          116                 1332652424   \n",
       "2                                            0                 1319650094   \n",
       "3                                           76                 1322855434   \n",
       "4                                         1733                 1373657691   \n",
       "\n",
       "   unix_timestamp_of_request_utc  topics  request_title  \n",
       "0                     1317849007       5              2  \n",
       "1                     1332648824       8              4  \n",
       "2                     1319646494       0              5  \n",
       "3                     1322855434       6              9  \n",
       "4                     1373654091       9              5  "
      ]
     },
     "execution_count": 85,
     "metadata": {},
     "output_type": "execute_result"
    }
   ],
   "source": [
    "data.head()"
   ]
  },
  {
   "cell_type": "code",
   "execution_count": 86,
   "metadata": {
    "collapsed": false
   },
   "outputs": [
    {
     "name": "stdout",
     "output_type": "stream",
     "text": [
      "(2828, 14) (2828,)\n"
     ]
    }
   ],
   "source": [
    "X_train,X_test,y_train,y_test = train_test_split(data,y,test_size=0.3,random_state=7)\n",
    "print X_train.shape,y_train.shape"
   ]
  },
  {
   "cell_type": "code",
   "execution_count": 87,
   "metadata": {
    "collapsed": false
   },
   "outputs": [],
   "source": [
    "from xgboost.sklearn import XGBClassifier"
   ]
  },
  {
   "cell_type": "code",
   "execution_count": 88,
   "metadata": {
    "collapsed": false
   },
   "outputs": [],
   "source": [
    "xgb = XGBClassifier()"
   ]
  },
  {
   "cell_type": "code",
   "execution_count": 89,
   "metadata": {
    "collapsed": false
   },
   "outputs": [
    {
     "data": {
      "text/plain": [
       "XGBClassifier(base_score=0.5, colsample_bylevel=1, colsample_bytree=1,\n",
       "       gamma=0, learning_rate=0.1, max_delta_step=0, max_depth=3,\n",
       "       min_child_weight=1, missing=None, n_estimators=100, nthread=-1,\n",
       "       objective='binary:logistic', reg_alpha=0, reg_lambda=1,\n",
       "       scale_pos_weight=1, seed=0, silent=True, subsample=1)"
      ]
     },
     "execution_count": 89,
     "metadata": {},
     "output_type": "execute_result"
    }
   ],
   "source": [
    "xgb.fit(X_train,y_train)"
   ]
  },
  {
   "cell_type": "code",
   "execution_count": 90,
   "metadata": {
    "collapsed": false
   },
   "outputs": [
    {
     "name": "stdout",
     "output_type": "stream",
     "text": [
      "AUC Score: 0.750992122035\n"
     ]
    }
   ],
   "source": [
    "print 'AUC Score: {}'.format(roc_auc_score(y_test,xgb.predict_proba(X_test)[:,1]))"
   ]
  },
  {
   "cell_type": "markdown",
   "metadata": {},
   "source": [
    "## Removing Stop Words from request text"
   ]
  },
  {
   "cell_type": "code",
   "execution_count": 91,
   "metadata": {
    "collapsed": false
   },
   "outputs": [
    {
     "data": {
      "text/html": [
       "<div>\n",
       "<table border=\"1\" class=\"dataframe\">\n",
       "  <thead>\n",
       "    <tr style=\"text-align: right;\">\n",
       "      <th></th>\n",
       "      <th>giver_username_if_known</th>\n",
       "      <th>request_id</th>\n",
       "      <th>request_text_edit_aware</th>\n",
       "      <th>request_title</th>\n",
       "      <th>requester_account_age_in_days_at_request</th>\n",
       "      <th>requester_days_since_first_post_on_raop_at_request</th>\n",
       "      <th>requester_number_of_comments_at_request</th>\n",
       "      <th>requester_number_of_comments_in_raop_at_request</th>\n",
       "      <th>requester_number_of_posts_at_request</th>\n",
       "      <th>requester_number_of_posts_on_raop_at_request</th>\n",
       "      <th>requester_number_of_subreddits_at_request</th>\n",
       "      <th>requester_received_pizza</th>\n",
       "      <th>requester_subreddits_at_request</th>\n",
       "      <th>requester_upvotes_minus_downvotes_at_request</th>\n",
       "      <th>requester_upvotes_plus_downvotes_at_request</th>\n",
       "      <th>requester_username</th>\n",
       "      <th>unix_timestamp_of_request</th>\n",
       "      <th>unix_timestamp_of_request_utc</th>\n",
       "    </tr>\n",
       "  </thead>\n",
       "  <tbody>\n",
       "    <tr>\n",
       "      <th>0</th>\n",
       "      <td>N/A</td>\n",
       "      <td>t3_l25d7</td>\n",
       "      <td>Hi I am in need of food for my 4 children we a...</td>\n",
       "      <td>Request Colorado Springs Help Us Please</td>\n",
       "      <td>0.000000</td>\n",
       "      <td>0.000000</td>\n",
       "      <td>0</td>\n",
       "      <td>0</td>\n",
       "      <td>0</td>\n",
       "      <td>0</td>\n",
       "      <td>0</td>\n",
       "      <td>False</td>\n",
       "      <td>[]</td>\n",
       "      <td>0</td>\n",
       "      <td>0</td>\n",
       "      <td>nickylvst</td>\n",
       "      <td>1317852607</td>\n",
       "      <td>1317849007</td>\n",
       "    </tr>\n",
       "    <tr>\n",
       "      <th>1</th>\n",
       "      <td>N/A</td>\n",
       "      <td>t3_rcb83</td>\n",
       "      <td>I spent the last money I had on gas today. Im ...</td>\n",
       "      <td>[Request] California, No cash and I could use ...</td>\n",
       "      <td>501.111100</td>\n",
       "      <td>0.000000</td>\n",
       "      <td>0</td>\n",
       "      <td>0</td>\n",
       "      <td>15</td>\n",
       "      <td>0</td>\n",
       "      <td>12</td>\n",
       "      <td>False</td>\n",
       "      <td>[AskReddit, Eve, IAmA, MontereyBay, RandomKind...</td>\n",
       "      <td>34</td>\n",
       "      <td>116</td>\n",
       "      <td>fohacidal</td>\n",
       "      <td>1332652424</td>\n",
       "      <td>1332648824</td>\n",
       "    </tr>\n",
       "    <tr>\n",
       "      <th>2</th>\n",
       "      <td>N/A</td>\n",
       "      <td>t3_lpu5j</td>\n",
       "      <td>My girlfriend decided it would be a good idea ...</td>\n",
       "      <td>[Request] Hungry couple in Dundee, Scotland wo...</td>\n",
       "      <td>0.000000</td>\n",
       "      <td>0.000000</td>\n",
       "      <td>0</td>\n",
       "      <td>0</td>\n",
       "      <td>0</td>\n",
       "      <td>0</td>\n",
       "      <td>0</td>\n",
       "      <td>False</td>\n",
       "      <td>[]</td>\n",
       "      <td>0</td>\n",
       "      <td>0</td>\n",
       "      <td>jacquibatman7</td>\n",
       "      <td>1319650094</td>\n",
       "      <td>1319646494</td>\n",
       "    </tr>\n",
       "    <tr>\n",
       "      <th>3</th>\n",
       "      <td>N/A</td>\n",
       "      <td>t3_mxvj3</td>\n",
       "      <td>It's cold, I'n hungry, and to be completely ho...</td>\n",
       "      <td>[Request] In Canada (Ontario), just got home f...</td>\n",
       "      <td>6.518438</td>\n",
       "      <td>0.000000</td>\n",
       "      <td>36</td>\n",
       "      <td>0</td>\n",
       "      <td>1</td>\n",
       "      <td>0</td>\n",
       "      <td>4</td>\n",
       "      <td>False</td>\n",
       "      <td>[AskReddit, DJs, IAmA, Random_Acts_Of_Pizza]</td>\n",
       "      <td>54</td>\n",
       "      <td>76</td>\n",
       "      <td>4on_the_floor</td>\n",
       "      <td>1322855434</td>\n",
       "      <td>1322855434</td>\n",
       "    </tr>\n",
       "    <tr>\n",
       "      <th>4</th>\n",
       "      <td>N/A</td>\n",
       "      <td>t3_1i6486</td>\n",
       "      <td>hey guys:\\n I love this sub. I think it's grea...</td>\n",
       "      <td>[Request] Old friend coming to visit. Would LO...</td>\n",
       "      <td>162.063252</td>\n",
       "      <td>101.606505</td>\n",
       "      <td>140</td>\n",
       "      <td>2</td>\n",
       "      <td>14</td>\n",
       "      <td>0</td>\n",
       "      <td>11</td>\n",
       "      <td>False</td>\n",
       "      <td>[GayBrosWeightLoss, RandomActsOfCookies, Rando...</td>\n",
       "      <td>1121</td>\n",
       "      <td>1733</td>\n",
       "      <td>Futuredogwalker</td>\n",
       "      <td>1373657691</td>\n",
       "      <td>1373654091</td>\n",
       "    </tr>\n",
       "  </tbody>\n",
       "</table>\n",
       "</div>"
      ],
      "text/plain": [
       "  giver_username_if_known request_id  \\\n",
       "0                     N/A   t3_l25d7   \n",
       "1                     N/A   t3_rcb83   \n",
       "2                     N/A   t3_lpu5j   \n",
       "3                     N/A   t3_mxvj3   \n",
       "4                     N/A  t3_1i6486   \n",
       "\n",
       "                             request_text_edit_aware  \\\n",
       "0  Hi I am in need of food for my 4 children we a...   \n",
       "1  I spent the last money I had on gas today. Im ...   \n",
       "2  My girlfriend decided it would be a good idea ...   \n",
       "3  It's cold, I'n hungry, and to be completely ho...   \n",
       "4  hey guys:\\n I love this sub. I think it's grea...   \n",
       "\n",
       "                                       request_title  \\\n",
       "0            Request Colorado Springs Help Us Please   \n",
       "1  [Request] California, No cash and I could use ...   \n",
       "2  [Request] Hungry couple in Dundee, Scotland wo...   \n",
       "3  [Request] In Canada (Ontario), just got home f...   \n",
       "4  [Request] Old friend coming to visit. Would LO...   \n",
       "\n",
       "   requester_account_age_in_days_at_request  \\\n",
       "0                                  0.000000   \n",
       "1                                501.111100   \n",
       "2                                  0.000000   \n",
       "3                                  6.518438   \n",
       "4                                162.063252   \n",
       "\n",
       "   requester_days_since_first_post_on_raop_at_request  \\\n",
       "0                                           0.000000    \n",
       "1                                           0.000000    \n",
       "2                                           0.000000    \n",
       "3                                           0.000000    \n",
       "4                                         101.606505    \n",
       "\n",
       "   requester_number_of_comments_at_request  \\\n",
       "0                                        0   \n",
       "1                                        0   \n",
       "2                                        0   \n",
       "3                                       36   \n",
       "4                                      140   \n",
       "\n",
       "   requester_number_of_comments_in_raop_at_request  \\\n",
       "0                                                0   \n",
       "1                                                0   \n",
       "2                                                0   \n",
       "3                                                0   \n",
       "4                                                2   \n",
       "\n",
       "   requester_number_of_posts_at_request  \\\n",
       "0                                     0   \n",
       "1                                    15   \n",
       "2                                     0   \n",
       "3                                     1   \n",
       "4                                    14   \n",
       "\n",
       "   requester_number_of_posts_on_raop_at_request  \\\n",
       "0                                             0   \n",
       "1                                             0   \n",
       "2                                             0   \n",
       "3                                             0   \n",
       "4                                             0   \n",
       "\n",
       "   requester_number_of_subreddits_at_request requester_received_pizza  \\\n",
       "0                                          0                    False   \n",
       "1                                         12                    False   \n",
       "2                                          0                    False   \n",
       "3                                          4                    False   \n",
       "4                                         11                    False   \n",
       "\n",
       "                     requester_subreddits_at_request  \\\n",
       "0                                                 []   \n",
       "1  [AskReddit, Eve, IAmA, MontereyBay, RandomKind...   \n",
       "2                                                 []   \n",
       "3       [AskReddit, DJs, IAmA, Random_Acts_Of_Pizza]   \n",
       "4  [GayBrosWeightLoss, RandomActsOfCookies, Rando...   \n",
       "\n",
       "   requester_upvotes_minus_downvotes_at_request  \\\n",
       "0                                             0   \n",
       "1                                            34   \n",
       "2                                             0   \n",
       "3                                            54   \n",
       "4                                          1121   \n",
       "\n",
       "   requester_upvotes_plus_downvotes_at_request requester_username  \\\n",
       "0                                            0          nickylvst   \n",
       "1                                          116          fohacidal   \n",
       "2                                            0      jacquibatman7   \n",
       "3                                           76      4on_the_floor   \n",
       "4                                         1733    Futuredogwalker   \n",
       "\n",
       "   unix_timestamp_of_request  unix_timestamp_of_request_utc  \n",
       "0                 1317852607                     1317849007  \n",
       "1                 1332652424                     1332648824  \n",
       "2                 1319650094                     1319646494  \n",
       "3                 1322855434                     1322855434  \n",
       "4                 1373657691                     1373654091  "
      ]
     },
     "execution_count": 91,
     "metadata": {},
     "output_type": "execute_result"
    }
   ],
   "source": [
    "parent_data.head()"
   ]
  },
  {
   "cell_type": "code",
   "execution_count": 92,
   "metadata": {
    "collapsed": true
   },
   "outputs": [],
   "source": [
    "data = parent_data.copy()"
   ]
  },
  {
   "cell_type": "code",
   "execution_count": 93,
   "metadata": {
    "collapsed": true
   },
   "outputs": [],
   "source": [
    "from nltk.corpus import stopwords"
   ]
  },
  {
   "cell_type": "code",
   "execution_count": 95,
   "metadata": {
    "collapsed": false
   },
   "outputs": [],
   "source": [
    "data['request_text_edit_aware'] = map(lambda x: ' '.join([i for i in x.lower().split(' ') if i not in stopwords.words('english')]),\\\n",
    "    data['request_text_edit_aware'])"
   ]
  },
  {
   "cell_type": "code",
   "execution_count": 96,
   "metadata": {
    "collapsed": false
   },
   "outputs": [
    {
     "data": {
      "text/html": [
       "<div>\n",
       "<table border=\"1\" class=\"dataframe\">\n",
       "  <thead>\n",
       "    <tr style=\"text-align: right;\">\n",
       "      <th></th>\n",
       "      <th>giver_username_if_known</th>\n",
       "      <th>request_id</th>\n",
       "      <th>request_text_edit_aware</th>\n",
       "      <th>request_title</th>\n",
       "      <th>requester_account_age_in_days_at_request</th>\n",
       "      <th>requester_days_since_first_post_on_raop_at_request</th>\n",
       "      <th>requester_number_of_comments_at_request</th>\n",
       "      <th>requester_number_of_comments_in_raop_at_request</th>\n",
       "      <th>requester_number_of_posts_at_request</th>\n",
       "      <th>requester_number_of_posts_on_raop_at_request</th>\n",
       "      <th>requester_number_of_subreddits_at_request</th>\n",
       "      <th>requester_received_pizza</th>\n",
       "      <th>requester_subreddits_at_request</th>\n",
       "      <th>requester_upvotes_minus_downvotes_at_request</th>\n",
       "      <th>requester_upvotes_plus_downvotes_at_request</th>\n",
       "      <th>requester_username</th>\n",
       "      <th>unix_timestamp_of_request</th>\n",
       "      <th>unix_timestamp_of_request_utc</th>\n",
       "    </tr>\n",
       "  </thead>\n",
       "  <tbody>\n",
       "    <tr>\n",
       "      <th>0</th>\n",
       "      <td>N/A</td>\n",
       "      <td>t3_l25d7</td>\n",
       "      <td>hi need food 4 children military family really...</td>\n",
       "      <td>Request Colorado Springs Help Us Please</td>\n",
       "      <td>0.000000</td>\n",
       "      <td>0.000000</td>\n",
       "      <td>0</td>\n",
       "      <td>0</td>\n",
       "      <td>0</td>\n",
       "      <td>0</td>\n",
       "      <td>0</td>\n",
       "      <td>False</td>\n",
       "      <td>[]</td>\n",
       "      <td>0</td>\n",
       "      <td>0</td>\n",
       "      <td>nickylvst</td>\n",
       "      <td>1317852607</td>\n",
       "      <td>1317849007</td>\n",
       "    </tr>\n",
       "    <tr>\n",
       "      <th>1</th>\n",
       "      <td>N/A</td>\n",
       "      <td>t3_rcb83</td>\n",
       "      <td>spent last money gas today. im broke next thur...</td>\n",
       "      <td>[Request] California, No cash and I could use ...</td>\n",
       "      <td>501.111100</td>\n",
       "      <td>0.000000</td>\n",
       "      <td>0</td>\n",
       "      <td>0</td>\n",
       "      <td>15</td>\n",
       "      <td>0</td>\n",
       "      <td>12</td>\n",
       "      <td>False</td>\n",
       "      <td>[AskReddit, Eve, IAmA, MontereyBay, RandomKind...</td>\n",
       "      <td>34</td>\n",
       "      <td>116</td>\n",
       "      <td>fohacidal</td>\n",
       "      <td>1332652424</td>\n",
       "      <td>1332648824</td>\n",
       "    </tr>\n",
       "    <tr>\n",
       "      <th>2</th>\n",
       "      <td>N/A</td>\n",
       "      <td>t3_lpu5j</td>\n",
       "      <td>girlfriend decided would good idea get perth b...</td>\n",
       "      <td>[Request] Hungry couple in Dundee, Scotland wo...</td>\n",
       "      <td>0.000000</td>\n",
       "      <td>0.000000</td>\n",
       "      <td>0</td>\n",
       "      <td>0</td>\n",
       "      <td>0</td>\n",
       "      <td>0</td>\n",
       "      <td>0</td>\n",
       "      <td>False</td>\n",
       "      <td>[]</td>\n",
       "      <td>0</td>\n",
       "      <td>0</td>\n",
       "      <td>jacquibatman7</td>\n",
       "      <td>1319650094</td>\n",
       "      <td>1319646494</td>\n",
       "    </tr>\n",
       "    <tr>\n",
       "      <th>3</th>\n",
       "      <td>N/A</td>\n",
       "      <td>t3_mxvj3</td>\n",
       "      <td>it's cold, i'n hungry, completely honest i'm b...</td>\n",
       "      <td>[Request] In Canada (Ontario), just got home f...</td>\n",
       "      <td>6.518438</td>\n",
       "      <td>0.000000</td>\n",
       "      <td>36</td>\n",
       "      <td>0</td>\n",
       "      <td>1</td>\n",
       "      <td>0</td>\n",
       "      <td>4</td>\n",
       "      <td>False</td>\n",
       "      <td>[AskReddit, DJs, IAmA, Random_Acts_Of_Pizza]</td>\n",
       "      <td>54</td>\n",
       "      <td>76</td>\n",
       "      <td>4on_the_floor</td>\n",
       "      <td>1322855434</td>\n",
       "      <td>1322855434</td>\n",
       "    </tr>\n",
       "    <tr>\n",
       "      <th>4</th>\n",
       "      <td>N/A</td>\n",
       "      <td>t3_1i6486</td>\n",
       "      <td>hey guys:\\n love sub. think it's great. (excep...</td>\n",
       "      <td>[Request] Old friend coming to visit. Would LO...</td>\n",
       "      <td>162.063252</td>\n",
       "      <td>101.606505</td>\n",
       "      <td>140</td>\n",
       "      <td>2</td>\n",
       "      <td>14</td>\n",
       "      <td>0</td>\n",
       "      <td>11</td>\n",
       "      <td>False</td>\n",
       "      <td>[GayBrosWeightLoss, RandomActsOfCookies, Rando...</td>\n",
       "      <td>1121</td>\n",
       "      <td>1733</td>\n",
       "      <td>Futuredogwalker</td>\n",
       "      <td>1373657691</td>\n",
       "      <td>1373654091</td>\n",
       "    </tr>\n",
       "  </tbody>\n",
       "</table>\n",
       "</div>"
      ],
      "text/plain": [
       "  giver_username_if_known request_id  \\\n",
       "0                     N/A   t3_l25d7   \n",
       "1                     N/A   t3_rcb83   \n",
       "2                     N/A   t3_lpu5j   \n",
       "3                     N/A   t3_mxvj3   \n",
       "4                     N/A  t3_1i6486   \n",
       "\n",
       "                             request_text_edit_aware  \\\n",
       "0  hi need food 4 children military family really...   \n",
       "1  spent last money gas today. im broke next thur...   \n",
       "2  girlfriend decided would good idea get perth b...   \n",
       "3  it's cold, i'n hungry, completely honest i'm b...   \n",
       "4  hey guys:\\n love sub. think it's great. (excep...   \n",
       "\n",
       "                                       request_title  \\\n",
       "0            Request Colorado Springs Help Us Please   \n",
       "1  [Request] California, No cash and I could use ...   \n",
       "2  [Request] Hungry couple in Dundee, Scotland wo...   \n",
       "3  [Request] In Canada (Ontario), just got home f...   \n",
       "4  [Request] Old friend coming to visit. Would LO...   \n",
       "\n",
       "   requester_account_age_in_days_at_request  \\\n",
       "0                                  0.000000   \n",
       "1                                501.111100   \n",
       "2                                  0.000000   \n",
       "3                                  6.518438   \n",
       "4                                162.063252   \n",
       "\n",
       "   requester_days_since_first_post_on_raop_at_request  \\\n",
       "0                                           0.000000    \n",
       "1                                           0.000000    \n",
       "2                                           0.000000    \n",
       "3                                           0.000000    \n",
       "4                                         101.606505    \n",
       "\n",
       "   requester_number_of_comments_at_request  \\\n",
       "0                                        0   \n",
       "1                                        0   \n",
       "2                                        0   \n",
       "3                                       36   \n",
       "4                                      140   \n",
       "\n",
       "   requester_number_of_comments_in_raop_at_request  \\\n",
       "0                                                0   \n",
       "1                                                0   \n",
       "2                                                0   \n",
       "3                                                0   \n",
       "4                                                2   \n",
       "\n",
       "   requester_number_of_posts_at_request  \\\n",
       "0                                     0   \n",
       "1                                    15   \n",
       "2                                     0   \n",
       "3                                     1   \n",
       "4                                    14   \n",
       "\n",
       "   requester_number_of_posts_on_raop_at_request  \\\n",
       "0                                             0   \n",
       "1                                             0   \n",
       "2                                             0   \n",
       "3                                             0   \n",
       "4                                             0   \n",
       "\n",
       "   requester_number_of_subreddits_at_request requester_received_pizza  \\\n",
       "0                                          0                    False   \n",
       "1                                         12                    False   \n",
       "2                                          0                    False   \n",
       "3                                          4                    False   \n",
       "4                                         11                    False   \n",
       "\n",
       "                     requester_subreddits_at_request  \\\n",
       "0                                                 []   \n",
       "1  [AskReddit, Eve, IAmA, MontereyBay, RandomKind...   \n",
       "2                                                 []   \n",
       "3       [AskReddit, DJs, IAmA, Random_Acts_Of_Pizza]   \n",
       "4  [GayBrosWeightLoss, RandomActsOfCookies, Rando...   \n",
       "\n",
       "   requester_upvotes_minus_downvotes_at_request  \\\n",
       "0                                             0   \n",
       "1                                            34   \n",
       "2                                             0   \n",
       "3                                            54   \n",
       "4                                          1121   \n",
       "\n",
       "   requester_upvotes_plus_downvotes_at_request requester_username  \\\n",
       "0                                            0          nickylvst   \n",
       "1                                          116          fohacidal   \n",
       "2                                            0      jacquibatman7   \n",
       "3                                           76      4on_the_floor   \n",
       "4                                         1733    Futuredogwalker   \n",
       "\n",
       "   unix_timestamp_of_request  unix_timestamp_of_request_utc  \n",
       "0                 1317852607                     1317849007  \n",
       "1                 1332652424                     1332648824  \n",
       "2                 1319650094                     1319646494  \n",
       "3                 1322855434                     1322855434  \n",
       "4                 1373657691                     1373654091  "
      ]
     },
     "execution_count": 96,
     "metadata": {},
     "output_type": "execute_result"
    }
   ],
   "source": [
    "data.head()"
   ]
  },
  {
   "cell_type": "code",
   "execution_count": 96,
   "metadata": {
    "collapsed": false
   },
   "outputs": [
    {
     "name": "stdout",
     "output_type": "stream",
     "text": [
      "Extracting tf-idf features for NMF...\n",
      "Fitting the NMF model with tf-idf features,n_samples=2000 and n_features=1000...\n",
      "(4040, 10)\n"
     ]
    }
   ],
   "source": [
    "topics = applyNMF(data['request_text_edit_aware'])\n",
    "print topics.shape"
   ]
  },
  {
   "cell_type": "code",
   "execution_count": 97,
   "metadata": {
    "collapsed": true
   },
   "outputs": [],
   "source": [
    "t = [np.argmax(row) for row in topics]"
   ]
  },
  {
   "cell_type": "code",
   "execution_count": 98,
   "metadata": {
    "collapsed": false
   },
   "outputs": [],
   "source": [
    "data['topics'] = t"
   ]
  },
  {
   "cell_type": "code",
   "execution_count": 99,
   "metadata": {
    "collapsed": true
   },
   "outputs": [],
   "source": [
    "data.giver_username_if_known = data.giver_username_if_known.map({'N/A':0})\n",
    "data.giver_username_if_known.fillna(1,inplace=True)"
   ]
  },
  {
   "cell_type": "code",
   "execution_count": 100,
   "metadata": {
    "collapsed": true
   },
   "outputs": [],
   "source": [
    "y = data.pop('requester_received_pizza')"
   ]
  },
  {
   "cell_type": "code",
   "execution_count": 101,
   "metadata": {
    "collapsed": true
   },
   "outputs": [],
   "source": [
    "for col in data.columns:\n",
    "    if data[col].dtype == 'object':\n",
    "        data.pop(col)"
   ]
  },
  {
   "cell_type": "code",
   "execution_count": 102,
   "metadata": {
    "collapsed": false
   },
   "outputs": [
    {
     "name": "stdout",
     "output_type": "stream",
     "text": [
      "(2828, 13) (2828,)\n"
     ]
    }
   ],
   "source": [
    "X_train,X_test,y_train,y_test = train_test_split(data,y,test_size=0.3,random_state=7)\n",
    "print X_train.shape,y_train.shape"
   ]
  },
  {
   "cell_type": "code",
   "execution_count": 103,
   "metadata": {
    "collapsed": true
   },
   "outputs": [],
   "source": [
    "rfc = RandomForestClassifier(n_estimators=100)"
   ]
  },
  {
   "cell_type": "code",
   "execution_count": 104,
   "metadata": {
    "collapsed": false
   },
   "outputs": [
    {
     "name": "stdout",
     "output_type": "stream",
     "text": [
      "AUC Score: 0.740490012392\n"
     ]
    }
   ],
   "source": [
    "rfc.fit(X_train,y_train)\n",
    "print 'AUC Score: {}'.format(roc_auc_score(y_test,rfc.predict_proba(X_test)[:,1]))"
   ]
  },
  {
   "cell_type": "code",
   "execution_count": 105,
   "metadata": {
    "collapsed": false
   },
   "outputs": [
    {
     "data": {
      "text/plain": [
       "XGBClassifier(base_score=0.5, colsample_bylevel=1, colsample_bytree=1,\n",
       "       gamma=0, learning_rate=0.1, max_delta_step=0, max_depth=3,\n",
       "       min_child_weight=1, missing=None, n_estimators=100, nthread=-1,\n",
       "       objective='binary:logistic', reg_alpha=0, reg_lambda=1,\n",
       "       scale_pos_weight=1, seed=0, silent=True, subsample=1)"
      ]
     },
     "execution_count": 105,
     "metadata": {},
     "output_type": "execute_result"
    }
   ],
   "source": [
    "xgb = XGBClassifier()\n",
    "xgb.fit(X_train,y_train)"
   ]
  },
  {
   "cell_type": "code",
   "execution_count": 106,
   "metadata": {
    "collapsed": false
   },
   "outputs": [
    {
     "name": "stdout",
     "output_type": "stream",
     "text": [
      "AUC Score using XGBoost: 0.750521878319\n"
     ]
    }
   ],
   "source": [
    "print 'AUC Score using XGBoost: {}'.format(roc_auc_score(y_test,xgb.predict_proba(X_test)[:,1]))"
   ]
  },
  {
   "cell_type": "markdown",
   "metadata": {},
   "source": [
    "## Length of request as a feature and Number of Subreddits as a feature"
   ]
  },
  {
   "cell_type": "code",
   "execution_count": 107,
   "metadata": {
    "collapsed": true
   },
   "outputs": [],
   "source": [
    "data['request_length'] = [len(x) for x in parent_data['request_text_edit_aware']]"
   ]
  },
  {
   "cell_type": "code",
   "execution_count": 108,
   "metadata": {
    "collapsed": false
   },
   "outputs": [
    {
     "data": {
      "text/html": [
       "<div>\n",
       "<table border=\"1\" class=\"dataframe\">\n",
       "  <thead>\n",
       "    <tr style=\"text-align: right;\">\n",
       "      <th></th>\n",
       "      <th>giver_username_if_known</th>\n",
       "      <th>requester_account_age_in_days_at_request</th>\n",
       "      <th>requester_days_since_first_post_on_raop_at_request</th>\n",
       "      <th>requester_number_of_comments_at_request</th>\n",
       "      <th>requester_number_of_comments_in_raop_at_request</th>\n",
       "      <th>requester_number_of_posts_at_request</th>\n",
       "      <th>requester_number_of_posts_on_raop_at_request</th>\n",
       "      <th>requester_number_of_subreddits_at_request</th>\n",
       "      <th>requester_upvotes_minus_downvotes_at_request</th>\n",
       "      <th>requester_upvotes_plus_downvotes_at_request</th>\n",
       "      <th>unix_timestamp_of_request</th>\n",
       "      <th>unix_timestamp_of_request_utc</th>\n",
       "      <th>topics</th>\n",
       "      <th>request_length</th>\n",
       "    </tr>\n",
       "  </thead>\n",
       "  <tbody>\n",
       "    <tr>\n",
       "      <th>0</th>\n",
       "      <td>0.0</td>\n",
       "      <td>0.000000</td>\n",
       "      <td>0.000000</td>\n",
       "      <td>0</td>\n",
       "      <td>0</td>\n",
       "      <td>0</td>\n",
       "      <td>0</td>\n",
       "      <td>0</td>\n",
       "      <td>0</td>\n",
       "      <td>0</td>\n",
       "      <td>1317852607</td>\n",
       "      <td>1317849007</td>\n",
       "      <td>6</td>\n",
       "      <td>316</td>\n",
       "    </tr>\n",
       "    <tr>\n",
       "      <th>1</th>\n",
       "      <td>0.0</td>\n",
       "      <td>501.111100</td>\n",
       "      <td>0.000000</td>\n",
       "      <td>0</td>\n",
       "      <td>0</td>\n",
       "      <td>15</td>\n",
       "      <td>0</td>\n",
       "      <td>12</td>\n",
       "      <td>34</td>\n",
       "      <td>116</td>\n",
       "      <td>1332652424</td>\n",
       "      <td>1332648824</td>\n",
       "      <td>3</td>\n",
       "      <td>74</td>\n",
       "    </tr>\n",
       "    <tr>\n",
       "      <th>2</th>\n",
       "      <td>0.0</td>\n",
       "      <td>0.000000</td>\n",
       "      <td>0.000000</td>\n",
       "      <td>0</td>\n",
       "      <td>0</td>\n",
       "      <td>0</td>\n",
       "      <td>0</td>\n",
       "      <td>0</td>\n",
       "      <td>0</td>\n",
       "      <td>0</td>\n",
       "      <td>1319650094</td>\n",
       "      <td>1319646494</td>\n",
       "      <td>0</td>\n",
       "      <td>277</td>\n",
       "    </tr>\n",
       "    <tr>\n",
       "      <th>3</th>\n",
       "      <td>0.0</td>\n",
       "      <td>6.518438</td>\n",
       "      <td>0.000000</td>\n",
       "      <td>36</td>\n",
       "      <td>0</td>\n",
       "      <td>1</td>\n",
       "      <td>0</td>\n",
       "      <td>4</td>\n",
       "      <td>54</td>\n",
       "      <td>76</td>\n",
       "      <td>1322855434</td>\n",
       "      <td>1322855434</td>\n",
       "      <td>3</td>\n",
       "      <td>172</td>\n",
       "    </tr>\n",
       "    <tr>\n",
       "      <th>4</th>\n",
       "      <td>0.0</td>\n",
       "      <td>162.063252</td>\n",
       "      <td>101.606505</td>\n",
       "      <td>140</td>\n",
       "      <td>2</td>\n",
       "      <td>14</td>\n",
       "      <td>0</td>\n",
       "      <td>11</td>\n",
       "      <td>1121</td>\n",
       "      <td>1733</td>\n",
       "      <td>1373657691</td>\n",
       "      <td>1373654091</td>\n",
       "      <td>5</td>\n",
       "      <td>490</td>\n",
       "    </tr>\n",
       "  </tbody>\n",
       "</table>\n",
       "</div>"
      ],
      "text/plain": [
       "   giver_username_if_known  requester_account_age_in_days_at_request  \\\n",
       "0                      0.0                                  0.000000   \n",
       "1                      0.0                                501.111100   \n",
       "2                      0.0                                  0.000000   \n",
       "3                      0.0                                  6.518438   \n",
       "4                      0.0                                162.063252   \n",
       "\n",
       "   requester_days_since_first_post_on_raop_at_request  \\\n",
       "0                                           0.000000    \n",
       "1                                           0.000000    \n",
       "2                                           0.000000    \n",
       "3                                           0.000000    \n",
       "4                                         101.606505    \n",
       "\n",
       "   requester_number_of_comments_at_request  \\\n",
       "0                                        0   \n",
       "1                                        0   \n",
       "2                                        0   \n",
       "3                                       36   \n",
       "4                                      140   \n",
       "\n",
       "   requester_number_of_comments_in_raop_at_request  \\\n",
       "0                                                0   \n",
       "1                                                0   \n",
       "2                                                0   \n",
       "3                                                0   \n",
       "4                                                2   \n",
       "\n",
       "   requester_number_of_posts_at_request  \\\n",
       "0                                     0   \n",
       "1                                    15   \n",
       "2                                     0   \n",
       "3                                     1   \n",
       "4                                    14   \n",
       "\n",
       "   requester_number_of_posts_on_raop_at_request  \\\n",
       "0                                             0   \n",
       "1                                             0   \n",
       "2                                             0   \n",
       "3                                             0   \n",
       "4                                             0   \n",
       "\n",
       "   requester_number_of_subreddits_at_request  \\\n",
       "0                                          0   \n",
       "1                                         12   \n",
       "2                                          0   \n",
       "3                                          4   \n",
       "4                                         11   \n",
       "\n",
       "   requester_upvotes_minus_downvotes_at_request  \\\n",
       "0                                             0   \n",
       "1                                            34   \n",
       "2                                             0   \n",
       "3                                            54   \n",
       "4                                          1121   \n",
       "\n",
       "   requester_upvotes_plus_downvotes_at_request  unix_timestamp_of_request  \\\n",
       "0                                            0                 1317852607   \n",
       "1                                          116                 1332652424   \n",
       "2                                            0                 1319650094   \n",
       "3                                           76                 1322855434   \n",
       "4                                         1733                 1373657691   \n",
       "\n",
       "   unix_timestamp_of_request_utc  topics  request_length  \n",
       "0                     1317849007       6             316  \n",
       "1                     1332648824       3              74  \n",
       "2                     1319646494       0             277  \n",
       "3                     1322855434       3             172  \n",
       "4                     1373654091       5             490  "
      ]
     },
     "execution_count": 108,
     "metadata": {},
     "output_type": "execute_result"
    }
   ],
   "source": [
    "data.head()"
   ]
  },
  {
   "cell_type": "code",
   "execution_count": 109,
   "metadata": {
    "collapsed": false
   },
   "outputs": [],
   "source": [
    "subreddits = map(lambda x: ' '.join(x),parent_data['requester_subreddits_at_request'])"
   ]
  },
  {
   "cell_type": "code",
   "execution_count": 110,
   "metadata": {
    "collapsed": false
   },
   "outputs": [
    {
     "name": "stdout",
     "output_type": "stream",
     "text": [
      "Extracting tf-idf features for NMF...\n",
      "Fitting the NMF model with tf-idf features,n_samples=2000 and n_features=1000...\n",
      "(4040, 10)\n"
     ]
    }
   ],
   "source": [
    "topics = applyNMF(subreddits)\n",
    "print topics.shape"
   ]
  },
  {
   "cell_type": "code",
   "execution_count": 111,
   "metadata": {
    "collapsed": false
   },
   "outputs": [
    {
     "name": "stdout",
     "output_type": "stream",
     "text": [
      "(4040,)\n"
     ]
    }
   ],
   "source": [
    "t = np.asarray([np.argmax(row) for row in topics])\n",
    "print t.shape"
   ]
  },
  {
   "cell_type": "code",
   "execution_count": 112,
   "metadata": {
    "collapsed": false
   },
   "outputs": [],
   "source": [
    "data['subreddit_topics'] = t"
   ]
  },
  {
   "cell_type": "code",
   "execution_count": 113,
   "metadata": {
    "collapsed": true
   },
   "outputs": [],
   "source": [
    "count = dict()\n",
    "for i in range(parent_data.shape[0]):\n",
    "    if parent_data.iloc[i,-7] == True:\n",
    "        for subreddit in parent_data.iloc[i,-6]:\n",
    "            try:\n",
    "                count[subreddit] += 1\n",
    "            except:\n",
    "                count[subreddit] = 1"
   ]
  },
  {
   "cell_type": "code",
   "execution_count": 114,
   "metadata": {
    "collapsed": false
   },
   "outputs": [],
   "source": [
    "count_series = pd.Series(count.values(),index = count.keys())\n",
    "count_series.sort_values(ascending=False,inplace=True)"
   ]
  },
  {
   "cell_type": "code",
   "execution_count": 115,
   "metadata": {
    "collapsed": false
   },
   "outputs": [
    {
     "data": {
      "text/plain": [
       "{u'AskReddit',\n",
       " u'IAmA',\n",
       " u'Random_Acts_Of_Pizza',\n",
       " u'WTF',\n",
       " u'funny',\n",
       " u'gaming',\n",
       " u'pics',\n",
       " u'todayilearned',\n",
       " u'videos'}"
      ]
     },
     "execution_count": 115,
     "metadata": {},
     "output_type": "execute_result"
    }
   ],
   "source": [
    "subreddits = set(count_series[count_series > 300].index)\n",
    "subreddits"
   ]
  },
  {
   "cell_type": "code",
   "execution_count": 116,
   "metadata": {
    "collapsed": false
   },
   "outputs": [],
   "source": [
    "data['subreddit_count'] = map(lambda x: len(set(x).intersection(subreddits)),\\\n",
    "                              parent_data['requester_subreddits_at_request'])"
   ]
  },
  {
   "cell_type": "code",
   "execution_count": 117,
   "metadata": {
    "collapsed": false
   },
   "outputs": [
    {
     "data": {
      "text/html": [
       "<div>\n",
       "<table border=\"1\" class=\"dataframe\">\n",
       "  <thead>\n",
       "    <tr style=\"text-align: right;\">\n",
       "      <th></th>\n",
       "      <th>giver_username_if_known</th>\n",
       "      <th>requester_account_age_in_days_at_request</th>\n",
       "      <th>requester_days_since_first_post_on_raop_at_request</th>\n",
       "      <th>requester_number_of_comments_at_request</th>\n",
       "      <th>requester_number_of_comments_in_raop_at_request</th>\n",
       "      <th>requester_number_of_posts_at_request</th>\n",
       "      <th>requester_number_of_posts_on_raop_at_request</th>\n",
       "      <th>requester_number_of_subreddits_at_request</th>\n",
       "      <th>requester_upvotes_minus_downvotes_at_request</th>\n",
       "      <th>requester_upvotes_plus_downvotes_at_request</th>\n",
       "      <th>unix_timestamp_of_request</th>\n",
       "      <th>unix_timestamp_of_request_utc</th>\n",
       "      <th>topics</th>\n",
       "      <th>request_length</th>\n",
       "      <th>subreddit_topics</th>\n",
       "      <th>subreddit_count</th>\n",
       "    </tr>\n",
       "  </thead>\n",
       "  <tbody>\n",
       "    <tr>\n",
       "      <th>0</th>\n",
       "      <td>0.0</td>\n",
       "      <td>0.000000</td>\n",
       "      <td>0.000000</td>\n",
       "      <td>0</td>\n",
       "      <td>0</td>\n",
       "      <td>0</td>\n",
       "      <td>0</td>\n",
       "      <td>0</td>\n",
       "      <td>0</td>\n",
       "      <td>0</td>\n",
       "      <td>1317852607</td>\n",
       "      <td>1317849007</td>\n",
       "      <td>6</td>\n",
       "      <td>316</td>\n",
       "      <td>0</td>\n",
       "      <td>0</td>\n",
       "    </tr>\n",
       "    <tr>\n",
       "      <th>1</th>\n",
       "      <td>0.0</td>\n",
       "      <td>501.111100</td>\n",
       "      <td>0.000000</td>\n",
       "      <td>0</td>\n",
       "      <td>0</td>\n",
       "      <td>15</td>\n",
       "      <td>0</td>\n",
       "      <td>12</td>\n",
       "      <td>34</td>\n",
       "      <td>116</td>\n",
       "      <td>1332652424</td>\n",
       "      <td>1332648824</td>\n",
       "      <td>3</td>\n",
       "      <td>74</td>\n",
       "      <td>4</td>\n",
       "      <td>3</td>\n",
       "    </tr>\n",
       "    <tr>\n",
       "      <th>2</th>\n",
       "      <td>0.0</td>\n",
       "      <td>0.000000</td>\n",
       "      <td>0.000000</td>\n",
       "      <td>0</td>\n",
       "      <td>0</td>\n",
       "      <td>0</td>\n",
       "      <td>0</td>\n",
       "      <td>0</td>\n",
       "      <td>0</td>\n",
       "      <td>0</td>\n",
       "      <td>1319650094</td>\n",
       "      <td>1319646494</td>\n",
       "      <td>0</td>\n",
       "      <td>277</td>\n",
       "      <td>0</td>\n",
       "      <td>0</td>\n",
       "    </tr>\n",
       "    <tr>\n",
       "      <th>3</th>\n",
       "      <td>0.0</td>\n",
       "      <td>6.518438</td>\n",
       "      <td>0.000000</td>\n",
       "      <td>36</td>\n",
       "      <td>0</td>\n",
       "      <td>1</td>\n",
       "      <td>0</td>\n",
       "      <td>4</td>\n",
       "      <td>54</td>\n",
       "      <td>76</td>\n",
       "      <td>1322855434</td>\n",
       "      <td>1322855434</td>\n",
       "      <td>3</td>\n",
       "      <td>172</td>\n",
       "      <td>4</td>\n",
       "      <td>3</td>\n",
       "    </tr>\n",
       "    <tr>\n",
       "      <th>4</th>\n",
       "      <td>0.0</td>\n",
       "      <td>162.063252</td>\n",
       "      <td>101.606505</td>\n",
       "      <td>140</td>\n",
       "      <td>2</td>\n",
       "      <td>14</td>\n",
       "      <td>0</td>\n",
       "      <td>11</td>\n",
       "      <td>1121</td>\n",
       "      <td>1733</td>\n",
       "      <td>1373657691</td>\n",
       "      <td>1373654091</td>\n",
       "      <td>5</td>\n",
       "      <td>490</td>\n",
       "      <td>5</td>\n",
       "      <td>2</td>\n",
       "    </tr>\n",
       "  </tbody>\n",
       "</table>\n",
       "</div>"
      ],
      "text/plain": [
       "   giver_username_if_known  requester_account_age_in_days_at_request  \\\n",
       "0                      0.0                                  0.000000   \n",
       "1                      0.0                                501.111100   \n",
       "2                      0.0                                  0.000000   \n",
       "3                      0.0                                  6.518438   \n",
       "4                      0.0                                162.063252   \n",
       "\n",
       "   requester_days_since_first_post_on_raop_at_request  \\\n",
       "0                                           0.000000    \n",
       "1                                           0.000000    \n",
       "2                                           0.000000    \n",
       "3                                           0.000000    \n",
       "4                                         101.606505    \n",
       "\n",
       "   requester_number_of_comments_at_request  \\\n",
       "0                                        0   \n",
       "1                                        0   \n",
       "2                                        0   \n",
       "3                                       36   \n",
       "4                                      140   \n",
       "\n",
       "   requester_number_of_comments_in_raop_at_request  \\\n",
       "0                                                0   \n",
       "1                                                0   \n",
       "2                                                0   \n",
       "3                                                0   \n",
       "4                                                2   \n",
       "\n",
       "   requester_number_of_posts_at_request  \\\n",
       "0                                     0   \n",
       "1                                    15   \n",
       "2                                     0   \n",
       "3                                     1   \n",
       "4                                    14   \n",
       "\n",
       "   requester_number_of_posts_on_raop_at_request  \\\n",
       "0                                             0   \n",
       "1                                             0   \n",
       "2                                             0   \n",
       "3                                             0   \n",
       "4                                             0   \n",
       "\n",
       "   requester_number_of_subreddits_at_request  \\\n",
       "0                                          0   \n",
       "1                                         12   \n",
       "2                                          0   \n",
       "3                                          4   \n",
       "4                                         11   \n",
       "\n",
       "   requester_upvotes_minus_downvotes_at_request  \\\n",
       "0                                             0   \n",
       "1                                            34   \n",
       "2                                             0   \n",
       "3                                            54   \n",
       "4                                          1121   \n",
       "\n",
       "   requester_upvotes_plus_downvotes_at_request  unix_timestamp_of_request  \\\n",
       "0                                            0                 1317852607   \n",
       "1                                          116                 1332652424   \n",
       "2                                            0                 1319650094   \n",
       "3                                           76                 1322855434   \n",
       "4                                         1733                 1373657691   \n",
       "\n",
       "   unix_timestamp_of_request_utc  topics  request_length  subreddit_topics  \\\n",
       "0                     1317849007       6             316                 0   \n",
       "1                     1332648824       3              74                 4   \n",
       "2                     1319646494       0             277                 0   \n",
       "3                     1322855434       3             172                 4   \n",
       "4                     1373654091       5             490                 5   \n",
       "\n",
       "   subreddit_count  \n",
       "0                0  \n",
       "1                3  \n",
       "2                0  \n",
       "3                3  \n",
       "4                2  "
      ]
     },
     "execution_count": 117,
     "metadata": {},
     "output_type": "execute_result"
    }
   ],
   "source": [
    "data.head()"
   ]
  },
  {
   "cell_type": "code",
   "execution_count": 118,
   "metadata": {
    "collapsed": true
   },
   "outputs": [],
   "source": [
    "xgb = XGBClassifier()"
   ]
  },
  {
   "cell_type": "code",
   "execution_count": 119,
   "metadata": {
    "collapsed": false
   },
   "outputs": [
    {
     "name": "stdout",
     "output_type": "stream",
     "text": [
      "(2828, 16) (2828,)\n"
     ]
    }
   ],
   "source": [
    "X_train,X_test,y_train,y_test = train_test_split(data,y,test_size=0.3,random_state=7)\n",
    "print X_train.shape,y_train.shape"
   ]
  },
  {
   "cell_type": "code",
   "execution_count": 120,
   "metadata": {
    "collapsed": false
   },
   "outputs": [
    {
     "name": "stdout",
     "output_type": "stream",
     "text": [
      "Training AUC Score with XGBoost: 0.887312845555\n",
      "Testing AUC Score with XGBoost: 0.770959961053\n"
     ]
    }
   ],
   "source": [
    "xgb.fit(X_train,y_train)\n",
    "print 'Training AUC Score with XGBoost: {}'.format(roc_auc_score(y_train,xgb.predict_proba(X_train)[:,1]))\n",
    "print 'Testing AUC Score with XGBoost: {}'.format(roc_auc_score(y_test,xgb.predict_proba(X_test)[:,1]))"
   ]
  },
  {
   "cell_type": "markdown",
   "metadata": {},
   "source": [
    "### By using mean of the probabilities"
   ]
  },
  {
   "cell_type": "code",
   "execution_count": 121,
   "metadata": {
    "collapsed": false
   },
   "outputs": [
    {
     "data": {
      "text/plain": [
       "RandomForestClassifier(bootstrap=True, class_weight=None, criterion='gini',\n",
       "            max_depth=None, max_features='auto', max_leaf_nodes=None,\n",
       "            min_samples_leaf=1, min_samples_split=2,\n",
       "            min_weight_fraction_leaf=0.0, n_estimators=100, n_jobs=1,\n",
       "            oob_score=False, random_state=None, verbose=0,\n",
       "            warm_start=False)"
      ]
     },
     "execution_count": 121,
     "metadata": {},
     "output_type": "execute_result"
    }
   ],
   "source": [
    "rfc = RandomForestClassifier(n_estimators=100)\n",
    "rfc.fit(X_train,y_train)"
   ]
  },
  {
   "cell_type": "code",
   "execution_count": 122,
   "metadata": {
    "collapsed": false
   },
   "outputs": [
    {
     "name": "stdout",
     "output_type": "stream",
     "text": [
      "(2828, 2)\n"
     ]
    }
   ],
   "source": [
    "yPred_rfc = rfc.predict_proba(X_train)\n",
    "print yPred_rfc.shape"
   ]
  },
  {
   "cell_type": "code",
   "execution_count": 123,
   "metadata": {
    "collapsed": false
   },
   "outputs": [
    {
     "name": "stdout",
     "output_type": "stream",
     "text": [
      "(2828, 2)\n"
     ]
    }
   ],
   "source": [
    "yPred_xgb = xgb.predict_proba(X_train)\n",
    "print yPred_xgb.shape"
   ]
  },
  {
   "cell_type": "code",
   "execution_count": 124,
   "metadata": {
    "collapsed": false
   },
   "outputs": [
    {
     "name": "stdout",
     "output_type": "stream",
     "text": [
      "0.999317970862\n"
     ]
    }
   ],
   "source": [
    "print roc_auc_score(y_train,((yPred_rfc+yPred_xgb)/2)[:,1])"
   ]
  },
  {
   "cell_type": "code",
   "execution_count": 125,
   "metadata": {
    "collapsed": false
   },
   "outputs": [
    {
     "name": "stdout",
     "output_type": "stream",
     "text": [
      "(1212, 2) (1212, 2)\n"
     ]
    }
   ],
   "source": [
    "test_rfc = rfc.predict_proba(X_test)\n",
    "test_xgb  = xgb.predict_proba(X_test)\n",
    "print test_rfc.shape,test_xgb.shape"
   ]
  },
  {
   "cell_type": "code",
   "execution_count": 126,
   "metadata": {
    "collapsed": false
   },
   "outputs": [
    {
     "name": "stdout",
     "output_type": "stream",
     "text": [
      "0.771339844211\n"
     ]
    }
   ],
   "source": [
    "print roc_auc_score(y_test,((test_rfc+test_xgb)/2)[:,1])"
   ]
  },
  {
   "cell_type": "markdown",
   "metadata": {
    "collapsed": true
   },
   "source": [
    "### By using weighted mean of the probabilities"
   ]
  },
  {
   "cell_type": "code",
   "execution_count": 127,
   "metadata": {
    "collapsed": false
   },
   "outputs": [
    {
     "name": "stdout",
     "output_type": "stream",
     "text": [
      "0.771996341319\n"
     ]
    }
   ],
   "source": [
    "print roc_auc_score(y_test,(0.9*test_xgb+0.1*test_rfc)[:,1])"
   ]
  },
  {
   "cell_type": "code",
   "execution_count": 128,
   "metadata": {
    "collapsed": false
   },
   "outputs": [
    {
     "name": "stdout",
     "output_type": "stream",
     "text": [
      "Maximum score: 0.772781924938\n",
      "XGB Weight: 0.8\n",
      "RFC Weight: 0.2\n"
     ]
    }
   ],
   "source": [
    "max_score = 0\n",
    "xgb_weight,rfc_weight=0,0\n",
    "for i in np.arange(0.9,0.1,-0.1):\n",
    "    score = roc_auc_score(y_test,(i*test_xgb+(1-i)*test_rfc)[:,1])\n",
    "    if score > max_score:\n",
    "        max_score = score\n",
    "        xgb_weight = i\n",
    "        rfc_weight = 1-i\n",
    "print 'Maximum score: {}'.format(max_score)\n",
    "print 'XGB Weight: {}'.format(xgb_weight)\n",
    "print 'RFC Weight: {}'.format(rfc_weight)"
   ]
  },
  {
   "cell_type": "code",
   "execution_count": null,
   "metadata": {
    "collapsed": true
   },
   "outputs": [],
   "source": []
  }
 ],
 "metadata": {
  "kernelspec": {
   "display_name": "Python 2",
   "language": "python",
   "name": "python2"
  },
  "language_info": {
   "codemirror_mode": {
    "name": "ipython",
    "version": 2
   },
   "file_extension": ".py",
   "mimetype": "text/x-python",
   "name": "python",
   "nbconvert_exporter": "python",
   "pygments_lexer": "ipython2",
   "version": "2.7.12"
  }
 },
 "nbformat": 4,
 "nbformat_minor": 0
}
