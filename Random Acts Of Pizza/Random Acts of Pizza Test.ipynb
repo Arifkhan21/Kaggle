{
 "cells": [
  {
   "cell_type": "markdown",
   "metadata": {},
   "source": [
    "## Random Acts Of Pizza\n",
    "### Applying Topic Modelling On Combined Data"
   ]
  },
  {
   "cell_type": "code",
   "execution_count": 1,
   "metadata": {
    "collapsed": false
   },
   "outputs": [
    {
     "name": "stdout",
     "output_type": "stream",
     "text": [
      "Populating the interactive namespace from numpy and matplotlib\n"
     ]
    }
   ],
   "source": [
    "%pylab inline\n",
    "import pandas as pd\n",
    "import numpy as np\n",
    "import matplotlib.pyplot as plt\n",
    "import seaborn as sns"
   ]
  },
  {
   "cell_type": "code",
   "execution_count": 2,
   "metadata": {
    "collapsed": true
   },
   "outputs": [],
   "source": [
    "from pylab import rcParams\n",
    "rcParams['figure.figsize'] = 20,10"
   ]
  },
  {
   "cell_type": "code",
   "execution_count": 3,
   "metadata": {
    "collapsed": true
   },
   "outputs": [],
   "source": [
    "data_train = pd.read_json('../../Dataset/Random Acts Of Pizza/train.json')\n",
    "data_test = pd.read_json('../../Dataset/Random Acts Of Pizza/test.json')\n",
    "\n",
    "y = data_train.pop('requester_received_pizza')\n",
    "request_id = data_test['request_id']"
   ]
  },
  {
   "cell_type": "code",
   "execution_count": 4,
   "metadata": {
    "collapsed": true
   },
   "outputs": [],
   "source": [
    "not_present = []\n",
    "for i in data_train.columns:\n",
    "    if i not in data_test.columns:\n",
    "        not_present.append(i)\n",
    "data_train.drop(labels=not_present,axis=1,inplace=True)"
   ]
  },
  {
   "cell_type": "code",
   "execution_count": 5,
   "metadata": {
    "collapsed": false
   },
   "outputs": [
    {
     "data": {
      "text/plain": [
       "(5671, 17)"
      ]
     },
     "execution_count": 5,
     "metadata": {},
     "output_type": "execute_result"
    }
   ],
   "source": [
    "## Combining the training and testing data\n",
    "\n",
    "data = pd.concat([data_train,data_test])\n",
    "data_copy = data.copy()\n",
    "data.shape"
   ]
  },
  {
   "cell_type": "code",
   "execution_count": 6,
   "metadata": {
    "collapsed": false
   },
   "outputs": [
    {
     "name": "stdout",
     "output_type": "stream",
     "text": [
      "<class 'pandas.core.frame.DataFrame'>\n",
      "Int64Index: 5671 entries, 0 to 1630\n",
      "Data columns (total 17 columns):\n",
      "giver_username_if_known                               5671 non-null object\n",
      "request_id                                            5671 non-null object\n",
      "request_text_edit_aware                               5671 non-null object\n",
      "request_title                                         5671 non-null object\n",
      "requester_account_age_in_days_at_request              5671 non-null float64\n",
      "requester_days_since_first_post_on_raop_at_request    5671 non-null float64\n",
      "requester_number_of_comments_at_request               5671 non-null int64\n",
      "requester_number_of_comments_in_raop_at_request       5671 non-null int64\n",
      "requester_number_of_posts_at_request                  5671 non-null int64\n",
      "requester_number_of_posts_on_raop_at_request          5671 non-null int64\n",
      "requester_number_of_subreddits_at_request             5671 non-null int64\n",
      "requester_subreddits_at_request                       5671 non-null object\n",
      "requester_upvotes_minus_downvotes_at_request          5671 non-null int64\n",
      "requester_upvotes_plus_downvotes_at_request           5671 non-null int64\n",
      "requester_username                                    5671 non-null object\n",
      "unix_timestamp_of_request                             5671 non-null int64\n",
      "unix_timestamp_of_request_utc                         5671 non-null int64\n",
      "dtypes: float64(2), int64(9), object(6)\n",
      "memory usage: 797.5+ KB\n"
     ]
    }
   ],
   "source": [
    "data.info()"
   ]
  },
  {
   "cell_type": "code",
   "execution_count": 7,
   "metadata": {
    "collapsed": true
   },
   "outputs": [],
   "source": [
    "# Author: Olivier Grisel <olivier.grisel@ensta.org>\n",
    "#         Lars Buitinck <L.J.Buitinck@uva.nl>\n",
    "#         Chyi-Kwei Yau <chyikwei.yau@gmail.com>\n",
    "# License: BSD 3 clause\n",
    "\n",
    "from time import time\n",
    "\n",
    "from sklearn.feature_extraction.text import TfidfVectorizer, CountVectorizer\n",
    "from sklearn.decomposition import NMF, LatentDirichletAllocation\n",
    "\n",
    "n_samples = 2000\n",
    "n_features = 1000\n",
    "n_topics = 20\n",
    "n_top_words = 20\n",
    "\n",
    "\n",
    "def applyLDA(data_samples):\n",
    "    \n",
    "    # Use tf-idf features for NMF.\n",
    "    print(\"Extracting tf features for LDA...\")\n",
    "    tf_vectorizer = CountVectorizer(max_df=1.0, min_df=1, max_features=n_features,\n",
    "                                stop_words='english')\n",
    "    tf = tf_vectorizer.fit_transform(data_samples)\n",
    "    \n",
    "    # Fit the NMF model\n",
    "    print(\"Fitting LDA models with tf features, n_samples=%d and n_features=%d...\"\n",
    "      % (n_samples, n_features))\n",
    "    lda = LatentDirichletAllocation(n_topics=n_topics, max_iter=5,\n",
    "                                learning_method='online', learning_offset=50.,\n",
    "                                random_state=0)\n",
    "    lda.fit(tf)\n",
    "    return lda.transform(tf)"
   ]
  },
  {
   "cell_type": "code",
   "execution_count": 8,
   "metadata": {
    "collapsed": true
   },
   "outputs": [],
   "source": [
    "def applyNMF(data_samples):\n",
    "    print(\"Extracting tf-idf features for NMF...\")\n",
    "    tfidf_vectorizer = TfidfVectorizer(max_df=1.0,min_df=1,stop_words='english')\n",
    "    tfidf = tfidf_vectorizer.fit_transform(data_samples)\n",
    "    print(\"Fitting the NMF model with tf-idf features,\"\n",
    "      \"n_samples=%d and n_features=%d...\"\n",
    "      % (n_samples, n_features))\n",
    "    nmf = NMF(n_components=n_topics, random_state=1, alpha=.1, l1_ratio=.5).fit(tfidf)\n",
    "    return nmf.transform(tfidf)"
   ]
  },
  {
   "cell_type": "code",
   "execution_count": 9,
   "metadata": {
    "collapsed": true
   },
   "outputs": [],
   "source": [
    "parent_data = data.copy()"
   ]
  },
  {
   "cell_type": "code",
   "execution_count": 10,
   "metadata": {
    "collapsed": false
   },
   "outputs": [
    {
     "name": "stdout",
     "output_type": "stream",
     "text": [
      "Extracting tf-idf features for NMF...\n",
      "Fitting the NMF model with tf-idf features,n_samples=2000 and n_features=1000...\n",
      "(5671, 20)\n"
     ]
    }
   ],
   "source": [
    "## Applying Non Negative Matrix Factorisation on Request Posts\n",
    "\n",
    "topics = applyNMF(data['request_text_edit_aware'])\n",
    "print(topics.shape)"
   ]
  },
  {
   "cell_type": "code",
   "execution_count": 11,
   "metadata": {
    "collapsed": false
   },
   "outputs": [
    {
     "data": {
      "text/html": [
       "<div>\n",
       "<table border=\"1\" class=\"dataframe\">\n",
       "  <thead>\n",
       "    <tr style=\"text-align: right;\">\n",
       "      <th></th>\n",
       "      <th>giver_username_if_known</th>\n",
       "      <th>request_id</th>\n",
       "      <th>request_text_edit_aware</th>\n",
       "      <th>request_title</th>\n",
       "      <th>requester_account_age_in_days_at_request</th>\n",
       "      <th>requester_days_since_first_post_on_raop_at_request</th>\n",
       "      <th>requester_number_of_comments_at_request</th>\n",
       "      <th>requester_number_of_comments_in_raop_at_request</th>\n",
       "      <th>requester_number_of_posts_at_request</th>\n",
       "      <th>requester_number_of_posts_on_raop_at_request</th>\n",
       "      <th>...</th>\n",
       "      <th>request_text_topic_10</th>\n",
       "      <th>request_text_topic_11</th>\n",
       "      <th>request_text_topic_12</th>\n",
       "      <th>request_text_topic_13</th>\n",
       "      <th>request_text_topic_14</th>\n",
       "      <th>request_text_topic_15</th>\n",
       "      <th>request_text_topic_16</th>\n",
       "      <th>request_text_topic_17</th>\n",
       "      <th>request_text_topic_18</th>\n",
       "      <th>request_text_topic_19</th>\n",
       "    </tr>\n",
       "  </thead>\n",
       "  <tbody>\n",
       "    <tr>\n",
       "      <th>0</th>\n",
       "      <td>N/A</td>\n",
       "      <td>t3_l25d7</td>\n",
       "      <td>Hi I am in need of food for my 4 children we a...</td>\n",
       "      <td>Request Colorado Springs Help Us Please</td>\n",
       "      <td>0.000000</td>\n",
       "      <td>0.000000</td>\n",
       "      <td>0</td>\n",
       "      <td>0</td>\n",
       "      <td>0</td>\n",
       "      <td>0</td>\n",
       "      <td>...</td>\n",
       "      <td>0.0</td>\n",
       "      <td>0.0</td>\n",
       "      <td>0.0</td>\n",
       "      <td>0.010389</td>\n",
       "      <td>0.000000</td>\n",
       "      <td>0.0</td>\n",
       "      <td>0.0</td>\n",
       "      <td>0.013289</td>\n",
       "      <td>0.0</td>\n",
       "      <td>0.000000</td>\n",
       "    </tr>\n",
       "    <tr>\n",
       "      <th>1</th>\n",
       "      <td>N/A</td>\n",
       "      <td>t3_rcb83</td>\n",
       "      <td>I spent the last money I had on gas today. Im ...</td>\n",
       "      <td>[Request] California, No cash and I could use ...</td>\n",
       "      <td>501.111100</td>\n",
       "      <td>0.000000</td>\n",
       "      <td>0</td>\n",
       "      <td>0</td>\n",
       "      <td>15</td>\n",
       "      <td>0</td>\n",
       "      <td>...</td>\n",
       "      <td>0.0</td>\n",
       "      <td>0.0</td>\n",
       "      <td>0.0</td>\n",
       "      <td>0.000000</td>\n",
       "      <td>0.135888</td>\n",
       "      <td>0.0</td>\n",
       "      <td>0.0</td>\n",
       "      <td>0.000000</td>\n",
       "      <td>0.0</td>\n",
       "      <td>0.024505</td>\n",
       "    </tr>\n",
       "    <tr>\n",
       "      <th>2</th>\n",
       "      <td>N/A</td>\n",
       "      <td>t3_lpu5j</td>\n",
       "      <td>My girlfriend decided it would be a good idea ...</td>\n",
       "      <td>[Request] Hungry couple in Dundee, Scotland wo...</td>\n",
       "      <td>0.000000</td>\n",
       "      <td>0.000000</td>\n",
       "      <td>0</td>\n",
       "      <td>0</td>\n",
       "      <td>0</td>\n",
       "      <td>0</td>\n",
       "      <td>...</td>\n",
       "      <td>0.0</td>\n",
       "      <td>0.0</td>\n",
       "      <td>0.0</td>\n",
       "      <td>0.000000</td>\n",
       "      <td>0.000000</td>\n",
       "      <td>0.0</td>\n",
       "      <td>0.0</td>\n",
       "      <td>0.000000</td>\n",
       "      <td>0.0</td>\n",
       "      <td>0.000000</td>\n",
       "    </tr>\n",
       "    <tr>\n",
       "      <th>3</th>\n",
       "      <td>N/A</td>\n",
       "      <td>t3_mxvj3</td>\n",
       "      <td>It's cold, I'n hungry, and to be completely ho...</td>\n",
       "      <td>[Request] In Canada (Ontario), just got home f...</td>\n",
       "      <td>6.518438</td>\n",
       "      <td>0.000000</td>\n",
       "      <td>36</td>\n",
       "      <td>0</td>\n",
       "      <td>1</td>\n",
       "      <td>0</td>\n",
       "      <td>...</td>\n",
       "      <td>0.0</td>\n",
       "      <td>0.0</td>\n",
       "      <td>0.0</td>\n",
       "      <td>0.000000</td>\n",
       "      <td>0.000000</td>\n",
       "      <td>0.0</td>\n",
       "      <td>0.0</td>\n",
       "      <td>0.000000</td>\n",
       "      <td>0.0</td>\n",
       "      <td>0.009386</td>\n",
       "    </tr>\n",
       "    <tr>\n",
       "      <th>4</th>\n",
       "      <td>N/A</td>\n",
       "      <td>t3_1i6486</td>\n",
       "      <td>hey guys:\\n I love this sub. I think it's grea...</td>\n",
       "      <td>[Request] Old friend coming to visit. Would LO...</td>\n",
       "      <td>162.063252</td>\n",
       "      <td>101.606505</td>\n",
       "      <td>140</td>\n",
       "      <td>2</td>\n",
       "      <td>14</td>\n",
       "      <td>0</td>\n",
       "      <td>...</td>\n",
       "      <td>0.0</td>\n",
       "      <td>0.0</td>\n",
       "      <td>0.0</td>\n",
       "      <td>0.034902</td>\n",
       "      <td>0.000000</td>\n",
       "      <td>0.0</td>\n",
       "      <td>0.0</td>\n",
       "      <td>0.000000</td>\n",
       "      <td>0.0</td>\n",
       "      <td>0.000000</td>\n",
       "    </tr>\n",
       "  </tbody>\n",
       "</table>\n",
       "<p>5 rows × 37 columns</p>\n",
       "</div>"
      ],
      "text/plain": [
       "  giver_username_if_known request_id  \\\n",
       "0                     N/A   t3_l25d7   \n",
       "1                     N/A   t3_rcb83   \n",
       "2                     N/A   t3_lpu5j   \n",
       "3                     N/A   t3_mxvj3   \n",
       "4                     N/A  t3_1i6486   \n",
       "\n",
       "                             request_text_edit_aware  \\\n",
       "0  Hi I am in need of food for my 4 children we a...   \n",
       "1  I spent the last money I had on gas today. Im ...   \n",
       "2  My girlfriend decided it would be a good idea ...   \n",
       "3  It's cold, I'n hungry, and to be completely ho...   \n",
       "4  hey guys:\\n I love this sub. I think it's grea...   \n",
       "\n",
       "                                       request_title  \\\n",
       "0            Request Colorado Springs Help Us Please   \n",
       "1  [Request] California, No cash and I could use ...   \n",
       "2  [Request] Hungry couple in Dundee, Scotland wo...   \n",
       "3  [Request] In Canada (Ontario), just got home f...   \n",
       "4  [Request] Old friend coming to visit. Would LO...   \n",
       "\n",
       "   requester_account_age_in_days_at_request  \\\n",
       "0                                  0.000000   \n",
       "1                                501.111100   \n",
       "2                                  0.000000   \n",
       "3                                  6.518438   \n",
       "4                                162.063252   \n",
       "\n",
       "   requester_days_since_first_post_on_raop_at_request  \\\n",
       "0                                           0.000000    \n",
       "1                                           0.000000    \n",
       "2                                           0.000000    \n",
       "3                                           0.000000    \n",
       "4                                         101.606505    \n",
       "\n",
       "   requester_number_of_comments_at_request  \\\n",
       "0                                        0   \n",
       "1                                        0   \n",
       "2                                        0   \n",
       "3                                       36   \n",
       "4                                      140   \n",
       "\n",
       "   requester_number_of_comments_in_raop_at_request  \\\n",
       "0                                                0   \n",
       "1                                                0   \n",
       "2                                                0   \n",
       "3                                                0   \n",
       "4                                                2   \n",
       "\n",
       "   requester_number_of_posts_at_request  \\\n",
       "0                                     0   \n",
       "1                                    15   \n",
       "2                                     0   \n",
       "3                                     1   \n",
       "4                                    14   \n",
       "\n",
       "   requester_number_of_posts_on_raop_at_request          ...            \\\n",
       "0                                             0          ...             \n",
       "1                                             0          ...             \n",
       "2                                             0          ...             \n",
       "3                                             0          ...             \n",
       "4                                             0          ...             \n",
       "\n",
       "   request_text_topic_10 request_text_topic_11  request_text_topic_12  \\\n",
       "0                    0.0                   0.0                    0.0   \n",
       "1                    0.0                   0.0                    0.0   \n",
       "2                    0.0                   0.0                    0.0   \n",
       "3                    0.0                   0.0                    0.0   \n",
       "4                    0.0                   0.0                    0.0   \n",
       "\n",
       "   request_text_topic_13 request_text_topic_14  request_text_topic_15  \\\n",
       "0               0.010389              0.000000                    0.0   \n",
       "1               0.000000              0.135888                    0.0   \n",
       "2               0.000000              0.000000                    0.0   \n",
       "3               0.000000              0.000000                    0.0   \n",
       "4               0.034902              0.000000                    0.0   \n",
       "\n",
       "   request_text_topic_16  request_text_topic_17  request_text_topic_18  \\\n",
       "0                    0.0               0.013289                    0.0   \n",
       "1                    0.0               0.000000                    0.0   \n",
       "2                    0.0               0.000000                    0.0   \n",
       "3                    0.0               0.000000                    0.0   \n",
       "4                    0.0               0.000000                    0.0   \n",
       "\n",
       "   request_text_topic_19  \n",
       "0               0.000000  \n",
       "1               0.024505  \n",
       "2               0.000000  \n",
       "3               0.009386  \n",
       "4               0.000000  \n",
       "\n",
       "[5 rows x 37 columns]"
      ]
     },
     "execution_count": 11,
     "metadata": {},
     "output_type": "execute_result"
    }
   ],
   "source": [
    "for i in range(topics.shape[1]):\n",
    "    data['request_text_topic_{}'.format(i)] = topics[:,i]\n",
    "data.head()"
   ]
  },
  {
   "cell_type": "code",
   "execution_count": 12,
   "metadata": {
    "collapsed": true
   },
   "outputs": [],
   "source": [
    "## Changing the \"giver_username\" column to 0/1\n",
    "\n",
    "data.giver_username_if_known = data.giver_username_if_known.map({'N/A':0})\n",
    "data.giver_username_if_known.fillna(1,inplace=True)"
   ]
  },
  {
   "cell_type": "code",
   "execution_count": 13,
   "metadata": {
    "collapsed": false
   },
   "outputs": [
    {
     "data": {
      "text/plain": [
       "array([ 0.,  1.])"
      ]
     },
     "execution_count": 13,
     "metadata": {},
     "output_type": "execute_result"
    }
   ],
   "source": [
    "data.giver_username_if_known.unique()"
   ]
  },
  {
   "cell_type": "code",
   "execution_count": 14,
   "metadata": {
    "collapsed": true
   },
   "outputs": [],
   "source": [
    "## Adding the length of the request as the feature\n",
    "\n",
    "data['request_length'] = [len(x) for x in parent_data['request_text_edit_aware']]"
   ]
  },
  {
   "cell_type": "code",
   "execution_count": 15,
   "metadata": {
    "collapsed": true
   },
   "outputs": [],
   "source": [
    "subreddits = map(lambda x: ' '.join(x),parent_data['requester_subreddits_at_request'])"
   ]
  },
  {
   "cell_type": "code",
   "execution_count": 16,
   "metadata": {
    "collapsed": false
   },
   "outputs": [
    {
     "name": "stdout",
     "output_type": "stream",
     "text": [
      "Extracting tf-idf features for NMF...\n",
      "Fitting the NMF model with tf-idf features,n_samples=2000 and n_features=1000...\n"
     ]
    }
   ],
   "source": [
    "## Applying NMF on Subreddits\n",
    "\n",
    "subreddits_topics = applyNMF(subreddits)"
   ]
  },
  {
   "cell_type": "code",
   "execution_count": 17,
   "metadata": {
    "collapsed": false
   },
   "outputs": [
    {
     "name": "stdout",
     "output_type": "stream",
     "text": [
      "<class 'pandas.core.frame.DataFrame'>\n",
      "Int64Index: 5671 entries, 0 to 1630\n",
      "Data columns (total 58 columns):\n",
      "giver_username_if_known                               5671 non-null float64\n",
      "request_id                                            5671 non-null object\n",
      "request_text_edit_aware                               5671 non-null object\n",
      "request_title                                         5671 non-null object\n",
      "requester_account_age_in_days_at_request              5671 non-null float64\n",
      "requester_days_since_first_post_on_raop_at_request    5671 non-null float64\n",
      "requester_number_of_comments_at_request               5671 non-null int64\n",
      "requester_number_of_comments_in_raop_at_request       5671 non-null int64\n",
      "requester_number_of_posts_at_request                  5671 non-null int64\n",
      "requester_number_of_posts_on_raop_at_request          5671 non-null int64\n",
      "requester_number_of_subreddits_at_request             5671 non-null int64\n",
      "requester_subreddits_at_request                       5671 non-null object\n",
      "requester_upvotes_minus_downvotes_at_request          5671 non-null int64\n",
      "requester_upvotes_plus_downvotes_at_request           5671 non-null int64\n",
      "requester_username                                    5671 non-null object\n",
      "unix_timestamp_of_request                             5671 non-null int64\n",
      "unix_timestamp_of_request_utc                         5671 non-null int64\n",
      "request_text_topic_0                                  5671 non-null float64\n",
      "request_text_topic_1                                  5671 non-null float64\n",
      "request_text_topic_2                                  5671 non-null float64\n",
      "request_text_topic_3                                  5671 non-null float64\n",
      "request_text_topic_4                                  5671 non-null float64\n",
      "request_text_topic_5                                  5671 non-null float64\n",
      "request_text_topic_6                                  5671 non-null float64\n",
      "request_text_topic_7                                  5671 non-null float64\n",
      "request_text_topic_8                                  5671 non-null float64\n",
      "request_text_topic_9                                  5671 non-null float64\n",
      "request_text_topic_10                                 5671 non-null float64\n",
      "request_text_topic_11                                 5671 non-null float64\n",
      "request_text_topic_12                                 5671 non-null float64\n",
      "request_text_topic_13                                 5671 non-null float64\n",
      "request_text_topic_14                                 5671 non-null float64\n",
      "request_text_topic_15                                 5671 non-null float64\n",
      "request_text_topic_16                                 5671 non-null float64\n",
      "request_text_topic_17                                 5671 non-null float64\n",
      "request_text_topic_18                                 5671 non-null float64\n",
      "request_text_topic_19                                 5671 non-null float64\n",
      "request_length                                        5671 non-null int64\n",
      "subreddit_topics_0                                    5671 non-null float64\n",
      "subreddit_topics_1                                    5671 non-null float64\n",
      "subreddit_topics_2                                    5671 non-null float64\n",
      "subreddit_topics_3                                    5671 non-null float64\n",
      "subreddit_topics_4                                    5671 non-null float64\n",
      "subreddit_topics_5                                    5671 non-null float64\n",
      "subreddit_topics_6                                    5671 non-null float64\n",
      "subreddit_topics_7                                    5671 non-null float64\n",
      "subreddit_topics_8                                    5671 non-null float64\n",
      "subreddit_topics_9                                    5671 non-null float64\n",
      "subreddit_topics_10                                   5671 non-null float64\n",
      "subreddit_topics_11                                   5671 non-null float64\n",
      "subreddit_topics_12                                   5671 non-null float64\n",
      "subreddit_topics_13                                   5671 non-null float64\n",
      "subreddit_topics_14                                   5671 non-null float64\n",
      "subreddit_topics_15                                   5671 non-null float64\n",
      "subreddit_topics_16                                   5671 non-null float64\n",
      "subreddit_topics_17                                   5671 non-null float64\n",
      "subreddit_topics_18                                   5671 non-null float64\n",
      "subreddit_topics_19                                   5671 non-null float64\n",
      "dtypes: float64(43), int64(10), object(5)\n",
      "memory usage: 2.6+ MB\n"
     ]
    }
   ],
   "source": [
    "for i in range(subreddits_topics.shape[1]):\n",
    "    data['subreddit_topics_{}'.format(i)] = subreddits_topics[:,i]\n",
    "data.info()"
   ]
  },
  {
   "cell_type": "code",
   "execution_count": 18,
   "metadata": {
    "collapsed": true
   },
   "outputs": [],
   "source": [
    "count = dict()\n",
    "for i in range(parent_data.shape[0]):\n",
    "    if parent_data.iloc[i,-7] == True:\n",
    "        for subreddit in parent_data.iloc[i,-6]:\n",
    "            try:\n",
    "                count[subreddit] += 1\n",
    "            except:\n",
    "                count[subreddit] = 1"
   ]
  },
  {
   "cell_type": "code",
   "execution_count": 19,
   "metadata": {
    "collapsed": true
   },
   "outputs": [],
   "source": [
    "count_series = pd.Series(count.values(),index = count.keys())\n",
    "count_series.sort_values(ascending=False,inplace=True)"
   ]
  },
  {
   "cell_type": "code",
   "execution_count": 20,
   "metadata": {
    "collapsed": true
   },
   "outputs": [],
   "source": [
    "subreddits = set(count_series[count_series > 300].index)"
   ]
  },
  {
   "cell_type": "code",
   "execution_count": 21,
   "metadata": {
    "collapsed": true
   },
   "outputs": [],
   "source": [
    "## Counting the important subreddit and checking their presence\n",
    "\n",
    "data['subreddit_count'] = map(lambda x: len(set(x).intersection(subreddits)),\\\n",
    "                              parent_data['requester_subreddits_at_request'])"
   ]
  },
  {
   "cell_type": "code",
   "execution_count": 22,
   "metadata": {
    "collapsed": false
   },
   "outputs": [
    {
     "name": "stdout",
     "output_type": "stream",
     "text": [
      "<class 'pandas.core.frame.DataFrame'>\n",
      "Int64Index: 5671 entries, 0 to 1630\n",
      "Data columns (total 54 columns):\n",
      "giver_username_if_known                               5671 non-null float64\n",
      "requester_account_age_in_days_at_request              5671 non-null float64\n",
      "requester_days_since_first_post_on_raop_at_request    5671 non-null float64\n",
      "requester_number_of_comments_at_request               5671 non-null int64\n",
      "requester_number_of_comments_in_raop_at_request       5671 non-null int64\n",
      "requester_number_of_posts_at_request                  5671 non-null int64\n",
      "requester_number_of_posts_on_raop_at_request          5671 non-null int64\n",
      "requester_number_of_subreddits_at_request             5671 non-null int64\n",
      "requester_upvotes_minus_downvotes_at_request          5671 non-null int64\n",
      "requester_upvotes_plus_downvotes_at_request           5671 non-null int64\n",
      "unix_timestamp_of_request                             5671 non-null int64\n",
      "unix_timestamp_of_request_utc                         5671 non-null int64\n",
      "request_text_topic_0                                  5671 non-null float64\n",
      "request_text_topic_1                                  5671 non-null float64\n",
      "request_text_topic_2                                  5671 non-null float64\n",
      "request_text_topic_3                                  5671 non-null float64\n",
      "request_text_topic_4                                  5671 non-null float64\n",
      "request_text_topic_5                                  5671 non-null float64\n",
      "request_text_topic_6                                  5671 non-null float64\n",
      "request_text_topic_7                                  5671 non-null float64\n",
      "request_text_topic_8                                  5671 non-null float64\n",
      "request_text_topic_9                                  5671 non-null float64\n",
      "request_text_topic_10                                 5671 non-null float64\n",
      "request_text_topic_11                                 5671 non-null float64\n",
      "request_text_topic_12                                 5671 non-null float64\n",
      "request_text_topic_13                                 5671 non-null float64\n",
      "request_text_topic_14                                 5671 non-null float64\n",
      "request_text_topic_15                                 5671 non-null float64\n",
      "request_text_topic_16                                 5671 non-null float64\n",
      "request_text_topic_17                                 5671 non-null float64\n",
      "request_text_topic_18                                 5671 non-null float64\n",
      "request_text_topic_19                                 5671 non-null float64\n",
      "request_length                                        5671 non-null int64\n",
      "subreddit_topics_0                                    5671 non-null float64\n",
      "subreddit_topics_1                                    5671 non-null float64\n",
      "subreddit_topics_2                                    5671 non-null float64\n",
      "subreddit_topics_3                                    5671 non-null float64\n",
      "subreddit_topics_4                                    5671 non-null float64\n",
      "subreddit_topics_5                                    5671 non-null float64\n",
      "subreddit_topics_6                                    5671 non-null float64\n",
      "subreddit_topics_7                                    5671 non-null float64\n",
      "subreddit_topics_8                                    5671 non-null float64\n",
      "subreddit_topics_9                                    5671 non-null float64\n",
      "subreddit_topics_10                                   5671 non-null float64\n",
      "subreddit_topics_11                                   5671 non-null float64\n",
      "subreddit_topics_12                                   5671 non-null float64\n",
      "subreddit_topics_13                                   5671 non-null float64\n",
      "subreddit_topics_14                                   5671 non-null float64\n",
      "subreddit_topics_15                                   5671 non-null float64\n",
      "subreddit_topics_16                                   5671 non-null float64\n",
      "subreddit_topics_17                                   5671 non-null float64\n",
      "subreddit_topics_18                                   5671 non-null float64\n",
      "subreddit_topics_19                                   5671 non-null float64\n",
      "subreddit_count                                       5671 non-null int64\n",
      "dtypes: float64(43), int64(11)\n",
      "memory usage: 2.4 MB\n"
     ]
    }
   ],
   "source": [
    "data.drop(labels=[i for i in data.columns if data[i].dtype == 'object'],axis=1,inplace=True)\n",
    "data.info()"
   ]
  },
  {
   "cell_type": "code",
   "execution_count": 23,
   "metadata": {
    "collapsed": false
   },
   "outputs": [
    {
     "name": "stdout",
     "output_type": "stream",
     "text": [
      "True\n"
     ]
    }
   ],
   "source": [
    "X = data.iloc[0:y.shape[0],:]\n",
    "print X.shape[0] == data_train.shape[0]"
   ]
  },
  {
   "cell_type": "code",
   "execution_count": 24,
   "metadata": {
    "collapsed": false
   },
   "outputs": [
    {
     "name": "stdout",
     "output_type": "stream",
     "text": [
      "True\n"
     ]
    }
   ],
   "source": [
    "test = data.iloc[y.shape[0]:,:]\n",
    "print test.shape[0] == data_test.shape[0]"
   ]
  },
  {
   "cell_type": "code",
   "execution_count": 25,
   "metadata": {
    "collapsed": false
   },
   "outputs": [
    {
     "data": {
      "text/plain": [
       "0    0\n",
       "1    0\n",
       "2    0\n",
       "3    0\n",
       "4    0\n",
       "Name: requester_received_pizza, dtype: int64"
      ]
     },
     "execution_count": 25,
     "metadata": {},
     "output_type": "execute_result"
    }
   ],
   "source": [
    "y = y.map({False:0,True:1})\n",
    "y.head()"
   ]
  },
  {
   "cell_type": "code",
   "execution_count": 27,
   "metadata": {
    "collapsed": false
   },
   "outputs": [],
   "source": [
    "from sklearn.ensemble import RandomForestClassifier\n",
    "from xgboost.sklearn import XGBClassifier\n",
    "from sklearn.metrics import roc_auc_score,accuracy_score"
   ]
  },
  {
   "cell_type": "code",
   "execution_count": 29,
   "metadata": {
    "collapsed": false
   },
   "outputs": [],
   "source": [
    "rfc = RandomForestClassifier(n_estimators=100)\n",
    "xgb = XGBClassifier()"
   ]
  },
  {
   "cell_type": "code",
   "execution_count": 30,
   "metadata": {
    "collapsed": false
   },
   "outputs": [],
   "source": [
    "from sklearn.cross_validation import train_test_split\n",
    "X_train,X_test,y_train,y_test = train_test_split(X,y,test_size=0.3,random_state=7)"
   ]
  },
  {
   "cell_type": "code",
   "execution_count": 31,
   "metadata": {
    "collapsed": false
   },
   "outputs": [
    {
     "name": "stdout",
     "output_type": "stream",
     "text": [
      "(2828, 54) (2828,)\n"
     ]
    }
   ],
   "source": [
    "print X_train.shape,y_train.shape"
   ]
  },
  {
   "cell_type": "code",
   "execution_count": 32,
   "metadata": {
    "collapsed": false
   },
   "outputs": [
    {
     "data": {
      "text/plain": [
       "RandomForestClassifier(bootstrap=True, class_weight=None, criterion='gini',\n",
       "            max_depth=None, max_features='auto', max_leaf_nodes=None,\n",
       "            min_samples_leaf=1, min_samples_split=2,\n",
       "            min_weight_fraction_leaf=0.0, n_estimators=100, n_jobs=1,\n",
       "            oob_score=False, random_state=None, verbose=0,\n",
       "            warm_start=False)"
      ]
     },
     "execution_count": 32,
     "metadata": {},
     "output_type": "execute_result"
    }
   ],
   "source": [
    "rfc.fit(X_train,y_train)\n",
    "xgb.set_params(max_depth=10,n_estimators=200)\n",
    "xgb.fit(X_train,y_train)"
   ]
  },
  {
   "cell_type": "code",
   "execution_count": 33,
   "metadata": {
    "collapsed": false
   },
   "outputs": [
    {
     "name": "stdout",
     "output_type": "stream",
     "text": [
      "(1212, 2)\n"
     ]
    }
   ],
   "source": [
    "test_rfc = rfc.predict_proba(X_test)\n",
    "test_xgb  = xgb.predict_proba(X_test)\n",
    "print test_rfc.shape"
   ]
  },
  {
   "cell_type": "code",
   "execution_count": 32,
   "metadata": {
    "collapsed": false
   },
   "outputs": [
    {
     "name": "stdout",
     "output_type": "stream",
     "text": [
      "Maximum score: 0.779914876667\n",
      "XGB Weight: 0.3\n",
      "RFC Weight: 0.7\n"
     ]
    }
   ],
   "source": [
    "max_score = 0\n",
    "xgb_weight,rfc_weight=0,0\n",
    "for i in np.arange(0.9,0.1,-0.1):\n",
    "    score = roc_auc_score(y_test,(i*test_xgb+(1-i)*test_rfc)[:,1])\n",
    "    if score > max_score:\n",
    "        max_score = score\n",
    "        xgb_weight = i\n",
    "        rfc_weight = 1-i\n",
    "print 'Maximum score: {}'.format(max_score)\n",
    "print 'XGB Weight: {}'.format(xgb_weight)\n",
    "print 'RFC Weight: {}'.format(rfc_weight)"
   ]
  },
  {
   "cell_type": "code",
   "execution_count": 33,
   "metadata": {
    "collapsed": true
   },
   "outputs": [],
   "source": [
    "test_rfc = rfc.predict_proba(test)\n",
    "test_xgb  = xgb.predict_proba(test)"
   ]
  },
  {
   "cell_type": "code",
   "execution_count": 34,
   "metadata": {
    "collapsed": false
   },
   "outputs": [
    {
     "name": "stdout",
     "output_type": "stream",
     "text": [
      "(1631,)\n"
     ]
    }
   ],
   "source": [
    "testPred = np.asarray([row[1] for row in ((xgb_weight*test_xgb+(rfc_weight)*test_rfc))])\n",
    "print testPred.shape"
   ]
  },
  {
   "cell_type": "code",
   "execution_count": 35,
   "metadata": {
    "collapsed": false
   },
   "outputs": [],
   "source": [
    "import csv as csv"
   ]
  },
  {
   "cell_type": "code",
   "execution_count": 36,
   "metadata": {
    "collapsed": true
   },
   "outputs": [],
   "source": [
    "fp = open(\"submission.csv\",'wb')\n",
    "p = csv.writer(fp)\n",
    "p.writerow(['request_id','requester_received_pizza'])\n",
    "for i in range(len(testPred)):\n",
    "    p.writerow([request_id[i],testPred[i]])"
   ]
  },
  {
   "cell_type": "markdown",
   "metadata": {
    "collapsed": false
   },
   "source": [
    "Submitting with probabilities of 1 rather than classes can make a huge difference on the leaderboard score as the penalisatiion by error function will decrease. =)"
   ]
  }
 ],
 "metadata": {
  "anaconda-cloud": {},
  "kernelspec": {
   "display_name": "Python [default]",
   "language": "python",
   "name": "python2"
  },
  "language_info": {
   "codemirror_mode": {
    "name": "ipython",
    "version": 2
   },
   "file_extension": ".py",
   "mimetype": "text/x-python",
   "name": "python",
   "nbconvert_exporter": "python",
   "pygments_lexer": "ipython2",
   "version": "2.7.12"
  }
 },
 "nbformat": 4,
 "nbformat_minor": 0
}
