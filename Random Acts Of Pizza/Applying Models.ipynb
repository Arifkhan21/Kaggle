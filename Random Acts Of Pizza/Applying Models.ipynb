{
 "cells": [
  {
   "cell_type": "markdown",
   "metadata": {},
   "source": [
    "## Applying a simple Logisitic Regression Model"
   ]
  },
  {
   "cell_type": "code",
   "execution_count": 1,
   "metadata": {
    "collapsed": false
   },
   "outputs": [
    {
     "name": "stdout",
     "output_type": "stream",
     "text": [
      "Populating the interactive namespace from numpy and matplotlib\n"
     ]
    }
   ],
   "source": [
    "%pylab inline\n",
    "import pandas as pd\n",
    "import matplotlib.pyplot as plt\n",
    "import seaborn as sns\n",
    "import numpy as np"
   ]
  },
  {
   "cell_type": "code",
   "execution_count": 2,
   "metadata": {
    "collapsed": false
   },
   "outputs": [
    {
     "data": {
      "text/plain": [
       "(4040, 27)"
      ]
     },
     "execution_count": 2,
     "metadata": {},
     "output_type": "execute_result"
    }
   ],
   "source": [
    "df_train = pd.read_json('../../Dataset/Random Acts Of Pizza/trainingData.json')\n",
    "df_train.shape"
   ]
  },
  {
   "cell_type": "code",
   "execution_count": 3,
   "metadata": {
    "collapsed": false
   },
   "outputs": [
    {
     "name": "stdout",
     "output_type": "stream",
     "text": [
      "(5718, 7)\n"
     ]
    }
   ],
   "source": [
    "df_sentiment = pd.read_csv('../../../Downloads/sentiment.csv',index_col=0)\n",
    "print df_sentiment.shape"
   ]
  },
  {
   "cell_type": "code",
   "execution_count": 4,
   "metadata": {
    "collapsed": false
   },
   "outputs": [
    {
     "data": {
      "text/html": [
       "<div>\n",
       "<table border=\"1\" class=\"dataframe\">\n",
       "  <thead>\n",
       "    <tr style=\"text-align: right;\">\n",
       "      <th></th>\n",
       "      <th>request_id</th>\n",
       "      <th>sentiment</th>\n",
       "    </tr>\n",
       "  </thead>\n",
       "  <tbody>\n",
       "    <tr>\n",
       "      <th>0</th>\n",
       "      <td>t3_rcb83</td>\n",
       "      <td>Negative</td>\n",
       "    </tr>\n",
       "    <tr>\n",
       "      <th>1</th>\n",
       "      <td>t3_lpu5j</td>\n",
       "      <td>Negative</td>\n",
       "    </tr>\n",
       "    <tr>\n",
       "      <th>2</th>\n",
       "      <td>t3_mxvj3</td>\n",
       "      <td>Negative</td>\n",
       "    </tr>\n",
       "    <tr>\n",
       "      <th>3</th>\n",
       "      <td>t3_1i6486</td>\n",
       "      <td>Neutral</td>\n",
       "    </tr>\n",
       "    <tr>\n",
       "      <th>4</th>\n",
       "      <td>t3_14gmeb</td>\n",
       "      <td>Negative</td>\n",
       "    </tr>\n",
       "  </tbody>\n",
       "</table>\n",
       "</div>"
      ],
      "text/plain": [
       "  request_id sentiment\n",
       "0   t3_rcb83  Negative\n",
       "1   t3_lpu5j  Negative\n",
       "2   t3_mxvj3  Negative\n",
       "3  t3_1i6486   Neutral\n",
       "4  t3_14gmeb  Negative"
      ]
     },
     "execution_count": 4,
     "metadata": {},
     "output_type": "execute_result"
    }
   ],
   "source": [
    "df_sentiment.drop(['index','request_text','positive','negative','neutral'],axis=1,inplace=True)\n",
    "df_sentiment.head()"
   ]
  },
  {
   "cell_type": "code",
   "execution_count": 5,
   "metadata": {
    "collapsed": false,
    "scrolled": false
   },
   "outputs": [
    {
     "name": "stdout",
     "output_type": "stream",
     "text": [
      "(4040, 28)\n"
     ]
    }
   ],
   "source": [
    "df_train = df_train.merge(df_sentiment,on='request_id')\n",
    "print df_train.shape"
   ]
  },
  {
   "cell_type": "code",
   "execution_count": 6,
   "metadata": {
    "collapsed": false
   },
   "outputs": [],
   "source": [
    "sent = []\n",
    "for sentiment in df_sentiment['sentiment']:\n",
    "    try:\n",
    "        if 'pos' in sentiment.lower():\n",
    "            sent.append(1)\n",
    "        elif 'neg' in sentiment.lower():\n",
    "            sent.append(0)\n",
    "        else:\n",
    "            sent.append(0)\n",
    "    except:\n",
    "        sent.append(0)"
   ]
  },
  {
   "cell_type": "code",
   "execution_count": 7,
   "metadata": {
    "collapsed": false
   },
   "outputs": [],
   "source": [
    "df_train['sentiment'] = sent[:4040]"
   ]
  },
  {
   "cell_type": "code",
   "execution_count": 8,
   "metadata": {
    "collapsed": false
   },
   "outputs": [
    {
     "data": {
      "text/html": [
       "<div>\n",
       "<table border=\"1\" class=\"dataframe\">\n",
       "  <thead>\n",
       "    <tr style=\"text-align: right;\">\n",
       "      <th></th>\n",
       "      <th>data_type</th>\n",
       "      <th>evidentiality</th>\n",
       "      <th>giver_username_if_known</th>\n",
       "      <th>impolite</th>\n",
       "      <th>narrative</th>\n",
       "      <th>polite</th>\n",
       "      <th>received</th>\n",
       "      <th>reciprocity</th>\n",
       "      <th>request_id</th>\n",
       "      <th>request_length</th>\n",
       "      <th>...</th>\n",
       "      <th>requester_number_of_subreddits_at_request</th>\n",
       "      <th>requester_subreddits_at_request</th>\n",
       "      <th>requester_upvotes_minus_downvotes_at_request</th>\n",
       "      <th>requester_upvotes_plus_downvotes_at_request</th>\n",
       "      <th>requester_username</th>\n",
       "      <th>similarity</th>\n",
       "      <th>topics</th>\n",
       "      <th>unix_timestamp_of_request</th>\n",
       "      <th>unix_timestamp_of_request_utc</th>\n",
       "      <th>sentiment</th>\n",
       "    </tr>\n",
       "  </thead>\n",
       "  <tbody>\n",
       "    <tr>\n",
       "      <th>0</th>\n",
       "      <td>train</td>\n",
       "      <td>0</td>\n",
       "      <td>N/A</td>\n",
       "      <td>0.448794</td>\n",
       "      <td>0.375000</td>\n",
       "      <td>0.551206</td>\n",
       "      <td>False</td>\n",
       "      <td>0</td>\n",
       "      <td>t3_rcb83</td>\n",
       "      <td>16</td>\n",
       "      <td>...</td>\n",
       "      <td>12</td>\n",
       "      <td>[AskReddit, Eve, IAmA, MontereyBay, RandomKind...</td>\n",
       "      <td>34</td>\n",
       "      <td>116</td>\n",
       "      <td>fohacidal</td>\n",
       "      <td>[1971, 0.9757849288]</td>\n",
       "      <td>14</td>\n",
       "      <td>1332652424</td>\n",
       "      <td>1332648824</td>\n",
       "      <td>0</td>\n",
       "    </tr>\n",
       "    <tr>\n",
       "      <th>1</th>\n",
       "      <td>train</td>\n",
       "      <td>0</td>\n",
       "      <td>N/A</td>\n",
       "      <td>0.426589</td>\n",
       "      <td>0.067797</td>\n",
       "      <td>0.573411</td>\n",
       "      <td>True</td>\n",
       "      <td>0</td>\n",
       "      <td>t3_16upcl</td>\n",
       "      <td>59</td>\n",
       "      <td>...</td>\n",
       "      <td>18</td>\n",
       "      <td>[4chan, AskReddit, IAmA, ImGoingToHellForThis,...</td>\n",
       "      <td>1738</td>\n",
       "      <td>2634</td>\n",
       "      <td>seabass86</td>\n",
       "      <td>[3782, 0.9925300426]</td>\n",
       "      <td>1</td>\n",
       "      <td>1358559286</td>\n",
       "      <td>1358559286</td>\n",
       "      <td>0</td>\n",
       "    </tr>\n",
       "  </tbody>\n",
       "</table>\n",
       "<p>2 rows × 28 columns</p>\n",
       "</div>"
      ],
      "text/plain": [
       "  data_type  evidentiality giver_username_if_known  impolite  narrative  \\\n",
       "0     train              0                     N/A  0.448794   0.375000   \n",
       "1     train              0                     N/A  0.426589   0.067797   \n",
       "\n",
       "     polite received  reciprocity request_id  request_length    ...     \\\n",
       "0  0.551206    False            0   t3_rcb83              16    ...      \n",
       "1  0.573411     True            0  t3_16upcl              59    ...      \n",
       "\n",
       "  requester_number_of_subreddits_at_request  \\\n",
       "0                                        12   \n",
       "1                                        18   \n",
       "\n",
       "                     requester_subreddits_at_request  \\\n",
       "0  [AskReddit, Eve, IAmA, MontereyBay, RandomKind...   \n",
       "1  [4chan, AskReddit, IAmA, ImGoingToHellForThis,...   \n",
       "\n",
       "   requester_upvotes_minus_downvotes_at_request  \\\n",
       "0                                            34   \n",
       "1                                          1738   \n",
       "\n",
       "   requester_upvotes_plus_downvotes_at_request  requester_username  \\\n",
       "0                                          116           fohacidal   \n",
       "1                                         2634           seabass86   \n",
       "\n",
       "             similarity  topics  unix_timestamp_of_request  \\\n",
       "0  [1971, 0.9757849288]      14                 1332652424   \n",
       "1  [3782, 0.9925300426]       1                 1358559286   \n",
       "\n",
       "   unix_timestamp_of_request_utc sentiment  \n",
       "0                     1332648824         0  \n",
       "1                     1358559286         0  \n",
       "\n",
       "[2 rows x 28 columns]"
      ]
     },
     "execution_count": 8,
     "metadata": {},
     "output_type": "execute_result"
    }
   ],
   "source": [
    "df_train.head(2)"
   ]
  },
  {
   "cell_type": "code",
   "execution_count": 9,
   "metadata": {
    "collapsed": false
   },
   "outputs": [
    {
     "name": "stdout",
     "output_type": "stream",
     "text": [
      "<class 'pandas.core.frame.DataFrame'>\n",
      "Int64Index: 4040 entries, 0 to 4039\n",
      "Data columns (total 11 columns):\n",
      "evidentiality                                   4040 non-null int64\n",
      "impolite                                        4040 non-null float64\n",
      "narrative                                       4040 non-null float64\n",
      "polite                                          4040 non-null float64\n",
      "received                                        4040 non-null bool\n",
      "reciprocity                                     4040 non-null int64\n",
      "request_length                                  4040 non-null int64\n",
      "requester_account_age_in_days_at_request        4040 non-null float64\n",
      "requester_upvotes_minus_downvotes_at_request    4040 non-null int64\n",
      "requester_upvotes_plus_downvotes_at_request     4040 non-null int64\n",
      "sentiment                                       4040 non-null int64\n",
      "dtypes: bool(1), float64(4), int64(6)\n",
      "memory usage: 351.1 KB\n"
     ]
    }
   ],
   "source": [
    "train = df_train.copy()\n",
    "train.drop([col for col in train.columns if train[col].dtype == object],axis=1,inplace=True)\n",
    "train.drop(['topics','requester_days_since_first_post_on_raop_at_request','requester_number_of_comments_at_request',\\\n",
    "           'requester_number_of_comments_in_raop_at_request','requester_number_of_posts_at_request',\\\n",
    "           'requester_number_of_posts_on_raop_at_request','requester_number_of_subreddits_at_request',\\\n",
    "           'unix_timestamp_of_request','unix_timestamp_of_request_utc'],axis=1,inplace=True)\n",
    "train.info()"
   ]
  },
  {
   "cell_type": "code",
   "execution_count": 10,
   "metadata": {
    "collapsed": false
   },
   "outputs": [
    {
     "name": "stdout",
     "output_type": "stream",
     "text": [
      "(4040, 11)\n"
     ]
    }
   ],
   "source": [
    "train.dropna(inplace=True)\n",
    "print train.shape"
   ]
  },
  {
   "cell_type": "code",
   "execution_count": 11,
   "metadata": {
    "collapsed": false
   },
   "outputs": [
    {
     "name": "stdout",
     "output_type": "stream",
     "text": [
      "(4040,)\n"
     ]
    }
   ],
   "source": [
    "y = train.pop('received')\n",
    "print y.shape"
   ]
  },
  {
   "cell_type": "code",
   "execution_count": 12,
   "metadata": {
    "collapsed": true
   },
   "outputs": [],
   "source": [
    "from sklearn.linear_model import LogisticRegression\n",
    "from sklearn.cross_validation import cross_val_score\n",
    "from sklearn.metrics import roc_auc_score"
   ]
  },
  {
   "cell_type": "code",
   "execution_count": 13,
   "metadata": {
    "collapsed": true
   },
   "outputs": [],
   "source": [
    "def scorer(estimator,X,y):\n",
    "    return roc_auc_score(y,estimator.predict(X))"
   ]
  },
  {
   "cell_type": "code",
   "execution_count": 14,
   "metadata": {
    "collapsed": true
   },
   "outputs": [],
   "source": [
    "def apply_model(model,df,y,cv=5):\n",
    "    score = cross_val_score(model,train.values,y,scoring=scorer,cv=5)\n",
    "    return score"
   ]
  },
  {
   "cell_type": "code",
   "execution_count": 15,
   "metadata": {
    "collapsed": false
   },
   "outputs": [],
   "source": [
    "linear = LogisticRegression()\n",
    "score = cross_val_score(linear,train.values,y,scoring=scorer,cv=5)"
   ]
  },
  {
   "cell_type": "code",
   "execution_count": 16,
   "metadata": {
    "collapsed": false
   },
   "outputs": [
    {
     "name": "stdout",
     "output_type": "stream",
     "text": [
      "0.500226959466\n"
     ]
    }
   ],
   "source": [
    "print score.mean()"
   ]
  },
  {
   "cell_type": "markdown",
   "metadata": {
    "collapsed": false
   },
   "source": [
    "### Creating the credibility of some new features\n",
    "* Politeness\n",
    "* Impoliteness"
   ]
  },
  {
   "cell_type": "code",
   "execution_count": 17,
   "metadata": {
    "collapsed": true
   },
   "outputs": [],
   "source": [
    "from pylab import rcParams\n",
    "rcParams['figure.figsize'] = 20,10"
   ]
  },
  {
   "cell_type": "code",
   "execution_count": 18,
   "metadata": {
    "collapsed": false
   },
   "outputs": [
    {
     "data": {
      "image/png": "[encoded data removed]",
      "text/plain": [
       "<matplotlib.figure.Figure at 0x116be40d0>"
      ]
     },
     "metadata": {},
     "output_type": "display_data"
    }
   ],
   "source": [
    "df_train[df_train['received'] == True]['polite'].hist()\n",
    "plt.xlabel('Politeness')\n",
    "plt.ylabel('Frequency')\n",
    "plt.show()"
   ]
  },
  {
   "cell_type": "code",
   "execution_count": 19,
   "metadata": {
    "collapsed": false
   },
   "outputs": [
    {
     "data": {
      "image/png": "[encoded data removed]",
      "text/plain": [
       "<matplotlib.figure.Figure at 0x1164dcd90>"
      ]
     },
     "metadata": {},
     "output_type": "display_data"
    }
   ],
   "source": [
    "df_train[df_train['received'] == False]['impolite'].hist()\n",
    "plt.xlabel('Politeness')\n",
    "plt.ylabel('Frequency')\n",
    "plt.show()"
   ]
  },
  {
   "cell_type": "markdown",
   "metadata": {},
   "source": [
    "### Topic modelling as an added feature"
   ]
  },
  {
   "cell_type": "markdown",
   "metadata": {
    "collapsed": true
   },
   "source": [
    "### Using giver_username as a feature"
   ]
  },
  {
   "cell_type": "code",
   "execution_count": 20,
   "metadata": {
    "collapsed": false
   },
   "outputs": [],
   "source": [
    "train['giver'] = df_train['giver_username_if_known'].map({'N/A':0})\n",
    "train['giver'].fillna(1,inplace=True)"
   ]
  },
  {
   "cell_type": "code",
   "execution_count": 21,
   "metadata": {
    "collapsed": false
   },
   "outputs": [
    {
     "name": "stdout",
     "output_type": "stream",
     "text": [
      "0.56116294006\n"
     ]
    }
   ],
   "source": [
    "linear = LogisticRegression()\n",
    "score = apply_model(linear,train,y,cv=5)\n",
    "print score.mean()"
   ]
  },
  {
   "cell_type": "markdown",
   "metadata": {},
   "source": [
    "### Narrative as a binary coded feature"
   ]
  },
  {
   "cell_type": "code",
   "execution_count": 22,
   "metadata": {
    "collapsed": true
   },
   "outputs": [],
   "source": [
    "import operator"
   ]
  },
  {
   "cell_type": "code",
   "execution_count": 23,
   "metadata": {
    "collapsed": true
   },
   "outputs": [],
   "source": [
    "narrative = {'Money': 'money now broke week until time last \\\n",
    "day when today tonight paid next first night after tomorrow \\\n",
    "month while account before long Friday rent buy bank still \\\n",
    "bills bills ago cash due due soon past never paycheck check \\\n",
    "spent years poor till yesterday morning dollars financial \\\n",
    "hour bill evening credit budget loan bucks deposit dollar \\\n",
    "current payed'.split(),'Job':'work job paycheck unemployment\\\n",
    "interview fired employment hired hire'.split(),'Student':'college\\\n",
    "student school roommate studying university finals semester class\\\n",
    "study project dorm tuition'.split(),'Family':'family mom wife parents\\\n",
    "mother hus- band dad son daughter father parent mum'.split(),'Craving':'friend \\\n",
    "girlfriend craving birthday boyfriend celebrate party game games movie\\\n",
    "date drunk beer celebrating invited drinks crave wasted invite'.split()}"
   ]
  },
  {
   "cell_type": "code",
   "execution_count": 24,
   "metadata": {
    "collapsed": false
   },
   "outputs": [],
   "source": [
    "request_narrative = []\n",
    "narration = []\n",
    "for request in df_train['request_text_edit_aware']:\n",
    "    word_count = {'Money':0,'Job':0,'Student':0,'Family':0,'Craving':0}\n",
    "    n = 0\n",
    "    for word in request.split():\n",
    "        for lexicon in narrative:\n",
    "            if word in narrative[lexicon]:\n",
    "                word_count[lexicon] += 1\n",
    "    narration.append(max(word_count.iteritems(), key=operator.itemgetter(1))[0])"
   ]
  },
  {
   "cell_type": "code",
   "execution_count": 25,
   "metadata": {
    "collapsed": false
   },
   "outputs": [],
   "source": [
    "train['narrative_topic'] = narration"
   ]
  },
  {
   "cell_type": "code",
   "execution_count": 26,
   "metadata": {
    "collapsed": false
   },
   "outputs": [],
   "source": [
    "train = pd.get_dummies(train,columns=['narrative_topic'])"
   ]
  },
  {
   "cell_type": "code",
   "execution_count": 27,
   "metadata": {
    "collapsed": false
   },
   "outputs": [
    {
     "name": "stdout",
     "output_type": "stream",
     "text": [
      "0.584267808666\n"
     ]
    }
   ],
   "source": [
    "linear = LogisticRegression()\n",
    "score = apply_model(linear,train,y,cv=5)\n",
    "print score.mean()"
   ]
  },
  {
   "cell_type": "markdown",
   "metadata": {
    "collapsed": true
   },
   "source": [
    "### Modelling the features as given by the paper"
   ]
  },
  {
   "cell_type": "markdown",
   "metadata": {},
   "source": [
    "#### Community Age as a Decile Feature"
   ]
  },
  {
   "cell_type": "code",
   "execution_count": 28,
   "metadata": {
    "collapsed": false
   },
   "outputs": [],
   "source": [
    "df_train['community_age'] = pd.cut(df_train.requester_account_age_in_days_at_request,10)"
   ]
  },
  {
   "cell_type": "code",
   "execution_count": 29,
   "metadata": {
    "collapsed": true
   },
   "outputs": [],
   "source": [
    "df_train = pd.get_dummies(df_train,columns=['community_age'])"
   ]
  },
  {
   "cell_type": "markdown",
   "metadata": {},
   "source": [
    "#### Polinteness (Gratitude) as a Binary Feature"
   ]
  },
  {
   "cell_type": "code",
   "execution_count": 30,
   "metadata": {
    "collapsed": false
   },
   "outputs": [],
   "source": [
    "df_train.polite = df_train.polite > np.mean(df_train.polite)"
   ]
  },
  {
   "cell_type": "code",
   "execution_count": 31,
   "metadata": {
    "collapsed": false
   },
   "outputs": [],
   "source": [
    "df_train.drop(['impolite'],axis=1,inplace=True)"
   ]
  },
  {
   "cell_type": "markdown",
   "metadata": {},
   "source": [
    "#### Request Length as a group of hundreds"
   ]
  },
  {
   "cell_type": "code",
   "execution_count": 32,
   "metadata": {
    "collapsed": false
   },
   "outputs": [],
   "source": [
    "df_train['request_length_hundred'] = (df_train.request_length/100).astype(int)"
   ]
  },
  {
   "cell_type": "markdown",
   "metadata": {},
   "source": [
    "#### Karma points as a Decile Feature"
   ]
  },
  {
   "cell_type": "code",
   "execution_count": 33,
   "metadata": {
    "collapsed": false
   },
   "outputs": [],
   "source": [
    "df_train['karma'] = pd.cut(df_train.requester_upvotes_minus_downvotes_at_request,10)\n",
    "df_train = pd.get_dummies(df_train,columns=['karma'])"
   ]
  },
  {
   "cell_type": "markdown",
   "metadata": {},
   "source": [
    "#### Whether the requester has posted before as a Binary Feature"
   ]
  },
  {
   "cell_type": "code",
   "execution_count": 34,
   "metadata": {
    "collapsed": false
   },
   "outputs": [],
   "source": [
    "df_train['posted_on_raop_before'] = df_train.requester_number_of_posts_on_raop_at_request > 0"
   ]
  },
  {
   "cell_type": "markdown",
   "metadata": {},
   "source": [
    "#### Narrative of the request as a Binary Feature"
   ]
  },
  {
   "cell_type": "code",
   "execution_count": 35,
   "metadata": {
    "collapsed": false
   },
   "outputs": [],
   "source": [
    "df_train = pd.concat([df_train,train[[col for col in train.columns if col.startswith('narrative')]]],axis=1)"
   ]
  },
  {
   "cell_type": "markdown",
   "metadata": {},
   "source": [
    "#### First Half Of the Month as Binary Feature"
   ]
  },
  {
   "cell_type": "code",
   "execution_count": 36,
   "metadata": {
    "collapsed": false
   },
   "outputs": [],
   "source": [
    "import datetime"
   ]
  },
  {
   "cell_type": "code",
   "execution_count": 37,
   "metadata": {
    "collapsed": true
   },
   "outputs": [],
   "source": [
    "df_train['First_Half_Of_Month'] = [datetime.datetime.fromtimestamp(int(timestamp)).day for timestamp in \\\n",
    "                                  df_train.unix_timestamp_of_request]\n",
    "df_train['First_Half_Of_Month'] = df_train['First_Half_Of_Month'] < 15"
   ]
  },
  {
   "cell_type": "code",
   "execution_count": 38,
   "metadata": {
    "collapsed": false
   },
   "outputs": [],
   "source": [
    "train = df_train.copy()"
   ]
  },
  {
   "cell_type": "code",
   "execution_count": 39,
   "metadata": {
    "collapsed": false
   },
   "outputs": [],
   "source": [
    "columns = ['data_type','giver_username_if_known','narrative','request_id','request_length',\\\n",
    "           'request_text_edit_aware','request_title','requester_account_age_in_days_at_request',\\\n",
    "           'requester_days_since_first_post_on_raop_at_request','requester_number_of_comments_at_request',\\\n",
    "           'requester_number_of_comments_in_raop_at_request','requester_number_of_posts_at_request',\\\n",
    "           'requester_number_of_posts_on_raop_at_request','requester_number_of_subreddits_at_request',\\\n",
    "           'requester_subreddits_at_request','requester_upvotes_minus_downvotes_at_request',\\\n",
    "           'requester_upvotes_plus_downvotes_at_request','requester_username','similarity','topics',\\\n",
    "           'unix_timestamp_of_request','unix_timestamp_of_request_utc','positive','negative','neutral',\\\n",
    "           'sentiment_Negative','sentiment_Neutral','sentiment_Positive','sentiment_Verynegative',\\\n",
    "           'sentiment_Verypositive','sentiment_no_sentiment','topic_0','topic_1','topic_2','topic_3',\\\n",
    "           'topic_4','topic_5','topic_6','topic_7','topic_8','topic_9','topic_10','topic_11','topic_12',\\\n",
    "           'topic_13','topic_14','topic_15','topic_16','topic_17','topic_18','topic_19']"
   ]
  },
  {
   "cell_type": "code",
   "execution_count": 40,
   "metadata": {
    "collapsed": false
   },
   "outputs": [
    {
     "name": "stdout",
     "output_type": "stream",
     "text": [
      "(4040, 33)\n"
     ]
    }
   ],
   "source": [
    "train.drop(columns,axis=1,inplace=True)\n",
    "print train.shape"
   ]
  },
  {
   "cell_type": "code",
   "execution_count": 41,
   "metadata": {
    "collapsed": false,
    "scrolled": false
   },
   "outputs": [
    {
     "name": "stdout",
     "output_type": "stream",
     "text": [
      "<class 'pandas.core.frame.DataFrame'>\n",
      "Int64Index: 4040 entries, 0 to 4039\n",
      "Data columns (total 33 columns):\n",
      "evidentiality                         4040 non-null int64\n",
      "polite                                4040 non-null bool\n",
      "received                              4040 non-null bool\n",
      "reciprocity                           4040 non-null int64\n",
      "sentiment                             4040 non-null int64\n",
      "community_age_(-2.81, 280.975]        4040 non-null float64\n",
      "community_age_(280.975, 561.95]       4040 non-null float64\n",
      "community_age_(561.95, 842.925]       4040 non-null float64\n",
      "community_age_(842.925, 1123.9]       4040 non-null float64\n",
      "community_age_(1123.9, 1404.875]      4040 non-null float64\n",
      "community_age_(1404.875, 1685.85]     4040 non-null float64\n",
      "community_age_(1685.85, 1966.826]     4040 non-null float64\n",
      "community_age_(1966.826, 2247.801]    4040 non-null float64\n",
      "community_age_(2247.801, 2528.776]    4040 non-null float64\n",
      "community_age_(2528.776, 2809.751]    4040 non-null float64\n",
      "request_length_hundred                4040 non-null int64\n",
      "karma_(-328.183, 15345.3]             4040 non-null float64\n",
      "karma_(15345.3, 30863.6]              4040 non-null float64\n",
      "karma_(30863.6, 46381.9]              4040 non-null float64\n",
      "karma_(46381.9, 61900.2]              4040 non-null float64\n",
      "karma_(61900.2, 77418.5]              4040 non-null float64\n",
      "karma_(77418.5, 92936.8]              4040 non-null float64\n",
      "karma_(92936.8, 108455.1]             4040 non-null float64\n",
      "karma_(108455.1, 123973.4]            4040 non-null float64\n",
      "karma_(123973.4, 139491.7]            4040 non-null float64\n",
      "karma_(139491.7, 155010]              4040 non-null float64\n",
      "posted_on_raop_before                 4040 non-null bool\n",
      "narrative_topic_Craving               4040 non-null float64\n",
      "narrative_topic_Family                4040 non-null float64\n",
      "narrative_topic_Job                   4040 non-null float64\n",
      "narrative_topic_Money                 4040 non-null float64\n",
      "narrative_topic_Student               4040 non-null float64\n",
      "First_Half_Of_Month                   4040 non-null bool\n",
      "dtypes: bool(4), float64(25), int64(4)\n",
      "memory usage: 962.7 KB\n"
     ]
    }
   ],
   "source": [
    "train.info()"
   ]
  },
  {
   "cell_type": "code",
   "execution_count": 42,
   "metadata": {
    "collapsed": false
   },
   "outputs": [],
   "source": [
    "train.to_csv('x.csv')"
   ]
  },
  {
   "cell_type": "code",
   "execution_count": 43,
   "metadata": {
    "collapsed": false
   },
   "outputs": [
    {
     "name": "stdout",
     "output_type": "stream",
     "text": [
      "(4040,)\n"
     ]
    }
   ],
   "source": [
    "y = train.pop('received')\n",
    "print y.shape"
   ]
  },
  {
   "cell_type": "code",
   "execution_count": 44,
   "metadata": {
    "collapsed": false
   },
   "outputs": [
    {
     "name": "stdout",
     "output_type": "stream",
     "text": [
      "0.513175284072\n"
     ]
    }
   ],
   "source": [
    "linear = LogisticRegression()\n",
    "print apply_model(linear,train,y,cv=5).mean()"
   ]
  },
  {
   "cell_type": "markdown",
   "metadata": {
    "collapsed": true
   },
   "source": [
    "### Plotting the learning curves"
   ]
  },
  {
   "cell_type": "code",
   "execution_count": 45,
   "metadata": {
    "collapsed": true
   },
   "outputs": [],
   "source": [
    "from sklearn.learning_curve import learning_curve"
   ]
  },
  {
   "cell_type": "code",
   "execution_count": 46,
   "metadata": {
    "collapsed": false
   },
   "outputs": [],
   "source": [
    "linear = LogisticRegression()\n",
    "train_sizes,train_scores,test_scores = learning_curve(linear,train.values,y,cv=10)"
   ]
  },
  {
   "cell_type": "code",
   "execution_count": 47,
   "metadata": {
    "collapsed": false
   },
   "outputs": [],
   "source": [
    "y_train = np.mean(train_scores,axis=1)\n",
    "y_test = np.mean(test_scores,axis=1)\n",
    "y_train_mean = np.mean(train_scores,axis=1)\n",
    "y_train_std = np.std(train_scores,axis=1)\n",
    "y_test_mean = np.mean(test_scores,axis=1)\n",
    "y_test_std = np.std(test_scores,axis=1)"
   ]
  },
  {
   "cell_type": "code",
   "execution_count": 48,
   "metadata": {
    "collapsed": false
   },
   "outputs": [
    {
     "data": {
      "text/plain": [
       "[]"
      ]
     },
     "execution_count": 48,
     "metadata": {},
     "output_type": "execute_result"
    },
    {
     "data": {
      "image/png": "[encoded data removed]",
      "text/plain": [
       "<matplotlib.figure.Figure at 0x1165af310>"
      ]
     },
     "metadata": {},
     "output_type": "display_data"
    }
   ],
   "source": [
    "plt.fill_between(train_sizes,y_train_mean-y_train_std,y_train_mean+y_train_std,color='b',alpha=0.1)\n",
    "plt.fill_between(train_sizes,y_test_mean-y_test_std,y_test_mean+y_test_std,color='g',alpha=0.1)\n",
    "plt.plot(train_sizes,y_train,'o-',label='Training Data')\n",
    "plt.plot(train_sizes,y_test,'o-',color='g',label='Cross Validation Data')\n",
    "plt.xlabel('Dataset Size')\n",
    "plt.ylabel('Accuracy')\n",
    "plt.legend()\n",
    "plt.plot()"
   ]
  },
  {
   "cell_type": "code",
   "execution_count": 49,
   "metadata": {
    "collapsed": true
   },
   "outputs": [],
   "source": [
    "polite_words = [\n",
    "    \"please\",\"thanks\",\"thank you\",\"think\", \"thought\", \"thinking\", \"almost\",\n",
    "    \"apparent\", \"apparently\", \"appear\", \"appeared\", \"appears\", \"approximately\", \"around\",\n",
    "    \"assume\", \"assumed\", \"certain amount\", \"certain extent\", \"certain level\", \"claim\",\n",
    "    \"claimed\", \"doubt\", \"doubtful\", \"essentially\", \"estimate\",\n",
    "    \"estimated\", \"feel\", \"felt\", \"frequently\", \"from our perspective\", \"generally\", \"guess\",\n",
    "    \"in general\", \"in most cases\", \"in most instances\", \"in our view\", \"indicate\", \"indicated\",\n",
    "    \"largely\", \"likely\", \"mainly\", \"may\", \"maybe\", \"might\", \"mostly\", \"often\", \"on the whole\",\n",
    "    \"ought\", \"perhaps\", \"plausible\", \"plausibly\", \"possible\", \"possibly\", \"postulate\",\n",
    "    \"postulated\", \"presumable\", \"probable\", \"probably\", \"relatively\", \"roughly\", \"seems\",\n",
    "    \"should\", \"sometimes\", \"somewhat\", \"suggest\", \"suggested\", \"suppose\", \"suspect\", \"tend to\",\n",
    "    \"tends to\", \"typical\", \"typically\", \"uncertain\", \"uncertainly\", \"unclear\", \"unclearly\",\n",
    "    \"unlikely\", \"usually\", \"broadly\", \"tended to\", \"presumably\", \"suggests\",\n",
    "    \"from this perspective\", \"from my perspective\", \"in my view\", \"in this view\", \"in our opinion\",\n",
    "    \"in my opinion\", \"to my knowledge\", \"fairly\", \"quite\", \"rather\", \"argue\", \"argues\", \"argued\",\n",
    "    \"claims\", \"feels\", \"indicates\", \"supposed\", \"supposes\", \"suspects\", \"postulates\"\n",
    "]"
   ]
  },
  {
   "cell_type": "code",
   "execution_count": 58,
   "metadata": {
    "collapsed": false
   },
   "outputs": [],
   "source": [
    "from nltk import ngrams"
   ]
  },
  {
   "cell_type": "code",
   "execution_count": 74,
   "metadata": {
    "collapsed": false
   },
   "outputs": [
    {
     "name": "stdout",
     "output_type": "stream",
     "text": [
      "Total Number of request parsed:  4040\n"
     ]
    }
   ],
   "source": [
    "politeness_new = []\n",
    "count = 0\n",
    "for request in df_train.request_text_edit_aware:\n",
    "    count += 1\n",
    "    request_ngrams = []\n",
    "    for grams in ngrams(request.split(),3):\n",
    "        request_ngrams.append(' '.join(grams))\n",
    "    for grams in ngrams(request.split(),2):\n",
    "        request_ngrams.append(' '.join(grams))\n",
    "    request_words = set(request.split())\n",
    "    request_ngrams = set(request_ngrams)\n",
    "    num = len(request_words.intersection(set(polite_words))) +\\\n",
    "    len(request_ngrams.intersection(set(polite_words)))\n",
    "    try:\n",
    "        politeness_new.append(float(num)/len(request_words))\n",
    "    except:\n",
    "        politeness_new.append(0.0)\n",
    "print 'Total Number of request parsed: ',count\n",
    "df_train['politeness_new'] = politeness_new"
   ]
  },
  {
   "cell_type": "code",
   "execution_count": null,
   "metadata": {
    "collapsed": false
   },
   "outputs": [],
   "source": []
  },
  {
   "cell_type": "code",
   "execution_count": null,
   "metadata": {
    "collapsed": true
   },
   "outputs": [],
   "source": []
  }
 ],
 "metadata": {
  "anaconda-cloud": {},
  "kernelspec": {
   "display_name": "Python [default]",
   "language": "python",
   "name": "python2"
  },
  "language_info": {
   "codemirror_mode": {
    "name": "ipython",
    "version": 2
   },
   "file_extension": ".py",
   "mimetype": "text/x-python",
   "name": "python",
   "nbconvert_exporter": "python",
   "pygments_lexer": "ipython2",
   "version": "2.7.12"
  }
 },
 "nbformat": 4,
 "nbformat_minor": 1
}
