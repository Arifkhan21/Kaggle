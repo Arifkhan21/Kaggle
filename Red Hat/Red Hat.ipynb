{
 "cells": [
  {
   "cell_type": "markdown",
   "metadata": {},
   "source": [
    "# Predicting Red Hat Business Value"
   ]
  },
  {
   "cell_type": "code",
   "execution_count": 1,
   "metadata": {
    "collapsed": false
   },
   "outputs": [
    {
     "name": "stdout",
     "output_type": "stream",
     "text": [
      "Populating the interactive namespace from numpy and matplotlib\n"
     ]
    }
   ],
   "source": [
    "import pandas as pd\n",
    "import numpy as np\n",
    "import matplotlib.pyplot as plt\n",
    "import seaborn as sns\n",
    "import gc\n",
    "import os\n",
    "%pylab inline"
   ]
  },
  {
   "cell_type": "code",
   "execution_count": 2,
   "metadata": {
    "collapsed": true
   },
   "outputs": [],
   "source": [
    "BASE_DIR = os.path.dirname(os.path.dirname(os.path.dirname(os.path.abspath('__file__'))))\n",
    "DIR = os.path.join(os.path.join(BASE_DIR,'Dataset'),'Red Hat')"
   ]
  },
  {
   "cell_type": "code",
   "execution_count": 3,
   "metadata": {
    "collapsed": false
   },
   "outputs": [],
   "source": [
    "people = pd.read_csv(os.path.join(DIR,'people.csv'))\n",
    "activity = pd.read_csv(os.path.join(DIR,'act_train.csv'))"
   ]
  },
  {
   "cell_type": "code",
   "execution_count": 4,
   "metadata": {
    "collapsed": false
   },
   "outputs": [
    {
     "name": "stdout",
     "output_type": "stream",
     "text": [
      "Number of samples in peoples: 189118\n",
      "Number of samples in activity: 2197291\n",
      "Number of features in people: 41\n",
      "Number of features in activity: 15\n"
     ]
    }
   ],
   "source": [
    "print 'Number of samples in peoples: {}'.format(len(people.index))\n",
    "print 'Number of samples in activity: {}'.format(len(activity.index))\n",
    "print 'Number of features in people: {}'.format(len(people.columns))\n",
    "print 'Number of features in activity: {}'.format(len(activity.columns))"
   ]
  },
  {
   "cell_type": "code",
   "execution_count": 5,
   "metadata": {
    "collapsed": false
   },
   "outputs": [
    {
     "data": {
      "text/html": [
       "<div>\n",
       "<table border=\"1\" class=\"dataframe\">\n",
       "  <thead>\n",
       "    <tr style=\"text-align: right;\">\n",
       "      <th></th>\n",
       "      <th>people_id</th>\n",
       "      <th>char_1</th>\n",
       "      <th>group_1</th>\n",
       "      <th>char_2</th>\n",
       "      <th>date</th>\n",
       "      <th>char_3</th>\n",
       "      <th>char_4</th>\n",
       "      <th>char_5</th>\n",
       "      <th>char_6</th>\n",
       "      <th>char_7</th>\n",
       "      <th>...</th>\n",
       "      <th>char_29</th>\n",
       "      <th>char_30</th>\n",
       "      <th>char_31</th>\n",
       "      <th>char_32</th>\n",
       "      <th>char_33</th>\n",
       "      <th>char_34</th>\n",
       "      <th>char_35</th>\n",
       "      <th>char_36</th>\n",
       "      <th>char_37</th>\n",
       "      <th>char_38</th>\n",
       "    </tr>\n",
       "  </thead>\n",
       "  <tbody>\n",
       "    <tr>\n",
       "      <th>0</th>\n",
       "      <td>ppl_100</td>\n",
       "      <td>type 2</td>\n",
       "      <td>group 17304</td>\n",
       "      <td>type 2</td>\n",
       "      <td>2021-06-29</td>\n",
       "      <td>type 5</td>\n",
       "      <td>type 5</td>\n",
       "      <td>type 5</td>\n",
       "      <td>type 3</td>\n",
       "      <td>type 11</td>\n",
       "      <td>...</td>\n",
       "      <td>False</td>\n",
       "      <td>True</td>\n",
       "      <td>True</td>\n",
       "      <td>False</td>\n",
       "      <td>False</td>\n",
       "      <td>True</td>\n",
       "      <td>True</td>\n",
       "      <td>True</td>\n",
       "      <td>False</td>\n",
       "      <td>36</td>\n",
       "    </tr>\n",
       "    <tr>\n",
       "      <th>1</th>\n",
       "      <td>ppl_100002</td>\n",
       "      <td>type 2</td>\n",
       "      <td>group 8688</td>\n",
       "      <td>type 3</td>\n",
       "      <td>2021-01-06</td>\n",
       "      <td>type 28</td>\n",
       "      <td>type 9</td>\n",
       "      <td>type 5</td>\n",
       "      <td>type 3</td>\n",
       "      <td>type 11</td>\n",
       "      <td>...</td>\n",
       "      <td>False</td>\n",
       "      <td>True</td>\n",
       "      <td>True</td>\n",
       "      <td>True</td>\n",
       "      <td>True</td>\n",
       "      <td>True</td>\n",
       "      <td>True</td>\n",
       "      <td>True</td>\n",
       "      <td>False</td>\n",
       "      <td>76</td>\n",
       "    </tr>\n",
       "    <tr>\n",
       "      <th>2</th>\n",
       "      <td>ppl_100003</td>\n",
       "      <td>type 2</td>\n",
       "      <td>group 33592</td>\n",
       "      <td>type 3</td>\n",
       "      <td>2022-06-10</td>\n",
       "      <td>type 4</td>\n",
       "      <td>type 8</td>\n",
       "      <td>type 5</td>\n",
       "      <td>type 2</td>\n",
       "      <td>type 5</td>\n",
       "      <td>...</td>\n",
       "      <td>False</td>\n",
       "      <td>False</td>\n",
       "      <td>True</td>\n",
       "      <td>True</td>\n",
       "      <td>True</td>\n",
       "      <td>True</td>\n",
       "      <td>False</td>\n",
       "      <td>True</td>\n",
       "      <td>True</td>\n",
       "      <td>99</td>\n",
       "    </tr>\n",
       "    <tr>\n",
       "      <th>3</th>\n",
       "      <td>ppl_100004</td>\n",
       "      <td>type 2</td>\n",
       "      <td>group 22593</td>\n",
       "      <td>type 3</td>\n",
       "      <td>2022-07-20</td>\n",
       "      <td>type 40</td>\n",
       "      <td>type 25</td>\n",
       "      <td>type 9</td>\n",
       "      <td>type 4</td>\n",
       "      <td>type 16</td>\n",
       "      <td>...</td>\n",
       "      <td>True</td>\n",
       "      <td>True</td>\n",
       "      <td>True</td>\n",
       "      <td>True</td>\n",
       "      <td>True</td>\n",
       "      <td>True</td>\n",
       "      <td>True</td>\n",
       "      <td>True</td>\n",
       "      <td>True</td>\n",
       "      <td>76</td>\n",
       "    </tr>\n",
       "    <tr>\n",
       "      <th>4</th>\n",
       "      <td>ppl_100006</td>\n",
       "      <td>type 2</td>\n",
       "      <td>group 6534</td>\n",
       "      <td>type 3</td>\n",
       "      <td>2022-07-27</td>\n",
       "      <td>type 40</td>\n",
       "      <td>type 25</td>\n",
       "      <td>type 9</td>\n",
       "      <td>type 3</td>\n",
       "      <td>type 8</td>\n",
       "      <td>...</td>\n",
       "      <td>False</td>\n",
       "      <td>False</td>\n",
       "      <td>True</td>\n",
       "      <td>False</td>\n",
       "      <td>False</td>\n",
       "      <td>False</td>\n",
       "      <td>True</td>\n",
       "      <td>True</td>\n",
       "      <td>False</td>\n",
       "      <td>84</td>\n",
       "    </tr>\n",
       "  </tbody>\n",
       "</table>\n",
       "<p>5 rows × 41 columns</p>\n",
       "</div>"
      ],
      "text/plain": [
       "    people_id  char_1      group_1  char_2        date   char_3   char_4  \\\n",
       "0     ppl_100  type 2  group 17304  type 2  2021-06-29   type 5   type 5   \n",
       "1  ppl_100002  type 2   group 8688  type 3  2021-01-06  type 28   type 9   \n",
       "2  ppl_100003  type 2  group 33592  type 3  2022-06-10   type 4   type 8   \n",
       "3  ppl_100004  type 2  group 22593  type 3  2022-07-20  type 40  type 25   \n",
       "4  ppl_100006  type 2   group 6534  type 3  2022-07-27  type 40  type 25   \n",
       "\n",
       "   char_5  char_6   char_7   ...   char_29 char_30 char_31 char_32 char_33  \\\n",
       "0  type 5  type 3  type 11   ...     False    True    True   False   False   \n",
       "1  type 5  type 3  type 11   ...     False    True    True    True    True   \n",
       "2  type 5  type 2   type 5   ...     False   False    True    True    True   \n",
       "3  type 9  type 4  type 16   ...      True    True    True    True    True   \n",
       "4  type 9  type 3   type 8   ...     False   False    True   False   False   \n",
       "\n",
       "  char_34 char_35 char_36 char_37 char_38  \n",
       "0    True    True    True   False      36  \n",
       "1    True    True    True   False      76  \n",
       "2    True   False    True    True      99  \n",
       "3    True    True    True    True      76  \n",
       "4   False    True    True   False      84  \n",
       "\n",
       "[5 rows x 41 columns]"
      ]
     },
     "execution_count": 5,
     "metadata": {},
     "output_type": "execute_result"
    }
   ],
   "source": [
    "people.head()"
   ]
  },
  {
   "cell_type": "code",
   "execution_count": 6,
   "metadata": {
    "collapsed": false
   },
   "outputs": [
    {
     "data": {
      "text/html": [
       "<div>\n",
       "<table border=\"1\" class=\"dataframe\">\n",
       "  <thead>\n",
       "    <tr style=\"text-align: right;\">\n",
       "      <th></th>\n",
       "      <th>people_id</th>\n",
       "      <th>people_char_1</th>\n",
       "      <th>people_group_1</th>\n",
       "      <th>people_char_2</th>\n",
       "      <th>people_date</th>\n",
       "      <th>people_char_3</th>\n",
       "      <th>people_char_4</th>\n",
       "      <th>people_char_5</th>\n",
       "      <th>people_char_6</th>\n",
       "      <th>people_char_7</th>\n",
       "      <th>...</th>\n",
       "      <th>people_char_29</th>\n",
       "      <th>people_char_30</th>\n",
       "      <th>people_char_31</th>\n",
       "      <th>people_char_32</th>\n",
       "      <th>people_char_33</th>\n",
       "      <th>people_char_34</th>\n",
       "      <th>people_char_35</th>\n",
       "      <th>people_char_36</th>\n",
       "      <th>people_char_37</th>\n",
       "      <th>people_char_38</th>\n",
       "    </tr>\n",
       "  </thead>\n",
       "  <tbody>\n",
       "    <tr>\n",
       "      <th>0</th>\n",
       "      <td>ppl_100</td>\n",
       "      <td>type 2</td>\n",
       "      <td>group 17304</td>\n",
       "      <td>type 2</td>\n",
       "      <td>2021-06-29</td>\n",
       "      <td>type 5</td>\n",
       "      <td>type 5</td>\n",
       "      <td>type 5</td>\n",
       "      <td>type 3</td>\n",
       "      <td>type 11</td>\n",
       "      <td>...</td>\n",
       "      <td>False</td>\n",
       "      <td>True</td>\n",
       "      <td>True</td>\n",
       "      <td>False</td>\n",
       "      <td>False</td>\n",
       "      <td>True</td>\n",
       "      <td>True</td>\n",
       "      <td>True</td>\n",
       "      <td>False</td>\n",
       "      <td>36</td>\n",
       "    </tr>\n",
       "    <tr>\n",
       "      <th>1</th>\n",
       "      <td>ppl_100002</td>\n",
       "      <td>type 2</td>\n",
       "      <td>group 8688</td>\n",
       "      <td>type 3</td>\n",
       "      <td>2021-01-06</td>\n",
       "      <td>type 28</td>\n",
       "      <td>type 9</td>\n",
       "      <td>type 5</td>\n",
       "      <td>type 3</td>\n",
       "      <td>type 11</td>\n",
       "      <td>...</td>\n",
       "      <td>False</td>\n",
       "      <td>True</td>\n",
       "      <td>True</td>\n",
       "      <td>True</td>\n",
       "      <td>True</td>\n",
       "      <td>True</td>\n",
       "      <td>True</td>\n",
       "      <td>True</td>\n",
       "      <td>False</td>\n",
       "      <td>76</td>\n",
       "    </tr>\n",
       "    <tr>\n",
       "      <th>2</th>\n",
       "      <td>ppl_100003</td>\n",
       "      <td>type 2</td>\n",
       "      <td>group 33592</td>\n",
       "      <td>type 3</td>\n",
       "      <td>2022-06-10</td>\n",
       "      <td>type 4</td>\n",
       "      <td>type 8</td>\n",
       "      <td>type 5</td>\n",
       "      <td>type 2</td>\n",
       "      <td>type 5</td>\n",
       "      <td>...</td>\n",
       "      <td>False</td>\n",
       "      <td>False</td>\n",
       "      <td>True</td>\n",
       "      <td>True</td>\n",
       "      <td>True</td>\n",
       "      <td>True</td>\n",
       "      <td>False</td>\n",
       "      <td>True</td>\n",
       "      <td>True</td>\n",
       "      <td>99</td>\n",
       "    </tr>\n",
       "    <tr>\n",
       "      <th>3</th>\n",
       "      <td>ppl_100004</td>\n",
       "      <td>type 2</td>\n",
       "      <td>group 22593</td>\n",
       "      <td>type 3</td>\n",
       "      <td>2022-07-20</td>\n",
       "      <td>type 40</td>\n",
       "      <td>type 25</td>\n",
       "      <td>type 9</td>\n",
       "      <td>type 4</td>\n",
       "      <td>type 16</td>\n",
       "      <td>...</td>\n",
       "      <td>True</td>\n",
       "      <td>True</td>\n",
       "      <td>True</td>\n",
       "      <td>True</td>\n",
       "      <td>True</td>\n",
       "      <td>True</td>\n",
       "      <td>True</td>\n",
       "      <td>True</td>\n",
       "      <td>True</td>\n",
       "      <td>76</td>\n",
       "    </tr>\n",
       "    <tr>\n",
       "      <th>4</th>\n",
       "      <td>ppl_100006</td>\n",
       "      <td>type 2</td>\n",
       "      <td>group 6534</td>\n",
       "      <td>type 3</td>\n",
       "      <td>2022-07-27</td>\n",
       "      <td>type 40</td>\n",
       "      <td>type 25</td>\n",
       "      <td>type 9</td>\n",
       "      <td>type 3</td>\n",
       "      <td>type 8</td>\n",
       "      <td>...</td>\n",
       "      <td>False</td>\n",
       "      <td>False</td>\n",
       "      <td>True</td>\n",
       "      <td>False</td>\n",
       "      <td>False</td>\n",
       "      <td>False</td>\n",
       "      <td>True</td>\n",
       "      <td>True</td>\n",
       "      <td>False</td>\n",
       "      <td>84</td>\n",
       "    </tr>\n",
       "  </tbody>\n",
       "</table>\n",
       "<p>5 rows × 41 columns</p>\n",
       "</div>"
      ],
      "text/plain": [
       "    people_id people_char_1 people_group_1 people_char_2 people_date  \\\n",
       "0     ppl_100        type 2    group 17304        type 2  2021-06-29   \n",
       "1  ppl_100002        type 2     group 8688        type 3  2021-01-06   \n",
       "2  ppl_100003        type 2    group 33592        type 3  2022-06-10   \n",
       "3  ppl_100004        type 2    group 22593        type 3  2022-07-20   \n",
       "4  ppl_100006        type 2     group 6534        type 3  2022-07-27   \n",
       "\n",
       "  people_char_3 people_char_4 people_char_5 people_char_6 people_char_7  \\\n",
       "0        type 5        type 5        type 5        type 3       type 11   \n",
       "1       type 28        type 9        type 5        type 3       type 11   \n",
       "2        type 4        type 8        type 5        type 2        type 5   \n",
       "3       type 40       type 25        type 9        type 4       type 16   \n",
       "4       type 40       type 25        type 9        type 3        type 8   \n",
       "\n",
       "       ...       people_char_29 people_char_30 people_char_31 people_char_32  \\\n",
       "0      ...                False           True           True          False   \n",
       "1      ...                False           True           True           True   \n",
       "2      ...                False          False           True           True   \n",
       "3      ...                 True           True           True           True   \n",
       "4      ...                False          False           True          False   \n",
       "\n",
       "  people_char_33 people_char_34 people_char_35 people_char_36 people_char_37  \\\n",
       "0          False           True           True           True          False   \n",
       "1           True           True           True           True          False   \n",
       "2           True           True          False           True           True   \n",
       "3           True           True           True           True           True   \n",
       "4          False          False           True           True          False   \n",
       "\n",
       "  people_char_38  \n",
       "0             36  \n",
       "1             76  \n",
       "2             99  \n",
       "3             76  \n",
       "4             84  \n",
       "\n",
       "[5 rows x 41 columns]"
      ]
     },
     "execution_count": 6,
     "metadata": {},
     "output_type": "execute_result"
    }
   ],
   "source": [
    "people.columns = ['people_id','people_char_1','people_group_1','people_char_2','people_date']+\\\n",
    "['people_char_{}'.format(i) for i in range(3,len(people.columns)-2)]\n",
    "people.head()"
   ]
  },
  {
   "cell_type": "code",
   "execution_count": 7,
   "metadata": {
    "collapsed": false
   },
   "outputs": [
    {
     "data": {
      "text/html": [
       "<div>\n",
       "<table border=\"1\" class=\"dataframe\">\n",
       "  <thead>\n",
       "    <tr style=\"text-align: right;\">\n",
       "      <th></th>\n",
       "      <th>people_id</th>\n",
       "      <th>activity_id</th>\n",
       "      <th>date</th>\n",
       "      <th>activity_category</th>\n",
       "      <th>char_1</th>\n",
       "      <th>char_2</th>\n",
       "      <th>char_3</th>\n",
       "      <th>char_4</th>\n",
       "      <th>char_5</th>\n",
       "      <th>char_6</th>\n",
       "      <th>char_7</th>\n",
       "      <th>char_8</th>\n",
       "      <th>char_9</th>\n",
       "      <th>char_10</th>\n",
       "      <th>outcome</th>\n",
       "    </tr>\n",
       "  </thead>\n",
       "  <tbody>\n",
       "    <tr>\n",
       "      <th>0</th>\n",
       "      <td>ppl_100</td>\n",
       "      <td>act2_1734928</td>\n",
       "      <td>2023-08-26</td>\n",
       "      <td>type 4</td>\n",
       "      <td>NaN</td>\n",
       "      <td>NaN</td>\n",
       "      <td>NaN</td>\n",
       "      <td>NaN</td>\n",
       "      <td>NaN</td>\n",
       "      <td>NaN</td>\n",
       "      <td>NaN</td>\n",
       "      <td>NaN</td>\n",
       "      <td>NaN</td>\n",
       "      <td>type 76</td>\n",
       "      <td>0</td>\n",
       "    </tr>\n",
       "    <tr>\n",
       "      <th>1</th>\n",
       "      <td>ppl_100</td>\n",
       "      <td>act2_2434093</td>\n",
       "      <td>2022-09-27</td>\n",
       "      <td>type 2</td>\n",
       "      <td>NaN</td>\n",
       "      <td>NaN</td>\n",
       "      <td>NaN</td>\n",
       "      <td>NaN</td>\n",
       "      <td>NaN</td>\n",
       "      <td>NaN</td>\n",
       "      <td>NaN</td>\n",
       "      <td>NaN</td>\n",
       "      <td>NaN</td>\n",
       "      <td>type 1</td>\n",
       "      <td>0</td>\n",
       "    </tr>\n",
       "    <tr>\n",
       "      <th>2</th>\n",
       "      <td>ppl_100</td>\n",
       "      <td>act2_3404049</td>\n",
       "      <td>2022-09-27</td>\n",
       "      <td>type 2</td>\n",
       "      <td>NaN</td>\n",
       "      <td>NaN</td>\n",
       "      <td>NaN</td>\n",
       "      <td>NaN</td>\n",
       "      <td>NaN</td>\n",
       "      <td>NaN</td>\n",
       "      <td>NaN</td>\n",
       "      <td>NaN</td>\n",
       "      <td>NaN</td>\n",
       "      <td>type 1</td>\n",
       "      <td>0</td>\n",
       "    </tr>\n",
       "    <tr>\n",
       "      <th>3</th>\n",
       "      <td>ppl_100</td>\n",
       "      <td>act2_3651215</td>\n",
       "      <td>2023-08-04</td>\n",
       "      <td>type 2</td>\n",
       "      <td>NaN</td>\n",
       "      <td>NaN</td>\n",
       "      <td>NaN</td>\n",
       "      <td>NaN</td>\n",
       "      <td>NaN</td>\n",
       "      <td>NaN</td>\n",
       "      <td>NaN</td>\n",
       "      <td>NaN</td>\n",
       "      <td>NaN</td>\n",
       "      <td>type 1</td>\n",
       "      <td>0</td>\n",
       "    </tr>\n",
       "    <tr>\n",
       "      <th>4</th>\n",
       "      <td>ppl_100</td>\n",
       "      <td>act2_4109017</td>\n",
       "      <td>2023-08-26</td>\n",
       "      <td>type 2</td>\n",
       "      <td>NaN</td>\n",
       "      <td>NaN</td>\n",
       "      <td>NaN</td>\n",
       "      <td>NaN</td>\n",
       "      <td>NaN</td>\n",
       "      <td>NaN</td>\n",
       "      <td>NaN</td>\n",
       "      <td>NaN</td>\n",
       "      <td>NaN</td>\n",
       "      <td>type 1</td>\n",
       "      <td>0</td>\n",
       "    </tr>\n",
       "  </tbody>\n",
       "</table>\n",
       "</div>"
      ],
      "text/plain": [
       "  people_id   activity_id        date activity_category char_1 char_2 char_3  \\\n",
       "0   ppl_100  act2_1734928  2023-08-26            type 4    NaN    NaN    NaN   \n",
       "1   ppl_100  act2_2434093  2022-09-27            type 2    NaN    NaN    NaN   \n",
       "2   ppl_100  act2_3404049  2022-09-27            type 2    NaN    NaN    NaN   \n",
       "3   ppl_100  act2_3651215  2023-08-04            type 2    NaN    NaN    NaN   \n",
       "4   ppl_100  act2_4109017  2023-08-26            type 2    NaN    NaN    NaN   \n",
       "\n",
       "  char_4 char_5 char_6 char_7 char_8 char_9  char_10  outcome  \n",
       "0    NaN    NaN    NaN    NaN    NaN    NaN  type 76        0  \n",
       "1    NaN    NaN    NaN    NaN    NaN    NaN   type 1        0  \n",
       "2    NaN    NaN    NaN    NaN    NaN    NaN   type 1        0  \n",
       "3    NaN    NaN    NaN    NaN    NaN    NaN   type 1        0  \n",
       "4    NaN    NaN    NaN    NaN    NaN    NaN   type 1        0  "
      ]
     },
     "execution_count": 7,
     "metadata": {},
     "output_type": "execute_result"
    }
   ],
   "source": [
    "activity.head()"
   ]
  },
  {
   "cell_type": "code",
   "execution_count": 8,
   "metadata": {
    "collapsed": false
   },
   "outputs": [],
   "source": [
    "people_activity = activity.merge(people,on='people_id',how='inner')"
   ]
  },
  {
   "cell_type": "code",
   "execution_count": 9,
   "metadata": {
    "collapsed": false
   },
   "outputs": [
    {
     "data": {
      "text/html": [
       "<div>\n",
       "<table border=\"1\" class=\"dataframe\">\n",
       "  <thead>\n",
       "    <tr style=\"text-align: right;\">\n",
       "      <th></th>\n",
       "      <th>people_id</th>\n",
       "      <th>activity_id</th>\n",
       "      <th>date</th>\n",
       "      <th>activity_category</th>\n",
       "      <th>char_1</th>\n",
       "      <th>char_2</th>\n",
       "      <th>char_3</th>\n",
       "      <th>char_4</th>\n",
       "      <th>char_5</th>\n",
       "      <th>char_6</th>\n",
       "      <th>...</th>\n",
       "      <th>people_char_29</th>\n",
       "      <th>people_char_30</th>\n",
       "      <th>people_char_31</th>\n",
       "      <th>people_char_32</th>\n",
       "      <th>people_char_33</th>\n",
       "      <th>people_char_34</th>\n",
       "      <th>people_char_35</th>\n",
       "      <th>people_char_36</th>\n",
       "      <th>people_char_37</th>\n",
       "      <th>people_char_38</th>\n",
       "    </tr>\n",
       "  </thead>\n",
       "  <tbody>\n",
       "    <tr>\n",
       "      <th>0</th>\n",
       "      <td>ppl_100</td>\n",
       "      <td>act2_1734928</td>\n",
       "      <td>2023-08-26</td>\n",
       "      <td>type 4</td>\n",
       "      <td>NaN</td>\n",
       "      <td>NaN</td>\n",
       "      <td>NaN</td>\n",
       "      <td>NaN</td>\n",
       "      <td>NaN</td>\n",
       "      <td>NaN</td>\n",
       "      <td>...</td>\n",
       "      <td>False</td>\n",
       "      <td>True</td>\n",
       "      <td>True</td>\n",
       "      <td>False</td>\n",
       "      <td>False</td>\n",
       "      <td>True</td>\n",
       "      <td>True</td>\n",
       "      <td>True</td>\n",
       "      <td>False</td>\n",
       "      <td>36</td>\n",
       "    </tr>\n",
       "    <tr>\n",
       "      <th>1</th>\n",
       "      <td>ppl_100</td>\n",
       "      <td>act2_2434093</td>\n",
       "      <td>2022-09-27</td>\n",
       "      <td>type 2</td>\n",
       "      <td>NaN</td>\n",
       "      <td>NaN</td>\n",
       "      <td>NaN</td>\n",
       "      <td>NaN</td>\n",
       "      <td>NaN</td>\n",
       "      <td>NaN</td>\n",
       "      <td>...</td>\n",
       "      <td>False</td>\n",
       "      <td>True</td>\n",
       "      <td>True</td>\n",
       "      <td>False</td>\n",
       "      <td>False</td>\n",
       "      <td>True</td>\n",
       "      <td>True</td>\n",
       "      <td>True</td>\n",
       "      <td>False</td>\n",
       "      <td>36</td>\n",
       "    </tr>\n",
       "    <tr>\n",
       "      <th>2</th>\n",
       "      <td>ppl_100</td>\n",
       "      <td>act2_3404049</td>\n",
       "      <td>2022-09-27</td>\n",
       "      <td>type 2</td>\n",
       "      <td>NaN</td>\n",
       "      <td>NaN</td>\n",
       "      <td>NaN</td>\n",
       "      <td>NaN</td>\n",
       "      <td>NaN</td>\n",
       "      <td>NaN</td>\n",
       "      <td>...</td>\n",
       "      <td>False</td>\n",
       "      <td>True</td>\n",
       "      <td>True</td>\n",
       "      <td>False</td>\n",
       "      <td>False</td>\n",
       "      <td>True</td>\n",
       "      <td>True</td>\n",
       "      <td>True</td>\n",
       "      <td>False</td>\n",
       "      <td>36</td>\n",
       "    </tr>\n",
       "    <tr>\n",
       "      <th>3</th>\n",
       "      <td>ppl_100</td>\n",
       "      <td>act2_3651215</td>\n",
       "      <td>2023-08-04</td>\n",
       "      <td>type 2</td>\n",
       "      <td>NaN</td>\n",
       "      <td>NaN</td>\n",
       "      <td>NaN</td>\n",
       "      <td>NaN</td>\n",
       "      <td>NaN</td>\n",
       "      <td>NaN</td>\n",
       "      <td>...</td>\n",
       "      <td>False</td>\n",
       "      <td>True</td>\n",
       "      <td>True</td>\n",
       "      <td>False</td>\n",
       "      <td>False</td>\n",
       "      <td>True</td>\n",
       "      <td>True</td>\n",
       "      <td>True</td>\n",
       "      <td>False</td>\n",
       "      <td>36</td>\n",
       "    </tr>\n",
       "    <tr>\n",
       "      <th>4</th>\n",
       "      <td>ppl_100</td>\n",
       "      <td>act2_4109017</td>\n",
       "      <td>2023-08-26</td>\n",
       "      <td>type 2</td>\n",
       "      <td>NaN</td>\n",
       "      <td>NaN</td>\n",
       "      <td>NaN</td>\n",
       "      <td>NaN</td>\n",
       "      <td>NaN</td>\n",
       "      <td>NaN</td>\n",
       "      <td>...</td>\n",
       "      <td>False</td>\n",
       "      <td>True</td>\n",
       "      <td>True</td>\n",
       "      <td>False</td>\n",
       "      <td>False</td>\n",
       "      <td>True</td>\n",
       "      <td>True</td>\n",
       "      <td>True</td>\n",
       "      <td>False</td>\n",
       "      <td>36</td>\n",
       "    </tr>\n",
       "  </tbody>\n",
       "</table>\n",
       "<p>5 rows × 55 columns</p>\n",
       "</div>"
      ],
      "text/plain": [
       "  people_id   activity_id        date activity_category char_1 char_2 char_3  \\\n",
       "0   ppl_100  act2_1734928  2023-08-26            type 4    NaN    NaN    NaN   \n",
       "1   ppl_100  act2_2434093  2022-09-27            type 2    NaN    NaN    NaN   \n",
       "2   ppl_100  act2_3404049  2022-09-27            type 2    NaN    NaN    NaN   \n",
       "3   ppl_100  act2_3651215  2023-08-04            type 2    NaN    NaN    NaN   \n",
       "4   ppl_100  act2_4109017  2023-08-26            type 2    NaN    NaN    NaN   \n",
       "\n",
       "  char_4 char_5 char_6      ...       people_char_29 people_char_30  \\\n",
       "0    NaN    NaN    NaN      ...                False           True   \n",
       "1    NaN    NaN    NaN      ...                False           True   \n",
       "2    NaN    NaN    NaN      ...                False           True   \n",
       "3    NaN    NaN    NaN      ...                False           True   \n",
       "4    NaN    NaN    NaN      ...                False           True   \n",
       "\n",
       "  people_char_31 people_char_32  people_char_33 people_char_34 people_char_35  \\\n",
       "0           True          False           False           True           True   \n",
       "1           True          False           False           True           True   \n",
       "2           True          False           False           True           True   \n",
       "3           True          False           False           True           True   \n",
       "4           True          False           False           True           True   \n",
       "\n",
       "  people_char_36 people_char_37 people_char_38  \n",
       "0           True          False             36  \n",
       "1           True          False             36  \n",
       "2           True          False             36  \n",
       "3           True          False             36  \n",
       "4           True          False             36  \n",
       "\n",
       "[5 rows x 55 columns]"
      ]
     },
     "execution_count": 9,
     "metadata": {},
     "output_type": "execute_result"
    }
   ],
   "source": [
    "people_activity.head()"
   ]
  },
  {
   "cell_type": "code",
   "execution_count": 10,
   "metadata": {
    "collapsed": false
   },
   "outputs": [],
   "source": [
    "people_act_type1,people_act_not_type1 = people_activity[people_activity['activity_category'] == 'type 1'],\\\n",
    "people_activity[people_activity['activity_category'] != 'type 1']"
   ]
  },
  {
   "cell_type": "code",
   "execution_count": 11,
   "metadata": {
    "collapsed": false
   },
   "outputs": [
    {
     "data": {
      "text/html": [
       "<div>\n",
       "<table border=\"1\" class=\"dataframe\">\n",
       "  <thead>\n",
       "    <tr style=\"text-align: right;\">\n",
       "      <th></th>\n",
       "      <th>people_id</th>\n",
       "      <th>activity_id</th>\n",
       "      <th>date</th>\n",
       "      <th>activity_category</th>\n",
       "      <th>char_1</th>\n",
       "      <th>char_2</th>\n",
       "      <th>char_3</th>\n",
       "      <th>char_4</th>\n",
       "      <th>char_5</th>\n",
       "      <th>char_6</th>\n",
       "      <th>...</th>\n",
       "      <th>people_char_29</th>\n",
       "      <th>people_char_30</th>\n",
       "      <th>people_char_31</th>\n",
       "      <th>people_char_32</th>\n",
       "      <th>people_char_33</th>\n",
       "      <th>people_char_34</th>\n",
       "      <th>people_char_35</th>\n",
       "      <th>people_char_36</th>\n",
       "      <th>people_char_37</th>\n",
       "      <th>people_char_38</th>\n",
       "    </tr>\n",
       "  </thead>\n",
       "  <tbody>\n",
       "    <tr>\n",
       "      <th>52</th>\n",
       "      <td>ppl_100025</td>\n",
       "      <td>act1_9923</td>\n",
       "      <td>2022-11-25</td>\n",
       "      <td>type 1</td>\n",
       "      <td>type 3</td>\n",
       "      <td>type 5</td>\n",
       "      <td>type 1</td>\n",
       "      <td>type 1</td>\n",
       "      <td>type 6</td>\n",
       "      <td>type 3</td>\n",
       "      <td>...</td>\n",
       "      <td>False</td>\n",
       "      <td>False</td>\n",
       "      <td>False</td>\n",
       "      <td>False</td>\n",
       "      <td>False</td>\n",
       "      <td>False</td>\n",
       "      <td>False</td>\n",
       "      <td>False</td>\n",
       "      <td>False</td>\n",
       "      <td>76</td>\n",
       "    </tr>\n",
       "    <tr>\n",
       "      <th>105</th>\n",
       "      <td>ppl_100033</td>\n",
       "      <td>act1_198174</td>\n",
       "      <td>2022-07-26</td>\n",
       "      <td>type 1</td>\n",
       "      <td>type 36</td>\n",
       "      <td>type 11</td>\n",
       "      <td>type 5</td>\n",
       "      <td>type 1</td>\n",
       "      <td>type 6</td>\n",
       "      <td>type 1</td>\n",
       "      <td>...</td>\n",
       "      <td>False</td>\n",
       "      <td>False</td>\n",
       "      <td>False</td>\n",
       "      <td>False</td>\n",
       "      <td>False</td>\n",
       "      <td>False</td>\n",
       "      <td>False</td>\n",
       "      <td>False</td>\n",
       "      <td>False</td>\n",
       "      <td>0</td>\n",
       "    </tr>\n",
       "    <tr>\n",
       "      <th>106</th>\n",
       "      <td>ppl_100033</td>\n",
       "      <td>act1_214090</td>\n",
       "      <td>2023-06-15</td>\n",
       "      <td>type 1</td>\n",
       "      <td>type 24</td>\n",
       "      <td>type 6</td>\n",
       "      <td>type 6</td>\n",
       "      <td>type 3</td>\n",
       "      <td>type 1</td>\n",
       "      <td>type 3</td>\n",
       "      <td>...</td>\n",
       "      <td>False</td>\n",
       "      <td>False</td>\n",
       "      <td>False</td>\n",
       "      <td>False</td>\n",
       "      <td>False</td>\n",
       "      <td>False</td>\n",
       "      <td>False</td>\n",
       "      <td>False</td>\n",
       "      <td>False</td>\n",
       "      <td>0</td>\n",
       "    </tr>\n",
       "    <tr>\n",
       "      <th>107</th>\n",
       "      <td>ppl_100033</td>\n",
       "      <td>act1_230588</td>\n",
       "      <td>2023-02-28</td>\n",
       "      <td>type 1</td>\n",
       "      <td>type 2</td>\n",
       "      <td>type 2</td>\n",
       "      <td>type 3</td>\n",
       "      <td>type 3</td>\n",
       "      <td>type 5</td>\n",
       "      <td>type 2</td>\n",
       "      <td>...</td>\n",
       "      <td>False</td>\n",
       "      <td>False</td>\n",
       "      <td>False</td>\n",
       "      <td>False</td>\n",
       "      <td>False</td>\n",
       "      <td>False</td>\n",
       "      <td>False</td>\n",
       "      <td>False</td>\n",
       "      <td>False</td>\n",
       "      <td>0</td>\n",
       "    </tr>\n",
       "    <tr>\n",
       "      <th>108</th>\n",
       "      <td>ppl_100033</td>\n",
       "      <td>act1_271874</td>\n",
       "      <td>2022-07-26</td>\n",
       "      <td>type 1</td>\n",
       "      <td>type 2</td>\n",
       "      <td>type 5</td>\n",
       "      <td>type 3</td>\n",
       "      <td>type 2</td>\n",
       "      <td>type 6</td>\n",
       "      <td>type 1</td>\n",
       "      <td>...</td>\n",
       "      <td>False</td>\n",
       "      <td>False</td>\n",
       "      <td>False</td>\n",
       "      <td>False</td>\n",
       "      <td>False</td>\n",
       "      <td>False</td>\n",
       "      <td>False</td>\n",
       "      <td>False</td>\n",
       "      <td>False</td>\n",
       "      <td>0</td>\n",
       "    </tr>\n",
       "  </tbody>\n",
       "</table>\n",
       "<p>5 rows × 55 columns</p>\n",
       "</div>"
      ],
      "text/plain": [
       "      people_id  activity_id        date activity_category   char_1   char_2  \\\n",
       "52   ppl_100025    act1_9923  2022-11-25            type 1   type 3   type 5   \n",
       "105  ppl_100033  act1_198174  2022-07-26            type 1  type 36  type 11   \n",
       "106  ppl_100033  act1_214090  2023-06-15            type 1  type 24   type 6   \n",
       "107  ppl_100033  act1_230588  2023-02-28            type 1   type 2   type 2   \n",
       "108  ppl_100033  act1_271874  2022-07-26            type 1   type 2   type 5   \n",
       "\n",
       "     char_3  char_4  char_5  char_6      ...       people_char_29  \\\n",
       "52   type 1  type 1  type 6  type 3      ...                False   \n",
       "105  type 5  type 1  type 6  type 1      ...                False   \n",
       "106  type 6  type 3  type 1  type 3      ...                False   \n",
       "107  type 3  type 3  type 5  type 2      ...                False   \n",
       "108  type 3  type 2  type 6  type 1      ...                False   \n",
       "\n",
       "    people_char_30 people_char_31 people_char_32  people_char_33  \\\n",
       "52           False          False          False           False   \n",
       "105          False          False          False           False   \n",
       "106          False          False          False           False   \n",
       "107          False          False          False           False   \n",
       "108          False          False          False           False   \n",
       "\n",
       "    people_char_34 people_char_35 people_char_36 people_char_37 people_char_38  \n",
       "52           False          False          False          False             76  \n",
       "105          False          False          False          False              0  \n",
       "106          False          False          False          False              0  \n",
       "107          False          False          False          False              0  \n",
       "108          False          False          False          False              0  \n",
       "\n",
       "[5 rows x 55 columns]"
      ]
     },
     "execution_count": 11,
     "metadata": {},
     "output_type": "execute_result"
    }
   ],
   "source": [
    "people_act_type1.head()"
   ]
  },
  {
   "cell_type": "code",
   "execution_count": 12,
   "metadata": {
    "collapsed": false
   },
   "outputs": [
    {
     "data": {
      "text/html": [
       "<div>\n",
       "<table border=\"1\" class=\"dataframe\">\n",
       "  <thead>\n",
       "    <tr style=\"text-align: right;\">\n",
       "      <th></th>\n",
       "      <th>people_id</th>\n",
       "      <th>activity_id</th>\n",
       "      <th>date</th>\n",
       "      <th>activity_category</th>\n",
       "      <th>char_1</th>\n",
       "      <th>char_2</th>\n",
       "      <th>char_3</th>\n",
       "      <th>char_4</th>\n",
       "      <th>char_5</th>\n",
       "      <th>char_6</th>\n",
       "      <th>...</th>\n",
       "      <th>people_char_29</th>\n",
       "      <th>people_char_30</th>\n",
       "      <th>people_char_31</th>\n",
       "      <th>people_char_32</th>\n",
       "      <th>people_char_33</th>\n",
       "      <th>people_char_34</th>\n",
       "      <th>people_char_35</th>\n",
       "      <th>people_char_36</th>\n",
       "      <th>people_char_37</th>\n",
       "      <th>people_char_38</th>\n",
       "    </tr>\n",
       "  </thead>\n",
       "  <tbody>\n",
       "    <tr>\n",
       "      <th>0</th>\n",
       "      <td>ppl_100</td>\n",
       "      <td>act2_1734928</td>\n",
       "      <td>2023-08-26</td>\n",
       "      <td>type 4</td>\n",
       "      <td>NaN</td>\n",
       "      <td>NaN</td>\n",
       "      <td>NaN</td>\n",
       "      <td>NaN</td>\n",
       "      <td>NaN</td>\n",
       "      <td>NaN</td>\n",
       "      <td>...</td>\n",
       "      <td>False</td>\n",
       "      <td>True</td>\n",
       "      <td>True</td>\n",
       "      <td>False</td>\n",
       "      <td>False</td>\n",
       "      <td>True</td>\n",
       "      <td>True</td>\n",
       "      <td>True</td>\n",
       "      <td>False</td>\n",
       "      <td>36</td>\n",
       "    </tr>\n",
       "    <tr>\n",
       "      <th>1</th>\n",
       "      <td>ppl_100</td>\n",
       "      <td>act2_2434093</td>\n",
       "      <td>2022-09-27</td>\n",
       "      <td>type 2</td>\n",
       "      <td>NaN</td>\n",
       "      <td>NaN</td>\n",
       "      <td>NaN</td>\n",
       "      <td>NaN</td>\n",
       "      <td>NaN</td>\n",
       "      <td>NaN</td>\n",
       "      <td>...</td>\n",
       "      <td>False</td>\n",
       "      <td>True</td>\n",
       "      <td>True</td>\n",
       "      <td>False</td>\n",
       "      <td>False</td>\n",
       "      <td>True</td>\n",
       "      <td>True</td>\n",
       "      <td>True</td>\n",
       "      <td>False</td>\n",
       "      <td>36</td>\n",
       "    </tr>\n",
       "    <tr>\n",
       "      <th>2</th>\n",
       "      <td>ppl_100</td>\n",
       "      <td>act2_3404049</td>\n",
       "      <td>2022-09-27</td>\n",
       "      <td>type 2</td>\n",
       "      <td>NaN</td>\n",
       "      <td>NaN</td>\n",
       "      <td>NaN</td>\n",
       "      <td>NaN</td>\n",
       "      <td>NaN</td>\n",
       "      <td>NaN</td>\n",
       "      <td>...</td>\n",
       "      <td>False</td>\n",
       "      <td>True</td>\n",
       "      <td>True</td>\n",
       "      <td>False</td>\n",
       "      <td>False</td>\n",
       "      <td>True</td>\n",
       "      <td>True</td>\n",
       "      <td>True</td>\n",
       "      <td>False</td>\n",
       "      <td>36</td>\n",
       "    </tr>\n",
       "    <tr>\n",
       "      <th>3</th>\n",
       "      <td>ppl_100</td>\n",
       "      <td>act2_3651215</td>\n",
       "      <td>2023-08-04</td>\n",
       "      <td>type 2</td>\n",
       "      <td>NaN</td>\n",
       "      <td>NaN</td>\n",
       "      <td>NaN</td>\n",
       "      <td>NaN</td>\n",
       "      <td>NaN</td>\n",
       "      <td>NaN</td>\n",
       "      <td>...</td>\n",
       "      <td>False</td>\n",
       "      <td>True</td>\n",
       "      <td>True</td>\n",
       "      <td>False</td>\n",
       "      <td>False</td>\n",
       "      <td>True</td>\n",
       "      <td>True</td>\n",
       "      <td>True</td>\n",
       "      <td>False</td>\n",
       "      <td>36</td>\n",
       "    </tr>\n",
       "    <tr>\n",
       "      <th>4</th>\n",
       "      <td>ppl_100</td>\n",
       "      <td>act2_4109017</td>\n",
       "      <td>2023-08-26</td>\n",
       "      <td>type 2</td>\n",
       "      <td>NaN</td>\n",
       "      <td>NaN</td>\n",
       "      <td>NaN</td>\n",
       "      <td>NaN</td>\n",
       "      <td>NaN</td>\n",
       "      <td>NaN</td>\n",
       "      <td>...</td>\n",
       "      <td>False</td>\n",
       "      <td>True</td>\n",
       "      <td>True</td>\n",
       "      <td>False</td>\n",
       "      <td>False</td>\n",
       "      <td>True</td>\n",
       "      <td>True</td>\n",
       "      <td>True</td>\n",
       "      <td>False</td>\n",
       "      <td>36</td>\n",
       "    </tr>\n",
       "  </tbody>\n",
       "</table>\n",
       "<p>5 rows × 55 columns</p>\n",
       "</div>"
      ],
      "text/plain": [
       "  people_id   activity_id        date activity_category char_1 char_2 char_3  \\\n",
       "0   ppl_100  act2_1734928  2023-08-26            type 4    NaN    NaN    NaN   \n",
       "1   ppl_100  act2_2434093  2022-09-27            type 2    NaN    NaN    NaN   \n",
       "2   ppl_100  act2_3404049  2022-09-27            type 2    NaN    NaN    NaN   \n",
       "3   ppl_100  act2_3651215  2023-08-04            type 2    NaN    NaN    NaN   \n",
       "4   ppl_100  act2_4109017  2023-08-26            type 2    NaN    NaN    NaN   \n",
       "\n",
       "  char_4 char_5 char_6      ...       people_char_29 people_char_30  \\\n",
       "0    NaN    NaN    NaN      ...                False           True   \n",
       "1    NaN    NaN    NaN      ...                False           True   \n",
       "2    NaN    NaN    NaN      ...                False           True   \n",
       "3    NaN    NaN    NaN      ...                False           True   \n",
       "4    NaN    NaN    NaN      ...                False           True   \n",
       "\n",
       "  people_char_31 people_char_32  people_char_33 people_char_34 people_char_35  \\\n",
       "0           True          False           False           True           True   \n",
       "1           True          False           False           True           True   \n",
       "2           True          False           False           True           True   \n",
       "3           True          False           False           True           True   \n",
       "4           True          False           False           True           True   \n",
       "\n",
       "  people_char_36 people_char_37 people_char_38  \n",
       "0           True          False             36  \n",
       "1           True          False             36  \n",
       "2           True          False             36  \n",
       "3           True          False             36  \n",
       "4           True          False             36  \n",
       "\n",
       "[5 rows x 55 columns]"
      ]
     },
     "execution_count": 12,
     "metadata": {},
     "output_type": "execute_result"
    }
   ],
   "source": [
    "people_act_not_type1.head()"
   ]
  },
  {
   "cell_type": "code",
   "execution_count": 13,
   "metadata": {
    "collapsed": false
   },
   "outputs": [],
   "source": [
    "people_act_type1 = people_act_type1.drop(labels = ['char_10'],axis=1)\n",
    "people_act_not_type1 = people_act_not_type1.drop(labels = ['char_{}'.format(i) for i in range(1,10)],axis=1)"
   ]
  },
  {
   "cell_type": "code",
   "execution_count": 14,
   "metadata": {
    "collapsed": false
   },
   "outputs": [],
   "source": [
    "people_act_not_type1 = people_act_not_type1.reset_index(drop=True)\n",
    "people_act_type1 = people_act_type1.reset_index(drop=True)"
   ]
  },
  {
   "cell_type": "code",
   "execution_count": 15,
   "metadata": {
    "collapsed": false
   },
   "outputs": [
    {
     "data": {
      "text/html": [
       "<div>\n",
       "<table border=\"1\" class=\"dataframe\">\n",
       "  <thead>\n",
       "    <tr style=\"text-align: right;\">\n",
       "      <th></th>\n",
       "      <th>people_id</th>\n",
       "      <th>activity_id</th>\n",
       "      <th>date</th>\n",
       "      <th>activity_category</th>\n",
       "      <th>char_1</th>\n",
       "      <th>char_2</th>\n",
       "      <th>char_3</th>\n",
       "      <th>char_4</th>\n",
       "      <th>char_5</th>\n",
       "      <th>char_6</th>\n",
       "      <th>...</th>\n",
       "      <th>people_char_29</th>\n",
       "      <th>people_char_30</th>\n",
       "      <th>people_char_31</th>\n",
       "      <th>people_char_32</th>\n",
       "      <th>people_char_33</th>\n",
       "      <th>people_char_34</th>\n",
       "      <th>people_char_35</th>\n",
       "      <th>people_char_36</th>\n",
       "      <th>people_char_37</th>\n",
       "      <th>people_char_38</th>\n",
       "    </tr>\n",
       "  </thead>\n",
       "  <tbody>\n",
       "    <tr>\n",
       "      <th>0</th>\n",
       "      <td>ppl_100025</td>\n",
       "      <td>act1_9923</td>\n",
       "      <td>2022-11-25</td>\n",
       "      <td>type 1</td>\n",
       "      <td>type 3</td>\n",
       "      <td>type 5</td>\n",
       "      <td>type 1</td>\n",
       "      <td>type 1</td>\n",
       "      <td>type 6</td>\n",
       "      <td>type 3</td>\n",
       "      <td>...</td>\n",
       "      <td>False</td>\n",
       "      <td>False</td>\n",
       "      <td>False</td>\n",
       "      <td>False</td>\n",
       "      <td>False</td>\n",
       "      <td>False</td>\n",
       "      <td>False</td>\n",
       "      <td>False</td>\n",
       "      <td>False</td>\n",
       "      <td>76</td>\n",
       "    </tr>\n",
       "    <tr>\n",
       "      <th>1</th>\n",
       "      <td>ppl_100033</td>\n",
       "      <td>act1_198174</td>\n",
       "      <td>2022-07-26</td>\n",
       "      <td>type 1</td>\n",
       "      <td>type 36</td>\n",
       "      <td>type 11</td>\n",
       "      <td>type 5</td>\n",
       "      <td>type 1</td>\n",
       "      <td>type 6</td>\n",
       "      <td>type 1</td>\n",
       "      <td>...</td>\n",
       "      <td>False</td>\n",
       "      <td>False</td>\n",
       "      <td>False</td>\n",
       "      <td>False</td>\n",
       "      <td>False</td>\n",
       "      <td>False</td>\n",
       "      <td>False</td>\n",
       "      <td>False</td>\n",
       "      <td>False</td>\n",
       "      <td>0</td>\n",
       "    </tr>\n",
       "    <tr>\n",
       "      <th>2</th>\n",
       "      <td>ppl_100033</td>\n",
       "      <td>act1_214090</td>\n",
       "      <td>2023-06-15</td>\n",
       "      <td>type 1</td>\n",
       "      <td>type 24</td>\n",
       "      <td>type 6</td>\n",
       "      <td>type 6</td>\n",
       "      <td>type 3</td>\n",
       "      <td>type 1</td>\n",
       "      <td>type 3</td>\n",
       "      <td>...</td>\n",
       "      <td>False</td>\n",
       "      <td>False</td>\n",
       "      <td>False</td>\n",
       "      <td>False</td>\n",
       "      <td>False</td>\n",
       "      <td>False</td>\n",
       "      <td>False</td>\n",
       "      <td>False</td>\n",
       "      <td>False</td>\n",
       "      <td>0</td>\n",
       "    </tr>\n",
       "    <tr>\n",
       "      <th>3</th>\n",
       "      <td>ppl_100033</td>\n",
       "      <td>act1_230588</td>\n",
       "      <td>2023-02-28</td>\n",
       "      <td>type 1</td>\n",
       "      <td>type 2</td>\n",
       "      <td>type 2</td>\n",
       "      <td>type 3</td>\n",
       "      <td>type 3</td>\n",
       "      <td>type 5</td>\n",
       "      <td>type 2</td>\n",
       "      <td>...</td>\n",
       "      <td>False</td>\n",
       "      <td>False</td>\n",
       "      <td>False</td>\n",
       "      <td>False</td>\n",
       "      <td>False</td>\n",
       "      <td>False</td>\n",
       "      <td>False</td>\n",
       "      <td>False</td>\n",
       "      <td>False</td>\n",
       "      <td>0</td>\n",
       "    </tr>\n",
       "    <tr>\n",
       "      <th>4</th>\n",
       "      <td>ppl_100033</td>\n",
       "      <td>act1_271874</td>\n",
       "      <td>2022-07-26</td>\n",
       "      <td>type 1</td>\n",
       "      <td>type 2</td>\n",
       "      <td>type 5</td>\n",
       "      <td>type 3</td>\n",
       "      <td>type 2</td>\n",
       "      <td>type 6</td>\n",
       "      <td>type 1</td>\n",
       "      <td>...</td>\n",
       "      <td>False</td>\n",
       "      <td>False</td>\n",
       "      <td>False</td>\n",
       "      <td>False</td>\n",
       "      <td>False</td>\n",
       "      <td>False</td>\n",
       "      <td>False</td>\n",
       "      <td>False</td>\n",
       "      <td>False</td>\n",
       "      <td>0</td>\n",
       "    </tr>\n",
       "  </tbody>\n",
       "</table>\n",
       "<p>5 rows × 54 columns</p>\n",
       "</div>"
      ],
      "text/plain": [
       "    people_id  activity_id        date activity_category   char_1   char_2  \\\n",
       "0  ppl_100025    act1_9923  2022-11-25            type 1   type 3   type 5   \n",
       "1  ppl_100033  act1_198174  2022-07-26            type 1  type 36  type 11   \n",
       "2  ppl_100033  act1_214090  2023-06-15            type 1  type 24   type 6   \n",
       "3  ppl_100033  act1_230588  2023-02-28            type 1   type 2   type 2   \n",
       "4  ppl_100033  act1_271874  2022-07-26            type 1   type 2   type 5   \n",
       "\n",
       "   char_3  char_4  char_5  char_6      ...       people_char_29  \\\n",
       "0  type 1  type 1  type 6  type 3      ...                False   \n",
       "1  type 5  type 1  type 6  type 1      ...                False   \n",
       "2  type 6  type 3  type 1  type 3      ...                False   \n",
       "3  type 3  type 3  type 5  type 2      ...                False   \n",
       "4  type 3  type 2  type 6  type 1      ...                False   \n",
       "\n",
       "  people_char_30 people_char_31  people_char_32 people_char_33 people_char_34  \\\n",
       "0          False          False           False          False          False   \n",
       "1          False          False           False          False          False   \n",
       "2          False          False           False          False          False   \n",
       "3          False          False           False          False          False   \n",
       "4          False          False           False          False          False   \n",
       "\n",
       "  people_char_35 people_char_36 people_char_37 people_char_38  \n",
       "0          False          False          False             76  \n",
       "1          False          False          False              0  \n",
       "2          False          False          False              0  \n",
       "3          False          False          False              0  \n",
       "4          False          False          False              0  \n",
       "\n",
       "[5 rows x 54 columns]"
      ]
     },
     "execution_count": 15,
     "metadata": {},
     "output_type": "execute_result"
    }
   ],
   "source": [
    "people_act_type1.head()"
   ]
  },
  {
   "cell_type": "code",
   "execution_count": 16,
   "metadata": {
    "collapsed": false
   },
   "outputs": [
    {
     "data": {
      "text/html": [
       "<div>\n",
       "<table border=\"1\" class=\"dataframe\">\n",
       "  <thead>\n",
       "    <tr style=\"text-align: right;\">\n",
       "      <th></th>\n",
       "      <th>people_id</th>\n",
       "      <th>activity_id</th>\n",
       "      <th>date</th>\n",
       "      <th>activity_category</th>\n",
       "      <th>char_10</th>\n",
       "      <th>outcome</th>\n",
       "      <th>people_char_1</th>\n",
       "      <th>people_group_1</th>\n",
       "      <th>people_char_2</th>\n",
       "      <th>people_date</th>\n",
       "      <th>...</th>\n",
       "      <th>people_char_29</th>\n",
       "      <th>people_char_30</th>\n",
       "      <th>people_char_31</th>\n",
       "      <th>people_char_32</th>\n",
       "      <th>people_char_33</th>\n",
       "      <th>people_char_34</th>\n",
       "      <th>people_char_35</th>\n",
       "      <th>people_char_36</th>\n",
       "      <th>people_char_37</th>\n",
       "      <th>people_char_38</th>\n",
       "    </tr>\n",
       "  </thead>\n",
       "  <tbody>\n",
       "    <tr>\n",
       "      <th>0</th>\n",
       "      <td>ppl_100</td>\n",
       "      <td>act2_1734928</td>\n",
       "      <td>2023-08-26</td>\n",
       "      <td>type 4</td>\n",
       "      <td>type 76</td>\n",
       "      <td>0</td>\n",
       "      <td>type 2</td>\n",
       "      <td>group 17304</td>\n",
       "      <td>type 2</td>\n",
       "      <td>2021-06-29</td>\n",
       "      <td>...</td>\n",
       "      <td>False</td>\n",
       "      <td>True</td>\n",
       "      <td>True</td>\n",
       "      <td>False</td>\n",
       "      <td>False</td>\n",
       "      <td>True</td>\n",
       "      <td>True</td>\n",
       "      <td>True</td>\n",
       "      <td>False</td>\n",
       "      <td>36</td>\n",
       "    </tr>\n",
       "    <tr>\n",
       "      <th>1</th>\n",
       "      <td>ppl_100</td>\n",
       "      <td>act2_2434093</td>\n",
       "      <td>2022-09-27</td>\n",
       "      <td>type 2</td>\n",
       "      <td>type 1</td>\n",
       "      <td>0</td>\n",
       "      <td>type 2</td>\n",
       "      <td>group 17304</td>\n",
       "      <td>type 2</td>\n",
       "      <td>2021-06-29</td>\n",
       "      <td>...</td>\n",
       "      <td>False</td>\n",
       "      <td>True</td>\n",
       "      <td>True</td>\n",
       "      <td>False</td>\n",
       "      <td>False</td>\n",
       "      <td>True</td>\n",
       "      <td>True</td>\n",
       "      <td>True</td>\n",
       "      <td>False</td>\n",
       "      <td>36</td>\n",
       "    </tr>\n",
       "    <tr>\n",
       "      <th>2</th>\n",
       "      <td>ppl_100</td>\n",
       "      <td>act2_3404049</td>\n",
       "      <td>2022-09-27</td>\n",
       "      <td>type 2</td>\n",
       "      <td>type 1</td>\n",
       "      <td>0</td>\n",
       "      <td>type 2</td>\n",
       "      <td>group 17304</td>\n",
       "      <td>type 2</td>\n",
       "      <td>2021-06-29</td>\n",
       "      <td>...</td>\n",
       "      <td>False</td>\n",
       "      <td>True</td>\n",
       "      <td>True</td>\n",
       "      <td>False</td>\n",
       "      <td>False</td>\n",
       "      <td>True</td>\n",
       "      <td>True</td>\n",
       "      <td>True</td>\n",
       "      <td>False</td>\n",
       "      <td>36</td>\n",
       "    </tr>\n",
       "    <tr>\n",
       "      <th>3</th>\n",
       "      <td>ppl_100</td>\n",
       "      <td>act2_3651215</td>\n",
       "      <td>2023-08-04</td>\n",
       "      <td>type 2</td>\n",
       "      <td>type 1</td>\n",
       "      <td>0</td>\n",
       "      <td>type 2</td>\n",
       "      <td>group 17304</td>\n",
       "      <td>type 2</td>\n",
       "      <td>2021-06-29</td>\n",
       "      <td>...</td>\n",
       "      <td>False</td>\n",
       "      <td>True</td>\n",
       "      <td>True</td>\n",
       "      <td>False</td>\n",
       "      <td>False</td>\n",
       "      <td>True</td>\n",
       "      <td>True</td>\n",
       "      <td>True</td>\n",
       "      <td>False</td>\n",
       "      <td>36</td>\n",
       "    </tr>\n",
       "    <tr>\n",
       "      <th>4</th>\n",
       "      <td>ppl_100</td>\n",
       "      <td>act2_4109017</td>\n",
       "      <td>2023-08-26</td>\n",
       "      <td>type 2</td>\n",
       "      <td>type 1</td>\n",
       "      <td>0</td>\n",
       "      <td>type 2</td>\n",
       "      <td>group 17304</td>\n",
       "      <td>type 2</td>\n",
       "      <td>2021-06-29</td>\n",
       "      <td>...</td>\n",
       "      <td>False</td>\n",
       "      <td>True</td>\n",
       "      <td>True</td>\n",
       "      <td>False</td>\n",
       "      <td>False</td>\n",
       "      <td>True</td>\n",
       "      <td>True</td>\n",
       "      <td>True</td>\n",
       "      <td>False</td>\n",
       "      <td>36</td>\n",
       "    </tr>\n",
       "  </tbody>\n",
       "</table>\n",
       "<p>5 rows × 46 columns</p>\n",
       "</div>"
      ],
      "text/plain": [
       "  people_id   activity_id        date activity_category  char_10  outcome  \\\n",
       "0   ppl_100  act2_1734928  2023-08-26            type 4  type 76        0   \n",
       "1   ppl_100  act2_2434093  2022-09-27            type 2   type 1        0   \n",
       "2   ppl_100  act2_3404049  2022-09-27            type 2   type 1        0   \n",
       "3   ppl_100  act2_3651215  2023-08-04            type 2   type 1        0   \n",
       "4   ppl_100  act2_4109017  2023-08-26            type 2   type 1        0   \n",
       "\n",
       "  people_char_1 people_group_1 people_char_2 people_date      ...        \\\n",
       "0        type 2    group 17304        type 2  2021-06-29      ...         \n",
       "1        type 2    group 17304        type 2  2021-06-29      ...         \n",
       "2        type 2    group 17304        type 2  2021-06-29      ...         \n",
       "3        type 2    group 17304        type 2  2021-06-29      ...         \n",
       "4        type 2    group 17304        type 2  2021-06-29      ...         \n",
       "\n",
       "  people_char_29 people_char_30 people_char_31 people_char_32 people_char_33  \\\n",
       "0          False           True           True          False          False   \n",
       "1          False           True           True          False          False   \n",
       "2          False           True           True          False          False   \n",
       "3          False           True           True          False          False   \n",
       "4          False           True           True          False          False   \n",
       "\n",
       "  people_char_34 people_char_35 people_char_36 people_char_37 people_char_38  \n",
       "0           True           True           True          False             36  \n",
       "1           True           True           True          False             36  \n",
       "2           True           True           True          False             36  \n",
       "3           True           True           True          False             36  \n",
       "4           True           True           True          False             36  \n",
       "\n",
       "[5 rows x 46 columns]"
      ]
     },
     "execution_count": 16,
     "metadata": {},
     "output_type": "execute_result"
    }
   ],
   "source": [
    "people_act_not_type1.head()"
   ]
  },
  {
   "cell_type": "code",
   "execution_count": 17,
   "metadata": {
    "collapsed": false
   },
   "outputs": [
    {
     "data": {
      "image/png": "[encoded data removed]",
      "text/plain": [
       "<matplotlib.figure.Figure at 0x117004290>"
      ]
     },
     "metadata": {},
     "output_type": "display_data"
    },
    {
     "data": {
      "image/png": "[encoded data removed]",
      "text/plain": [
       "<matplotlib.figure.Figure at 0x1013ad690>"
      ]
     },
     "metadata": {},
     "output_type": "display_data"
    }
   ],
   "source": [
    "from collections import Counter\n",
    "pd.Series(Counter(people_act_not_type1[people_act_not_type1['outcome'] == 1]['activity_category'])).\\\n",
    "plot(kind='bar',figsize=(20,10))\n",
    "plt.title('Outcome = 1')\n",
    "plt.show()\n",
    "pd.Series(Counter(people_act_not_type1[people_act_not_type1['outcome'] == 0]['activity_category'])).\\\n",
    "plot(kind='bar',figsize=(20,10))\n",
    "plt.title('Outcome = 0')\n",
    "plt.show()"
   ]
  },
  {
   "cell_type": "code",
   "execution_count": 18,
   "metadata": {
    "collapsed": false
   },
   "outputs": [
    {
     "data": {
      "text/plain": [
       "<matplotlib.text.Text at 0x118337ed0>"
      ]
     },
     "execution_count": 18,
     "metadata": {},
     "output_type": "execute_result"
    },
    {
     "data": {
      "image/png": "[encoded data removed]",
      "text/plain": [
       "<matplotlib.figure.Figure at 0x1170b3510>"
      ]
     },
     "metadata": {},
     "output_type": "display_data"
    }
   ],
   "source": [
    "pd.Series(pd.Series(Counter(people_act_not_type1[people_act_not_type1['outcome'] == 1]['activity_category']))/\\\n",
    "pd.Series(Counter(people_act_not_type1['activity_category']))).plot(kind='bar',figsize=(20,10))\n",
    "plt.title('Percentage of Positive Outcome for Activity Type')"
   ]
  },
  {
   "cell_type": "code",
   "execution_count": 19,
   "metadata": {
    "collapsed": false
   },
   "outputs": [
    {
     "data": {
      "text/plain": [
       "<matplotlib.text.Text at 0x1197288d0>"
      ]
     },
     "execution_count": 19,
     "metadata": {},
     "output_type": "execute_result"
    },
    {
     "data": {
      "image/png": "[encoded data removed]",
      "text/plain": [
       "<matplotlib.figure.Figure at 0x1183b2ed0>"
      ]
     },
     "metadata": {},
     "output_type": "display_data"
    }
   ],
   "source": [
    "pd.Series(pd.Series(Counter(people_act_not_type1[people_act_not_type1['outcome'] == 0]['activity_category']))/\\\n",
    "pd.Series(Counter(people_act_not_type1['activity_category']))).plot(kind='bar',figsize=(20,10))\n",
    "plt.title('Percentage of Negative Outcome for Activity Type')"
   ]
  },
  {
   "cell_type": "markdown",
   "metadata": {},
   "source": [
    "## Training on the 'type 1' of the data"
   ]
  },
  {
   "cell_type": "code",
   "execution_count": 104,
   "metadata": {
    "collapsed": false
   },
   "outputs": [
    {
     "data": {
      "text/html": [
       "<div>\n",
       "<table border=\"1\" class=\"dataframe\">\n",
       "  <thead>\n",
       "    <tr style=\"text-align: right;\">\n",
       "      <th></th>\n",
       "      <th>people_id</th>\n",
       "      <th>activity_id</th>\n",
       "      <th>date</th>\n",
       "      <th>activity_category</th>\n",
       "      <th>char_1</th>\n",
       "      <th>char_2</th>\n",
       "      <th>char_3</th>\n",
       "      <th>char_4</th>\n",
       "      <th>char_5</th>\n",
       "      <th>char_6</th>\n",
       "      <th>...</th>\n",
       "      <th>people_char_29</th>\n",
       "      <th>people_char_30</th>\n",
       "      <th>people_char_31</th>\n",
       "      <th>people_char_32</th>\n",
       "      <th>people_char_33</th>\n",
       "      <th>people_char_34</th>\n",
       "      <th>people_char_35</th>\n",
       "      <th>people_char_36</th>\n",
       "      <th>people_char_37</th>\n",
       "      <th>people_char_38</th>\n",
       "    </tr>\n",
       "  </thead>\n",
       "  <tbody>\n",
       "    <tr>\n",
       "      <th>0</th>\n",
       "      <td>ppl_100025</td>\n",
       "      <td>act1_9923</td>\n",
       "      <td>2022-11-25</td>\n",
       "      <td>type 1</td>\n",
       "      <td>type 3</td>\n",
       "      <td>type 5</td>\n",
       "      <td>type 1</td>\n",
       "      <td>type 1</td>\n",
       "      <td>type 6</td>\n",
       "      <td>type 3</td>\n",
       "      <td>...</td>\n",
       "      <td>False</td>\n",
       "      <td>False</td>\n",
       "      <td>False</td>\n",
       "      <td>False</td>\n",
       "      <td>False</td>\n",
       "      <td>False</td>\n",
       "      <td>False</td>\n",
       "      <td>False</td>\n",
       "      <td>False</td>\n",
       "      <td>76</td>\n",
       "    </tr>\n",
       "    <tr>\n",
       "      <th>1</th>\n",
       "      <td>ppl_100033</td>\n",
       "      <td>act1_198174</td>\n",
       "      <td>2022-07-26</td>\n",
       "      <td>type 1</td>\n",
       "      <td>type 36</td>\n",
       "      <td>type 11</td>\n",
       "      <td>type 5</td>\n",
       "      <td>type 1</td>\n",
       "      <td>type 6</td>\n",
       "      <td>type 1</td>\n",
       "      <td>...</td>\n",
       "      <td>False</td>\n",
       "      <td>False</td>\n",
       "      <td>False</td>\n",
       "      <td>False</td>\n",
       "      <td>False</td>\n",
       "      <td>False</td>\n",
       "      <td>False</td>\n",
       "      <td>False</td>\n",
       "      <td>False</td>\n",
       "      <td>0</td>\n",
       "    </tr>\n",
       "    <tr>\n",
       "      <th>2</th>\n",
       "      <td>ppl_100033</td>\n",
       "      <td>act1_214090</td>\n",
       "      <td>2023-06-15</td>\n",
       "      <td>type 1</td>\n",
       "      <td>type 24</td>\n",
       "      <td>type 6</td>\n",
       "      <td>type 6</td>\n",
       "      <td>type 3</td>\n",
       "      <td>type 1</td>\n",
       "      <td>type 3</td>\n",
       "      <td>...</td>\n",
       "      <td>False</td>\n",
       "      <td>False</td>\n",
       "      <td>False</td>\n",
       "      <td>False</td>\n",
       "      <td>False</td>\n",
       "      <td>False</td>\n",
       "      <td>False</td>\n",
       "      <td>False</td>\n",
       "      <td>False</td>\n",
       "      <td>0</td>\n",
       "    </tr>\n",
       "    <tr>\n",
       "      <th>3</th>\n",
       "      <td>ppl_100033</td>\n",
       "      <td>act1_230588</td>\n",
       "      <td>2023-02-28</td>\n",
       "      <td>type 1</td>\n",
       "      <td>type 2</td>\n",
       "      <td>type 2</td>\n",
       "      <td>type 3</td>\n",
       "      <td>type 3</td>\n",
       "      <td>type 5</td>\n",
       "      <td>type 2</td>\n",
       "      <td>...</td>\n",
       "      <td>False</td>\n",
       "      <td>False</td>\n",
       "      <td>False</td>\n",
       "      <td>False</td>\n",
       "      <td>False</td>\n",
       "      <td>False</td>\n",
       "      <td>False</td>\n",
       "      <td>False</td>\n",
       "      <td>False</td>\n",
       "      <td>0</td>\n",
       "    </tr>\n",
       "    <tr>\n",
       "      <th>4</th>\n",
       "      <td>ppl_100033</td>\n",
       "      <td>act1_271874</td>\n",
       "      <td>2022-07-26</td>\n",
       "      <td>type 1</td>\n",
       "      <td>type 2</td>\n",
       "      <td>type 5</td>\n",
       "      <td>type 3</td>\n",
       "      <td>type 2</td>\n",
       "      <td>type 6</td>\n",
       "      <td>type 1</td>\n",
       "      <td>...</td>\n",
       "      <td>False</td>\n",
       "      <td>False</td>\n",
       "      <td>False</td>\n",
       "      <td>False</td>\n",
       "      <td>False</td>\n",
       "      <td>False</td>\n",
       "      <td>False</td>\n",
       "      <td>False</td>\n",
       "      <td>False</td>\n",
       "      <td>0</td>\n",
       "    </tr>\n",
       "  </tbody>\n",
       "</table>\n",
       "<p>5 rows × 54 columns</p>\n",
       "</div>"
      ],
      "text/plain": [
       "    people_id  activity_id        date activity_category   char_1   char_2  \\\n",
       "0  ppl_100025    act1_9923  2022-11-25            type 1   type 3   type 5   \n",
       "1  ppl_100033  act1_198174  2022-07-26            type 1  type 36  type 11   \n",
       "2  ppl_100033  act1_214090  2023-06-15            type 1  type 24   type 6   \n",
       "3  ppl_100033  act1_230588  2023-02-28            type 1   type 2   type 2   \n",
       "4  ppl_100033  act1_271874  2022-07-26            type 1   type 2   type 5   \n",
       "\n",
       "   char_3  char_4  char_5  char_6      ...       people_char_29  \\\n",
       "0  type 1  type 1  type 6  type 3      ...                False   \n",
       "1  type 5  type 1  type 6  type 1      ...                False   \n",
       "2  type 6  type 3  type 1  type 3      ...                False   \n",
       "3  type 3  type 3  type 5  type 2      ...                False   \n",
       "4  type 3  type 2  type 6  type 1      ...                False   \n",
       "\n",
       "  people_char_30 people_char_31  people_char_32 people_char_33 people_char_34  \\\n",
       "0          False          False           False          False          False   \n",
       "1          False          False           False          False          False   \n",
       "2          False          False           False          False          False   \n",
       "3          False          False           False          False          False   \n",
       "4          False          False           False          False          False   \n",
       "\n",
       "  people_char_35 people_char_36 people_char_37 people_char_38  \n",
       "0          False          False          False             76  \n",
       "1          False          False          False              0  \n",
       "2          False          False          False              0  \n",
       "3          False          False          False              0  \n",
       "4          False          False          False              0  \n",
       "\n",
       "[5 rows x 54 columns]"
      ]
     },
     "execution_count": 104,
     "metadata": {},
     "output_type": "execute_result"
    }
   ],
   "source": [
    "df = people_act_type1.copy()\n",
    "df.head()"
   ]
  },
  {
   "cell_type": "code",
   "execution_count": 105,
   "metadata": {
    "collapsed": false
   },
   "outputs": [],
   "source": [
    "df = df.drop(labels = ['activity_category'],axis=1)"
   ]
  },
  {
   "cell_type": "code",
   "execution_count": 106,
   "metadata": {
    "collapsed": false
   },
   "outputs": [
    {
     "data": {
      "text/html": [
       "<div>\n",
       "<table border=\"1\" class=\"dataframe\">\n",
       "  <thead>\n",
       "    <tr style=\"text-align: right;\">\n",
       "      <th></th>\n",
       "      <th>people_id</th>\n",
       "      <th>activity_id</th>\n",
       "      <th>date</th>\n",
       "      <th>char_1</th>\n",
       "      <th>char_2</th>\n",
       "      <th>char_3</th>\n",
       "      <th>char_4</th>\n",
       "      <th>char_5</th>\n",
       "      <th>char_6</th>\n",
       "      <th>char_7</th>\n",
       "      <th>...</th>\n",
       "      <th>people_char_29</th>\n",
       "      <th>people_char_30</th>\n",
       "      <th>people_char_31</th>\n",
       "      <th>people_char_32</th>\n",
       "      <th>people_char_33</th>\n",
       "      <th>people_char_34</th>\n",
       "      <th>people_char_35</th>\n",
       "      <th>people_char_36</th>\n",
       "      <th>people_char_37</th>\n",
       "      <th>people_char_38</th>\n",
       "    </tr>\n",
       "  </thead>\n",
       "  <tbody>\n",
       "    <tr>\n",
       "      <th>0</th>\n",
       "      <td>0</td>\n",
       "      <td>157304</td>\n",
       "      <td>2022-11-25</td>\n",
       "      <td>type 3</td>\n",
       "      <td>type 5</td>\n",
       "      <td>type 1</td>\n",
       "      <td>type 1</td>\n",
       "      <td>type 6</td>\n",
       "      <td>type 3</td>\n",
       "      <td>type 3</td>\n",
       "      <td>...</td>\n",
       "      <td>False</td>\n",
       "      <td>False</td>\n",
       "      <td>False</td>\n",
       "      <td>False</td>\n",
       "      <td>False</td>\n",
       "      <td>False</td>\n",
       "      <td>False</td>\n",
       "      <td>False</td>\n",
       "      <td>False</td>\n",
       "      <td>76</td>\n",
       "    </tr>\n",
       "    <tr>\n",
       "      <th>1</th>\n",
       "      <td>1</td>\n",
       "      <td>40835</td>\n",
       "      <td>2022-07-26</td>\n",
       "      <td>type 36</td>\n",
       "      <td>type 11</td>\n",
       "      <td>type 5</td>\n",
       "      <td>type 1</td>\n",
       "      <td>type 6</td>\n",
       "      <td>type 1</td>\n",
       "      <td>type 1</td>\n",
       "      <td>...</td>\n",
       "      <td>False</td>\n",
       "      <td>False</td>\n",
       "      <td>False</td>\n",
       "      <td>False</td>\n",
       "      <td>False</td>\n",
       "      <td>False</td>\n",
       "      <td>False</td>\n",
       "      <td>False</td>\n",
       "      <td>False</td>\n",
       "      <td>0</td>\n",
       "    </tr>\n",
       "    <tr>\n",
       "      <th>2</th>\n",
       "      <td>1</td>\n",
       "      <td>47405</td>\n",
       "      <td>2023-06-15</td>\n",
       "      <td>type 24</td>\n",
       "      <td>type 6</td>\n",
       "      <td>type 6</td>\n",
       "      <td>type 3</td>\n",
       "      <td>type 1</td>\n",
       "      <td>type 3</td>\n",
       "      <td>type 4</td>\n",
       "      <td>...</td>\n",
       "      <td>False</td>\n",
       "      <td>False</td>\n",
       "      <td>False</td>\n",
       "      <td>False</td>\n",
       "      <td>False</td>\n",
       "      <td>False</td>\n",
       "      <td>False</td>\n",
       "      <td>False</td>\n",
       "      <td>False</td>\n",
       "      <td>0</td>\n",
       "    </tr>\n",
       "    <tr>\n",
       "      <th>3</th>\n",
       "      <td>1</td>\n",
       "      <td>54196</td>\n",
       "      <td>2023-02-28</td>\n",
       "      <td>type 2</td>\n",
       "      <td>type 2</td>\n",
       "      <td>type 3</td>\n",
       "      <td>type 3</td>\n",
       "      <td>type 5</td>\n",
       "      <td>type 2</td>\n",
       "      <td>type 2</td>\n",
       "      <td>...</td>\n",
       "      <td>False</td>\n",
       "      <td>False</td>\n",
       "      <td>False</td>\n",
       "      <td>False</td>\n",
       "      <td>False</td>\n",
       "      <td>False</td>\n",
       "      <td>False</td>\n",
       "      <td>False</td>\n",
       "      <td>False</td>\n",
       "      <td>0</td>\n",
       "    </tr>\n",
       "    <tr>\n",
       "      <th>4</th>\n",
       "      <td>1</td>\n",
       "      <td>71317</td>\n",
       "      <td>2022-07-26</td>\n",
       "      <td>type 2</td>\n",
       "      <td>type 5</td>\n",
       "      <td>type 3</td>\n",
       "      <td>type 2</td>\n",
       "      <td>type 6</td>\n",
       "      <td>type 1</td>\n",
       "      <td>type 1</td>\n",
       "      <td>...</td>\n",
       "      <td>False</td>\n",
       "      <td>False</td>\n",
       "      <td>False</td>\n",
       "      <td>False</td>\n",
       "      <td>False</td>\n",
       "      <td>False</td>\n",
       "      <td>False</td>\n",
       "      <td>False</td>\n",
       "      <td>False</td>\n",
       "      <td>0</td>\n",
       "    </tr>\n",
       "  </tbody>\n",
       "</table>\n",
       "<p>5 rows × 53 columns</p>\n",
       "</div>"
      ],
      "text/plain": [
       "   people_id  activity_id        date   char_1   char_2  char_3  char_4  \\\n",
       "0          0       157304  2022-11-25   type 3   type 5  type 1  type 1   \n",
       "1          1        40835  2022-07-26  type 36  type 11  type 5  type 1   \n",
       "2          1        47405  2023-06-15  type 24   type 6  type 6  type 3   \n",
       "3          1        54196  2023-02-28   type 2   type 2  type 3  type 3   \n",
       "4          1        71317  2022-07-26   type 2   type 5  type 3  type 2   \n",
       "\n",
       "   char_5  char_6  char_7      ...       people_char_29 people_char_30  \\\n",
       "0  type 6  type 3  type 3      ...                False          False   \n",
       "1  type 6  type 1  type 1      ...                False          False   \n",
       "2  type 1  type 3  type 4      ...                False          False   \n",
       "3  type 5  type 2  type 2      ...                False          False   \n",
       "4  type 6  type 1  type 1      ...                False          False   \n",
       "\n",
       "   people_char_31 people_char_32 people_char_33 people_char_34 people_char_35  \\\n",
       "0           False          False          False          False          False   \n",
       "1           False          False          False          False          False   \n",
       "2           False          False          False          False          False   \n",
       "3           False          False          False          False          False   \n",
       "4           False          False          False          False          False   \n",
       "\n",
       "  people_char_36 people_char_37 people_char_38  \n",
       "0          False          False             76  \n",
       "1          False          False              0  \n",
       "2          False          False              0  \n",
       "3          False          False              0  \n",
       "4          False          False              0  \n",
       "\n",
       "[5 rows x 53 columns]"
      ]
     },
     "execution_count": 106,
     "metadata": {},
     "output_type": "execute_result"
    }
   ],
   "source": [
    "df.people_id = df.people_id.astype(\"category\").cat.codes\n",
    "df.activity_id = df.activity_id.astype(\"category\").cat.codes\n",
    "df.head()"
   ]
  },
  {
   "cell_type": "code",
   "execution_count": 107,
   "metadata": {
    "collapsed": false
   },
   "outputs": [],
   "source": [
    "df.date = pd.to_datetime(df.date)"
   ]
  },
  {
   "cell_type": "code",
   "execution_count": 108,
   "metadata": {
    "collapsed": false
   },
   "outputs": [],
   "source": [
    "for i in range(1,10):\n",
    "    df['char_{}'.format(i)] = df['char_{}'.format(i)].astype(\"category\").cat.codes"
   ]
  },
  {
   "cell_type": "code",
   "execution_count": 109,
   "metadata": {
    "collapsed": true
   },
   "outputs": [],
   "source": [
    "for i in range(1,39):\n",
    "    df['people_char_{}'.format(i)] = df['people_char_{}'.format(i)].astype(\"category\").cat.codes"
   ]
  },
  {
   "cell_type": "code",
   "execution_count": 110,
   "metadata": {
    "collapsed": true
   },
   "outputs": [],
   "source": [
    "df['people_group_1'] = df['people_group_1'].astype(\"category\").cat.codes"
   ]
  },
  {
   "cell_type": "code",
   "execution_count": 111,
   "metadata": {
    "collapsed": false
   },
   "outputs": [],
   "source": [
    "df['people_date'] = pd.to_datetime(df['people_date'])"
   ]
  },
  {
   "cell_type": "code",
   "execution_count": 112,
   "metadata": {
    "collapsed": false
   },
   "outputs": [],
   "source": [
    "df['day'] = pd.DatetimeIndex(df.date).day\n",
    "df['year'] = pd.DatetimeIndex(df.date).year\n",
    "df['month'] = pd.DatetimeIndex(df.date).month\n",
    "df['p_day'] = pd.DatetimeIndex(df.people_date).day\n",
    "df['p_year'] = pd.DatetimeIndex(df.people_date).year\n",
    "df['p_month'] = pd.DatetimeIndex(df.people_date).month"
   ]
  },
  {
   "cell_type": "code",
   "execution_count": 113,
   "metadata": {
    "collapsed": false
   },
   "outputs": [
    {
     "data": {
      "text/html": [
       "<div>\n",
       "<table border=\"1\" class=\"dataframe\">\n",
       "  <thead>\n",
       "    <tr style=\"text-align: right;\">\n",
       "      <th></th>\n",
       "      <th>people_id</th>\n",
       "      <th>activity_id</th>\n",
       "      <th>date</th>\n",
       "      <th>char_1</th>\n",
       "      <th>char_2</th>\n",
       "      <th>char_3</th>\n",
       "      <th>char_4</th>\n",
       "      <th>char_5</th>\n",
       "      <th>char_6</th>\n",
       "      <th>char_7</th>\n",
       "      <th>...</th>\n",
       "      <th>people_char_35</th>\n",
       "      <th>people_char_36</th>\n",
       "      <th>people_char_37</th>\n",
       "      <th>people_char_38</th>\n",
       "      <th>day</th>\n",
       "      <th>year</th>\n",
       "      <th>month</th>\n",
       "      <th>p_day</th>\n",
       "      <th>p_year</th>\n",
       "      <th>p_month</th>\n",
       "    </tr>\n",
       "  </thead>\n",
       "  <tbody>\n",
       "    <tr>\n",
       "      <th>0</th>\n",
       "      <td>0</td>\n",
       "      <td>157304</td>\n",
       "      <td>2022-11-25</td>\n",
       "      <td>22</td>\n",
       "      <td>27</td>\n",
       "      <td>0</td>\n",
       "      <td>0</td>\n",
       "      <td>5</td>\n",
       "      <td>2</td>\n",
       "      <td>2</td>\n",
       "      <td>...</td>\n",
       "      <td>0</td>\n",
       "      <td>0</td>\n",
       "      <td>0</td>\n",
       "      <td>76</td>\n",
       "      <td>25</td>\n",
       "      <td>2022</td>\n",
       "      <td>11</td>\n",
       "      <td>26</td>\n",
       "      <td>2022</td>\n",
       "      <td>8</td>\n",
       "    </tr>\n",
       "    <tr>\n",
       "      <th>1</th>\n",
       "      <td>1</td>\n",
       "      <td>40835</td>\n",
       "      <td>2022-07-26</td>\n",
       "      <td>29</td>\n",
       "      <td>2</td>\n",
       "      <td>6</td>\n",
       "      <td>0</td>\n",
       "      <td>5</td>\n",
       "      <td>0</td>\n",
       "      <td>0</td>\n",
       "      <td>...</td>\n",
       "      <td>0</td>\n",
       "      <td>0</td>\n",
       "      <td>0</td>\n",
       "      <td>0</td>\n",
       "      <td>26</td>\n",
       "      <td>2022</td>\n",
       "      <td>7</td>\n",
       "      <td>26</td>\n",
       "      <td>2022</td>\n",
       "      <td>7</td>\n",
       "    </tr>\n",
       "    <tr>\n",
       "      <th>2</th>\n",
       "      <td>1</td>\n",
       "      <td>47405</td>\n",
       "      <td>2023-06-15</td>\n",
       "      <td>16</td>\n",
       "      <td>28</td>\n",
       "      <td>7</td>\n",
       "      <td>2</td>\n",
       "      <td>0</td>\n",
       "      <td>2</td>\n",
       "      <td>3</td>\n",
       "      <td>...</td>\n",
       "      <td>0</td>\n",
       "      <td>0</td>\n",
       "      <td>0</td>\n",
       "      <td>0</td>\n",
       "      <td>15</td>\n",
       "      <td>2023</td>\n",
       "      <td>6</td>\n",
       "      <td>26</td>\n",
       "      <td>2022</td>\n",
       "      <td>7</td>\n",
       "    </tr>\n",
       "    <tr>\n",
       "      <th>3</th>\n",
       "      <td>1</td>\n",
       "      <td>54196</td>\n",
       "      <td>2023-02-28</td>\n",
       "      <td>11</td>\n",
       "      <td>11</td>\n",
       "      <td>4</td>\n",
       "      <td>2</td>\n",
       "      <td>4</td>\n",
       "      <td>1</td>\n",
       "      <td>1</td>\n",
       "      <td>...</td>\n",
       "      <td>0</td>\n",
       "      <td>0</td>\n",
       "      <td>0</td>\n",
       "      <td>0</td>\n",
       "      <td>28</td>\n",
       "      <td>2023</td>\n",
       "      <td>2</td>\n",
       "      <td>26</td>\n",
       "      <td>2022</td>\n",
       "      <td>7</td>\n",
       "    </tr>\n",
       "    <tr>\n",
       "      <th>4</th>\n",
       "      <td>1</td>\n",
       "      <td>71317</td>\n",
       "      <td>2022-07-26</td>\n",
       "      <td>11</td>\n",
       "      <td>27</td>\n",
       "      <td>4</td>\n",
       "      <td>1</td>\n",
       "      <td>5</td>\n",
       "      <td>0</td>\n",
       "      <td>0</td>\n",
       "      <td>...</td>\n",
       "      <td>0</td>\n",
       "      <td>0</td>\n",
       "      <td>0</td>\n",
       "      <td>0</td>\n",
       "      <td>26</td>\n",
       "      <td>2022</td>\n",
       "      <td>7</td>\n",
       "      <td>26</td>\n",
       "      <td>2022</td>\n",
       "      <td>7</td>\n",
       "    </tr>\n",
       "  </tbody>\n",
       "</table>\n",
       "<p>5 rows × 59 columns</p>\n",
       "</div>"
      ],
      "text/plain": [
       "   people_id  activity_id       date  char_1  char_2  char_3  char_4  char_5  \\\n",
       "0          0       157304 2022-11-25      22      27       0       0       5   \n",
       "1          1        40835 2022-07-26      29       2       6       0       5   \n",
       "2          1        47405 2023-06-15      16      28       7       2       0   \n",
       "3          1        54196 2023-02-28      11      11       4       2       4   \n",
       "4          1        71317 2022-07-26      11      27       4       1       5   \n",
       "\n",
       "   char_6  char_7   ...     people_char_35  people_char_36  people_char_37  \\\n",
       "0       2       2   ...                  0               0               0   \n",
       "1       0       0   ...                  0               0               0   \n",
       "2       2       3   ...                  0               0               0   \n",
       "3       1       1   ...                  0               0               0   \n",
       "4       0       0   ...                  0               0               0   \n",
       "\n",
       "   people_char_38  day  year month  p_day  p_year  p_month  \n",
       "0              76   25  2022    11     26    2022        8  \n",
       "1               0   26  2022     7     26    2022        7  \n",
       "2               0   15  2023     6     26    2022        7  \n",
       "3               0   28  2023     2     26    2022        7  \n",
       "4               0   26  2022     7     26    2022        7  \n",
       "\n",
       "[5 rows x 59 columns]"
      ]
     },
     "execution_count": 113,
     "metadata": {},
     "output_type": "execute_result"
    }
   ],
   "source": [
    "df.head()"
   ]
  },
  {
   "cell_type": "code",
   "execution_count": 114,
   "metadata": {
    "collapsed": false
   },
   "outputs": [],
   "source": [
    "df1 = df.drop(labels = ['date','people_date'],axis=1)"
   ]
  },
  {
   "cell_type": "code",
   "execution_count": 115,
   "metadata": {
    "collapsed": true
   },
   "outputs": [],
   "source": [
    "from pandas.tools.plotting import andrews_curves"
   ]
  },
  {
   "cell_type": "code",
   "execution_count": 116,
   "metadata": {
    "collapsed": false
   },
   "outputs": [
    {
     "data": {
      "text/plain": [
       "<matplotlib.axes._subplots.AxesSubplot at 0x1e177ce90>"
      ]
     },
     "execution_count": 116,
     "metadata": {},
     "output_type": "execute_result"
    },
    {
     "data": {
      "image/png": "[encoded data removed]",
      "text/plain": [
       "<matplotlib.figure.Figure at 0x1df991b90>"
      ]
     },
     "metadata": {},
     "output_type": "display_data"
    }
   ],
   "source": [
    "andrews_curves(df1.head(1000),'outcome',figsize(20,10),alpha=0.4)"
   ]
  },
  {
   "cell_type": "code",
   "execution_count": null,
   "metadata": {
    "collapsed": false
   },
   "outputs": [],
   "source": []
  },
  {
   "cell_type": "code",
   "execution_count": null,
   "metadata": {
    "collapsed": false
   },
   "outputs": [],
   "source": []
  },
  {
   "cell_type": "code",
   "execution_count": 117,
   "metadata": {
    "collapsed": false
   },
   "outputs": [],
   "source": [
    "### Training for type 1 type of activity\n",
    "df_train = df.drop(labels = ['date','people_date'],axis=1)\n",
    "y_train = df_train['outcome'].values\n",
    "y_train.shape\n",
    "df_train = df_train.drop(labels=['outcome'],axis=1)"
   ]
  },
  {
   "cell_type": "code",
   "execution_count": 118,
   "metadata": {
    "collapsed": false
   },
   "outputs": [],
   "source": [
    "### df = pd.get_dummies(df,columns=['vertebrates'])\n",
    "# df_train = pd.get_dummies(df_train,columns=['char_{}'.format(i) for i in range(1,10)])"
   ]
  },
  {
   "cell_type": "code",
   "execution_count": 119,
   "metadata": {
    "collapsed": false
   },
   "outputs": [],
   "source": [
    "# df_train = pd.get_dummies(df_train,columns=['people_char_{}'.format(i) for i in range(1,39)])"
   ]
  },
  {
   "cell_type": "code",
   "execution_count": 120,
   "metadata": {
    "collapsed": false
   },
   "outputs": [
    {
     "name": "stdout",
     "output_type": "stream",
     "text": [
      "(157615, 56)\n"
     ]
    }
   ],
   "source": [
    "X = df_train.values\n",
    "print X.shape"
   ]
  },
  {
   "cell_type": "markdown",
   "metadata": {},
   "source": [
    "### Using PCA for dimensionality reduction"
   ]
  },
  {
   "cell_type": "code",
   "execution_count": 60,
   "metadata": {
    "collapsed": true
   },
   "outputs": [],
   "source": [
    "from sklearn.decomposition import PCA\n",
    "pca = PCA(n_components=100)"
   ]
  },
  {
   "cell_type": "code",
   "execution_count": 61,
   "metadata": {
    "collapsed": false
   },
   "outputs": [
    {
     "name": "stdout",
     "output_type": "stream",
     "text": [
      "(157615, 100)\n"
     ]
    }
   ],
   "source": [
    "pca.fit(df_train)\n",
    "T = pca.transform(df_train)\n",
    "print T.shape"
   ]
  },
  {
   "cell_type": "code",
   "execution_count": 62,
   "metadata": {
    "collapsed": false
   },
   "outputs": [
    {
     "data": {
      "text/plain": [
       "0.91246527532912536"
      ]
     },
     "execution_count": 62,
     "metadata": {},
     "output_type": "execute_result"
    }
   ],
   "source": [
    "pca.explained_variance_ratio_.sum()"
   ]
  },
  {
   "cell_type": "code",
   "execution_count": 63,
   "metadata": {
    "collapsed": false
   },
   "outputs": [
    {
     "data": {
      "text/plain": [
       "39"
      ]
     },
     "execution_count": 63,
     "metadata": {},
     "output_type": "execute_result"
    }
   ],
   "source": [
    "del df_train,df,df1\n",
    "gc.collect()"
   ]
  },
  {
   "cell_type": "markdown",
   "metadata": {},
   "source": [
    "### Training on non-reduced data"
   ]
  },
  {
   "cell_type": "code",
   "execution_count": 134,
   "metadata": {
    "collapsed": false
   },
   "outputs": [],
   "source": [
    "from sklearn.cross_validation import train_test_split\n",
    "X_train,X_cv,y,y_cv = train_test_split(X,y_train,test_size=0.3,random_state=7)"
   ]
  },
  {
   "cell_type": "code",
   "execution_count": 135,
   "metadata": {
    "collapsed": false
   },
   "outputs": [],
   "source": [
    "from sklearn.ensemble import RandomForestClassifier"
   ]
  },
  {
   "cell_type": "code",
   "execution_count": 136,
   "metadata": {
    "collapsed": false
   },
   "outputs": [],
   "source": [
    "rfc = RandomForestClassifier(n_estimators=50)"
   ]
  },
  {
   "cell_type": "code",
   "execution_count": 137,
   "metadata": {
    "collapsed": false
   },
   "outputs": [
    {
     "data": {
      "text/plain": [
       "RandomForestClassifier(bootstrap=True, class_weight=None, criterion='gini',\n",
       "            max_depth=None, max_features='auto', max_leaf_nodes=None,\n",
       "            min_samples_leaf=1, min_samples_split=2,\n",
       "            min_weight_fraction_leaf=0.0, n_estimators=50, n_jobs=1,\n",
       "            oob_score=False, random_state=None, verbose=0,\n",
       "            warm_start=False)"
      ]
     },
     "execution_count": 137,
     "metadata": {},
     "output_type": "execute_result"
    }
   ],
   "source": [
    "rfc.fit(X_train,y)"
   ]
  },
  {
   "cell_type": "code",
   "execution_count": 138,
   "metadata": {
    "collapsed": true
   },
   "outputs": [],
   "source": [
    "yPred = rfc.predict(X_cv)"
   ]
  },
  {
   "cell_type": "code",
   "execution_count": 139,
   "metadata": {
    "collapsed": false
   },
   "outputs": [
    {
     "name": "stdout",
     "output_type": "stream",
     "text": [
      "Accuracy on the cross-validation set 94.1672834937%\n"
     ]
    }
   ],
   "source": [
    "print 'Accuracy on the cross-validation set {}%'.format((yPred == y_cv).mean()*100)"
   ]
  },
  {
   "cell_type": "code",
   "execution_count": 140,
   "metadata": {
    "collapsed": false
   },
   "outputs": [],
   "source": [
    "yPred_train = rfc.predict(X_train)"
   ]
  },
  {
   "cell_type": "code",
   "execution_count": 141,
   "metadata": {
    "collapsed": false
   },
   "outputs": [
    {
     "name": "stdout",
     "output_type": "stream",
     "text": [
      "Accuracy on the training set 99.9981872564%\n"
     ]
    }
   ],
   "source": [
    "print 'Accuracy on the training set {}%'.format((yPred_train == y).mean()*100)"
   ]
  },
  {
   "cell_type": "code",
   "execution_count": 142,
   "metadata": {
    "collapsed": false
   },
   "outputs": [
    {
     "name": "stdout",
     "output_type": "stream",
     "text": [
      "1.0\n",
      "0.987870404714\n"
     ]
    }
   ],
   "source": [
    "print roc_auc_score(y,rfc.predict_proba(X_train)[:,1])\n",
    "print roc_auc_score(y_cv,rfc.predict_proba(X_cv)[:,1])"
   ]
  },
  {
   "cell_type": "code",
   "execution_count": 143,
   "metadata": {
    "collapsed": true
   },
   "outputs": [],
   "source": [
    "from sklearn.linear_model import LogisticRegression"
   ]
  },
  {
   "cell_type": "code",
   "execution_count": 147,
   "metadata": {
    "collapsed": false
   },
   "outputs": [
    {
     "data": {
      "text/plain": [
       "LogisticRegression(C=1, class_weight=None, dual=False, fit_intercept=True,\n",
       "          intercept_scaling=1, max_iter=100, multi_class='multinomial',\n",
       "          n_jobs=1, penalty='l2', random_state=None, solver='lbfgs',\n",
       "          tol=0.0001, verbose=0, warm_start=False)"
      ]
     },
     "execution_count": 147,
     "metadata": {},
     "output_type": "execute_result"
    }
   ],
   "source": [
    "model = LogisticRegression(penalty='l2',C=1,solver='lbfgs',multi_class='multinomial')\n",
    "model.fit(X_train,y)"
   ]
  },
  {
   "cell_type": "code",
   "execution_count": 148,
   "metadata": {
    "collapsed": false
   },
   "outputs": [
    {
     "name": "stdout",
     "output_type": "stream",
     "text": [
      "0.822224236382\n",
      "0.823516971555\n"
     ]
    }
   ],
   "source": [
    "print model.score(X_train,y)\n",
    "print model.score(X_cv,y_cv)"
   ]
  },
  {
   "cell_type": "code",
   "execution_count": 150,
   "metadata": {
    "collapsed": false
   },
   "outputs": [
    {
     "name": "stdout",
     "output_type": "stream",
     "text": [
      "0.890100831299\n",
      "0.892297342872\n"
     ]
    }
   ],
   "source": [
    "from sklearn.metrics import roc_auc_score\n",
    "print roc_auc_score(y,model.predict_proba(X_train)[:,1])\n",
    "print roc_auc_score(y_cv,model.predict_proba(X_cv)[:,1])"
   ]
  },
  {
   "cell_type": "code",
   "execution_count": 152,
   "metadata": {
    "collapsed": false
   },
   "outputs": [
    {
     "name": "stdout",
     "output_type": "stream",
     "text": [
      "Logistic : 0.1, Random Forest: 0.9\n",
      "1.0\n",
      "0.987630330647\n",
      "Logistic : 0.2, Random Forest: 0.8\n",
      "0.999999990162\n",
      "0.987065293761\n",
      "Logistic : 0.3, Random Forest: 0.7\n",
      "0.999999769663\n",
      "0.986011383914\n",
      "Logistic : 0.4, Random Forest: 0.6\n",
      "0.999992162792\n",
      "0.984142005846\n",
      "Logistic : 0.5, Random Forest: 0.5\n",
      "0.999822694493\n",
      "0.980877011281\n",
      "Logistic : 0.6, Random Forest: 0.4\n",
      "0.998347065921\n",
      "0.975242601902\n",
      "Logistic : 0.7, Random Forest: 0.3\n",
      "0.994210507661\n",
      "0.965406677856\n",
      "Logistic : 0.8, Random Forest: 0.2\n",
      "0.977581093462\n",
      "0.948182617425\n"
     ]
    }
   ],
   "source": [
    "for i in np.arange(0.1,0.9,0.1):\n",
    "    print 'Logistic : {}, Random Forest: {}'.format(i,1-i)\n",
    "    print roc_auc_score(y,(i*model.predict_proba(X_train)+(1-i)*rfc.predict_proba(X_train))[:,1])\n",
    "    print roc_auc_score(y_cv,(i*model.predict_proba(X_cv)+(1-i)*rfc.predict_proba(X_cv))[:,1])"
   ]
  },
  {
   "cell_type": "code",
   "execution_count": 153,
   "metadata": {
    "collapsed": false
   },
   "outputs": [
    {
     "data": {
      "text/plain": [
       "200"
      ]
     },
     "execution_count": 153,
     "metadata": {},
     "output_type": "execute_result"
    }
   ],
   "source": [
    "del X,X_train,X_cv\n",
    "gc.collect()"
   ]
  },
  {
   "cell_type": "markdown",
   "metadata": {},
   "source": [
    "### Training on the PCA reduced data"
   ]
  },
  {
   "cell_type": "code",
   "execution_count": 47,
   "metadata": {
    "collapsed": false
   },
   "outputs": [
    {
     "name": "stdout",
     "output_type": "stream",
     "text": [
      "(100000, 100) (100000,)\n"
     ]
    }
   ],
   "source": [
    "T_train = T[0:100000,:]\n",
    "T_cv = T[100000:,:]\n",
    "print T_train.shape,y.shape"
   ]
  },
  {
   "cell_type": "code",
   "execution_count": 48,
   "metadata": {
    "collapsed": false
   },
   "outputs": [
    {
     "data": {
      "text/plain": [
       "RandomForestClassifier(bootstrap=True, class_weight=None, criterion='gini',\n",
       "            max_depth=None, max_features='auto', max_leaf_nodes=None,\n",
       "            min_samples_leaf=1, min_samples_split=2,\n",
       "            min_weight_fraction_leaf=0.0, n_estimators=100, n_jobs=1,\n",
       "            oob_score=False, random_state=None, verbose=0,\n",
       "            warm_start=False)"
      ]
     },
     "execution_count": 48,
     "metadata": {},
     "output_type": "execute_result"
    }
   ],
   "source": [
    "rfc_pca = RandomForestClassifier(n_estimators=100)\n",
    "rfc_pca.fit(T_train,y)"
   ]
  },
  {
   "cell_type": "code",
   "execution_count": 49,
   "metadata": {
    "collapsed": false
   },
   "outputs": [
    {
     "name": "stdout",
     "output_type": "stream",
     "text": [
      "Accuracy on the cross-validation set 85.5471665365%\n"
     ]
    }
   ],
   "source": [
    "print 'Accuracy on the cross-validation set {}%'.format(rfc_pca.score(T_cv,y_cv)*100)"
   ]
  },
  {
   "cell_type": "code",
   "execution_count": 50,
   "metadata": {
    "collapsed": false
   },
   "outputs": [
    {
     "data": {
      "text/plain": [
       "195"
      ]
     },
     "execution_count": 50,
     "metadata": {},
     "output_type": "execute_result"
    }
   ],
   "source": [
    "del T_cv,T_train,T\n",
    "gc.collect()"
   ]
  },
  {
   "cell_type": "markdown",
   "metadata": {},
   "source": [
    "## Training on 'not type 1' data"
   ]
  },
  {
   "cell_type": "code",
   "execution_count": 154,
   "metadata": {
    "collapsed": false
   },
   "outputs": [],
   "source": [
    "df_not = people_act_not_type1.copy()"
   ]
  },
  {
   "cell_type": "code",
   "execution_count": 155,
   "metadata": {
    "collapsed": false
   },
   "outputs": [
    {
     "data": {
      "text/html": [
       "<div>\n",
       "<table border=\"1\" class=\"dataframe\">\n",
       "  <thead>\n",
       "    <tr style=\"text-align: right;\">\n",
       "      <th></th>\n",
       "      <th>people_id</th>\n",
       "      <th>activity_id</th>\n",
       "      <th>date</th>\n",
       "      <th>activity_category</th>\n",
       "      <th>char_10</th>\n",
       "      <th>outcome</th>\n",
       "      <th>people_char_1</th>\n",
       "      <th>people_group_1</th>\n",
       "      <th>people_char_2</th>\n",
       "      <th>people_date</th>\n",
       "      <th>...</th>\n",
       "      <th>people_char_29</th>\n",
       "      <th>people_char_30</th>\n",
       "      <th>people_char_31</th>\n",
       "      <th>people_char_32</th>\n",
       "      <th>people_char_33</th>\n",
       "      <th>people_char_34</th>\n",
       "      <th>people_char_35</th>\n",
       "      <th>people_char_36</th>\n",
       "      <th>people_char_37</th>\n",
       "      <th>people_char_38</th>\n",
       "    </tr>\n",
       "  </thead>\n",
       "  <tbody>\n",
       "    <tr>\n",
       "      <th>0</th>\n",
       "      <td>ppl_100</td>\n",
       "      <td>act2_1734928</td>\n",
       "      <td>2023-08-26</td>\n",
       "      <td>type 4</td>\n",
       "      <td>type 76</td>\n",
       "      <td>0</td>\n",
       "      <td>type 2</td>\n",
       "      <td>group 17304</td>\n",
       "      <td>type 2</td>\n",
       "      <td>2021-06-29</td>\n",
       "      <td>...</td>\n",
       "      <td>False</td>\n",
       "      <td>True</td>\n",
       "      <td>True</td>\n",
       "      <td>False</td>\n",
       "      <td>False</td>\n",
       "      <td>True</td>\n",
       "      <td>True</td>\n",
       "      <td>True</td>\n",
       "      <td>False</td>\n",
       "      <td>36</td>\n",
       "    </tr>\n",
       "    <tr>\n",
       "      <th>1</th>\n",
       "      <td>ppl_100</td>\n",
       "      <td>act2_2434093</td>\n",
       "      <td>2022-09-27</td>\n",
       "      <td>type 2</td>\n",
       "      <td>type 1</td>\n",
       "      <td>0</td>\n",
       "      <td>type 2</td>\n",
       "      <td>group 17304</td>\n",
       "      <td>type 2</td>\n",
       "      <td>2021-06-29</td>\n",
       "      <td>...</td>\n",
       "      <td>False</td>\n",
       "      <td>True</td>\n",
       "      <td>True</td>\n",
       "      <td>False</td>\n",
       "      <td>False</td>\n",
       "      <td>True</td>\n",
       "      <td>True</td>\n",
       "      <td>True</td>\n",
       "      <td>False</td>\n",
       "      <td>36</td>\n",
       "    </tr>\n",
       "    <tr>\n",
       "      <th>2</th>\n",
       "      <td>ppl_100</td>\n",
       "      <td>act2_3404049</td>\n",
       "      <td>2022-09-27</td>\n",
       "      <td>type 2</td>\n",
       "      <td>type 1</td>\n",
       "      <td>0</td>\n",
       "      <td>type 2</td>\n",
       "      <td>group 17304</td>\n",
       "      <td>type 2</td>\n",
       "      <td>2021-06-29</td>\n",
       "      <td>...</td>\n",
       "      <td>False</td>\n",
       "      <td>True</td>\n",
       "      <td>True</td>\n",
       "      <td>False</td>\n",
       "      <td>False</td>\n",
       "      <td>True</td>\n",
       "      <td>True</td>\n",
       "      <td>True</td>\n",
       "      <td>False</td>\n",
       "      <td>36</td>\n",
       "    </tr>\n",
       "    <tr>\n",
       "      <th>3</th>\n",
       "      <td>ppl_100</td>\n",
       "      <td>act2_3651215</td>\n",
       "      <td>2023-08-04</td>\n",
       "      <td>type 2</td>\n",
       "      <td>type 1</td>\n",
       "      <td>0</td>\n",
       "      <td>type 2</td>\n",
       "      <td>group 17304</td>\n",
       "      <td>type 2</td>\n",
       "      <td>2021-06-29</td>\n",
       "      <td>...</td>\n",
       "      <td>False</td>\n",
       "      <td>True</td>\n",
       "      <td>True</td>\n",
       "      <td>False</td>\n",
       "      <td>False</td>\n",
       "      <td>True</td>\n",
       "      <td>True</td>\n",
       "      <td>True</td>\n",
       "      <td>False</td>\n",
       "      <td>36</td>\n",
       "    </tr>\n",
       "    <tr>\n",
       "      <th>4</th>\n",
       "      <td>ppl_100</td>\n",
       "      <td>act2_4109017</td>\n",
       "      <td>2023-08-26</td>\n",
       "      <td>type 2</td>\n",
       "      <td>type 1</td>\n",
       "      <td>0</td>\n",
       "      <td>type 2</td>\n",
       "      <td>group 17304</td>\n",
       "      <td>type 2</td>\n",
       "      <td>2021-06-29</td>\n",
       "      <td>...</td>\n",
       "      <td>False</td>\n",
       "      <td>True</td>\n",
       "      <td>True</td>\n",
       "      <td>False</td>\n",
       "      <td>False</td>\n",
       "      <td>True</td>\n",
       "      <td>True</td>\n",
       "      <td>True</td>\n",
       "      <td>False</td>\n",
       "      <td>36</td>\n",
       "    </tr>\n",
       "  </tbody>\n",
       "</table>\n",
       "<p>5 rows × 46 columns</p>\n",
       "</div>"
      ],
      "text/plain": [
       "  people_id   activity_id        date activity_category  char_10  outcome  \\\n",
       "0   ppl_100  act2_1734928  2023-08-26            type 4  type 76        0   \n",
       "1   ppl_100  act2_2434093  2022-09-27            type 2   type 1        0   \n",
       "2   ppl_100  act2_3404049  2022-09-27            type 2   type 1        0   \n",
       "3   ppl_100  act2_3651215  2023-08-04            type 2   type 1        0   \n",
       "4   ppl_100  act2_4109017  2023-08-26            type 2   type 1        0   \n",
       "\n",
       "  people_char_1 people_group_1 people_char_2 people_date      ...        \\\n",
       "0        type 2    group 17304        type 2  2021-06-29      ...         \n",
       "1        type 2    group 17304        type 2  2021-06-29      ...         \n",
       "2        type 2    group 17304        type 2  2021-06-29      ...         \n",
       "3        type 2    group 17304        type 2  2021-06-29      ...         \n",
       "4        type 2    group 17304        type 2  2021-06-29      ...         \n",
       "\n",
       "  people_char_29 people_char_30 people_char_31 people_char_32 people_char_33  \\\n",
       "0          False           True           True          False          False   \n",
       "1          False           True           True          False          False   \n",
       "2          False           True           True          False          False   \n",
       "3          False           True           True          False          False   \n",
       "4          False           True           True          False          False   \n",
       "\n",
       "  people_char_34 people_char_35 people_char_36 people_char_37 people_char_38  \n",
       "0           True           True           True          False             36  \n",
       "1           True           True           True          False             36  \n",
       "2           True           True           True          False             36  \n",
       "3           True           True           True          False             36  \n",
       "4           True           True           True          False             36  \n",
       "\n",
       "[5 rows x 46 columns]"
      ]
     },
     "execution_count": 155,
     "metadata": {},
     "output_type": "execute_result"
    }
   ],
   "source": [
    "df_not.head()"
   ]
  },
  {
   "cell_type": "code",
   "execution_count": 156,
   "metadata": {
    "collapsed": false
   },
   "outputs": [
    {
     "data": {
      "text/html": [
       "<div>\n",
       "<table border=\"1\" class=\"dataframe\">\n",
       "  <thead>\n",
       "    <tr style=\"text-align: right;\">\n",
       "      <th></th>\n",
       "      <th>people_id</th>\n",
       "      <th>activity_id</th>\n",
       "      <th>date</th>\n",
       "      <th>activity_category</th>\n",
       "      <th>char_10</th>\n",
       "      <th>outcome</th>\n",
       "      <th>people_char_1</th>\n",
       "      <th>people_group_1</th>\n",
       "      <th>people_char_2</th>\n",
       "      <th>people_date</th>\n",
       "      <th>...</th>\n",
       "      <th>people_char_29</th>\n",
       "      <th>people_char_30</th>\n",
       "      <th>people_char_31</th>\n",
       "      <th>people_char_32</th>\n",
       "      <th>people_char_33</th>\n",
       "      <th>people_char_34</th>\n",
       "      <th>people_char_35</th>\n",
       "      <th>people_char_36</th>\n",
       "      <th>people_char_37</th>\n",
       "      <th>people_char_38</th>\n",
       "    </tr>\n",
       "  </thead>\n",
       "  <tbody>\n",
       "    <tr>\n",
       "      <th>0</th>\n",
       "      <td>0</td>\n",
       "      <td>346076</td>\n",
       "      <td>2023-08-26</td>\n",
       "      <td>type 4</td>\n",
       "      <td>type 76</td>\n",
       "      <td>0</td>\n",
       "      <td>type 2</td>\n",
       "      <td>group 17304</td>\n",
       "      <td>type 2</td>\n",
       "      <td>2021-06-29</td>\n",
       "      <td>...</td>\n",
       "      <td>False</td>\n",
       "      <td>True</td>\n",
       "      <td>True</td>\n",
       "      <td>False</td>\n",
       "      <td>False</td>\n",
       "      <td>True</td>\n",
       "      <td>True</td>\n",
       "      <td>True</td>\n",
       "      <td>False</td>\n",
       "      <td>36</td>\n",
       "    </tr>\n",
       "    <tr>\n",
       "      <th>1</th>\n",
       "      <td>0</td>\n",
       "      <td>675144</td>\n",
       "      <td>2022-09-27</td>\n",
       "      <td>type 2</td>\n",
       "      <td>type 1</td>\n",
       "      <td>0</td>\n",
       "      <td>type 2</td>\n",
       "      <td>group 17304</td>\n",
       "      <td>type 2</td>\n",
       "      <td>2021-06-29</td>\n",
       "      <td>...</td>\n",
       "      <td>False</td>\n",
       "      <td>True</td>\n",
       "      <td>True</td>\n",
       "      <td>False</td>\n",
       "      <td>False</td>\n",
       "      <td>True</td>\n",
       "      <td>True</td>\n",
       "      <td>True</td>\n",
       "      <td>False</td>\n",
       "      <td>36</td>\n",
       "    </tr>\n",
       "    <tr>\n",
       "      <th>2</th>\n",
       "      <td>0</td>\n",
       "      <td>1132088</td>\n",
       "      <td>2022-09-27</td>\n",
       "      <td>type 2</td>\n",
       "      <td>type 1</td>\n",
       "      <td>0</td>\n",
       "      <td>type 2</td>\n",
       "      <td>group 17304</td>\n",
       "      <td>type 2</td>\n",
       "      <td>2021-06-29</td>\n",
       "      <td>...</td>\n",
       "      <td>False</td>\n",
       "      <td>True</td>\n",
       "      <td>True</td>\n",
       "      <td>False</td>\n",
       "      <td>False</td>\n",
       "      <td>True</td>\n",
       "      <td>True</td>\n",
       "      <td>True</td>\n",
       "      <td>False</td>\n",
       "      <td>36</td>\n",
       "    </tr>\n",
       "    <tr>\n",
       "      <th>3</th>\n",
       "      <td>0</td>\n",
       "      <td>1248791</td>\n",
       "      <td>2023-08-04</td>\n",
       "      <td>type 2</td>\n",
       "      <td>type 1</td>\n",
       "      <td>0</td>\n",
       "      <td>type 2</td>\n",
       "      <td>group 17304</td>\n",
       "      <td>type 2</td>\n",
       "      <td>2021-06-29</td>\n",
       "      <td>...</td>\n",
       "      <td>False</td>\n",
       "      <td>True</td>\n",
       "      <td>True</td>\n",
       "      <td>False</td>\n",
       "      <td>False</td>\n",
       "      <td>True</td>\n",
       "      <td>True</td>\n",
       "      <td>True</td>\n",
       "      <td>False</td>\n",
       "      <td>36</td>\n",
       "    </tr>\n",
       "    <tr>\n",
       "      <th>4</th>\n",
       "      <td>0</td>\n",
       "      <td>1465435</td>\n",
       "      <td>2023-08-26</td>\n",
       "      <td>type 2</td>\n",
       "      <td>type 1</td>\n",
       "      <td>0</td>\n",
       "      <td>type 2</td>\n",
       "      <td>group 17304</td>\n",
       "      <td>type 2</td>\n",
       "      <td>2021-06-29</td>\n",
       "      <td>...</td>\n",
       "      <td>False</td>\n",
       "      <td>True</td>\n",
       "      <td>True</td>\n",
       "      <td>False</td>\n",
       "      <td>False</td>\n",
       "      <td>True</td>\n",
       "      <td>True</td>\n",
       "      <td>True</td>\n",
       "      <td>False</td>\n",
       "      <td>36</td>\n",
       "    </tr>\n",
       "  </tbody>\n",
       "</table>\n",
       "<p>5 rows × 46 columns</p>\n",
       "</div>"
      ],
      "text/plain": [
       "   people_id  activity_id        date activity_category  char_10  outcome  \\\n",
       "0          0       346076  2023-08-26            type 4  type 76        0   \n",
       "1          0       675144  2022-09-27            type 2   type 1        0   \n",
       "2          0      1132088  2022-09-27            type 2   type 1        0   \n",
       "3          0      1248791  2023-08-04            type 2   type 1        0   \n",
       "4          0      1465435  2023-08-26            type 2   type 1        0   \n",
       "\n",
       "  people_char_1 people_group_1 people_char_2 people_date      ...        \\\n",
       "0        type 2    group 17304        type 2  2021-06-29      ...         \n",
       "1        type 2    group 17304        type 2  2021-06-29      ...         \n",
       "2        type 2    group 17304        type 2  2021-06-29      ...         \n",
       "3        type 2    group 17304        type 2  2021-06-29      ...         \n",
       "4        type 2    group 17304        type 2  2021-06-29      ...         \n",
       "\n",
       "  people_char_29 people_char_30 people_char_31 people_char_32 people_char_33  \\\n",
       "0          False           True           True          False          False   \n",
       "1          False           True           True          False          False   \n",
       "2          False           True           True          False          False   \n",
       "3          False           True           True          False          False   \n",
       "4          False           True           True          False          False   \n",
       "\n",
       "  people_char_34 people_char_35 people_char_36 people_char_37 people_char_38  \n",
       "0           True           True           True          False             36  \n",
       "1           True           True           True          False             36  \n",
       "2           True           True           True          False             36  \n",
       "3           True           True           True          False             36  \n",
       "4           True           True           True          False             36  \n",
       "\n",
       "[5 rows x 46 columns]"
      ]
     },
     "execution_count": 156,
     "metadata": {},
     "output_type": "execute_result"
    }
   ],
   "source": [
    "df_not.people_id = df_not.people_id.astype(\"category\").cat.codes\n",
    "df_not.activity_id = df_not.activity_id.astype(\"category\").cat.codes\n",
    "df_not.head()"
   ]
  },
  {
   "cell_type": "code",
   "execution_count": 157,
   "metadata": {
    "collapsed": false
   },
   "outputs": [
    {
     "ename": "KeyboardInterrupt",
     "evalue": "",
     "output_type": "error",
     "traceback": [
      "\u001b[0;31m---------------------------------------------------------------------------\u001b[0m",
      "\u001b[0;31mKeyboardInterrupt\u001b[0m                         Traceback (most recent call last)",
      "\u001b[0;32m<ipython-input-157-b4c50ca24ca9>\u001b[0m in \u001b[0;36m<module>\u001b[0;34m()\u001b[0m\n\u001b[1;32m      1\u001b[0m \u001b[0mdf_not\u001b[0m\u001b[0;34m[\u001b[0m\u001b[0;34m'day'\u001b[0m\u001b[0;34m]\u001b[0m \u001b[0;34m=\u001b[0m \u001b[0mpd\u001b[0m\u001b[0;34m.\u001b[0m\u001b[0mDatetimeIndex\u001b[0m\u001b[0;34m(\u001b[0m\u001b[0mdf_not\u001b[0m\u001b[0;34m.\u001b[0m\u001b[0mdate\u001b[0m\u001b[0;34m)\u001b[0m\u001b[0;34m.\u001b[0m\u001b[0mday\u001b[0m\u001b[0;34m\u001b[0m\u001b[0m\n\u001b[1;32m      2\u001b[0m \u001b[0mdf_not\u001b[0m\u001b[0;34m[\u001b[0m\u001b[0;34m'year'\u001b[0m\u001b[0;34m]\u001b[0m \u001b[0;34m=\u001b[0m \u001b[0mpd\u001b[0m\u001b[0;34m.\u001b[0m\u001b[0mDatetimeIndex\u001b[0m\u001b[0;34m(\u001b[0m\u001b[0mdf_not\u001b[0m\u001b[0;34m.\u001b[0m\u001b[0mdate\u001b[0m\u001b[0;34m)\u001b[0m\u001b[0;34m.\u001b[0m\u001b[0myear\u001b[0m\u001b[0;34m\u001b[0m\u001b[0m\n\u001b[0;32m----> 3\u001b[0;31m \u001b[0mdf_not\u001b[0m\u001b[0;34m[\u001b[0m\u001b[0;34m'month'\u001b[0m\u001b[0;34m]\u001b[0m \u001b[0;34m=\u001b[0m \u001b[0mpd\u001b[0m\u001b[0;34m.\u001b[0m\u001b[0mDatetimeIndex\u001b[0m\u001b[0;34m(\u001b[0m\u001b[0mdf_not\u001b[0m\u001b[0;34m.\u001b[0m\u001b[0mdate\u001b[0m\u001b[0;34m)\u001b[0m\u001b[0;34m.\u001b[0m\u001b[0mmonth\u001b[0m\u001b[0;34m\u001b[0m\u001b[0m\n\u001b[0m\u001b[1;32m      4\u001b[0m \u001b[0mdf_not\u001b[0m\u001b[0;34m[\u001b[0m\u001b[0;34m'p_day'\u001b[0m\u001b[0;34m]\u001b[0m \u001b[0;34m=\u001b[0m \u001b[0mpd\u001b[0m\u001b[0;34m.\u001b[0m\u001b[0mDatetimeIndex\u001b[0m\u001b[0;34m(\u001b[0m\u001b[0mdf_not\u001b[0m\u001b[0;34m.\u001b[0m\u001b[0mpeople_date\u001b[0m\u001b[0;34m)\u001b[0m\u001b[0;34m.\u001b[0m\u001b[0mday\u001b[0m\u001b[0;34m\u001b[0m\u001b[0m\n\u001b[1;32m      5\u001b[0m \u001b[0mdf_not\u001b[0m\u001b[0;34m[\u001b[0m\u001b[0;34m'p_year'\u001b[0m\u001b[0;34m]\u001b[0m \u001b[0;34m=\u001b[0m \u001b[0mpd\u001b[0m\u001b[0;34m.\u001b[0m\u001b[0mDatetimeIndex\u001b[0m\u001b[0;34m(\u001b[0m\u001b[0mdf_not\u001b[0m\u001b[0;34m.\u001b[0m\u001b[0mpeople_date\u001b[0m\u001b[0;34m)\u001b[0m\u001b[0;34m.\u001b[0m\u001b[0myear\u001b[0m\u001b[0;34m\u001b[0m\u001b[0m\n",
      "\u001b[0;32m//anaconda/lib/python2.7/site-packages/pandas/util/decorators.pyc\u001b[0m in \u001b[0;36mwrapper\u001b[0;34m(*args, **kwargs)\u001b[0m\n\u001b[1;32m     89\u001b[0m                 \u001b[0;32melse\u001b[0m\u001b[0;34m:\u001b[0m\u001b[0;34m\u001b[0m\u001b[0m\n\u001b[1;32m     90\u001b[0m                     \u001b[0mkwargs\u001b[0m\u001b[0;34m[\u001b[0m\u001b[0mnew_arg_name\u001b[0m\u001b[0;34m]\u001b[0m \u001b[0;34m=\u001b[0m \u001b[0mnew_arg_value\u001b[0m\u001b[0;34m\u001b[0m\u001b[0m\n\u001b[0;32m---> 91\u001b[0;31m             \u001b[0;32mreturn\u001b[0m \u001b[0mfunc\u001b[0m\u001b[0;34m(\u001b[0m\u001b[0;34m*\u001b[0m\u001b[0margs\u001b[0m\u001b[0;34m,\u001b[0m \u001b[0;34m**\u001b[0m\u001b[0mkwargs\u001b[0m\u001b[0;34m)\u001b[0m\u001b[0;34m\u001b[0m\u001b[0m\n\u001b[0m\u001b[1;32m     92\u001b[0m         \u001b[0;32mreturn\u001b[0m \u001b[0mwrapper\u001b[0m\u001b[0;34m\u001b[0m\u001b[0m\n\u001b[1;32m     93\u001b[0m     \u001b[0;32mreturn\u001b[0m \u001b[0m_deprecate_kwarg\u001b[0m\u001b[0;34m\u001b[0m\u001b[0m\n",
      "\u001b[0;32m//anaconda/lib/python2.7/site-packages/pandas/tseries/index.pyc\u001b[0m in \u001b[0;36m__new__\u001b[0;34m(cls, data, freq, start, end, periods, copy, name, tz, verify_integrity, normalize, closed, ambiguous, dtype, **kwargs)\u001b[0m\n\u001b[1;32m    347\u001b[0m             \u001b[0;32mif\u001b[0m \u001b[0mlib\u001b[0m\u001b[0;34m.\u001b[0m\u001b[0mis_string_array\u001b[0m\u001b[0;34m(\u001b[0m\u001b[0mvalues\u001b[0m\u001b[0;34m)\u001b[0m\u001b[0;34m:\u001b[0m\u001b[0;34m\u001b[0m\u001b[0m\n\u001b[1;32m    348\u001b[0m                 subarr = tslib.parse_str_array_to_datetime(\n\u001b[0;32m--> 349\u001b[0;31m                     values, freq=freq, dayfirst=dayfirst, yearfirst=yearfirst)\n\u001b[0m\u001b[1;32m    350\u001b[0m             \u001b[0;32melse\u001b[0m\u001b[0;34m:\u001b[0m\u001b[0;34m\u001b[0m\u001b[0m\n\u001b[1;32m    351\u001b[0m                 \u001b[0;32mtry\u001b[0m\u001b[0;34m:\u001b[0m\u001b[0;34m\u001b[0m\u001b[0m\n",
      "\u001b[0;32mpandas/tslib.pyx\u001b[0m in \u001b[0;36mpandas.tslib.parse_str_array_to_datetime (pandas/tslib.c:42273)\u001b[0;34m()\u001b[0m\n",
      "\u001b[0;32mpandas/tslib.pyx\u001b[0m in \u001b[0;36mpandas.tslib.parse_datetime_string (pandas/tslib.c:31806)\u001b[0;34m()\u001b[0m\n",
      "\u001b[0;32m//anaconda/lib/python2.7/site-packages/dateutil/parser.pyc\u001b[0m in \u001b[0;36mparse\u001b[0;34m(timestr, parserinfo, **kwargs)\u001b[0m\n\u001b[1;32m   1159\u001b[0m         \u001b[0;32mreturn\u001b[0m \u001b[0mparser\u001b[0m\u001b[0;34m(\u001b[0m\u001b[0mparserinfo\u001b[0m\u001b[0;34m)\u001b[0m\u001b[0;34m.\u001b[0m\u001b[0mparse\u001b[0m\u001b[0;34m(\u001b[0m\u001b[0mtimestr\u001b[0m\u001b[0;34m,\u001b[0m \u001b[0;34m**\u001b[0m\u001b[0mkwargs\u001b[0m\u001b[0;34m)\u001b[0m\u001b[0;34m\u001b[0m\u001b[0m\n\u001b[1;32m   1160\u001b[0m     \u001b[0;32melse\u001b[0m\u001b[0;34m:\u001b[0m\u001b[0;34m\u001b[0m\u001b[0m\n\u001b[0;32m-> 1161\u001b[0;31m         \u001b[0;32mreturn\u001b[0m \u001b[0mDEFAULTPARSER\u001b[0m\u001b[0;34m.\u001b[0m\u001b[0mparse\u001b[0m\u001b[0;34m(\u001b[0m\u001b[0mtimestr\u001b[0m\u001b[0;34m,\u001b[0m \u001b[0;34m**\u001b[0m\u001b[0mkwargs\u001b[0m\u001b[0;34m)\u001b[0m\u001b[0;34m\u001b[0m\u001b[0m\n\u001b[0m\u001b[1;32m   1162\u001b[0m \u001b[0;34m\u001b[0m\u001b[0m\n\u001b[1;32m   1163\u001b[0m \u001b[0;34m\u001b[0m\u001b[0m\n",
      "\u001b[0;32m//anaconda/lib/python2.7/site-packages/dateutil/parser.pyc\u001b[0m in \u001b[0;36mparse\u001b[0;34m(self, timestr, default, ignoretz, tzinfos, **kwargs)\u001b[0m\n\u001b[1;32m    547\u001b[0m             \u001b[0meffective_dt\u001b[0m \u001b[0;34m=\u001b[0m \u001b[0mdefault\u001b[0m\u001b[0;34m\u001b[0m\u001b[0m\n\u001b[1;32m    548\u001b[0m \u001b[0;34m\u001b[0m\u001b[0m\n\u001b[0;32m--> 549\u001b[0;31m         \u001b[0mres\u001b[0m\u001b[0;34m,\u001b[0m \u001b[0mskipped_tokens\u001b[0m \u001b[0;34m=\u001b[0m \u001b[0mself\u001b[0m\u001b[0;34m.\u001b[0m\u001b[0m_parse\u001b[0m\u001b[0;34m(\u001b[0m\u001b[0mtimestr\u001b[0m\u001b[0;34m,\u001b[0m \u001b[0;34m**\u001b[0m\u001b[0mkwargs\u001b[0m\u001b[0;34m)\u001b[0m\u001b[0;34m\u001b[0m\u001b[0m\n\u001b[0m\u001b[1;32m    550\u001b[0m \u001b[0;34m\u001b[0m\u001b[0m\n\u001b[1;32m    551\u001b[0m         \u001b[0;32mif\u001b[0m \u001b[0mres\u001b[0m \u001b[0;32mis\u001b[0m \u001b[0mNone\u001b[0m\u001b[0;34m:\u001b[0m\u001b[0;34m\u001b[0m\u001b[0m\n",
      "\u001b[0;32m//anaconda/lib/python2.7/site-packages/dateutil/parser.pyc\u001b[0m in \u001b[0;36m_parse\u001b[0;34m(self, timestr, dayfirst, yearfirst, fuzzy, fuzzy_with_tokens)\u001b[0m\n\u001b[1;32m    666\u001b[0m \u001b[0;34m\u001b[0m\u001b[0m\n\u001b[1;32m    667\u001b[0m         \u001b[0mres\u001b[0m \u001b[0;34m=\u001b[0m \u001b[0mself\u001b[0m\u001b[0;34m.\u001b[0m\u001b[0m_result\u001b[0m\u001b[0;34m(\u001b[0m\u001b[0;34m)\u001b[0m\u001b[0;34m\u001b[0m\u001b[0m\n\u001b[0;32m--> 668\u001b[0;31m         \u001b[0ml\u001b[0m \u001b[0;34m=\u001b[0m \u001b[0m_timelex\u001b[0m\u001b[0;34m.\u001b[0m\u001b[0msplit\u001b[0m\u001b[0;34m(\u001b[0m\u001b[0mtimestr\u001b[0m\u001b[0;34m)\u001b[0m         \u001b[0;31m# Splits the timestr into tokens\u001b[0m\u001b[0;34m\u001b[0m\u001b[0m\n\u001b[0m\u001b[1;32m    669\u001b[0m \u001b[0;34m\u001b[0m\u001b[0m\n\u001b[1;32m    670\u001b[0m         \u001b[0;31m# keep up with the last token skipped so we can recombine\u001b[0m\u001b[0;34m\u001b[0m\u001b[0;34m\u001b[0m\u001b[0m\n",
      "\u001b[0;32m//anaconda/lib/python2.7/site-packages/dateutil/parser.pyc\u001b[0m in \u001b[0;36msplit\u001b[0;34m(cls, s)\u001b[0m\n\u001b[1;32m    186\u001b[0m     \u001b[0;34m@\u001b[0m\u001b[0mclassmethod\u001b[0m\u001b[0;34m\u001b[0m\u001b[0m\n\u001b[1;32m    187\u001b[0m     \u001b[0;32mdef\u001b[0m \u001b[0msplit\u001b[0m\u001b[0;34m(\u001b[0m\u001b[0mcls\u001b[0m\u001b[0;34m,\u001b[0m \u001b[0ms\u001b[0m\u001b[0;34m)\u001b[0m\u001b[0;34m:\u001b[0m\u001b[0;34m\u001b[0m\u001b[0m\n\u001b[0;32m--> 188\u001b[0;31m         \u001b[0;32mreturn\u001b[0m \u001b[0mlist\u001b[0m\u001b[0;34m(\u001b[0m\u001b[0mcls\u001b[0m\u001b[0;34m(\u001b[0m\u001b[0ms\u001b[0m\u001b[0;34m)\u001b[0m\u001b[0;34m)\u001b[0m\u001b[0;34m\u001b[0m\u001b[0m\n\u001b[0m\u001b[1;32m    189\u001b[0m \u001b[0;34m\u001b[0m\u001b[0m\n\u001b[1;32m    190\u001b[0m     \u001b[0;34m@\u001b[0m\u001b[0mclassmethod\u001b[0m\u001b[0;34m\u001b[0m\u001b[0m\n",
      "\u001b[0;32m//anaconda/lib/python2.7/site-packages/dateutil/parser.pyc\u001b[0m in \u001b[0;36mnext\u001b[0;34m(self)\u001b[0m\n\u001b[1;32m    182\u001b[0m \u001b[0;34m\u001b[0m\u001b[0m\n\u001b[1;32m    183\u001b[0m     \u001b[0;32mdef\u001b[0m \u001b[0mnext\u001b[0m\u001b[0;34m(\u001b[0m\u001b[0mself\u001b[0m\u001b[0;34m)\u001b[0m\u001b[0;34m:\u001b[0m\u001b[0;34m\u001b[0m\u001b[0m\n\u001b[0;32m--> 184\u001b[0;31m         \u001b[0;32mreturn\u001b[0m \u001b[0mself\u001b[0m\u001b[0;34m.\u001b[0m\u001b[0m__next__\u001b[0m\u001b[0;34m(\u001b[0m\u001b[0;34m)\u001b[0m  \u001b[0;31m# Python 2.x support\u001b[0m\u001b[0;34m\u001b[0m\u001b[0m\n\u001b[0m\u001b[1;32m    185\u001b[0m \u001b[0;34m\u001b[0m\u001b[0m\n\u001b[1;32m    186\u001b[0m     \u001b[0;34m@\u001b[0m\u001b[0mclassmethod\u001b[0m\u001b[0;34m\u001b[0m\u001b[0m\n",
      "\u001b[0;32m//anaconda/lib/python2.7/site-packages/dateutil/parser.pyc\u001b[0m in \u001b[0;36m__next__\u001b[0;34m(self)\u001b[0m\n\u001b[1;32m    175\u001b[0m \u001b[0;34m\u001b[0m\u001b[0m\n\u001b[1;32m    176\u001b[0m     \u001b[0;32mdef\u001b[0m \u001b[0m__next__\u001b[0m\u001b[0;34m(\u001b[0m\u001b[0mself\u001b[0m\u001b[0;34m)\u001b[0m\u001b[0;34m:\u001b[0m\u001b[0;34m\u001b[0m\u001b[0m\n\u001b[0;32m--> 177\u001b[0;31m         \u001b[0mtoken\u001b[0m \u001b[0;34m=\u001b[0m \u001b[0mself\u001b[0m\u001b[0;34m.\u001b[0m\u001b[0mget_token\u001b[0m\u001b[0;34m(\u001b[0m\u001b[0;34m)\u001b[0m\u001b[0;34m\u001b[0m\u001b[0m\n\u001b[0m\u001b[1;32m    178\u001b[0m         \u001b[0;32mif\u001b[0m \u001b[0mtoken\u001b[0m \u001b[0;32mis\u001b[0m \u001b[0mNone\u001b[0m\u001b[0;34m:\u001b[0m\u001b[0;34m\u001b[0m\u001b[0m\n\u001b[1;32m    179\u001b[0m             \u001b[0;32mraise\u001b[0m \u001b[0mStopIteration\u001b[0m\u001b[0;34m\u001b[0m\u001b[0m\n",
      "\u001b[0;32m//anaconda/lib/python2.7/site-packages/dateutil/parser.pyc\u001b[0m in \u001b[0;36mget_token\u001b[0;34m(self)\u001b[0m\n\u001b[1;32m     91\u001b[0m                 \u001b[0mnextchar\u001b[0m \u001b[0;34m=\u001b[0m \u001b[0mself\u001b[0m\u001b[0;34m.\u001b[0m\u001b[0mcharstack\u001b[0m\u001b[0;34m.\u001b[0m\u001b[0mpop\u001b[0m\u001b[0;34m(\u001b[0m\u001b[0;36m0\u001b[0m\u001b[0;34m)\u001b[0m\u001b[0;34m\u001b[0m\u001b[0m\n\u001b[1;32m     92\u001b[0m             \u001b[0;32melse\u001b[0m\u001b[0;34m:\u001b[0m\u001b[0;34m\u001b[0m\u001b[0m\n\u001b[0;32m---> 93\u001b[0;31m                 \u001b[0mnextchar\u001b[0m \u001b[0;34m=\u001b[0m \u001b[0mself\u001b[0m\u001b[0;34m.\u001b[0m\u001b[0minstream\u001b[0m\u001b[0;34m.\u001b[0m\u001b[0mread\u001b[0m\u001b[0;34m(\u001b[0m\u001b[0;36m1\u001b[0m\u001b[0;34m)\u001b[0m\u001b[0;34m\u001b[0m\u001b[0m\n\u001b[0m\u001b[1;32m     94\u001b[0m                 \u001b[0;32mwhile\u001b[0m \u001b[0mnextchar\u001b[0m \u001b[0;34m==\u001b[0m \u001b[0;34m'\\x00'\u001b[0m\u001b[0;34m:\u001b[0m\u001b[0;34m\u001b[0m\u001b[0m\n\u001b[1;32m     95\u001b[0m                     \u001b[0mnextchar\u001b[0m \u001b[0;34m=\u001b[0m \u001b[0mself\u001b[0m\u001b[0;34m.\u001b[0m\u001b[0minstream\u001b[0m\u001b[0;34m.\u001b[0m\u001b[0mread\u001b[0m\u001b[0;34m(\u001b[0m\u001b[0;36m1\u001b[0m\u001b[0;34m)\u001b[0m\u001b[0;34m\u001b[0m\u001b[0m\n",
      "\u001b[0;31mKeyboardInterrupt\u001b[0m: "
     ]
    }
   ],
   "source": [
    "df_not['day'] = pd.DatetimeIndex(df_not.date).day\n",
    "df_not['year'] = pd.DatetimeIndex(df_not.date).year\n",
    "df_not['month'] = pd.DatetimeIndex(df_not.date).month\n",
    "df_not['p_day'] = pd.DatetimeIndex(df_not.people_date).day\n",
    "df_not['p_year'] = pd.DatetimeIndex(df_not.people_date).year\n",
    "df_not['p_month'] = pd.DatetimeIndex(df_not.people_date).month"
   ]
  },
  {
   "cell_type": "code",
   "execution_count": 54,
   "metadata": {
    "collapsed": false
   },
   "outputs": [],
   "source": [
    "df_not = pd.get_dummies(df_not,columns = ['activity_category'])"
   ]
  },
  {
   "cell_type": "code",
   "execution_count": 55,
   "metadata": {
    "collapsed": false
   },
   "outputs": [],
   "source": [
    "df_not_1['people_group_1'] = df_not_1['people_group_1'].astype(\"category\").cat.codes\n",
    "df_not_1['char_10'] = df_not_1['char_10'].astype(\"category\").cat.codes"
   ]
  },
  {
   "cell_type": "code",
   "execution_count": 56,
   "metadata": {
    "collapsed": false
   },
   "outputs": [],
   "source": [
    "df_not_1 = pd.get_dummies(df_not_1,columns=['people_char_{}'.format(i) for i in range(1,39)])"
   ]
  },
  {
   "cell_type": "code",
   "execution_count": 57,
   "metadata": {
    "collapsed": false
   },
   "outputs": [
    {
     "name": "stdout",
     "output_type": "stream",
     "text": [
      "(2039676,)\n"
     ]
    }
   ],
   "source": [
    "y_not_train = df_not_1['outcome'].values\n",
    "print y_not_train.shape\n",
    "df_not_train = df_not_1.drop(labels=['outcome'],axis=1)"
   ]
  },
  {
   "cell_type": "code",
   "execution_count": 58,
   "metadata": {
    "collapsed": false
   },
   "outputs": [
    {
     "name": "stdout",
     "output_type": "stream",
     "text": [
      "(2000000, 296) (2000000,)\n",
      "(39676, 296) (39676,)\n"
     ]
    }
   ],
   "source": [
    "X = df_not_train.values\n",
    "X_train = X[0:2000000,:]\n",
    "y_train = y_not_train[0:2000000]\n",
    "X_cv = X[2000000:,:]\n",
    "y_cv = y_not_train[2000000:]\n",
    "print X_train.shape,y_train.shape\n",
    "print X_cv.shape,y_cv.shape"
   ]
  },
  {
   "cell_type": "code",
   "execution_count": 59,
   "metadata": {
    "collapsed": false
   },
   "outputs": [
    {
     "data": {
      "text/plain": [
       "83"
      ]
     },
     "execution_count": 59,
     "metadata": {},
     "output_type": "execute_result"
    }
   ],
   "source": [
    "del df_not,df_not_1,df_not_train\n",
    "gc.collect()"
   ]
  },
  {
   "cell_type": "code",
   "execution_count": null,
   "metadata": {
    "collapsed": true
   },
   "outputs": [],
   "source": [
    "from sklearn.ensemble import RandomForestClassifier\n",
    "rfc = RandomForestClassifier(n_estimators=100)"
   ]
  },
  {
   "cell_type": "code",
   "execution_count": 55,
   "metadata": {
    "collapsed": false
   },
   "outputs": [
    {
     "data": {
      "text/plain": [
       "RandomForestClassifier(bootstrap=True, class_weight=None, criterion='gini',\n",
       "            max_depth=None, max_features='auto', max_leaf_nodes=None,\n",
       "            min_samples_leaf=1, min_samples_split=2,\n",
       "            min_weight_fraction_leaf=0.0, n_estimators=100, n_jobs=1,\n",
       "            oob_score=False, random_state=None, verbose=0,\n",
       "            warm_start=False)"
      ]
     },
     "execution_count": 55,
     "metadata": {},
     "output_type": "execute_result"
    }
   ],
   "source": [
    "rfc.fit(X_train,y_train)"
   ]
  },
  {
   "cell_type": "code",
   "execution_count": 58,
   "metadata": {
    "collapsed": false
   },
   "outputs": [],
   "source": [
    "yPred_train = rfc.predict(X_train)"
   ]
  },
  {
   "cell_type": "code",
   "execution_count": 59,
   "metadata": {
    "collapsed": false
   },
   "outputs": [
    {
     "name": "stdout",
     "output_type": "stream",
     "text": [
      "Training Set Accuracy 98.31895%\n"
     ]
    }
   ],
   "source": [
    "print 'Training Set Accuracy {}%'.format((yPred_train == y_train).mean()*100)"
   ]
  },
  {
   "cell_type": "code",
   "execution_count": 60,
   "metadata": {
    "collapsed": true
   },
   "outputs": [],
   "source": [
    "yPred_cv = rfc.predict(X_cv)"
   ]
  },
  {
   "cell_type": "code",
   "execution_count": 61,
   "metadata": {
    "collapsed": false
   },
   "outputs": [
    {
     "name": "stdout",
     "output_type": "stream",
     "text": [
      "CV Set Accuracy 89.0084685956%\n"
     ]
    }
   ],
   "source": [
    "print 'CV Set Accuracy {}%'.format((yPred_cv == y_cv).mean()*100)"
   ]
  },
  {
   "cell_type": "code",
   "execution_count": 62,
   "metadata": {
    "collapsed": false
   },
   "outputs": [
    {
     "data": {
      "text/plain": [
       "78"
      ]
     },
     "execution_count": 62,
     "metadata": {},
     "output_type": "execute_result"
    }
   ],
   "source": [
    "del X,X_train,X_cv,y_cv,y_not_train,y_train\n",
    "gc.collect()"
   ]
  },
  {
   "cell_type": "markdown",
   "metadata": {
    "collapsed": true
   },
   "source": [
    "## Training on PCA Reduced Data"
   ]
  },
  {
   "cell_type": "code",
   "execution_count": 65,
   "metadata": {
    "collapsed": true
   },
   "outputs": [],
   "source": [
    "from sklearn.decomposition import RandomizedPCA\n",
    "pca_new = RandomizedPCA(n_components=100)"
   ]
  },
  {
   "cell_type": "code",
   "execution_count": 68,
   "metadata": {
    "collapsed": false
   },
   "outputs": [],
   "source": [
    "## Taking too long to fit the dataset"
   ]
  },
  {
   "cell_type": "markdown",
   "metadata": {},
   "source": [
    "## Deleting people_char_1 to people_char_37 in 'type 1' data"
   ]
  },
  {
   "cell_type": "code",
   "execution_count": 89,
   "metadata": {
    "collapsed": false
   },
   "outputs": [
    {
     "name": "stdout",
     "output_type": "stream",
     "text": [
      "<class 'pandas.core.frame.DataFrame'>\n",
      "RangeIndex: 157615 entries, 0 to 157614\n",
      "Data columns (total 49 columns):\n",
      "char_1            157615 non-null int8\n",
      "char_2            157615 non-null int8\n",
      "char_3            157615 non-null int8\n",
      "char_4            157615 non-null int8\n",
      "char_5            157615 non-null int8\n",
      "char_6            157615 non-null int8\n",
      "char_7            157615 non-null int8\n",
      "char_8            157615 non-null int8\n",
      "char_9            157615 non-null int8\n",
      "outcome           157615 non-null int64\n",
      "people_char_1     157615 non-null int8\n",
      "people_group_1    157615 non-null int16\n",
      "people_char_2     157615 non-null int8\n",
      "people_char_3     157615 non-null int8\n",
      "people_char_4     157615 non-null int8\n",
      "people_char_5     157615 non-null int8\n",
      "people_char_6     157615 non-null int8\n",
      "people_char_7     157615 non-null int8\n",
      "people_char_8     157615 non-null int8\n",
      "people_char_9     157615 non-null int8\n",
      "people_char_10    157615 non-null int8\n",
      "people_char_11    157615 non-null int8\n",
      "people_char_12    157615 non-null int8\n",
      "people_char_13    157615 non-null int8\n",
      "people_char_14    157615 non-null int8\n",
      "people_char_15    157615 non-null int8\n",
      "people_char_16    157615 non-null int8\n",
      "people_char_17    157615 non-null int8\n",
      "people_char_18    157615 non-null int8\n",
      "people_char_19    157615 non-null int8\n",
      "people_char_20    157615 non-null int8\n",
      "people_char_21    157615 non-null int8\n",
      "people_char_22    157615 non-null int8\n",
      "people_char_23    157615 non-null int8\n",
      "people_char_24    157615 non-null int8\n",
      "people_char_25    157615 non-null int8\n",
      "people_char_26    157615 non-null int8\n",
      "people_char_27    157615 non-null int8\n",
      "people_char_28    157615 non-null int8\n",
      "people_char_29    157615 non-null int8\n",
      "people_char_30    157615 non-null int8\n",
      "people_char_31    157615 non-null int8\n",
      "people_char_32    157615 non-null int8\n",
      "people_char_33    157615 non-null int8\n",
      "people_char_34    157615 non-null int8\n",
      "people_char_35    157615 non-null int8\n",
      "people_char_36    157615 non-null int8\n",
      "people_char_37    157615 non-null int8\n",
      "people_char_38    157615 non-null int8\n",
      "dtypes: int16(1), int64(1), int8(47)\n",
      "memory usage: 8.6 MB\n"
     ]
    }
   ],
   "source": [
    "df1.info()"
   ]
  },
  {
   "cell_type": "code",
   "execution_count": 90,
   "metadata": {
    "collapsed": false
   },
   "outputs": [],
   "source": [
    "df1.drop(labels = ['people_char_{}'.format(i) for i in range(1,38)],axis=1,inplace=True)"
   ]
  },
  {
   "cell_type": "code",
   "execution_count": 91,
   "metadata": {
    "collapsed": false
   },
   "outputs": [
    {
     "name": "stdout",
     "output_type": "stream",
     "text": [
      "<class 'pandas.core.frame.DataFrame'>\n",
      "RangeIndex: 157615 entries, 0 to 157614\n",
      "Data columns (total 12 columns):\n",
      "char_1            157615 non-null int8\n",
      "char_2            157615 non-null int8\n",
      "char_3            157615 non-null int8\n",
      "char_4            157615 non-null int8\n",
      "char_5            157615 non-null int8\n",
      "char_6            157615 non-null int8\n",
      "char_7            157615 non-null int8\n",
      "char_8            157615 non-null int8\n",
      "char_9            157615 non-null int8\n",
      "outcome           157615 non-null int64\n",
      "people_group_1    157615 non-null int16\n",
      "people_char_38    157615 non-null int8\n",
      "dtypes: int16(1), int64(1), int8(10)\n",
      "memory usage: 3.0 MB\n"
     ]
    }
   ],
   "source": [
    "df1.info()"
   ]
  },
  {
   "cell_type": "code",
   "execution_count": 93,
   "metadata": {
    "collapsed": false
   },
   "outputs": [],
   "source": [
    "y = df1['outcome']"
   ]
  },
  {
   "cell_type": "code",
   "execution_count": 94,
   "metadata": {
    "collapsed": true
   },
   "outputs": [],
   "source": [
    "df1.drop(labels=['outcome'],axis=1,inplace=True)"
   ]
  },
  {
   "cell_type": "code",
   "execution_count": 98,
   "metadata": {
    "collapsed": false
   },
   "outputs": [
    {
     "name": "stdout",
     "output_type": "stream",
     "text": [
      "(157615, 11) (157615,)\n"
     ]
    }
   ],
   "source": [
    "X = df1.values\n",
    "print X.shape,y.shape"
   ]
  },
  {
   "cell_type": "code",
   "execution_count": 99,
   "metadata": {
    "collapsed": false
   },
   "outputs": [
    {
     "name": "stdout",
     "output_type": "stream",
     "text": [
      "(105602, 11) (105602,)\n",
      "(52013, 11) (52013,)\n"
     ]
    }
   ],
   "source": [
    "from sklearn.cross_validation import train_test_split\n",
    "X_train,X_cv,y_train,y_cv = train_test_split(X,y,test_size=0.33)\n",
    "print X_train.shape,y_train.shape\n",
    "print X_cv.shape,y_cv.shape"
   ]
  },
  {
   "cell_type": "code",
   "execution_count": 104,
   "metadata": {
    "collapsed": true
   },
   "outputs": [],
   "source": [
    "from sklearn.ensemble import RandomForestClassifier\n",
    "rfc = RandomForestClassifier(n_estimators=200)"
   ]
  },
  {
   "cell_type": "code",
   "execution_count": 105,
   "metadata": {
    "collapsed": false
   },
   "outputs": [
    {
     "data": {
      "text/plain": [
       "RandomForestClassifier(bootstrap=True, class_weight=None, criterion='gini',\n",
       "            max_depth=None, max_features='auto', max_leaf_nodes=None,\n",
       "            min_samples_leaf=1, min_samples_split=2,\n",
       "            min_weight_fraction_leaf=0.0, n_estimators=200, n_jobs=1,\n",
       "            oob_score=False, random_state=None, verbose=0,\n",
       "            warm_start=False)"
      ]
     },
     "execution_count": 105,
     "metadata": {},
     "output_type": "execute_result"
    }
   ],
   "source": [
    "rfc.fit(X_train,y_train)"
   ]
  },
  {
   "cell_type": "code",
   "execution_count": 106,
   "metadata": {
    "collapsed": false
   },
   "outputs": [
    {
     "name": "stdout",
     "output_type": "stream",
     "text": [
      "0.999034109202\n"
     ]
    }
   ],
   "source": [
    "print rfc.score(X_train,y_train)"
   ]
  },
  {
   "cell_type": "code",
   "execution_count": 107,
   "metadata": {
    "collapsed": false
   },
   "outputs": [
    {
     "name": "stdout",
     "output_type": "stream",
     "text": [
      "0.894737853998\n"
     ]
    }
   ],
   "source": [
    "print rfc.score(X_cv,y_cv)"
   ]
  },
  {
   "cell_type": "markdown",
   "metadata": {},
   "source": [
    "### Changing the parameters of the Random Forest"
   ]
  },
  {
   "cell_type": "code",
   "execution_count": 108,
   "metadata": {
    "collapsed": true
   },
   "outputs": [],
   "source": [
    "### min_samples_split = 2,200\n",
    "### min_samples_leaf = 0.6 % of training data\n",
    "from sklearn.grid_search import GridSearchCV"
   ]
  },
  {
   "cell_type": "code",
   "execution_count": 130,
   "metadata": {
    "collapsed": true
   },
   "outputs": [],
   "source": [
    "estimator = {'min_samples_split':range(2,40,5),'min_samples_leaf':range(1,40,2)}"
   ]
  },
  {
   "cell_type": "code",
   "execution_count": 118,
   "metadata": {
    "collapsed": false
   },
   "outputs": [],
   "source": [
    "gsearch = GridSearchCV(rfc,param_grid=estimator,verbose=1)"
   ]
  },
  {
   "cell_type": "code",
   "execution_count": null,
   "metadata": {
    "collapsed": false
   },
   "outputs": [],
   "source": [
    "gsearch.fit(X_train,y_train)"
   ]
  },
  {
   "cell_type": "code",
   "execution_count": 133,
   "metadata": {
    "collapsed": false
   },
   "outputs": [],
   "source": [
    "### min_samples_leaf and min_samples_split default values are the best"
   ]
  },
  {
   "cell_type": "code",
   "execution_count": 140,
   "metadata": {
    "collapsed": false
   },
   "outputs": [
    {
     "name": "stdout",
     "output_type": "stream",
     "text": [
      "max_features : 0.301511344578\n",
      "Accuracy: {} 0.892680675985\n",
      "max_features : 0.401511344578\n",
      "Accuracy: {} 0.900005767789\n",
      "max_features : 0.501511344578\n",
      "Accuracy: {} 0.906215753754\n",
      "max_features : 0.601511344578\n",
      "Accuracy: {} 0.910137850153\n",
      "max_features : 0.701511344578\n",
      "Accuracy: {} 0.913752331148\n",
      "max_features : 0.801511344578\n",
      "Accuracy: {} 0.917193778478\n",
      "max_features : 0.901511344578\n",
      "Accuracy: {} 0.91994309115\n",
      "max_features : 1.00151134458\n",
      "Accuracy: {} 0.922788533636\n"
     ]
    }
   ],
   "source": [
    "for i in np.arange(np.sqrt(X_train.shape[1])/X_train.shape[1],1.1,0.1):\n",
    "    print 'max_features : {}'.format(i)\n",
    "    rfc = RandomForestClassifier(n_estimators=100,max_features=i)\n",
    "    rfc.fit(X_train,y_train)\n",
    "    print 'Accuracy: {}',format(rfc.score(X_cv,y_cv))"
   ]
  },
  {
   "cell_type": "code",
   "execution_count": 141,
   "metadata": {
    "collapsed": false
   },
   "outputs": [],
   "source": [
    "### max_features best value is 1.00151134458"
   ]
  },
  {
   "cell_type": "code",
   "execution_count": 147,
   "metadata": {
    "collapsed": false
   },
   "outputs": [
    {
     "name": "stdout",
     "output_type": "stream",
     "text": [
      "0.923076923077\n"
     ]
    }
   ],
   "source": [
    "rfc = RandomForestClassifier(n_estimators=100,max_features=1.0,max_depth=35)\n",
    "rfc.fit(X_train,y_train)\n",
    "print rfc.score(X_cv,y_cv)"
   ]
  },
  {
   "cell_type": "code",
   "execution_count": 148,
   "metadata": {
    "collapsed": true
   },
   "outputs": [],
   "source": [
    "### best value for max_depth is around 30 (say 35)"
   ]
  },
  {
   "cell_type": "code",
   "execution_count": 150,
   "metadata": {
    "collapsed": false
   },
   "outputs": [],
   "source": [
    "from sklearn.learning_curve import learning_curve"
   ]
  },
  {
   "cell_type": "code",
   "execution_count": 90,
   "metadata": {
    "collapsed": true
   },
   "outputs": [],
   "source": [
    "cv = 3"
   ]
  },
  {
   "cell_type": "code",
   "execution_count": 181,
   "metadata": {
    "collapsed": false,
    "scrolled": true
   },
   "outputs": [
    {
     "name": "stdout",
     "output_type": "stream",
     "text": [
      "[learning_curve] Training set sizes: [ 10507  21015  31522  42030  52538  63045  73553  84060  94568 105076]\n",
      "[CV] no parameters to be set .........................................\n",
      "[CV] ................................ no parameters to be set -   3.1s\n",
      "[CV] no parameters to be set .........................................\n",
      "[CV] ................................ no parameters to be set -   5.7s\n",
      "[CV] no parameters to be set .........................................\n",
      "[CV] ................................ no parameters to be set -   8.5s\n",
      "[CV] no parameters to be set .........................................\n",
      "[CV] ................................ no parameters to be set -  11.8s\n",
      "[CV] no parameters to be set .........................................\n",
      "[CV] ................................ no parameters to be set -  14.5s\n",
      "[CV] no parameters to be set .........................................\n",
      "[CV] ................................ no parameters to be set -  17.6s\n",
      "[CV] no parameters to be set .........................................\n",
      "[CV] ................................ no parameters to be set -  20.7s\n",
      "[CV] no parameters to be set .........................................\n",
      "[CV] ................................ no parameters to be set -  24.1s\n",
      "[CV] no parameters to be set .........................................\n",
      "[CV] ................................ no parameters to be set -  28.6s\n",
      "[CV] no parameters to be set .........................................\n",
      "[CV] ................................ no parameters to be set -  31.9s\n",
      "[CV] no parameters to be set .........................................\n",
      "[CV] ................................ no parameters to be set -   3.1s\n",
      "[CV] no parameters to be set .........................................\n",
      "[CV] ................................ no parameters to be set -   5.7s\n",
      "[CV] no parameters to be set .........................................\n",
      "[CV] ................................ no parameters to be set -   8.5s\n",
      "[CV] no parameters to be set .........................................\n",
      "[CV] ................................ no parameters to be set -  11.0s\n",
      "[CV] no parameters to be set .........................................\n",
      "[CV] ................................ no parameters to be set -  13.8s\n",
      "[CV] no parameters to be set .........................................\n",
      "[CV] ................................ no parameters to be set -  17.0s\n",
      "[CV] no parameters to be set .........................................\n",
      "[CV] ................................ no parameters to be set -  20.5s\n",
      "[CV] no parameters to be set .........................................\n",
      "[CV] ................................ no parameters to be set -  23.8s\n",
      "[CV] no parameters to be set .........................................\n",
      "[CV] ................................ no parameters to be set -  27.9s\n",
      "[CV] no parameters to be set .........................................\n",
      "[CV] ................................ no parameters to be set -  31.3s\n",
      "[CV] no parameters to be set .........................................\n",
      "[CV] ................................ no parameters to be set -   2.9s\n",
      "[CV] no parameters to be set .........................................\n",
      "[CV] ................................ no parameters to be set -   5.3s\n",
      "[CV] no parameters to be set .........................................\n",
      "[CV] ................................ no parameters to be set -   8.3s\n",
      "[CV] no parameters to be set .........................................\n",
      "[CV] ................................ no parameters to be set -  11.7s\n",
      "[CV] no parameters to be set .........................................\n",
      "[CV] ................................ no parameters to be set -  14.4s\n",
      "[CV] no parameters to be set .........................................\n",
      "[CV] ................................ no parameters to be set -  16.5s\n",
      "[CV] no parameters to be set .........................................\n",
      "[CV] ................................ no parameters to be set -  21.7s\n",
      "[CV] no parameters to be set .........................................\n",
      "[CV] ................................ no parameters to be set -  25.5s\n",
      "[CV] no parameters to be set .........................................\n",
      "[CV] ................................ no parameters to be set -  27.1s\n",
      "[CV] no parameters to be set .........................................\n",
      "[CV] ................................ no parameters to be set -  34.4s\n"
     ]
    },
    {
     "name": "stderr",
     "output_type": "stream",
     "text": [
      "[Parallel(n_jobs=1)]: Done  30 out of  30 | elapsed:  8.3min finished\n"
     ]
    }
   ],
   "source": [
    "curve = learning_curve(rfc,X,y,train_sizes=[i for i in np.arange(0.1,1.1,0.1)],cv=cv,verbose=2)"
   ]
  },
  {
   "cell_type": "code",
   "execution_count": 183,
   "metadata": {
    "collapsed": false
   },
   "outputs": [],
   "source": [
    "training_examples = curve[0]\n",
    "training_acc = curve[1]\n",
    "test_acc = curve[2]"
   ]
  },
  {
   "cell_type": "code",
   "execution_count": 184,
   "metadata": {
    "collapsed": false
   },
   "outputs": [
    {
     "data": {
      "image/png": "[encoded data removed]",
      "text/plain": [
       "<matplotlib.figure.Figure at 0x1da439610>"
      ]
     },
     "metadata": {},
     "output_type": "display_data"
    }
   ],
   "source": [
    "plt.plot(training_examples,training_acc.mean(axis = 1),label='training set')\n",
    "plt.plot(training_examples,test_acc.mean(axis = 1),label='test set')\n",
    "plt.legend()\n",
    "plt.show()"
   ]
  },
  {
   "cell_type": "markdown",
   "metadata": {
    "collapsed": false
   },
   "source": [
    "The above plot clearly indicates that the model has overfit the data as the accuracy of the training set is quite high and decreases slowly over increasing the data but the cv set accuracy is pretty low and doesnt have any sharp increase as the data size increases. (More data can help)"
   ]
  },
  {
   "cell_type": "markdown",
   "metadata": {
    "collapsed": false
   },
   "source": [
    "### Dropping people_char_38 in type 1 data"
   ]
  },
  {
   "cell_type": "code",
   "execution_count": 92,
   "metadata": {
    "collapsed": false
   },
   "outputs": [
    {
     "name": "stdout",
     "output_type": "stream",
     "text": [
      "<class 'pandas.core.frame.DataFrame'>\n",
      "RangeIndex: 157615 entries, 0 to 157614\n",
      "Data columns (total 49 columns):\n",
      "char_1            157615 non-null int8\n",
      "char_2            157615 non-null int8\n",
      "char_3            157615 non-null int8\n",
      "char_4            157615 non-null int8\n",
      "char_5            157615 non-null int8\n",
      "char_6            157615 non-null int8\n",
      "char_7            157615 non-null int8\n",
      "char_8            157615 non-null int8\n",
      "char_9            157615 non-null int8\n",
      "outcome           157615 non-null int64\n",
      "people_char_1     157615 non-null int8\n",
      "people_group_1    157615 non-null int16\n",
      "people_char_2     157615 non-null int8\n",
      "people_char_3     157615 non-null int8\n",
      "people_char_4     157615 non-null int8\n",
      "people_char_5     157615 non-null int8\n",
      "people_char_6     157615 non-null int8\n",
      "people_char_7     157615 non-null int8\n",
      "people_char_8     157615 non-null int8\n",
      "people_char_9     157615 non-null int8\n",
      "people_char_10    157615 non-null int8\n",
      "people_char_11    157615 non-null int8\n",
      "people_char_12    157615 non-null int8\n",
      "people_char_13    157615 non-null int8\n",
      "people_char_14    157615 non-null int8\n",
      "people_char_15    157615 non-null int8\n",
      "people_char_16    157615 non-null int8\n",
      "people_char_17    157615 non-null int8\n",
      "people_char_18    157615 non-null int8\n",
      "people_char_19    157615 non-null int8\n",
      "people_char_20    157615 non-null int8\n",
      "people_char_21    157615 non-null int8\n",
      "people_char_22    157615 non-null int8\n",
      "people_char_23    157615 non-null int8\n",
      "people_char_24    157615 non-null int8\n",
      "people_char_25    157615 non-null int8\n",
      "people_char_26    157615 non-null int8\n",
      "people_char_27    157615 non-null int8\n",
      "people_char_28    157615 non-null int8\n",
      "people_char_29    157615 non-null int8\n",
      "people_char_30    157615 non-null int8\n",
      "people_char_31    157615 non-null int8\n",
      "people_char_32    157615 non-null int8\n",
      "people_char_33    157615 non-null int8\n",
      "people_char_34    157615 non-null int8\n",
      "people_char_35    157615 non-null int8\n",
      "people_char_36    157615 non-null int8\n",
      "people_char_37    157615 non-null int8\n",
      "people_char_38    157615 non-null int8\n",
      "dtypes: int16(1), int64(1), int8(47)\n",
      "memory usage: 8.6 MB\n"
     ]
    }
   ],
   "source": [
    "df1.info()"
   ]
  },
  {
   "cell_type": "code",
   "execution_count": 93,
   "metadata": {
    "collapsed": false
   },
   "outputs": [
    {
     "name": "stdout",
     "output_type": "stream",
     "text": [
      "(157615,)\n"
     ]
    }
   ],
   "source": [
    "y = df1.outcome.values\n",
    "print y.shape"
   ]
  },
  {
   "cell_type": "code",
   "execution_count": 96,
   "metadata": {
    "collapsed": false
   },
   "outputs": [
    {
     "name": "stdout",
     "output_type": "stream",
     "text": [
      "<class 'pandas.core.frame.DataFrame'>\n",
      "RangeIndex: 157615 entries, 0 to 157614\n",
      "Data columns (total 47 columns):\n",
      "char_1            157615 non-null int8\n",
      "char_2            157615 non-null int8\n",
      "char_3            157615 non-null int8\n",
      "char_4            157615 non-null int8\n",
      "char_5            157615 non-null int8\n",
      "char_6            157615 non-null int8\n",
      "char_7            157615 non-null int8\n",
      "char_8            157615 non-null int8\n",
      "char_9            157615 non-null int8\n",
      "people_char_1     157615 non-null int8\n",
      "people_group_1    157615 non-null int16\n",
      "people_char_2     157615 non-null int8\n",
      "people_char_3     157615 non-null int8\n",
      "people_char_4     157615 non-null int8\n",
      "people_char_5     157615 non-null int8\n",
      "people_char_6     157615 non-null int8\n",
      "people_char_7     157615 non-null int8\n",
      "people_char_8     157615 non-null int8\n",
      "people_char_9     157615 non-null int8\n",
      "people_char_10    157615 non-null int8\n",
      "people_char_11    157615 non-null int8\n",
      "people_char_12    157615 non-null int8\n",
      "people_char_13    157615 non-null int8\n",
      "people_char_14    157615 non-null int8\n",
      "people_char_15    157615 non-null int8\n",
      "people_char_16    157615 non-null int8\n",
      "people_char_17    157615 non-null int8\n",
      "people_char_18    157615 non-null int8\n",
      "people_char_19    157615 non-null int8\n",
      "people_char_20    157615 non-null int8\n",
      "people_char_21    157615 non-null int8\n",
      "people_char_22    157615 non-null int8\n",
      "people_char_23    157615 non-null int8\n",
      "people_char_24    157615 non-null int8\n",
      "people_char_25    157615 non-null int8\n",
      "people_char_26    157615 non-null int8\n",
      "people_char_27    157615 non-null int8\n",
      "people_char_28    157615 non-null int8\n",
      "people_char_29    157615 non-null int8\n",
      "people_char_30    157615 non-null int8\n",
      "people_char_31    157615 non-null int8\n",
      "people_char_32    157615 non-null int8\n",
      "people_char_33    157615 non-null int8\n",
      "people_char_34    157615 non-null int8\n",
      "people_char_35    157615 non-null int8\n",
      "people_char_36    157615 non-null int8\n",
      "people_char_37    157615 non-null int8\n",
      "dtypes: int16(1), int8(46)\n",
      "memory usage: 7.2 MB\n"
     ]
    }
   ],
   "source": [
    "df1.drop(labels=['people_char_38','outcome'],axis=1,inplace=True)\n",
    "df1.info()"
   ]
  },
  {
   "cell_type": "code",
   "execution_count": 97,
   "metadata": {
    "collapsed": false
   },
   "outputs": [
    {
     "name": "stdout",
     "output_type": "stream",
     "text": [
      "(157615, 47)\n",
      "(105602, 47) (105602,)\n",
      "(52013, 47) (52013,)\n"
     ]
    }
   ],
   "source": [
    "from sklearn.cross_validation import train_test_split\n",
    "X = df1.values\n",
    "print X.shape\n",
    "X_train,X_cv,y_train,y_cv = train_test_split(X,y,test_size=0.33)\n",
    "print X_train.shape,y_train.shape\n",
    "print X_cv.shape,y_cv.shape"
   ]
  },
  {
   "cell_type": "code",
   "execution_count": 98,
   "metadata": {
    "collapsed": true
   },
   "outputs": [],
   "source": [
    "from sklearn.ensemble import RandomForestClassifier\n",
    "rfc = RandomForestClassifier(n_estimators=100,max_depth=35,max_features=1.00)"
   ]
  },
  {
   "cell_type": "code",
   "execution_count": 99,
   "metadata": {
    "collapsed": false
   },
   "outputs": [
    {
     "name": "stdout",
     "output_type": "stream",
     "text": [
      "Training Set Accuracy: 99.9422359425%\n"
     ]
    }
   ],
   "source": [
    "rfc.fit(X_train,y_train)\n",
    "print 'Training Set Accuracy: {}%'.format(rfc.score(X_train,y_train)*100)"
   ]
  },
  {
   "cell_type": "code",
   "execution_count": 100,
   "metadata": {
    "collapsed": false
   },
   "outputs": [
    {
     "name": "stdout",
     "output_type": "stream",
     "text": [
      "Cross Validation Set Accuracy: 94.5225232154%\n"
     ]
    }
   ],
   "source": [
    "print 'Cross Validation Set Accuracy: {}%'.format(rfc.score(X_cv,y_cv)*100)"
   ]
  },
  {
   "cell_type": "code",
   "execution_count": 103,
   "metadata": {
    "collapsed": false,
    "scrolled": true
   },
   "outputs": [
    {
     "name": "stdout",
     "output_type": "stream",
     "text": [
      "[learning_curve] Training set sizes: [ 10507  21015  31522  42030  52538  63045  73553  84060  94568 105076]\n",
      "[CV] no parameters to be set .........................................\n",
      "[CV] ................................ no parameters to be set -   4.0s\n",
      "[CV] no parameters to be set .........................................\n",
      "[CV] ................................ no parameters to be set -   8.2s\n",
      "[CV] no parameters to be set .........................................\n",
      "[CV] ................................ no parameters to be set -  13.0s\n",
      "[CV] no parameters to be set .........................................\n",
      "[CV] ................................ no parameters to be set -  18.2s\n",
      "[CV] no parameters to be set .........................................\n",
      "[CV] ................................ no parameters to be set -  22.6s\n",
      "[CV] no parameters to be set .........................................\n",
      "[CV] ................................ no parameters to be set -  29.9s\n",
      "[CV] no parameters to be set .........................................\n",
      "[CV] ................................ no parameters to be set -  34.8s\n",
      "[CV] no parameters to be set .........................................\n",
      "[CV] ................................ no parameters to be set -  43.9s\n",
      "[CV] no parameters to be set .........................................\n",
      "[CV] ................................ no parameters to be set -  47.9s\n",
      "[CV] no parameters to be set .........................................\n",
      "[CV] ................................ no parameters to be set -  52.8s\n",
      "[CV] no parameters to be set .........................................\n",
      "[CV] ................................ no parameters to be set -   4.3s\n",
      "[CV] no parameters to be set .........................................\n",
      "[CV] ................................ no parameters to be set -   8.4s\n",
      "[CV] no parameters to be set .........................................\n",
      "[CV] ................................ no parameters to be set -  13.9s\n",
      "[CV] no parameters to be set .........................................\n",
      "[CV] ................................ no parameters to be set -  21.5s\n",
      "[CV] no parameters to be set .........................................\n",
      "[CV] ................................ no parameters to be set -  25.9s\n",
      "[CV] no parameters to be set .........................................\n",
      "[CV] ................................ no parameters to be set -  30.7s\n",
      "[CV] no parameters to be set .........................................\n",
      "[CV] ................................ no parameters to be set -  37.9s\n",
      "[CV] no parameters to be set .........................................\n",
      "[CV] ................................ no parameters to be set -  45.3s\n",
      "[CV] no parameters to be set .........................................\n",
      "[CV] ................................ no parameters to be set -  45.3s\n",
      "[CV] no parameters to be set .........................................\n",
      "[CV] ................................ no parameters to be set -  49.0s\n",
      "[CV] no parameters to be set .........................................\n",
      "[CV] ................................ no parameters to be set -   3.9s\n",
      "[CV] no parameters to be set .........................................\n",
      "[CV] ................................ no parameters to be set -   8.3s\n",
      "[CV] no parameters to be set .........................................\n",
      "[CV] ................................ no parameters to be set -  13.8s\n",
      "[CV] no parameters to be set .........................................\n",
      "[CV] ................................ no parameters to be set -  17.9s\n",
      "[CV] no parameters to be set .........................................\n",
      "[CV] ................................ no parameters to be set -  22.5s\n",
      "[CV] no parameters to be set .........................................\n",
      "[CV] ................................ no parameters to be set -  27.0s\n",
      "[CV] no parameters to be set .........................................\n",
      "[CV] ................................ no parameters to be set -  33.1s\n",
      "[CV] no parameters to be set .........................................\n",
      "[CV] ................................ no parameters to be set -  40.0s\n",
      "[CV] no parameters to be set .........................................\n",
      "[CV] ................................ no parameters to be set -  44.8s\n",
      "[CV] no parameters to be set .........................................\n",
      "[CV] ................................ no parameters to be set -  50.8s\n"
     ]
    },
    {
     "name": "stderr",
     "output_type": "stream",
     "text": [
      "[Parallel(n_jobs=1)]: Done  30 out of  30 | elapsed: 13.7min finished\n"
     ]
    }
   ],
   "source": [
    "from sklearn.learning_curve import learning_curve\n",
    "curve = learning_curve(rfc,X,y,train_sizes = [i for i in np.arange(0.1,1.1,0.1)],cv = 3,verbose=2)"
   ]
  },
  {
   "cell_type": "code",
   "execution_count": 109,
   "metadata": {
    "collapsed": false
   },
   "outputs": [
    {
     "data": {
      "text/plain": [
       "<matplotlib.legend.Legend at 0x7fc376095050>"
      ]
     },
     "execution_count": 109,
     "metadata": {},
     "output_type": "execute_result"
    },
    {
     "data": {
      "image/png": "[encoded data removed]",
      "text/plain": [
       "<matplotlib.figure.Figure at 0x7fc3762870d0>"
      ]
     },
     "metadata": {},
     "output_type": "display_data"
    }
   ],
   "source": [
    "plt.plot(curve[0],np.mean(curve[1],axis=1),label='Training set')\n",
    "plt.plot(curve[0],np.mean(curve[2],axis=1),label='Test set')\n",
    "plt.legend()"
   ]
  },
  {
   "cell_type": "code",
   "execution_count": null,
   "metadata": {
    "collapsed": false
   },
   "outputs": [],
   "source": []
  },
  {
   "cell_type": "code",
   "execution_count": null,
   "metadata": {
    "collapsed": true
   },
   "outputs": [],
   "source": []
  }
 ],
 "metadata": {
  "kernelspec": {
   "display_name": "Python 2",
   "language": "python",
   "name": "python2"
  },
  "language_info": {
   "codemirror_mode": {
    "name": "ipython",
    "version": 2
   },
   "file_extension": ".py",
   "mimetype": "text/x-python",
   "name": "python",
   "nbconvert_exporter": "python",
   "pygments_lexer": "ipython2",
   "version": "2.7.12"
  }
 },
 "nbformat": 4,
 "nbformat_minor": 0
}
