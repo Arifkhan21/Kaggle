{
 "cells": [
  {
   "cell_type": "markdown",
   "metadata": {},
   "source": [
    "## Red Hat Remastered"
   ]
  },
  {
   "cell_type": "code",
   "execution_count": 1,
   "metadata": {
    "collapsed": false
   },
   "outputs": [
    {
     "name": "stdout",
     "output_type": "stream",
     "text": [
      "Populating the interactive namespace from numpy and matplotlib\n"
     ]
    }
   ],
   "source": [
    "import numpy as np\n",
    "import pandas as pd\n",
    "import seaborn as sns\n",
    "import matplotlib.pyplot as plt\n",
    "%pylab inline"
   ]
  },
  {
   "cell_type": "code",
   "execution_count": 2,
   "metadata": {
    "collapsed": true
   },
   "outputs": [],
   "source": [
    "from pylab import rcParams\n",
    "rcParams['figure.figsize'] = 20,10"
   ]
  },
  {
   "cell_type": "code",
   "execution_count": 3,
   "metadata": {
    "collapsed": false,
    "scrolled": false
   },
   "outputs": [
    {
     "data": {
      "text/html": [
       "<div>\n",
       "<table border=\"1\" class=\"dataframe\">\n",
       "  <thead>\n",
       "    <tr style=\"text-align: right;\">\n",
       "      <th></th>\n",
       "      <th>char_1</th>\n",
       "      <th>char_2</th>\n",
       "      <th>char_3</th>\n",
       "      <th>char_4</th>\n",
       "      <th>char_5</th>\n",
       "      <th>char_6</th>\n",
       "      <th>char_7</th>\n",
       "      <th>char_8</th>\n",
       "      <th>char_9</th>\n",
       "      <th>outcome</th>\n",
       "      <th>...</th>\n",
       "      <th>pchar_30</th>\n",
       "      <th>pchar_31</th>\n",
       "      <th>pchar_32</th>\n",
       "      <th>pchar_33</th>\n",
       "      <th>pchar_34</th>\n",
       "      <th>pchar_35</th>\n",
       "      <th>pchar_36</th>\n",
       "      <th>pchar_37</th>\n",
       "      <th>pchar_38</th>\n",
       "      <th>days</th>\n",
       "    </tr>\n",
       "  </thead>\n",
       "  <tbody>\n",
       "    <tr>\n",
       "      <th>0</th>\n",
       "      <td>22</td>\n",
       "      <td>27</td>\n",
       "      <td>0</td>\n",
       "      <td>0</td>\n",
       "      <td>5</td>\n",
       "      <td>2</td>\n",
       "      <td>2</td>\n",
       "      <td>14</td>\n",
       "      <td>17</td>\n",
       "      <td>0</td>\n",
       "      <td>...</td>\n",
       "      <td>0</td>\n",
       "      <td>0</td>\n",
       "      <td>0</td>\n",
       "      <td>0</td>\n",
       "      <td>0</td>\n",
       "      <td>0</td>\n",
       "      <td>0</td>\n",
       "      <td>0</td>\n",
       "      <td>76</td>\n",
       "      <td>91</td>\n",
       "    </tr>\n",
       "    <tr>\n",
       "      <th>1</th>\n",
       "      <td>29</td>\n",
       "      <td>2</td>\n",
       "      <td>6</td>\n",
       "      <td>0</td>\n",
       "      <td>5</td>\n",
       "      <td>0</td>\n",
       "      <td>0</td>\n",
       "      <td>12</td>\n",
       "      <td>0</td>\n",
       "      <td>0</td>\n",
       "      <td>...</td>\n",
       "      <td>0</td>\n",
       "      <td>0</td>\n",
       "      <td>0</td>\n",
       "      <td>0</td>\n",
       "      <td>0</td>\n",
       "      <td>0</td>\n",
       "      <td>0</td>\n",
       "      <td>0</td>\n",
       "      <td>0</td>\n",
       "      <td>0</td>\n",
       "    </tr>\n",
       "    <tr>\n",
       "      <th>2</th>\n",
       "      <td>16</td>\n",
       "      <td>28</td>\n",
       "      <td>7</td>\n",
       "      <td>2</td>\n",
       "      <td>0</td>\n",
       "      <td>2</td>\n",
       "      <td>3</td>\n",
       "      <td>13</td>\n",
       "      <td>0</td>\n",
       "      <td>0</td>\n",
       "      <td>...</td>\n",
       "      <td>0</td>\n",
       "      <td>0</td>\n",
       "      <td>0</td>\n",
       "      <td>0</td>\n",
       "      <td>0</td>\n",
       "      <td>0</td>\n",
       "      <td>0</td>\n",
       "      <td>0</td>\n",
       "      <td>0</td>\n",
       "      <td>324</td>\n",
       "    </tr>\n",
       "    <tr>\n",
       "      <th>3</th>\n",
       "      <td>11</td>\n",
       "      <td>11</td>\n",
       "      <td>4</td>\n",
       "      <td>2</td>\n",
       "      <td>4</td>\n",
       "      <td>1</td>\n",
       "      <td>1</td>\n",
       "      <td>12</td>\n",
       "      <td>11</td>\n",
       "      <td>0</td>\n",
       "      <td>...</td>\n",
       "      <td>0</td>\n",
       "      <td>0</td>\n",
       "      <td>0</td>\n",
       "      <td>0</td>\n",
       "      <td>0</td>\n",
       "      <td>0</td>\n",
       "      <td>0</td>\n",
       "      <td>0</td>\n",
       "      <td>0</td>\n",
       "      <td>217</td>\n",
       "    </tr>\n",
       "    <tr>\n",
       "      <th>4</th>\n",
       "      <td>11</td>\n",
       "      <td>27</td>\n",
       "      <td>4</td>\n",
       "      <td>1</td>\n",
       "      <td>5</td>\n",
       "      <td>0</td>\n",
       "      <td>0</td>\n",
       "      <td>14</td>\n",
       "      <td>17</td>\n",
       "      <td>0</td>\n",
       "      <td>...</td>\n",
       "      <td>0</td>\n",
       "      <td>0</td>\n",
       "      <td>0</td>\n",
       "      <td>0</td>\n",
       "      <td>0</td>\n",
       "      <td>0</td>\n",
       "      <td>0</td>\n",
       "      <td>0</td>\n",
       "      <td>0</td>\n",
       "      <td>0</td>\n",
       "    </tr>\n",
       "  </tbody>\n",
       "</table>\n",
       "<p>5 rows × 49 columns</p>\n",
       "</div>"
      ],
      "text/plain": [
       "   char_1  char_2  char_3  char_4  char_5  char_6  char_7  char_8  char_9  \\\n",
       "0      22      27       0       0       5       2       2      14      17   \n",
       "1      29       2       6       0       5       0       0      12       0   \n",
       "2      16      28       7       2       0       2       3      13       0   \n",
       "3      11      11       4       2       4       1       1      12      11   \n",
       "4      11      27       4       1       5       0       0      14      17   \n",
       "\n",
       "   outcome  ...   pchar_30  pchar_31  pchar_32  pchar_33  pchar_34  pchar_35  \\\n",
       "0        0  ...          0         0         0         0         0         0   \n",
       "1        0  ...          0         0         0         0         0         0   \n",
       "2        0  ...          0         0         0         0         0         0   \n",
       "3        0  ...          0         0         0         0         0         0   \n",
       "4        0  ...          0         0         0         0         0         0   \n",
       "\n",
       "   pchar_36  pchar_37  pchar_38  days  \n",
       "0         0         0        76    91  \n",
       "1         0         0         0     0  \n",
       "2         0         0         0   324  \n",
       "3         0         0         0   217  \n",
       "4         0         0         0     0  \n",
       "\n",
       "[5 rows x 49 columns]"
      ]
     },
     "execution_count": 3,
     "metadata": {},
     "output_type": "execute_result"
    }
   ],
   "source": [
    "df_one = pd.read_csv('act1_data.csv')\n",
    "df_one.head()"
   ]
  },
  {
   "cell_type": "code",
   "execution_count": 4,
   "metadata": {
    "collapsed": false,
    "scrolled": true
   },
   "outputs": [
    {
     "name": "stdout",
     "output_type": "stream",
     "text": [
      "<class 'pandas.core.frame.DataFrame'>\n",
      "RangeIndex: 157615 entries, 0 to 157614\n",
      "Data columns (total 49 columns):\n",
      "char_1      157615 non-null int64\n",
      "char_2      157615 non-null int64\n",
      "char_3      157615 non-null int64\n",
      "char_4      157615 non-null int64\n",
      "char_5      157615 non-null int64\n",
      "char_6      157615 non-null int64\n",
      "char_7      157615 non-null int64\n",
      "char_8      157615 non-null int64\n",
      "char_9      157615 non-null int64\n",
      "outcome     157615 non-null int64\n",
      "pchar_1     157615 non-null int64\n",
      "pchar_2     157615 non-null int64\n",
      "pchar_3     157615 non-null int64\n",
      "pchar_4     157615 non-null int64\n",
      "pchar_5     157615 non-null int64\n",
      "pchar_6     157615 non-null int64\n",
      "pchar_7     157615 non-null int64\n",
      "pchar_8     157615 non-null int64\n",
      "pchar_9     157615 non-null int64\n",
      "pchar_10    157615 non-null int64\n",
      "pchar_11    157615 non-null int64\n",
      "pchar_12    157615 non-null int64\n",
      "pchar_13    157615 non-null int64\n",
      "pchar_14    157615 non-null int64\n",
      "pchar_15    157615 non-null int64\n",
      "pchar_16    157615 non-null int64\n",
      "pchar_17    157615 non-null int64\n",
      "pchar_18    157615 non-null int64\n",
      "pchar_19    157615 non-null int64\n",
      "pchar_20    157615 non-null int64\n",
      "pchar_21    157615 non-null int64\n",
      "pchar_22    157615 non-null int64\n",
      "pchar_23    157615 non-null int64\n",
      "pchar_24    157615 non-null int64\n",
      "pchar_25    157615 non-null int64\n",
      "pchar_26    157615 non-null int64\n",
      "pchar_27    157615 non-null int64\n",
      "pchar_28    157615 non-null int64\n",
      "pchar_29    157615 non-null int64\n",
      "pchar_30    157615 non-null int64\n",
      "pchar_31    157615 non-null int64\n",
      "pchar_32    157615 non-null int64\n",
      "pchar_33    157615 non-null int64\n",
      "pchar_34    157615 non-null int64\n",
      "pchar_35    157615 non-null int64\n",
      "pchar_36    157615 non-null int64\n",
      "pchar_37    157615 non-null int64\n",
      "pchar_38    157615 non-null int64\n",
      "days        157615 non-null int64\n",
      "dtypes: int64(49)\n",
      "memory usage: 58.9 MB\n"
     ]
    }
   ],
   "source": [
    "df_one.info()"
   ]
  },
  {
   "cell_type": "code",
   "execution_count": 5,
   "metadata": {
    "collapsed": true
   },
   "outputs": [],
   "source": [
    "df_one.drop(labels=['days'],axis=1,inplace=True)"
   ]
  },
  {
   "cell_type": "code",
   "execution_count": 6,
   "metadata": {
    "collapsed": true
   },
   "outputs": [],
   "source": [
    "from sklearn.decomposition import PCA\n",
    "pca = PCA(n_components=6)"
   ]
  },
  {
   "cell_type": "code",
   "execution_count": 7,
   "metadata": {
    "collapsed": false,
    "scrolled": true
   },
   "outputs": [
    {
     "name": "stdout",
     "output_type": "stream",
     "text": [
      "<class 'pandas.core.frame.DataFrame'>\n",
      "RangeIndex: 157615 entries, 0 to 157614\n",
      "Data columns (total 37 columns):\n",
      "pchar_1     157615 non-null int64\n",
      "pchar_2     157615 non-null int64\n",
      "pchar_3     157615 non-null int64\n",
      "pchar_4     157615 non-null int64\n",
      "pchar_5     157615 non-null int64\n",
      "pchar_6     157615 non-null int64\n",
      "pchar_7     157615 non-null int64\n",
      "pchar_8     157615 non-null int64\n",
      "pchar_9     157615 non-null int64\n",
      "pchar_10    157615 non-null int64\n",
      "pchar_11    157615 non-null int64\n",
      "pchar_12    157615 non-null int64\n",
      "pchar_13    157615 non-null int64\n",
      "pchar_14    157615 non-null int64\n",
      "pchar_15    157615 non-null int64\n",
      "pchar_16    157615 non-null int64\n",
      "pchar_17    157615 non-null int64\n",
      "pchar_18    157615 non-null int64\n",
      "pchar_19    157615 non-null int64\n",
      "pchar_20    157615 non-null int64\n",
      "pchar_21    157615 non-null int64\n",
      "pchar_22    157615 non-null int64\n",
      "pchar_23    157615 non-null int64\n",
      "pchar_24    157615 non-null int64\n",
      "pchar_25    157615 non-null int64\n",
      "pchar_26    157615 non-null int64\n",
      "pchar_27    157615 non-null int64\n",
      "pchar_28    157615 non-null int64\n",
      "pchar_29    157615 non-null int64\n",
      "pchar_30    157615 non-null int64\n",
      "pchar_31    157615 non-null int64\n",
      "pchar_32    157615 non-null int64\n",
      "pchar_33    157615 non-null int64\n",
      "pchar_34    157615 non-null int64\n",
      "pchar_35    157615 non-null int64\n",
      "pchar_36    157615 non-null int64\n",
      "pchar_37    157615 non-null int64\n",
      "dtypes: int64(37)\n",
      "memory usage: 44.5 MB\n"
     ]
    }
   ],
   "source": [
    "X = df_one[['pchar_{}'.format(i) for i in range(1,38)]]\n",
    "X.info()"
   ]
  },
  {
   "cell_type": "code",
   "execution_count": 9,
   "metadata": {
    "collapsed": false
   },
   "outputs": [
    {
     "name": "stdout",
     "output_type": "stream",
     "text": [
      "(157615, 6)\n",
      "0.984073868052\n"
     ]
    }
   ],
   "source": [
    "pca.fit(X)\n",
    "T = pca.transform(X)\n",
    "T = pd.DataFrame(T,columns=['pchar_{}'.format(i) for i in range(1,7)])\n",
    "print T.shape\n",
    "print pca.explained_variance_ratio_.sum()"
   ]
  },
  {
   "cell_type": "code",
   "execution_count": 10,
   "metadata": {
    "collapsed": false
   },
   "outputs": [
    {
     "name": "stdout",
     "output_type": "stream",
     "text": [
      "(157615, 1)\n"
     ]
    }
   ],
   "source": [
    "target = df_one[['outcome']]\n",
    "print target.shape"
   ]
  },
  {
   "cell_type": "code",
   "execution_count": 11,
   "metadata": {
    "collapsed": false
   },
   "outputs": [],
   "source": [
    "df_one.drop(labels=['pchar_{}'.format(i) for i in range(1,38)],axis=1,inplace=True)"
   ]
  },
  {
   "cell_type": "code",
   "execution_count": 15,
   "metadata": {
    "collapsed": false,
    "scrolled": true
   },
   "outputs": [
    {
     "name": "stdout",
     "output_type": "stream",
     "text": [
      "<class 'pandas.core.frame.DataFrame'>\n",
      "RangeIndex: 157615 entries, 0 to 157614\n",
      "Data columns (total 17 columns):\n",
      "char_1      157615 non-null int64\n",
      "char_2      157615 non-null int64\n",
      "char_3      157615 non-null int64\n",
      "char_4      157615 non-null int64\n",
      "char_5      157615 non-null int64\n",
      "char_6      157615 non-null int64\n",
      "char_7      157615 non-null int64\n",
      "char_8      157615 non-null int64\n",
      "char_9      157615 non-null int64\n",
      "outcome     157615 non-null int64\n",
      "pchar_38    157615 non-null int64\n",
      "pchar_1     157615 non-null float64\n",
      "pchar_2     157615 non-null float64\n",
      "pchar_3     157615 non-null float64\n",
      "pchar_4     157615 non-null float64\n",
      "pchar_5     157615 non-null float64\n",
      "pchar_6     157615 non-null float64\n",
      "dtypes: float64(6), int64(11)\n",
      "memory usage: 20.4 MB\n"
     ]
    }
   ],
   "source": [
    "df_two = pd.concat([df_one,T],axis=1)\n",
    "df_two.info()"
   ]
  },
  {
   "cell_type": "code",
   "execution_count": 20,
   "metadata": {
    "collapsed": true
   },
   "outputs": [],
   "source": [
    "df_two.drop(labels=['outcome'],axis=1,inplace=True)"
   ]
  },
  {
   "cell_type": "code",
   "execution_count": 17,
   "metadata": {
    "collapsed": true
   },
   "outputs": [],
   "source": [
    "from sklearn.ensemble import RandomForestClassifier"
   ]
  },
  {
   "cell_type": "code",
   "execution_count": 18,
   "metadata": {
    "collapsed": true
   },
   "outputs": [],
   "source": [
    "rfc = RandomForestClassifier(n_estimators=100)"
   ]
  },
  {
   "cell_type": "code",
   "execution_count": 21,
   "metadata": {
    "collapsed": false
   },
   "outputs": [
    {
     "name": "stdout",
     "output_type": "stream",
     "text": [
      "(105602, 16) (105602, 1)\n"
     ]
    }
   ],
   "source": [
    "from sklearn.cross_validation import train_test_split\n",
    "X_train,X_cv,y_train,y_cv = train_test_split(df_two,target,test_size=0.33,random_state=7)\n",
    "print X_train.shape,y_train.shape"
   ]
  },
  {
   "cell_type": "code",
   "execution_count": 25,
   "metadata": {
    "collapsed": false
   },
   "outputs": [
    {
     "data": {
      "text/plain": [
       "RandomForestClassifier(bootstrap=True, class_weight=None, criterion='gini',\n",
       "            max_depth=None, max_features='auto', max_leaf_nodes=None,\n",
       "            min_samples_leaf=1, min_samples_split=2,\n",
       "            min_weight_fraction_leaf=0.0, n_estimators=100, n_jobs=1,\n",
       "            oob_score=False, random_state=None, verbose=0,\n",
       "            warm_start=False)"
      ]
     },
     "execution_count": 25,
     "metadata": {},
     "output_type": "execute_result"
    }
   ],
   "source": [
    "rfc.fit(X_train,y_train.values.reshape(-1,))"
   ]
  },
  {
   "cell_type": "code",
   "execution_count": 26,
   "metadata": {
    "collapsed": false
   },
   "outputs": [
    {
     "name": "stdout",
     "output_type": "stream",
     "text": [
      "0.927172053141\n"
     ]
    }
   ],
   "source": [
    "print rfc.score(X_cv,y_cv)"
   ]
  },
  {
   "cell_type": "code",
   "execution_count": null,
   "metadata": {
    "collapsed": true
   },
   "outputs": [],
   "source": []
  }
 ],
 "metadata": {
  "kernelspec": {
   "display_name": "Python 2",
   "language": "python",
   "name": "python2"
  },
  "language_info": {
   "codemirror_mode": {
    "name": "ipython",
    "version": 2
   },
   "file_extension": ".py",
   "mimetype": "text/x-python",
   "name": "python",
   "nbconvert_exporter": "python",
   "pygments_lexer": "ipython2",
   "version": "2.7.12"
  }
 },
 "nbformat": 4,
 "nbformat_minor": 0
}
