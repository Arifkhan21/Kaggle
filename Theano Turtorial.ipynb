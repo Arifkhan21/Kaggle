{
 "cells": [
  {
   "cell_type": "markdown",
   "metadata": {},
   "source": [
    "## Theano Tutorial\n",
    "__source__ : http://www.marekrei.com/blog/theano-tutorial/"
   ]
  },
  {
   "cell_type": "code",
   "execution_count": 1,
   "metadata": {
    "collapsed": false
   },
   "outputs": [
    {
     "name": "stdout",
     "output_type": "stream",
     "text": [
      "Populating the interactive namespace from numpy and matplotlib\n"
     ]
    }
   ],
   "source": [
    "%pylab inline\n",
    "import theano as T\n",
    "import numpy as np\n",
    "import pandas as pd\n",
    "import matplotlib.pyplot as plt\n",
    "import seaborn as sns"
   ]
  },
  {
   "cell_type": "code",
   "execution_count": 2,
   "metadata": {
    "collapsed": true
   },
   "outputs": [],
   "source": [
    "from pylab import rcParams\n",
    "rcParams['figure.figsize'] = 20,10"
   ]
  },
  {
   "cell_type": "markdown",
   "metadata": {},
   "source": [
    "### Important!\n",
    "When we are creating a model with Theano, we first define a symbolic graph of all variables and operations that need to be performed. And then we can apply this graph on specific inputs to get outputs.\n",
    "\n",
    "For example, what do you think happens when this line of Theano code is executed in our script?\n",
    "\n",
    "1\n",
    "y = (x * W).sum()\n",
    "The system takes x and W, multiplies them together and sums the values. Right?\n",
    "\n",
    "NOPE\n",
    "\n",
    "Instead, we create a Theano object y that knows its values can be calculated as the dot-product of x and W. But the required mathematical operations are not performed here. In fact, when this line was executed in our example code above, x didn’t even have a value yet.\n"
   ]
  },
  {
   "cell_type": "code",
   "execution_count": 3,
   "metadata": {
    "collapsed": false
   },
   "outputs": [],
   "source": [
    "## Theano Tensor Variable\n",
    "x = T.tensor.vector('x',dtype='float32')"
   ]
  },
  {
   "cell_type": "code",
   "execution_count": 4,
   "metadata": {
    "collapsed": true
   },
   "outputs": [],
   "source": [
    "## Theano Shared Variable\n",
    "'''\n",
    "We can also define shared variables, which are shared between different functions and different function calls. \n",
    "Normally, these would be used for weights in our neural network. Theano will automatically try to move shared \n",
    "variables to the GPU, provided one is available, in order to speed up computation.\n",
    "'''\n",
    "W = T.shared(np.asarray([2.0,7.0]),name='W')"
   ]
  },
  {
   "cell_type": "code",
   "execution_count": 5,
   "metadata": {
    "collapsed": false
   },
   "outputs": [],
   "source": [
    "## Operation for Theano Variables (Not actually done!)\n",
    "y = (x*W).sum()"
   ]
  },
  {
   "cell_type": "code",
   "execution_count": 6,
   "metadata": {
    "collapsed": false
   },
   "outputs": [],
   "source": [
    "## Theano function\n",
    "'''\n",
    "Theano functions are basically hooks for interacting with the symbolic graph. \n",
    "Commonly, we use them for passing input into our network and collecting the resulting output.\n",
    "'''\n",
    "f = T.function([x],y)"
   ]
  },
  {
   "cell_type": "code",
   "execution_count": 7,
   "metadata": {
    "collapsed": false
   },
   "outputs": [],
   "source": [
    "## Using Theano Function to calculate the value\n",
    "## The function uses all of the required Theano variables by itself\n",
    "output = f([1.0,2.0])"
   ]
  },
  {
   "cell_type": "code",
   "execution_count": 8,
   "metadata": {
    "collapsed": false
   },
   "outputs": [
    {
     "name": "stdout",
     "output_type": "stream",
     "text": [
      "16.0\n"
     ]
    }
   ],
   "source": [
    "print output"
   ]
  },
  {
   "cell_type": "code",
   "execution_count": 9,
   "metadata": {
    "collapsed": true
   },
   "outputs": [],
   "source": [
    "target = T.tensor.fscalar('target')"
   ]
  },
  {
   "cell_type": "code",
   "execution_count": 10,
   "metadata": {
    "collapsed": false
   },
   "outputs": [],
   "source": [
    "cost = T.tensor.sqr(target-y)"
   ]
  },
  {
   "cell_type": "code",
   "execution_count": 11,
   "metadata": {
    "collapsed": false
   },
   "outputs": [],
   "source": [
    "gradients = T.tensor.grad(cost,[W])"
   ]
  },
  {
   "cell_type": "code",
   "execution_count": 12,
   "metadata": {
    "collapsed": false
   },
   "outputs": [],
   "source": [
    "W_updated = W - (0.1 * gradients[0])\n",
    "updates = [(W,W_updated)]"
   ]
  },
  {
   "cell_type": "code",
   "execution_count": 13,
   "metadata": {
    "collapsed": false
   },
   "outputs": [],
   "source": [
    "f = T.function([x, target], y, updates=updates)"
   ]
  },
  {
   "cell_type": "code",
   "execution_count": 14,
   "metadata": {
    "collapsed": false
   },
   "outputs": [
    {
     "name": "stdout",
     "output_type": "stream",
     "text": [
      "9.0\n",
      "13.4\n",
      "16.04\n",
      "17.624\n",
      "18.5744\n",
      "19.14464\n",
      "19.486784\n",
      "19.6920704\n",
      "19.81524224\n",
      "19.889145344\n"
     ]
    }
   ],
   "source": [
    "for i in xrange(10):\n",
    "    output = f([1.0, 1.0], 20.0)\n",
    "    print output"
   ]
  },
  {
   "cell_type": "code",
   "execution_count": 16,
   "metadata": {
    "collapsed": false
   },
   "outputs": [
    {
     "data": {
      "text/plain": [
       "array([  7.4667436,  12.4667436])"
      ]
     },
     "execution_count": 16,
     "metadata": {},
     "output_type": "execute_result"
    }
   ],
   "source": [
    "W.eval()"
   ]
  },
  {
   "cell_type": "markdown",
   "metadata": {},
   "source": [
    "## Implementing a Neural Network Using Theano"
   ]
  },
  {
   "cell_type": "code",
   "execution_count": 17,
   "metadata": {
    "collapsed": true
   },
   "outputs": [],
   "source": [
    "def plot_decision_boundary(X,y):\n",
    "    \n",
    "    '''\n",
    "        Plotting the decision boundary of \n",
    "        a classification dataset. The function\n",
    "        takes in a trained model and corresponding\n",
    "        data points\n",
    "    '''\n",
    "    h = 0.0025\n",
    "    #X - some data in 2dimensional np.array\n",
    "    \n",
    "    x_min, x_max = X[:, 0].min() - 1, X[:, 0].max() + 1\n",
    "    y_min, y_max = X[:, 1].min() - 1, X[:, 1].max() + 1\n",
    "    xx, yy = np.meshgrid(np.arange(x_min, x_max, h),\n",
    "                         np.arange(y_min, y_max, h))\n",
    "    \n",
    "    # here \"model\" is your model's prediction (classification) function\n",
    "    Z = prediction(np.c_[xx.ravel(), yy.ravel()]) \n",
    "    \n",
    "    # Put the result into a color plot\n",
    "    Z = Z.reshape(xx.shape)\n",
    "    \n",
    "    plt.contourf(xx, yy, Z, cmap=plt.cm.Spectral)\n",
    "    plt.axis('off')\n",
    "    \n",
    "    # Plot also the training points\n",
    "    plt.scatter(X[:, 0], X[:, 1], c=y, cmap=plt.cm.Spectral)"
   ]
  },
  {
   "cell_type": "code",
   "execution_count": 18,
   "metadata": {
    "collapsed": false
   },
   "outputs": [
    {
     "name": "stdout",
     "output_type": "stream",
     "text": [
      "(200, 2)\n",
      "(200,)\n"
     ]
    }
   ],
   "source": [
    "from sklearn.datasets import make_moons\n",
    "train,label = make_moons(n_samples=200,noise=0.20)\n",
    "print train.shape\n",
    "print label.shape"
   ]
  },
  {
   "cell_type": "code",
   "execution_count": 19,
   "metadata": {
    "collapsed": false
   },
   "outputs": [
    {
     "data": {
      "text/plain": [
       "<matplotlib.collections.PathCollection at 0x1180d8a90>"
      ]
     },
     "execution_count": 19,
     "metadata": {},
     "output_type": "execute_result"
    },
    {
     "data": {
      "image/png": "[encoded data removed]",
      "text/plain": [
       "<matplotlib.figure.Figure at 0x115c29e90>"
      ]
     },
     "metadata": {},
     "output_type": "display_data"
    }
   ],
   "source": [
    "plt.scatter(train[:,0],train[:,1],c=label,cmap=plt.cm.Spectral)"
   ]
  },
  {
   "cell_type": "code",
   "execution_count": 20,
   "metadata": {
    "collapsed": true
   },
   "outputs": [],
   "source": [
    "nn_input_layer = 2\n",
    "nn_hidden_layer = 4\n",
    "nn_output_layer = 2\n",
    "n_samples = 200\n",
    "lamda = 0.01\n",
    "alpha = 0.01"
   ]
  },
  {
   "cell_type": "code",
   "execution_count": 23,
   "metadata": {
    "collapsed": false
   },
   "outputs": [],
   "source": [
    "## Declaring the variables and Parameters\n",
    "X = T.tensor.matrix('X')\n",
    "y = T.tensor.lvector('y')\n",
    "W1 = T.shared(np.random.randn(nn_input_layer,nn_hidden_layer),name='W1')\n",
    "W2 = T.shared(np.random.randn(nn_hidden_layer,nn_output_layer),name='W2')\n",
    "b1 = T.shared(np.zeros(nn_hidden_layer),name='b1')\n",
    "b2 = T.shared(np.zeros(nn_output_layer),name='b2')"
   ]
  },
  {
   "cell_type": "code",
   "execution_count": 24,
   "metadata": {
    "collapsed": false
   },
   "outputs": [],
   "source": [
    "## Implementing the forward pass\n",
    "z1 = X.dot(W1) + b1\n",
    "a1 = T.tensor.tanh(z1)\n",
    "z2 = a1.dot(W2) + b2\n",
    "y_hat = T.tensor.nnet.softmax(z2)"
   ]
  },
  {
   "cell_type": "code",
   "execution_count": 25,
   "metadata": {
    "collapsed": false
   },
   "outputs": [],
   "source": [
    "## Calculating the regularization term\n",
    "reg = (lamda/(2*n_samples))*(T.tensor.sum(T.tensor.sqr(W1)) + T.tensor.sum(T.tensor.sqr(W2)))\n",
    "## Calculating the loss (including the regularization)\n",
    "loss = T.tensor.nnet.categorical_crossentropy(y_hat,y).mean() + reg\n",
    "## Calculating the class based on Bayes Rule\n",
    "preds = T.tensor.argmax(y_hat,axis=1)"
   ]
  },
  {
   "cell_type": "code",
   "execution_count": 26,
   "metadata": {
    "collapsed": true
   },
   "outputs": [],
   "source": [
    "## Functions for returning the loss and predictions\n",
    "prediction = T.function([X],preds)\n",
    "cost_function = T.function([X,y],loss)"
   ]
  },
  {
   "cell_type": "code",
   "execution_count": 27,
   "metadata": {
    "collapsed": false
   },
   "outputs": [],
   "source": [
    "## Computing the backpropagation\n",
    "dW1 = T.tensor.grad(loss,W1)\n",
    "dW2 = T.tensor.grad(loss,W2)\n",
    "db1 = T.tensor.grad(loss,b1)\n",
    "db2 = T.tensor.grad(loss,b2)"
   ]
  },
  {
   "cell_type": "code",
   "execution_count": 28,
   "metadata": {
    "collapsed": false
   },
   "outputs": [],
   "source": [
    "gradient = T.function([X,y],updates=((W2,W2 - alpha*dW2),(W1,W1 - alpha*dW1),\\\n",
    "                                       (b2,b2 - alpha*db2),(b1,b1 - alpha*db1)))"
   ]
  },
  {
   "cell_type": "code",
   "execution_count": 29,
   "metadata": {
    "collapsed": true
   },
   "outputs": [],
   "source": [
    "def build_model(num_passes=2000,print_loss=False):\n",
    "    \n",
    "    np.random.seed(0)\n",
    "    W1.set_value(np.random.randn(nn_input_layer, nn_hidden_layer) / np.sqrt(nn_input_layer))\n",
    "    b1.set_value(np.zeros(nn_hidden_layer))\n",
    "    W2.set_value(np.random.randn(nn_hidden_layer, nn_output_layer) / np.sqrt(nn_hidden_layer))\n",
    "    b2.set_value(np.zeros(nn_output_layer))\n",
    "    \n",
    "    for i in xrange(1,num_passes+1):\n",
    "        \n",
    "        gradient(train,label)\n",
    "        if i % 1000 == 0 and print_loss:\n",
    "            print 'After {} iterations, Loss is {}'.format(i,cost_function(train,label))"
   ]
  },
  {
   "cell_type": "code",
   "execution_count": 31,
   "metadata": {
    "collapsed": false
   },
   "outputs": [
    {
     "name": "stdout",
     "output_type": "stream",
     "text": [
      "After 1000 iterations, Loss is 0.309607595876\n",
      "After 2000 iterations, Loss is 0.27828405294\n",
      "After 3000 iterations, Loss is 0.268337699794\n",
      "After 4000 iterations, Loss is 0.260956199872\n",
      "After 5000 iterations, Loss is 0.252504123066\n",
      "After 6000 iterations, Loss is 0.241796547273\n",
      "After 7000 iterations, Loss is 0.228655910406\n",
      "After 8000 iterations, Loss is 0.213760519541\n",
      "After 9000 iterations, Loss is 0.198164970215\n",
      "After 10000 iterations, Loss is 0.182714477559\n",
      "After 11000 iterations, Loss is 0.167873153099\n",
      "After 12000 iterations, Loss is 0.153876376957\n",
      "After 13000 iterations, Loss is 0.140910997143\n",
      "After 14000 iterations, Loss is 0.129183312141\n",
      "After 15000 iterations, Loss is 0.118868448806\n",
      "After 16000 iterations, Loss is 0.110030593906\n",
      "After 17000 iterations, Loss is 0.102602976251\n",
      "After 18000 iterations, Loss is 0.0964291853402\n",
      "After 19000 iterations, Loss is 0.091318392584\n",
      "After 20000 iterations, Loss is 0.0870838883987\n"
     ]
    }
   ],
   "source": [
    "build_model(num_passes=20000,print_loss=True)"
   ]
  },
  {
   "cell_type": "code",
   "execution_count": 33,
   "metadata": {
    "collapsed": false
   },
   "outputs": [
    {
     "data": {
      "text/plain": [
       "<matplotlib.text.Text at 0x13342bf10>"
      ]
     },
     "execution_count": 33,
     "metadata": {},
     "output_type": "execute_result"
    },
    {
     "data": {
      "image/png": "[encoded data removed]",
      "text/plain": [
       "<matplotlib.figure.Figure at 0x119a97410>"
      ]
     },
     "metadata": {},
     "output_type": "display_data"
    }
   ],
   "source": [
    "plot_decision_boundary(train,label)\n",
    "plt.title('Neural Network Classifier with 4 Layers')"
   ]
  },
  {
   "cell_type": "code",
   "execution_count": null,
   "metadata": {
    "collapsed": false
   },
   "outputs": [],
   "source": []
  },
  {
   "cell_type": "code",
   "execution_count": null,
   "metadata": {
    "collapsed": false
   },
   "outputs": [],
   "source": []
  },
  {
   "cell_type": "code",
   "execution_count": null,
   "metadata": {
    "collapsed": false
   },
   "outputs": [],
   "source": []
  },
  {
   "cell_type": "code",
   "execution_count": null,
   "metadata": {
    "collapsed": false
   },
   "outputs": [],
   "source": []
  },
  {
   "cell_type": "code",
   "execution_count": null,
   "metadata": {
    "collapsed": true
   },
   "outputs": [],
   "source": []
  }
 ],
 "metadata": {
  "kernelspec": {
   "display_name": "Python 2",
   "language": "python",
   "name": "python2"
  },
  "language_info": {
   "codemirror_mode": {
    "name": "ipython",
    "version": 2
   },
   "file_extension": ".py",
   "mimetype": "text/x-python",
   "name": "python",
   "nbconvert_exporter": "python",
   "pygments_lexer": "ipython2",
   "version": "2.7.12"
  }
 },
 "nbformat": 4,
 "nbformat_minor": 0
}
