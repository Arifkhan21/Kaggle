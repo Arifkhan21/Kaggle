{
 "cells": [
  {
   "cell_type": "code",
   "execution_count": 1,
   "metadata": {
    "collapsed": true
   },
   "outputs": [],
   "source": [
    "%matplotlib inline\n",
    "import numpy as np\n",
    "import nltk\n",
    "import matplotlib.pyplot as plt\n",
    "import seaborn as sns"
   ]
  },
  {
   "cell_type": "code",
   "execution_count": 2,
   "metadata": {
    "collapsed": true
   },
   "outputs": [],
   "source": [
    "from pylab import rcParams\n",
    "rcParams['figure.figsize'] = 20,10"
   ]
  },
  {
   "cell_type": "code",
   "execution_count": 3,
   "metadata": {
    "collapsed": true
   },
   "outputs": [],
   "source": [
    "import string\n",
    "text = '''Batman's secret identity is Bruce Wayne, an American billionaire, playboy, philanthropist, \n",
    "and owner of Wayne Enterprises. After witnessing the murder of his parents Thomas Wayne and Martha Wayne\n",
    "as a child, he swore vengeance against criminals, an oath tempered by a sense of justice. Wayne trains\n",
    "himself physically and intellectually and crafts a bat-inspired persona to fight crime. Batman operates \n",
    "in the fictional Gotham City, with assistance from various supporting characters, including his butler \n",
    "Alfred, police commissioner Gordon, and vigilante allies such as Robin. Unlike most superheroes, Batman \n",
    "does not possess any superpowers; rather, he relies on his genius intellect, physical prowess, martial \n",
    "arts abilities, detective skills, science and technology, vast wealth, intimidation, and indomitable will.\n",
    "A large assortment of villains make up Batman's rogues gallery, including his archenemy, the Joker.\n",
    "'''"
   ]
  },
  {
   "cell_type": "code",
   "execution_count": 13,
   "metadata": {
    "collapsed": false
   },
   "outputs": [],
   "source": [
    "def create_cooccurence(text):\n",
    "    '''Takes input a text of words\n",
    "       and create a cooccurence \n",
    "       matrix for the same. Returns\n",
    "       a Numpy array\n",
    "    '''\n",
    "    sentences = nltk.sent_tokenize(text)\n",
    "    for i in range(len(sentences)):\n",
    "        sentences[i] = [word for word in nltk.word_tokenize(sentences[i]) if word not in nltk.corpus.stopwords.words('english')\\\n",
    "                        and word not in string.punctuation and word != \"'s\" and word not in string.uppercase and word not\\\n",
    "                        in string.lowercase]\n",
    "    \n",
    "    ## Collecting all the words in the sentences\n",
    "    words = []\n",
    "    for sent in sentences:\n",
    "        for word in sent:\n",
    "            words.append(word)\n",
    "            \n",
    "    ## Creating a list of unique words\n",
    "    tokens = list(set(words))\n",
    "    \n",
    "    ## Creating mapping for each word and its entry in the matrix\n",
    "    mapping = dict((w,i) for i,w in enumerate(tokens))\n",
    "    \n",
    "    matrix = np.zeros((len(tokens),len(tokens)))\n",
    "    for token in tokens:\n",
    "        row = mapping[token]\n",
    "        for sent in sentences:\n",
    "            if token in sent:\n",
    "                index = sent.index(token) - 1\n",
    "                if index >= 0:\n",
    "                    matrix[row][mapping[sent[index]]] += 1\n",
    "                index = sent.index(token) + 1\n",
    "                if index < len(sent):\n",
    "                    matrix[row][mapping[sent[index]]] += 1\n",
    "    \n",
    "    return matrix,mapping\n",
    "    "
   ]
  },
  {
   "cell_type": "code",
   "execution_count": 18,
   "metadata": {
    "collapsed": false
   },
   "outputs": [],
   "source": [
    "text = 'I love flying. I enjoy NLP. Google is fun'\n",
    "cooccurence,mapping = create_cooccurence(text)"
   ]
  },
  {
   "cell_type": "code",
   "execution_count": 19,
   "metadata": {
    "collapsed": false
   },
   "outputs": [],
   "source": [
    "U,S,V = np.linalg.svd(cooccurence)"
   ]
  },
  {
   "cell_type": "code",
   "execution_count": 20,
   "metadata": {
    "collapsed": true
   },
   "outputs": [],
   "source": [
    "index_to_word = dict((mapping[w],w) for w in mapping.keys())"
   ]
  },
  {
   "cell_type": "code",
   "execution_count": 30,
   "metadata": {
    "collapsed": false
   },
   "outputs": [
    {
     "data": {
      "text/plain": [
       "<matplotlib.collections.PathCollection at 0x11eef7490>"
      ]
     },
     "execution_count": 30,
     "metadata": {},
     "output_type": "execute_result"
    },
    {
     "data": {
      "image/png": "[encoded data removed]",
      "text/plain": [
       "<matplotlib.figure.Figure at 0x11ee70950>"
      ]
     },
     "metadata": {},
     "output_type": "display_data"
    }
   ],
   "source": [
    "plt.scatter(U[:,0],U[:,1],c = mapping.values(),cmap=plt.cm.Spectral)"
   ]
  },
  {
   "cell_type": "code",
   "execution_count": 25,
   "metadata": {
    "collapsed": false
   },
   "outputs": [
    {
     "name": "stdout",
     "output_type": "stream",
     "text": [
      "[[ 0. -1.  0.  0.  0.  0.]\n",
      " [-1.  0.  0.  0.  0.  0.]\n",
      " [ 0.  0.  0.  0.  0. -1.]\n",
      " [ 0.  0.  0.  0. -1.  0.]\n",
      " [ 0.  0.  0. -1.  0.  0.]\n",
      " [ 0.  0. -1.  0.  0.  0.]]\n"
     ]
    }
   ],
   "source": [
    "print U"
   ]
  },
  {
   "cell_type": "code",
   "execution_count": 26,
   "metadata": {
    "collapsed": false
   },
   "outputs": [
    {
     "name": "stdout",
     "output_type": "stream",
     "text": [
      "{'enjoy': 0, 'NLP': 1, 'Google': 2, 'love': 3, 'flying': 4, 'fun': 5}\n"
     ]
    }
   ],
   "source": [
    "print mapping"
   ]
  },
  {
   "cell_type": "code",
   "execution_count": 28,
   "metadata": {
    "collapsed": false
   },
   "outputs": [
    {
     "data": {
      "text/plain": [
       "array([[ 0.,  1.,  0.,  0.,  0.,  0.],\n",
       "       [ 1.,  0.,  0.,  0.,  0.,  0.],\n",
       "       [ 0.,  0.,  0.,  0.,  0.,  1.],\n",
       "       [ 0.,  0.,  0.,  0.,  1.,  0.],\n",
       "       [ 0.,  0.,  0.,  1.,  0.,  0.],\n",
       "       [ 0.,  0.,  1.,  0.,  0.,  0.]])"
      ]
     },
     "execution_count": 28,
     "metadata": {},
     "output_type": "execute_result"
    }
   ],
   "source": [
    "cooccurence"
   ]
  },
  {
   "cell_type": "code",
   "execution_count": null,
   "metadata": {
    "collapsed": false
   },
   "outputs": [],
   "source": []
  },
  {
   "cell_type": "code",
   "execution_count": null,
   "metadata": {
    "collapsed": false
   },
   "outputs": [],
   "source": []
  },
  {
   "cell_type": "code",
   "execution_count": null,
   "metadata": {
    "collapsed": true
   },
   "outputs": [],
   "source": []
  }
 ],
 "metadata": {
  "kernelspec": {
   "display_name": "Python 2",
   "language": "python",
   "name": "python2"
  },
  "language_info": {
   "codemirror_mode": {
    "name": "ipython",
    "version": 2
   },
   "file_extension": ".py",
   "mimetype": "text/x-python",
   "name": "python",
   "nbconvert_exporter": "python",
   "pygments_lexer": "ipython2",
   "version": "2.7.12"
  }
 },
 "nbformat": 4,
 "nbformat_minor": 0
}
